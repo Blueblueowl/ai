{
 "cells": [
  {
   "cell_type": "code",
   "execution_count": 232,
   "id": "1956cf58",
   "metadata": {},
   "outputs": [
    {
     "data": {
      "text/html": [
       "\n",
       "<style>\n",
       "div.container{width:90% !important;}\n",
       "div.cell.code_cell.rendered{width:100%;}\n",
       "div.input_prompt{padding:0px;}\n",
       "div.CodeMirror {font-family:Consolas; font-size:22pt;}\n",
       "div.text_cell_render.rendered_html{font-size:12pt;}\n",
       "div.output {font-size:12pt; font-weight:bold;}\n",
       "div.input {font-family:Consolas; font-size:12pt;}\n",
       "div.prompt {min-width:140px;}\n",
       "div#toc-wrapper{padding-top:120px;}\n",
       "div.text_cell_render ul li{font-size:12pt;padding:5px;}\n",
       "table.dataframe{font-size:12px;}\n",
       "</style>\n"
      ],
      "text/plain": [
       "<IPython.core.display.HTML object>"
      ]
     },
     "metadata": {},
     "output_type": "display_data"
    }
   ],
   "source": [
    "from IPython.display import display, HTML\n",
    "display(HTML(\"\"\"\n",
    "<style>\n",
    "div.container{width:90% !important;}\n",
    "div.cell.code_cell.rendered{width:100%;}\n",
    "div.input_prompt{padding:0px;}\n",
    "div.CodeMirror {font-family:Consolas; font-size:22pt;}\n",
    "div.text_cell_render.rendered_html{font-size:12pt;}\n",
    "div.output {font-size:12pt; font-weight:bold;}\n",
    "div.input {font-family:Consolas; font-size:12pt;}\n",
    "div.prompt {min-width:140px;}\n",
    "div#toc-wrapper{padding-top:120px;}\n",
    "div.text_cell_render ul li{font-size:12pt;padding:5px;}\n",
    "table.dataframe{font-size:12px;}\n",
    "</style>\n",
    "\"\"\"))"
   ]
  },
  {
   "cell_type": "code",
   "execution_count": null,
   "id": "af3b12bd",
   "metadata": {},
   "outputs": [],
   "source": [
    "<b><font size=\"7\" color=\"red\">ch05.함수</font></b>\n",
    "- 함수 정의\n",
    "- [반복해서 사용할 코드를 묶어 놓고 그것에 이름을 붙인 것]\n",
    "- [특정 동작을 수행하는 코드 묶음]\n",
    "- 오버로딩 불가(같은 이름의 함수는 덮어씀)\n",
    "\n",
    "```\n",
    "def 키워드로 정의하고 함수 이름, 괄호, 콜론을 사용합니다. \n",
    "\n",
    "def 함수명([매개변수1, 매개변수2, ...]):\n",
    "    명령어1\n",
    "    명령어2\n",
    "\n",
    "함수는 코드의 재사용성과 가독성을 높여주고, \n",
    "복잡한 문제를 작은 단위로 나누어 해결할 수 있도록 돕습니다. \n",
    "함수는 정의 시 괄호 안에 매개변수를 지정하여 다양한 값을 받아 처리할 수 있으며, \n",
    "함수를 호출할 때 괄호 안에 실제 값을 전달하여 실행합니다.\n",
    "입력받은 4개의 벡터(리스트, 셋, 딕셔너리, 튜플)의 크기\n",
    "\n",
    "람다(lambda)는 이름이 없는 간단한 익명 함수이며, \n",
    "리스트 컴프리헨션(list comprehension)은 파이썬에서 리스트, 집합, 딕셔너리 등에서 새 자료구조를 생성하는 간결한 문법입니다. \n",
    "람다는 주로 `map()`이나 `filter()`와 함께 쓰이며, \n",
    "리스트 컴프리헨션은 `map()`과 `filter()`를 대체하는 경우가 많아 코드의 가독성과 효율성을 높이는 데 사용됩니다\n",
    "```"
   ]
  },
  {
   "cell_type": "markdown",
   "id": "9a662b13",
   "metadata": {},
   "source": [
    "# 1절. 함수의 정의 및 사용\n",
    "## 1.1. 함수 정의"
   ]
  },
  {
   "cell_type": "code",
   "execution_count": 1,
   "id": "d381a5db",
   "metadata": {},
   "outputs": [],
   "source": [
    "# 함수 정의\n",
    "def my_message(x, msg): # msg를 x번 출력하는 함수\n",
    "    for i in range(x):\n",
    "        print(i, msg)\n",
    "    "
   ]
  },
  {
   "cell_type": "code",
   "execution_count": 3,
   "id": "8531ae68",
   "metadata": {},
   "outputs": [
    {
     "name": "stdout",
     "output_type": "stream",
     "text": [
      "0 Hello\n",
      "1 Hello\n",
      "2 Hello\n"
     ]
    }
   ],
   "source": [
    "# 함수 호출 == 함수 사용\n",
    "my_message(3, 'Hello')"
   ]
  },
  {
   "cell_type": "code",
   "execution_count": 4,
   "id": "490ef2c6",
   "metadata": {},
   "outputs": [
    {
     "name": "stdout",
     "output_type": "stream",
     "text": [
      "0 Hello\n",
      "1 Hello\n",
      "0 Python\n",
      "1 Python\n",
      "2 Python\n"
     ]
    }
   ],
   "source": [
    "# 함수 이름 변경\n",
    "my_msg = my_message\n",
    "my_message(2, 'Hello')\n",
    "my_msg(3, 'Python')"
   ]
  },
  {
   "cell_type": "code",
   "execution_count": 5,
   "id": "9113fe70",
   "metadata": {},
   "outputs": [
    {
     "data": {
      "text/plain": [
       "(function, function)"
      ]
     },
     "execution_count": 5,
     "metadata": {},
     "output_type": "execute_result"
    }
   ],
   "source": [
    "type(my_msg), type(my_message)"
   ]
  },
  {
   "cell_type": "code",
   "execution_count": 2,
   "id": "522f95f0",
   "metadata": {},
   "outputs": [],
   "source": [
    "# 파이썬 내장 함수(import 하지 않고 사용할 수 있는 함수)\n",
    "# 내장 함수명은 일종의 키워드로 간주되므로 식별자로 사용하는 것은 피해야 한다.\n",
    "# 심볼 테이블로 함수를 불러오는 명령어가 import이다.\n",
    "\n",
    "# 람다(lambda)는 이름이 없는 간단한 익명 함수이며, \n",
    "# 리스트 컴프리헨션(list comprehension)은 파이썬에서 리스트, 집합, 딕셔너리 등에서 \n",
    "# 새 자료구조를 생성하는 간결한 문법입니다. \n",
    "\n",
    "# 람다는 주로 `map()`이나 `filter()`와 함께 쓰이며, \n",
    "# 리스트 컴프리헨션은 `map()`과 `filter()`를 대체하는 경우가 많아 \n",
    "# 코드의 가독성과 효율성을 높이는 데 사용됩니다. "
   ]
  },
  {
   "cell_type": "code",
   "execution_count": null,
   "id": "afd24754",
   "metadata": {},
   "outputs": [],
   "source": [
    "print(\"Hello\")"
   ]
  },
  {
   "cell_type": "code",
   "execution_count": 6,
   "id": "5e724ca1",
   "metadata": {},
   "outputs": [
    {
     "name": "stdout",
     "output_type": "stream",
     "text": [
      "0 Hello\n",
      "1 Hello\n"
     ]
    }
   ],
   "source": [
    "my_message(2, 'Hello')"
   ]
  },
  {
   "cell_type": "code",
   "execution_count": 10,
   "id": "02695124",
   "metadata": {},
   "outputs": [
    {
     "name": "stdout",
     "output_type": "stream",
     "text": [
      "0 Hello\n",
      "1 Hello\n"
     ]
    }
   ],
   "source": [
    "my_message = 5\n",
    "my_msg(2, \"Hello\")"
   ]
  },
  {
   "cell_type": "code",
   "execution_count": null,
   "id": "ed4e750f",
   "metadata": {},
   "outputs": [],
   "source": [
    "# my_message(2, 'Hello') 이제 실행하면 에러남"
   ]
  },
  {
   "cell_type": "code",
   "execution_count": 4,
   "id": "994c6a8b",
   "metadata": {
    "scrolled": true
   },
   "outputs": [
    {
     "ename": "NameError",
     "evalue": "name 'messgage' is not defined",
     "output_type": "error",
     "traceback": [
      "\u001b[1;31m---------------------------------------------------------------------------\u001b[0m",
      "\u001b[1;31mNameError\u001b[0m                                 Traceback (most recent call last)",
      "Cell \u001b[1;32mIn[4], line 1\u001b[0m\n\u001b[1;32m----> 1\u001b[0m \u001b[38;5;28;01mdel\u001b[39;00m messgage \u001b[38;5;66;03m# 변수 및 함수 제거하여도\u001b[39;00m\n\u001b[0;32m      2\u001b[0m my_message(\u001b[38;5;241m2\u001b[39m, \u001b[38;5;124m'\u001b[39m\u001b[38;5;124mHello\u001b[39m\u001b[38;5;124m'\u001b[39m)\n",
      "\u001b[1;31mNameError\u001b[0m: name 'messgage' is not defined"
     ]
    }
   ],
   "source": [
    "del messgage # 변수 및 함수 제거하여도\n",
    "my_message(2, 'Hello') "
   ]
  },
  {
   "cell_type": "code",
   "execution_count": 3,
   "id": "0a61410b",
   "metadata": {},
   "outputs": [
    {
     "ename": "SyntaxError",
     "evalue": "expected ':' (3981259654.py, line 6)",
     "output_type": "error",
     "traceback": [
      "\u001b[1;36m  Cell \u001b[1;32mIn[3], line 6\u001b[1;36m\u001b[0m\n\u001b[1;33m    for i in range(cnt)\u001b[0m\n\u001b[1;37m                       ^\u001b[0m\n\u001b[1;31mSyntaxError\u001b[0m\u001b[1;31m:\u001b[0m expected ':'\n"
     ]
    }
   ],
   "source": [
    "# 함수 중복 정의 불가 (오버로딩 불가)\n",
    "def my_hello():\n",
    "    print('Hello Python')\n",
    "    print('Hello World')\n",
    "def my_hello(cnt):    # cnt번 출력\n",
    "    for i in range(cnt)\n",
    "        print('Hello, Python', end='\\t')\n",
    "        print('Hello, World')"
   ]
  },
  {
   "cell_type": "code",
   "execution_count": 6,
   "id": "36bcb7c5",
   "metadata": {},
   "outputs": [
    {
     "name": "stdout",
     "output_type": "stream",
     "text": [
      "Hello, Python\tHello, World\n",
      "Hello, Python\tHello, World\n"
     ]
    }
   ],
   "source": [
    "my_hello(2) # 함수의 중복 정의가 이루어지지 않음."
   ]
  },
  {
   "cell_type": "code",
   "execution_count": 11,
   "id": "2c677ff8",
   "metadata": {},
   "outputs": [
    {
     "name": "stdout",
     "output_type": "stream",
     "text": [
      "Hello, Python\tHello, World\n",
      "Hello, Python\tHello, World\n",
      "Hello, Python\tHello, World\n"
     ]
    }
   ],
   "source": [
    "my_hello(3)"
   ]
  },
  {
   "cell_type": "code",
   "execution_count": 12,
   "id": "d78415ca",
   "metadata": {},
   "outputs": [],
   "source": [
    "from ch05 import my_hello # ch05 모듈 안의 my_hello만 메모리 로드"
   ]
  },
  {
   "cell_type": "code",
   "execution_count": 13,
   "id": "76dbc518",
   "metadata": {},
   "outputs": [
    {
     "data": {
      "text/plain": [
       "'__main__'"
      ]
     },
     "execution_count": 13,
     "metadata": {},
     "output_type": "execute_result"
    }
   ],
   "source": [
    "__name__"
   ]
  },
  {
   "cell_type": "code",
   "execution_count": 14,
   "id": "11e83e6e",
   "metadata": {},
   "outputs": [],
   "source": [
    "import ch05"
   ]
  },
  {
   "cell_type": "code",
   "execution_count": 15,
   "id": "f1cb6896",
   "metadata": {},
   "outputs": [
    {
     "name": "stdout",
     "output_type": "stream",
     "text": [
      "ch05\n",
      "Hello, Python!\tHello, World\n",
      "Hello, Python!\tHello, World\n",
      "Hello, Python!\tHello, World\n"
     ]
    }
   ],
   "source": [
    "ch05.my_hello(3)"
   ]
  },
  {
   "cell_type": "markdown",
   "id": "c04ab205",
   "metadata": {},
   "source": [
    "## 1.2 docstring"
   ]
  },
  {
   "cell_type": "code",
   "execution_count": 19,
   "id": "bfd273d4",
   "metadata": {},
   "outputs": [],
   "source": [
    "def my_function():\n",
    "    \"\"\"\n",
    "    함수의 첫 라인에 독스트링을 포함할 수 있습니다.\n",
    "    독스트링은 함수의 설명서를 달아주는 역할\n",
    "    주석보다 많은 기능(함수 호출시 shift+tab으로 독스트링을 볼 수 있음)\n",
    "    \"\"\"\n",
    "\n",
    "#어떤 함수  "
   ]
  },
  {
   "cell_type": "code",
   "execution_count": 20,
   "id": "2f874016",
   "metadata": {},
   "outputs": [
    {
     "name": "stdout",
     "output_type": "stream",
     "text": [
      "\n",
      "    함수의 첫 라인에 독스트링을 포함할 수 있습니다.\n",
      "    독스트링은 함수의 설명서를 달아주는 역할\n",
      "    주석보다 많은 기능(함수 호출시 shift+tab으로 독스트링을 볼 수 있음)\n",
      "    \n"
     ]
    }
   ],
   "source": [
    "print(my_function.__doc__)\n",
    "    ```\n",
    "    매겨변수로 들어온 n값 미만의 피보나치 수열을 출력하는 함수\n",
    "    ex. n=10  : 0, 1, 1, 2, 3, 5, 8\n",
    "    n=100 : 0, 1, 1, 2, 3, 5, 8 13 21 34 55 89\n",
    "    ```\n",
    "    a, b = 0, 1 # 함수 내에 선언한 변수 : 지역 변수 (반: 전역변수) fibonacci\n",
    "    while a < n:\n",
    "        print(a, end=' ')\n",
    "        a, b = b, a+b\n",
    "    print()  # 개행"
   ]
  },
  {
   "cell_type": "code",
   "execution_count": 27,
   "id": "a6b8638c",
   "metadata": {},
   "outputs": [],
   "source": [
    "def fibonacci(n):\n",
    "    a, b = 0, 1 \n",
    "    while a < n:\n",
    "        print(a, end=' ')\n",
    "        a, b = b, a+b\n",
    "    print()  # 개행"
   ]
  },
  {
   "cell_type": "code",
   "execution_count": 28,
   "id": "377d6fcd",
   "metadata": {},
   "outputs": [
    {
     "name": "stdout",
     "output_type": "stream",
     "text": [
      "0 1 1 2 3 5 8 13 21 34 55 89 144 233 377 610 987 1597 2584 4181 6765 \n"
     ]
    }
   ],
   "source": [
    "fibonacci(10000)"
   ]
  },
  {
   "cell_type": "markdown",
   "id": "61478fdc",
   "metadata": {},
   "source": [
    "## 1.3 지역변수(local var)와 전역변수(global var)\n",
    "- 지역 심볼 테이블, 전역 심볼 테이블 -\n",
    "- 함수 내에서 변수에 정수를 할당하면 -"
   ]
  },
  {
   "cell_type": "code",
   "execution_count": 31,
   "id": "75dc809d",
   "metadata": {},
   "outputs": [
    {
     "name": "stdout",
     "output_type": "stream",
     "text": [
      "함수안 : 100\n",
      "함수밖: 100\n"
     ]
    }
   ],
   "source": [
    "global_var = 100\n",
    "def func1():\n",
    "    print('함수안 :', global_var)\n",
    "func1()\n",
    "print('함수밖:', global_var)"
   ]
  },
  {
   "cell_type": "code",
   "execution_count": 33,
   "id": "0e0d8873",
   "metadata": {},
   "outputs": [
    {
     "name": "stdout",
     "output_type": "stream",
     "text": [
      "함수안 : 200\n"
     ]
    }
   ],
   "source": [
    "def func2():\n",
    "    local_var = 200  # 지역변수(함수내에서 할당)\n",
    "    print('함수안 :', local_var)\n",
    "func2()"
   ]
  },
  {
   "cell_type": "code",
   "execution_count": null,
   "id": "f8503dd8",
   "metadata": {},
   "outputs": [],
   "source": [
    "# print('함수밖에서 지역변수 :', local_var) # 에러"
   ]
  },
  {
   "cell_type": "code",
   "execution_count": 45,
   "id": "6f924024",
   "metadata": {},
   "outputs": [
    {
     "name": "stdout",
     "output_type": "stream",
     "text": [
      "지역변수 g_var : 200\n",
      "전역변수 g_var : 100\n"
     ]
    }
   ],
   "source": [
    "g_var = 100 # 전역변수\n",
    "def func3():\n",
    "    g_var = 200\n",
    "    print('지역변수 g_var :', g_var)\n",
    "func3()\n",
    "print('전역변수 g_var :', g_var)"
   ]
  },
  {
   "cell_type": "code",
   "execution_count": 46,
   "id": "594dc666",
   "metadata": {},
   "outputs": [
    {
     "ename": "UnboundLocalError",
     "evalue": "local variable 'g_var' referenced before assignment",
     "output_type": "error",
     "traceback": [
      "\u001b[1;31m---------------------------------------------------------------------------\u001b[0m",
      "\u001b[1;31mUnboundLocalError\u001b[0m                         Traceback (most recent call last)",
      "Cell \u001b[1;32mIn[46], line 7\u001b[0m\n\u001b[0;32m      5\u001b[0m     \u001b[38;5;28mprint\u001b[39m(\u001b[38;5;124m'\u001b[39m\u001b[38;5;124m지역변수 g_var :\u001b[39m\u001b[38;5;124m'\u001b[39m, g_var)\n\u001b[0;32m      6\u001b[0m     g_var \u001b[38;5;241m=\u001b[39m \u001b[38;5;241m200\u001b[39m \u001b[38;5;66;03m# 지역변수 (함수 내에서 할당)\u001b[39;00m\n\u001b[1;32m----> 7\u001b[0m \u001b[43mfunc3\u001b[49m\u001b[43m(\u001b[49m\u001b[43m)\u001b[49m\n\u001b[0;32m      8\u001b[0m \u001b[38;5;28mprint\u001b[39m(\u001b[38;5;124m'\u001b[39m\u001b[38;5;124m전역변수 g_var :\u001b[39m\u001b[38;5;124m'\u001b[39m, g_var)\n",
      "Cell \u001b[1;32mIn[46], line 5\u001b[0m, in \u001b[0;36mfunc3\u001b[1;34m()\u001b[0m\n\u001b[0;32m      4\u001b[0m \u001b[38;5;28;01mdef\u001b[39;00m \u001b[38;5;21mfunc3\u001b[39m():\n\u001b[1;32m----> 5\u001b[0m     \u001b[38;5;28mprint\u001b[39m(\u001b[38;5;124m'\u001b[39m\u001b[38;5;124m지역변수 g_var :\u001b[39m\u001b[38;5;124m'\u001b[39m, \u001b[43mg_var\u001b[49m)\n\u001b[0;32m      6\u001b[0m     g_var \u001b[38;5;241m=\u001b[39m \u001b[38;5;241m200\u001b[39m\n",
      "\u001b[1;31mUnboundLocalError\u001b[0m: local variable 'g_var' referenced before assignment"
     ]
    }
   ],
   "source": [
    "# 렉시컬 특성 : 변수가 어디서 선언되었는지에 따라\n",
    "# 변수의 범위가 정해짐(지역 vs. 전역)\n",
    "g_var = 100 # 전역변수\n",
    "def func3():\n",
    "    print('지역변수 g_var :', g_var)\n",
    "    g_var = 200 # 지역변수 (함수 내에서 할당)\n",
    "func3()\n",
    "print('전역변수 g_var :', g_var)"
   ]
  },
  {
   "cell_type": "code",
   "execution_count": 51,
   "id": "fac06e33",
   "metadata": {},
   "outputs": [
    {
     "name": "stdout",
     "output_type": "stream",
     "text": [
      "지역변수 g_var : 100\n",
      "전역변수 g_var : 200\n"
     ]
    }
   ],
   "source": [
    "# 렉시컬 특성\n",
    "g_var = 100 # 전역변수\n",
    "def func3():\n",
    "    global g_var\n",
    "    print('지역변수 g_var :', g_var)\n",
    "    g_var = 200 # 전역변수 g_var에 200할당.\n",
    "func3()\n",
    "print('전역변수 g_var :', g_var)"
   ]
  },
  {
   "cell_type": "markdown",
   "id": "743c8b70",
   "metadata": {},
   "source": [
    "## 1.4 값에 의한 호출\n",
    "- 함수에 인수에 전달되는 변수가 스칼라변수(문자, 숫자, 논리형)일 때"
   ]
  },
  {
   "cell_type": "code",
   "execution_count": 52,
   "id": "6703714f",
   "metadata": {},
   "outputs": [
    {
     "data": {
      "text/plain": [
       "1800892737456"
      ]
     },
     "execution_count": 52,
     "metadata": {},
     "output_type": "execute_result"
    }
   ],
   "source": [
    "foo = 'a' # 전역변수\n",
    "id(foo)"
   ]
  },
  {
   "cell_type": "code",
   "execution_count": 53,
   "id": "36a4d945",
   "metadata": {
    "scrolled": true
   },
   "outputs": [
    {
     "name": "stdout",
     "output_type": "stream",
     "text": [
      "Before : a 의 주소는  1800892737456\n",
      "After : aaa 의 주소는  1801001296560\n"
     ]
    }
   ],
   "source": [
    "def func1(f):    # 매개변수는 지역변수\n",
    "    print('Before :', f, '의 주소는 ', id(f))\n",
    "    f = f*3\n",
    "    print('After :', f, '의 주소는 ', id(f))\n",
    "func1(foo)\n",
    "\n",
    "\n",
    "# 파이썬의 id() 함수는 객체를 인자로 받아, \n",
    "# 해당 객체의 **고유한 식별값(메모리 주소)**을 반환합니다. \n",
    "# 이 값은 객체를 구별하는 데 사용되며, \n",
    "# 동일한 객체를 가리키는지를 판별하는 데 활용될 수 있습니다. \n",
    "# id()는 객체가 생성될 때 부여되는 일련번호와 같으며, \n",
    "# 숫자로서 특별한 의미를 가지는 것은 아닙니다. "
   ]
  },
  {
   "cell_type": "code",
   "execution_count": 54,
   "id": "2f5890ad",
   "metadata": {},
   "outputs": [
    {
     "name": "stdout",
     "output_type": "stream",
     "text": [
      "foo =  a 의 주소는 1800892737456\n"
     ]
    }
   ],
   "source": [
    "print('foo = ', foo, '의 주소는', id(foo))"
   ]
  },
  {
   "cell_type": "markdown",
   "id": "97b4155b",
   "metadata": {},
   "source": [
    "## 1.5 참조에 의한 호출\n",
    "- 함수에 인수로 전달되는 변수가 리스트, 튜플, 셋, 딕셔너리, 기타 객체일 경우"
   ]
  },
  {
   "cell_type": "code",
   "execution_count": 55,
   "id": "3f71518d",
   "metadata": {},
   "outputs": [
    {
     "data": {
      "text/plain": [
       "1800971354880"
      ]
     },
     "execution_count": 55,
     "metadata": {},
     "output_type": "execute_result"
    }
   ],
   "source": [
    "L = [1, 2, 3, 4, 5]\n",
    "id(L)"
   ]
  },
  {
   "cell_type": "code",
   "execution_count": 56,
   "id": "e4533c52",
   "metadata": {},
   "outputs": [
    {
     "name": "stdout",
     "output_type": "stream",
     "text": [
      "Before : [1, 2, 3, 4, 5] 의 주소는 1800971354880\n",
      "After : [1, 2, 3, 4, 5, 6] 의 주소는 1800971354880\n"
     ]
    }
   ],
   "source": [
    "def func2(f): # 매개변수는 지역변수\n",
    "    print('Before :', f, '의 주소는', id(f))\n",
    "    f.append(6)\n",
    "    print('After :', f, '의 주소는', id(f))\n",
    "func2(L)"
   ]
  },
  {
   "cell_type": "code",
   "execution_count": 57,
   "id": "2661590d",
   "metadata": {},
   "outputs": [
    {
     "name": "stdout",
     "output_type": "stream",
     "text": [
      "L= [1, 2, 3, 4, 5, 6] 의 주소는 1800971354880\n"
     ]
    }
   ],
   "source": [
    "print('L=', L, '의 주소는', id(L))"
   ]
  },
  {
   "cell_type": "markdown",
   "id": "102ad41d",
   "metadata": {},
   "source": [
    "# 2절 함수의 실행결과를 반환하는 return"
   ]
  },
  {
   "cell_type": "code",
   "execution_count": 59,
   "id": "9cd78803",
   "metadata": {},
   "outputs": [],
   "source": [
    "def fibonacci_print(n):\n",
    "    '매개변수로 들어온 n값 alaksdml 피보나치 수열을 출력하는 함수'\n",
    "    a, b = 0, 1 # 함수 내에 선언한 변수 : 지역 변수 (반: 전역변수) fibonacci\n",
    "    while a < n:\n",
    "        print(a, end=' ')\n",
    "        a, b = b, a+b\n",
    "    print()  # 개행\n",
    "def fibonacci(n):\n",
    "    \"n미만의 피보나치 수열을 리스트로 return\"\n",
    "    result = [] # 피보나치 수열은 append할 리스트\n",
    "    a, b = 0, 1 # 함수 내에 선언한 변수 : 지역 변수 (반: 전역변수) fibonacci\n",
    "    while a < n:\n",
    "        result.append(a)    #  리스트에 append\n",
    "        a, b = b, a+b\n",
    "    return result"
   ]
  },
  {
   "cell_type": "code",
   "execution_count": 63,
   "id": "d4347163",
   "metadata": {},
   "outputs": [
    {
     "name": "stdout",
     "output_type": "stream",
     "text": [
      "[0, 1, 1, 2, 3, 5, 8]\n",
      "<class 'list'>\n"
     ]
    }
   ],
   "source": [
    "x = fibonacci(10)\n",
    "print(x)\n",
    "print(type(x))"
   ]
  },
  {
   "cell_type": "code",
   "execution_count": 62,
   "id": "18c52166",
   "metadata": {},
   "outputs": [
    {
     "name": "stdout",
     "output_type": "stream",
     "text": [
      "0 1 1 2 3 5 8 \n",
      "None\n",
      "<class 'NoneType'>\n"
     ]
    }
   ],
   "source": [
    "x = fibonacci_print(10)\n",
    "print(x)\n",
    "print(type(x))"
   ]
  },
  {
   "cell_type": "code",
   "execution_count": 76,
   "id": "c4665eb7",
   "metadata": {},
   "outputs": [
    {
     "name": "stdout",
     "output_type": "stream",
     "text": [
      "숫자를 입력하세요:10\n",
      "[1]\t[1, 2]\t[1, 2, 3]\t[1, 2, 3, 4]\t[1, 2, 3, 4, 5]\t[1, 2, 3, 4, 5, 6]\t[1, 2, 3, 4, 5, 6, 7]\t[1, 2, 3, 4, 5, 6, 7, 8]\t[1, 2, 3, 4, 5, 6, 7, 8, 9]\t[1, 2, 3, 4, 5, 6, 7, 8, 9, 10]\t"
     ]
    }
   ],
   "source": [
    "num = int(input(\"숫자를 입력하세요:\"))\n",
    "numbers=[]\n",
    "for i in range(1, num+1):\n",
    "    numbers.append(i)\n",
    "    print(numbers, end='\\t')"
   ]
  },
  {
   "cell_type": "markdown",
   "id": "ebba01e9",
   "metadata": {},
   "source": [
    "### 여러개 값 return ###"
   ]
  },
  {
   "cell_type": "code",
   "execution_count": 80,
   "id": "d15ba2aa",
   "metadata": {},
   "outputs": [
    {
     "name": "stdout",
     "output_type": "stream",
     "text": [
      "a b\n"
     ]
    }
   ],
   "source": [
    "def swap(a, b):\n",
    "    '매개변수의 순서를 바꿔서 return'\n",
    "    return(b, a)\n",
    "print('a', 'b')"
   ]
  },
  {
   "cell_type": "markdown",
   "id": "eccde319",
   "metadata": {},
   "source": [
    "x = 5; y = 10\n",
    "print('함수 실행 전 x, y =', x, y)\n",
    "x, y = swap(x, y)\n",
    "print('함수 실행 후 x, y =', x, y)"
   ]
  },
  {
   "cell_type": "markdown",
   "id": "c129d4ed",
   "metadata": {},
   "source": [
    "# 3절 함수의 매개변수 ★\n",
    "## 3.1 기본값을 갖는 매개변수"
   ]
  },
  {
   "cell_type": "code",
   "execution_count": 87,
   "id": "4a139aa4",
   "metadata": {},
   "outputs": [],
   "source": [
    "def make_url(ip, port=80):  # 순서인수 > 기본값을 갖는 매개변수\n",
    "    return \"http://{}:{}\".format(ip, port)"
   ]
  },
  {
   "cell_type": "code",
   "execution_count": 96,
   "id": "05660660",
   "metadata": {},
   "outputs": [
    {
     "name": "stdout",
     "output_type": "stream",
     "text": [
      "http://8090:localhost\n",
      "http://localhost:www.naver.com\n",
      "http://localhost:9090\n"
     ]
    }
   ],
   "source": [
    "print(make_url(\"localhost\", 8090))\n",
    "print(make_url(\"www.naver.com\"))\n",
    "print(make_url(port=9090, ip=\"localhost\"))"
   ]
  },
  {
   "cell_type": "code",
   "execution_count": 92,
   "id": "d23c97e0",
   "metadata": {},
   "outputs": [],
   "source": [
    "def make_url(port=80, ip='localhost'):  # 순서인수 > 기본값을 갖는 매개변수\n",
    "    return \"http://{}:{}\".format(ip, port)"
   ]
  },
  {
   "cell_type": "code",
   "execution_count": 93,
   "id": "f09a664c",
   "metadata": {},
   "outputs": [
    {
     "data": {
      "text/plain": [
       "'http://localhost:localhost'"
      ]
     },
     "execution_count": 93,
     "metadata": {},
     "output_type": "execute_result"
    }
   ],
   "source": [
    "make_url(\"localhost\")"
   ]
  },
  {
   "cell_type": "markdown",
   "id": "675ad93f",
   "metadata": {},
   "source": [
    "## 3.2 기본변수를 기본값으로 갖는 매개변수\n",
    "- 기본변수가 스칼라변수(문자, 숫자, 논리형)일 때\n",
    "- 기본변수가 리스트, 셋, 딕셔너리, 기타 객체일 때"
   ]
  },
  {
   "cell_type": "code",
   "execution_count": 100,
   "id": "d5b17627",
   "metadata": {},
   "outputs": [],
   "source": [
    "i = 80\n",
    "# 기본변수가 스칼라변수일 때 : 함수가 정의되는 시점으로 기본갑 셋팅\n",
    "def make_url(ip, port=i):\n",
    "    return \"http://{}:{}\".format(ip, port)"
   ]
  },
  {
   "cell_type": "code",
   "execution_count": 101,
   "id": "7e4fa017",
   "metadata": {},
   "outputs": [
    {
     "data": {
      "text/plain": [
       "'http://loclalhost:80'"
      ]
     },
     "execution_count": 101,
     "metadata": {},
     "output_type": "execute_result"
    }
   ],
   "source": [
    "i =  90\n",
    "make_url(\"loclalhost\")"
   ]
  },
  {
   "cell_type": "code",
   "execution_count": 105,
   "id": "bd716bbe",
   "metadata": {},
   "outputs": [
    {
     "name": "stdout",
     "output_type": "stream",
     "text": [
      "[10]\n"
     ]
    }
   ],
   "source": [
    "list_ = []\n",
    "# 기본변수가 리스트, 셋, 딕셔너리, 객체일 때 : 함수가 실행되는 시점으로 기본값 셋팅\n",
    "def func3(a, L=list_):\n",
    "    L.append(a)\n",
    "    return L\n",
    "print(func3(10))"
   ]
  },
  {
   "cell_type": "code",
   "execution_count": 123,
   "id": "31a1f570",
   "metadata": {},
   "outputs": [
    {
     "name": "stdout",
     "output_type": "stream",
     "text": [
      "[10]\n"
     ]
    }
   ],
   "source": [
    "print(func3(10))"
   ]
  },
  {
   "cell_type": "code",
   "execution_count": 121,
   "id": "29f7b196",
   "metadata": {},
   "outputs": [
    {
     "name": "stdout",
     "output_type": "stream",
     "text": [
      "list_ = [10, 10, 10, 10, 10, 10, 10, 10, 20]\n"
     ]
    }
   ],
   "source": [
    "print(\"list_ =\", list_)"
   ]
  },
  {
   "cell_type": "code",
   "execution_count": 122,
   "id": "940ced65",
   "metadata": {},
   "outputs": [
    {
     "name": "stdout",
     "output_type": "stream",
     "text": [
      "[20]\n"
     ]
    }
   ],
   "source": [
    "print(func3(20))"
   ]
  },
  {
   "cell_type": "code",
   "execution_count": 119,
   "id": "669a8f15",
   "metadata": {},
   "outputs": [
    {
     "name": "stdout",
     "output_type": "stream",
     "text": [
      "[10]\n"
     ]
    }
   ],
   "source": [
    "# 실행할 때마다 L을 공유하는게 싫으면\n",
    "def func3(a, L=None):\n",
    "    if L is None:\n",
    "        L = []\n",
    "    L.append(a)\n",
    "    return L\n",
    "print(func3(10))"
   ]
  },
  {
   "cell_type": "markdown",
   "id": "6a4433c7",
   "metadata": {},
   "source": [
    "## 3.3 순서 인수\n",
    "- 순서인수 : 함수에 정의된 순서대로 전달방식\n",
    "- 키워드인수 : 인수의 이름을 명시하는 방식\n",
    "- 함수 정의시 순서인수와 키워드인수가 같이 올 때는 순서인수가 오고 다음에 키워드인수 순으로 옴"
   ]
  },
  {
   "cell_type": "code",
   "execution_count": 132,
   "id": "b8cf1b74",
   "metadata": {},
   "outputs": [
    {
     "name": "stdout",
     "output_type": "stream",
     "text": [
      "[1, 2, 3, 4, 5, 6]\n"
     ]
    }
   ],
   "source": [
    "def func3(a, L=None):\n",
    "    if L is None:\n",
    "        L = []\n",
    "    L.append(a)\n",
    "    return L\n",
    "print(L)"
   ]
  },
  {
   "cell_type": "code",
   "execution_count": 134,
   "id": "738fe9ee",
   "metadata": {},
   "outputs": [
    {
     "name": "stdout",
     "output_type": "stream",
     "text": [
      "[10]\n",
      "[10, 20]\n"
     ]
    }
   ],
   "source": [
    "lst = []\n",
    "print(func3(10, lst))\n",
    "print(func3(L=lst, a=20)) # 키워드 인수"
   ]
  },
  {
   "cell_type": "markdown",
   "id": "22ceeb59",
   "metadata": {},
   "source": [
    "## 3.4 튜플매개변수를 이용한 가변인수 설정"
   ]
  },
  {
   "cell_type": "code",
   "execution_count": 150,
   "id": "ab9f2979",
   "metadata": {},
   "outputs": [],
   "source": [
    "# 파이썬은 함수의 중복정의(오버로딩)을 지원하지 않음.\n",
    "def add(a, b):\n",
    "    return a+b\n",
    "def add(a, b, c):\n",
    "    return a+b+c"
   ]
  },
  {
   "cell_type": "code",
   "execution_count": 151,
   "id": "0bec7399",
   "metadata": {},
   "outputs": [
    {
     "data": {
      "text/plain": [
       "10"
      ]
     },
     "execution_count": 151,
     "metadata": {},
     "output_type": "execute_result"
    }
   ],
   "source": [
    "add(3, 5, 2)"
   ]
  },
  {
   "cell_type": "code",
   "execution_count": 163,
   "id": "cf1da488",
   "metadata": {},
   "outputs": [],
   "source": [
    "# args 앞에 * : args가 튜플로 전달받는다\n",
    "def add(*args):\n",
    "    # print('args=', args)\n",
    "    # 전달받은 매개변수들의 합을 return.\n",
    "    # 매개변수가 없을 경우 0을 return\n",
    "    sum = 0 \n",
    "    for num in args:\n",
    "        sum += num\n",
    "    return sum"
   ]
  },
  {
   "cell_type": "code",
   "execution_count": 164,
   "id": "73133ee4",
   "metadata": {},
   "outputs": [
    {
     "data": {
      "text/plain": [
       "15"
      ]
     },
     "execution_count": 164,
     "metadata": {},
     "output_type": "execute_result"
    }
   ],
   "source": [
    "add(1,2,3,4,5)"
   ]
  },
  {
   "cell_type": "code",
   "execution_count": 176,
   "id": "01d7c956",
   "metadata": {},
   "outputs": [
    {
     "name": "stdout",
     "output_type": "stream",
     "text": [
      "0\n",
      "1\n",
      "4\n",
      "55\n"
     ]
    }
   ],
   "source": [
    "print(add())\n",
    "print(add(1))\n",
    "print(add(1, 3))\n",
    "print(add(1, 2, 3, 4, 5, 6, 7, 8, 9, 10))"
   ]
  },
  {
   "cell_type": "code",
   "execution_count": 177,
   "id": "1fc9b870",
   "metadata": {},
   "outputs": [
    {
     "data": {
      "text/plain": [
       "'Python-HTML/CSS-JavaScript-Oracle/MySQL'"
      ]
     },
     "execution_count": 177,
     "metadata": {},
     "output_type": "execute_result"
    }
   ],
   "source": [
    "subject = ('Python', 'HTML/CSS', 'JavaScript', 'Oracle/MySQL')\n",
    "'-'.join(subject)"
   ]
  },
  {
   "cell_type": "code",
   "execution_count": 187,
   "id": "a7f44271",
   "metadata": {},
   "outputs": [],
   "source": [
    "# 튜플 매개변수와 일반 매개변수가 같이 있을 때\n",
    "def contcat(*subject, sep):\n",
    "    return(sep. join(subject))"
   ]
  },
  {
   "cell_type": "code",
   "execution_count": 188,
   "id": "ca0512a6",
   "metadata": {},
   "outputs": [],
   "source": [
    "# contact('Python', 'web', 'JavaScript', 'DBMS', '_') "
   ]
  },
  {
   "cell_type": "code",
   "execution_count": 181,
   "id": "79cfaaa8",
   "metadata": {},
   "outputs": [
    {
     "data": {
      "text/plain": [
       "'Python_web_JavaScript_DBMS'"
      ]
     },
     "execution_count": 181,
     "metadata": {},
     "output_type": "execute_result"
    }
   ],
   "source": [
    "# 해결책1\n",
    "contcat('Python', 'web', 'JavaScript', 'DBMS', sep='_') "
   ]
  },
  {
   "cell_type": "code",
   "execution_count": 194,
   "id": "42f771f3",
   "metadata": {},
   "outputs": [
    {
     "name": "stdout",
     "output_type": "stream",
     "text": [
      "Python ~ Web ~ JS ~ DBMS ~ -\n",
      "Python-Web-JS-DBMS\n"
     ]
    }
   ],
   "source": [
    "# 해결책2 \n",
    "def concat(*subject, sep = ' ~ '):\n",
    "    return sep.join(subject)\n",
    "print(concat('Python','Web','JS','DBMS', '-'))\n",
    "print(concat('Python','Web','JS','DBMS', sep='-'))"
   ]
  },
  {
   "cell_type": "code",
   "execution_count": null,
   "id": "a78fe81d",
   "metadata": {},
   "outputs": [],
   "source": [
    "# 해결책3 : 추천, sep을 순서인수로 앞으로\n",
    "def concat(sep, *subject):\n",
    "    return sep.join(subjct)"
   ]
  },
  {
   "cell_type": "code",
   "execution_count": 195,
   "id": "c2ff802b",
   "metadata": {},
   "outputs": [
    {
     "data": {
      "text/plain": [
       "'~ ~ Python ~ Web ~ DB ~ MLDL'"
      ]
     },
     "execution_count": 195,
     "metadata": {},
     "output_type": "execute_result"
    }
   ],
   "source": [
    "concat('~','Python','Web','DB','MLDL')"
   ]
  },
  {
   "cell_type": "markdown",
   "id": "ffd0c6dc",
   "metadata": {},
   "source": [
    "## 3.5 딕셔너리 매개변수\n",
    "- 딕셔너리 인수 : 여러 개의 키워드 인수를 딕셔너리 형태로 받아서 가변인수로 처리\n",
    "- 데이터 시각화에서 2개의 별표시(**), 즉 딕셔너리 매개 변수를 사용할 때 효과적이다. "
   ]
  },
  {
   "cell_type": "code",
   "execution_count": 196,
   "id": "e08dd905",
   "metadata": {},
   "outputs": [
    {
     "data": {
      "text/plain": [
       "'http://localhost:8080'"
      ]
     },
     "execution_count": 196,
     "metadata": {},
     "output_type": "execute_result"
    }
   ],
   "source": [
    "make_url(ip=\"localhost\", port=8080)"
   ]
  },
  {
   "cell_type": "code",
   "execution_count": 210,
   "id": "8ae004e4",
   "metadata": {},
   "outputs": [],
   "source": [
    "def func5(**args): # 별표시(*)가 한 개면 투플 매개변수, 별표시(**)가 한 개면 딕셔너리 매개변수 \n",
    "    print('이름:', args.get('name'))\n",
    "    print('나이:', args.get('age'))\n",
    "    print('전화:', args.get('tel'))\n",
    "    print('주소:', args.get('address'))"
   ]
  },
  {
   "cell_type": "code",
   "execution_count": 230,
   "id": "9a2ecd26",
   "metadata": {},
   "outputs": [],
   "source": [
    "def func5(**args):\n",
    "    print(args)\n",
    "    print(type(args))\n",
    "    if 'address' not in args:\n",
    "        args['address'] = '서울시 관악구'\n",
    "        args.update({'address': '서울시 관악구'})\n",
    "    for key, value in args.items():\n",
    "        print(\"{} : {}\".format(key, value))"
   ]
  },
  {
   "cell_type": "code",
   "execution_count": 231,
   "id": "442d4715",
   "metadata": {},
   "outputs": [
    {
     "name": "stdout",
     "output_type": "stream",
     "text": [
      "{'name': '홍길동', 'age': 30, 'tel': '010-9999-9999', 'address': '서울 관악구'}\n",
      "<class 'dict'>\n",
      "name : 홍길동\n",
      "age : 30\n",
      "tel : 010-9999-9999\n",
      "address : 서울 관악구\n"
     ]
    }
   ],
   "source": [
    "func5(name='홍길동', \n",
    "      age=30,\n",
    "      tel='010-9999-9999',\n",
    "      address='서울 관악구')"
   ]
  },
  {
   "cell_type": "code",
   "execution_count": 225,
   "id": "8135b899",
   "metadata": {},
   "outputs": [
    {
     "name": "stdout",
     "output_type": "stream",
     "text": [
      "{'name': '홍길동'}\n",
      "<class 'dict'>\n",
      "name : 홍길동\n",
      "address : 서울시 관악구\n"
     ]
    }
   ],
   "source": [
    "func5(name='홍길동')"
   ]
  },
  {
   "cell_type": "code",
   "execution_count": 226,
   "id": "b299e5f5",
   "metadata": {},
   "outputs": [],
   "source": [
    "def func5(**args):\n",
    "    print('args')"
   ]
  },
  {
   "cell_type": "code",
   "execution_count": 227,
   "id": "d01100ac",
   "metadata": {},
   "outputs": [
    {
     "name": "stdout",
     "output_type": "stream",
     "text": [
      "args\n"
     ]
    }
   ],
   "source": [
    "func5(name='홍길동', \n",
    "      age=30,\n",
    "      tel='010-9999-9999',\n",
    "      address='서울 관악구',\n",
    "      width=300,\n",
    "      color='red')"
   ]
  },
  {
   "cell_type": "code",
   "execution_count": 228,
   "id": "6e615cdf",
   "metadata": {},
   "outputs": [],
   "source": [
    "def func(a, b, c):\n",
    "    return a+b+c"
   ]
  },
  {
   "cell_type": "code",
   "execution_count": 229,
   "id": "740b8883",
   "metadata": {},
   "outputs": [],
   "source": [
    "def func5(**args): # 별표시(*)가 한 개면 투플 매개변수, 별표시(**)가 한 개면 딕셔너리 매개변수 \n",
    "    print('이름:', args.get('name'))\n",
    "    print('나이:', args.get('age'))\n",
    "    print('전화:', args.get('tel'))\n",
    "    print('주소:', args.get('address'))"
   ]
  },
  {
   "cell_type": "markdown",
   "id": "c41887b1",
   "metadata": {},
   "source": [
    "## 3.6 함수 정의시 매개변수의 순서\n",
    "순서인수 > 튜플인수(*) > 키워드인수(기본값) > 딕셔너리인수(**)"
   ]
  },
  {
   "cell_type": "code",
   "execution_count": 234,
   "id": "9ceeba20",
   "metadata": {},
   "outputs": [],
   "source": [
    "# 순서인수 > 튜플인수 > 딕셔너리인수\n",
    "def func6(a, b, *c, **d):\n",
    "    print('순서인수 a = ', a)\n",
    "    print('순서인수 b = ', b)\n",
    "    print('튜플인수 c = ', c)\n",
    "    print('딕셔너리인수 d = ', d)"
   ]
  },
  {
   "cell_type": "code",
   "execution_count": 235,
   "id": "dbae7a96",
   "metadata": {},
   "outputs": [
    {
     "name": "stdout",
     "output_type": "stream",
     "text": [
      "순서인수 a =  10\n",
      "순서인수 b =  20\n",
      "튜플인수 c =  (1, 2, 3, 4, 5, 6, 7, 8, 9)\n",
      "딕셔너리인수 d =  {'name': '홍', 'age': 30, 'address': '신림'}\n"
     ]
    }
   ],
   "source": [
    "func6(10, 20, 1,2,3,4,5,6,7,8,9, name='홍', age=30, address='신림')"
   ]
  },
  {
   "cell_type": "code",
   "execution_count": 237,
   "id": "f38718ac",
   "metadata": {},
   "outputs": [],
   "source": [
    "# 순서인수 > 튜플인수(*) > 키워드인수(기본값) > 딕셔너리인수(**)\n",
    "def func7(a, b, c,*d, e=10, **f):\n",
    "    print('순서인수 a = ', a)\n",
    "    print('순서인수 b = ', b)\n",
    "    print('순서인수 c = ', c)\n",
    "    print('튜플인수 d = ', d)\n",
    "    print('키워드인수(기본값 10) e = ', a)\n",
    "    print('딕셔너리인수 f = ', f)"
   ]
  },
  {
   "cell_type": "code",
   "execution_count": 239,
   "id": "7e72d5f6",
   "metadata": {},
   "outputs": [
    {
     "name": "stdout",
     "output_type": "stream",
     "text": [
      "순서인수 a =  10\n",
      "순서인수 b =  20\n",
      "순서인수 c =  30\n",
      "튜플인수 d =  ()\n",
      "키워드인수(기본값 10) e =  10\n",
      "딕셔너리인수 f =  {}\n"
     ]
    }
   ],
   "source": [
    "func7(10, 20, 30, e=100)"
   ]
  },
  {
   "cell_type": "code",
   "execution_count": 238,
   "id": "02376e7f",
   "metadata": {},
   "outputs": [
    {
     "name": "stdout",
     "output_type": "stream",
     "text": [
      "순서인수 a =  10\n",
      "순서인수 b =  20\n",
      "순서인수 c =  30\n",
      "튜플인수 d =  (1, 2, 3, 4, 5)\n",
      "키워드인수(기본값 10) e =  10\n",
      "딕셔너리인수 f =  {'shape': 'rect', 'width': 20, 'height': 30}\n"
     ]
    }
   ],
   "source": [
    "func7(10, 20, 30, 1,2,3,4,5, e=100, shape='rect', width=20, height=30)"
   ]
  },
  {
   "cell_type": "code",
   "execution_count": null,
   "id": "aedc5bd9",
   "metadata": {},
   "outputs": [],
   "source": [
    "## 3.7 인수의 언패킹\n",
    "### 튜플인수 언패킹\n",
    "- 언패킹 : 함수 호출시 매개변수 앞에 * 붙임\n",
    "- 패킹 : 함수 정의시 매개변수 앞에 * 붙임(튜플매개변수)"
   ]
  },
  {
   "cell_type": "code",
   "execution_count": 240,
   "id": "eeaf4722",
   "metadata": {},
   "outputs": [],
   "source": [
    "def add(*args):\n",
    "    sum = 0\n",
    "    for num in args:\n",
    "        sum += num\n",
    "    return sum"
   ]
  },
  {
   "cell_type": "code",
   "execution_count": 241,
   "id": "59a8e8d0",
   "metadata": {},
   "outputs": [
    {
     "data": {
      "text/plain": [
       "6"
      ]
     },
     "execution_count": 241,
     "metadata": {},
     "output_type": "execute_result"
    }
   ],
   "source": [
    "add(1, 2, 3)"
   ]
  },
  {
   "cell_type": "code",
   "execution_count": 243,
   "id": "b90b45b9",
   "metadata": {},
   "outputs": [
    {
     "data": {
      "text/plain": [
       "6"
      ]
     },
     "execution_count": 243,
     "metadata": {},
     "output_type": "execute_result"
    }
   ],
   "source": [
    "numbers = (1, 2, 3)\n",
    "add(*numbers)"
   ]
  },
  {
   "cell_type": "code",
   "execution_count": null,
   "id": "6892a59f",
   "metadata": {},
   "outputs": [],
   "source": [
    "numbers = (1, 2, 3)\n",
    "add(*numbers)"
   ]
  },
  {
   "cell_type": "code",
   "execution_count": null,
   "id": "9fb011e7",
   "metadata": {},
   "outputs": [],
   "source": [
    "### 딕셔너리 인수 언패킹"
   ]
  },
  {
   "cell_type": "code",
   "execution_count": 249,
   "id": "60d5b310",
   "metadata": {},
   "outputs": [],
   "source": [
    "def func8(**data):\n",
    "    print(data)\n",
    "    for item in data.items():\n",
    "        print(item)"
   ]
  },
  {
   "cell_type": "code",
   "execution_count": 252,
   "id": "048b4abd",
   "metadata": {},
   "outputs": [
    {
     "name": "stdout",
     "output_type": "stream",
     "text": [
      "{'shape': 'rect', 'width': 40, 'height': 30}\n",
      "('shape', 'rect')\n",
      "('width', 40)\n",
      "('height', 30)\n"
     ]
    }
   ],
   "source": [
    "func8(shape='rect', width=40, height=30)"
   ]
  },
  {
   "cell_type": "code",
   "execution_count": 253,
   "id": "77b6bf95",
   "metadata": {
    "scrolled": true
   },
   "outputs": [
    {
     "name": "stdout",
     "output_type": "stream",
     "text": [
      "{'shape': 'rect', 'width': 40, 'height': 30}\n",
      "('shape', 'rect')\n",
      "('width', 40)\n",
      "('height', 30)\n"
     ]
    }
   ],
   "source": [
    "info = {'shape':'rect', 'width' : 40, 'height':30}\n",
    "func8(**info)"
   ]
  },
  {
   "cell_type": "markdown",
   "id": "14432407",
   "metadata": {},
   "source": [
    "# 4절 람다식\n",
    "- return 한 줄짜리 작은 익명함수\n",
    "## 4.1 람다식 연습"
   ]
  },
  {
   "cell_type": "markdown",
   "id": "e85963f2",
   "metadata": {},
   "source": [
    "\n",
    "람다는 '이름 없는 한 줄짜리 함수'를 정의하는 문법이고, \n",
    "맵(map)은 '리스트와 같은 반복 가능한 자료형에 특정 함수를 적용하여 새로운 리스트를 생성하는 내장 함수'입니다. \n",
    "람다 함수는 맵 함수의 인자로 사용되어, \n",
    "반복 가능한 자료형의 각 요소에 적용할 함수를 간편하게 정의하는 방식으로 자주 사용됩니다. \n",
    "\n",
    "람다(lambda)는 이름이 없는 간단한 익명 함수이며, \n",
    "리스트 컴프리헨션(list comprehension)은 파이썬에서 리스트, 집합, 딕셔너리 등에서 새 자료구조를 생성하는 간결한 문법입니다. \n",
    "람다는 주로 `map()`이나 `filter()`와 함께 쓰이며, \n",
    "리스트 컴프리헨션은 `map()`과 `filter()`를 대체하는 경우가 많아 코드의 가독성과 효율성을 높이는 데 사용됩니다\n"
   ]
  },
  {
   "cell_type": "code",
   "execution_count": 2,
   "id": "94c719e4",
   "metadata": {},
   "outputs": [
    {
     "name": "stdout",
     "output_type": "stream",
     "text": [
      "8\n",
      "<class 'function'>\n"
     ]
    }
   ],
   "source": [
    "def add(a, b):\n",
    "    return a+b\n",
    "print(add(3, 5))\n",
    "print(type(add))"
   ]
  },
  {
   "cell_type": "code",
   "execution_count": 3,
   "id": "1793a0fa",
   "metadata": {},
   "outputs": [
    {
     "name": "stdout",
     "output_type": "stream",
     "text": [
      "8\n",
      "<class 'function'>\n"
     ]
    }
   ],
   "source": [
    "add2 = lambda a, b : a + b # add를 add2 람다식으로 만듬.\n",
    "print(add2(3, 5))\n",
    "print(type(add2))"
   ]
  },
  {
   "cell_type": "code",
   "execution_count": 4,
   "id": "40f67567",
   "metadata": {},
   "outputs": [
    {
     "data": {
      "text/plain": [
       "('홀수', '짝수')"
      ]
     },
     "execution_count": 4,
     "metadata": {},
     "output_type": "execute_result"
    }
   ],
   "source": [
    "# ex1. 매개변수로 들어온 값이 짝수인지 홀수인지 return하는 함수를 람다식으로 만들어보세요.\n",
    "def even_odd_chk(num):\n",
    "    if num%2:\n",
    "        result = \"홀수\"\n",
    "    else:\n",
    "        result = \"짝수\"\n",
    "    return result\n",
    "even_odd_chk(5), even_odd_chk(-4)"
   ]
  },
  {
   "cell_type": "code",
   "execution_count": 6,
   "id": "d53e03a6",
   "metadata": {},
   "outputs": [
    {
     "data": {
      "text/plain": [
       "('홀수', '짝수')"
      ]
     },
     "execution_count": 6,
     "metadata": {},
     "output_type": "execute_result"
    }
   ],
   "source": [
    "def even_odd_chk(num):\n",
    "#    if num%2:\n",
    "#        result = \"홀수\"\n",
    "#    else:\n",
    "#        result = \"짝수\"\n",
    "    return \"홀수\" if num%2 else \"짝수\"\n",
    "even_odd_chk = lambda num : \"홀수\" if num%2 else \"짝수\" \n",
    "even_odd_chk(5), even_odd_chk(-4)\n",
    "\n",
    "# 3. 함수와 람다식의 동일성\n",
    "# python# 일반 함수\n",
    "# def even_odd_chk(num):\n",
    "#    return \"홀수\" if num%2 else \"짝수\"\n",
    "\n",
    "# 람다식으로 동일한 기능\n",
    "# even_odd_chk = lambda num : \"홀수\" if num%2 else \"짝수\""
   ]
  },
  {
   "cell_type": "code",
   "execution_count": 8,
   "id": "0f6f9256",
   "metadata": {},
   "outputs": [
    {
     "data": {
      "text/plain": [
       "(4, 4)"
      ]
     },
     "execution_count": 8,
     "metadata": {},
     "output_type": "execute_result"
    }
   ],
   "source": [
    "# ex2. 두 매개변수의 차이를 return하는 함수를 람다식으로 만들어보세요.\n",
    "def diff(a, b):\n",
    "    if a>b:\n",
    "        result = a-b\n",
    "    else:\n",
    "        result = b-a\n",
    "    return result\n",
    "\n",
    "diff = lambda a, b : a-b if a>b else b-a\n",
    "diff(5, 1), diff(1, 5)"
   ]
  },
  {
   "cell_type": "code",
   "execution_count": 12,
   "id": "759f6c40",
   "metadata": {},
   "outputs": [
    {
     "data": {
      "text/plain": [
       "(1000, 'negative')"
      ]
     },
     "execution_count": 12,
     "metadata": {},
     "output_type": "execute_result"
    }
   ],
   "source": [
    "# ex3. 매개변수로 잔액을 받아, 잔액이 양수면 잔액을 return, 음수면 'negative'를 return함\n",
    "ex3 = lambda balance : balance if balance >= 0 else 'negative'\n",
    "ex3(1000), ex3(-100)"
   ]
  },
  {
   "cell_type": "code",
   "execution_count": 21,
   "id": "d0cdb29d",
   "metadata": {},
   "outputs": [
    {
     "data": {
      "text/plain": [
       "('재시험', '유효하지 않음')"
      ]
     },
     "execution_count": 21,
     "metadata": {},
     "output_type": "execute_result"
    }
   ],
   "source": [
    "# ex4. 점수를 입력받아 80점이상은 'A팀', 60점이상은 'B팀', 60점미만은 '재시험',\n",
    "# 100점 초과, 0점미만은 '유효하지 않음'을 return\n",
    "# 방법 1: 일반 함수 (if-elif-else)\n",
    "\n",
    "def levelChk(num):\n",
    "    if num > 100 or num < 0:\n",
    "        return '유효하지 않음'\n",
    "    elif num >= 80:\n",
    "        return 'A팀'\n",
    "    elif num >= 60:\n",
    "        return 'B팀'\n",
    "    else:\n",
    "        return '재시험'\n",
    "\n",
    "ex4 = lambda num :'A팀' if 80<=num<=100 else \\\n",
    "                    'B팀' if 60<=num<=80 else \\\n",
    "                    '재시험' if 0<=num<=60 else \\\n",
    "                    '유효하지 않음'\n",
    "levelChk(8), ex4(160)"
   ]
  },
  {
   "cell_type": "code",
   "execution_count": 25,
   "id": "a2e528ae",
   "metadata": {},
   "outputs": [
    {
     "data": {
      "text/plain": [
       "('D학점', '유효하지 않는 점수')"
      ]
     },
     "execution_count": 25,
     "metadata": {},
     "output_type": "execute_result"
    }
   ],
   "source": [
    "# 점수를 입력받아 학점을 return\n",
    "score_grade = lambda score : 'A학점' if 90<=score<=100 else \\\n",
    "                             'B학점' if 80<=score<90 else \\\n",
    "                             'C학점' if 70<=score<80 else \\\n",
    "                             'D학점' if 60<=score<70 else \\\n",
    "                             'F학점' if  0<=score<60 else \\\n",
    "                             '유효하지 않는 점수'\n",
    "score_grade(60), score_grade(120)"
   ]
  },
  {
   "cell_type": "code",
   "execution_count": 36,
   "id": "8c4970e2",
   "metadata": {},
   "outputs": [
    {
     "data": {
      "text/plain": [
       "(-1, 2)"
      ]
     },
     "execution_count": 36,
     "metadata": {},
     "output_type": "execute_result"
    }
   ],
   "source": [
    "# ex5 safe_index함수를 람다식으로 ** 변수에 함수도 넣음\n",
    "def safe_index(lst, item, start=0):\n",
    "    return lst.index(idem, start) if item in lst [start:] else -1\n",
    "ex5 = lambda lst, item, start=0 : lst.index(item, start) if item in lst [start:] else -1\n",
    "i = 3\n",
    "lst = [i, 2, 3,]\n",
    "safe_index(lst, 4), ex5(lst, 3, 1)"
   ]
  },
  {
   "cell_type": "code",
   "execution_count": 48,
   "id": "9050d618",
   "metadata": {},
   "outputs": [
    {
     "data": {
      "text/plain": [
       "[25, 15, 100, 4.0]"
      ]
     },
     "execution_count": 48,
     "metadata": {},
     "output_type": "execute_result"
    }
   ],
   "source": [
    "# 람다식을 list에 들어가 갈 수 있음\n",
    "add = lambda a, b : a + b\n",
    "sub = lambda a, b : a - b\n",
    "mul = lambda a, b : a * b\n",
    "div = lambda a, b : a / b if b else '두번째 인자가 0이면 못 나눠요'\n",
    "operations = [add, sub, mul, div] # 사칙연산 함수들\n",
    "\n",
    "def act_operations(a, b, operations=operations): # a, b의 연산 결과를 return\n",
    "    result = []\n",
    "    for op in operations:\n",
    "        result.append(op(a, b))\n",
    "    return result\n",
    "act_operations(20, 5)"
   ]
  },
  {
   "cell_type": "code",
   "execution_count": 49,
   "id": "b61d4b1d",
   "metadata": {},
   "outputs": [
    {
     "data": {
      "text/plain": [
       "[64, 20]"
      ]
     },
     "execution_count": 49,
     "metadata": {},
     "output_type": "execute_result"
    }
   ],
   "source": [
    "act_operations(8, 2, [lambda x, y : x**y, lambda x,y : 10*+y])"
   ]
  },
  {
   "cell_type": "code",
   "execution_count": 50,
   "id": "0fb3a9fd",
   "metadata": {},
   "outputs": [
    {
     "data": {
      "text/plain": [
       "5"
      ]
     },
     "execution_count": 50,
     "metadata": {},
     "output_type": "execute_result"
    }
   ],
   "source": [
    "operations.append(lambda x, y : x**y)\n",
    "len(operations)"
   ]
  },
  {
   "cell_type": "code",
   "execution_count": 51,
   "id": "cb82fa46",
   "metadata": {},
   "outputs": [
    {
     "data": {
      "text/plain": [
       "[10, 6, 16, 4.0, 64]"
      ]
     },
     "execution_count": 51,
     "metadata": {},
     "output_type": "execute_result"
    }
   ],
   "source": [
    "act_operations(8, 2) # 기본값을 갖는 변수(기본 변수)가 리스트면 기본값은 호출할 시점"
   ]
  },
  {
   "cell_type": "markdown",
   "id": "6c21a71b",
   "metadata": {},
   "source": [
    "## 4.2 함수의 매개변수(인수)에 람다식 사용\n",
    "- 람다식을 사용하는 곳 : 함수의 매개변수 > return 문\n",
    "### (1) map 이 함수가 압도적으로 많이 사용됨"
   ]
  },
  {
   "cell_type": "code",
   "execution_count": null,
   "id": "83db7aad",
   "metadata": {},
   "outputs": [],
   "source": [
    "변수명 = 람다식"
   ]
  },
  {
   "cell_type": "code",
   "execution_count": 53,
   "id": "2159395f",
   "metadata": {},
   "outputs": [],
   "source": [
    "def map_template(func, L=[]):\n",
    "    result = []\n",
    "    for item in L:\n",
    "        result.append(item)\n",
    "    return result"
   ]
  },
  {
   "cell_type": "code",
   "execution_count": 54,
   "id": "e23ab1bd",
   "metadata": {},
   "outputs": [
    {
     "data": {
      "text/plain": [
       "[1, 2, 3]"
      ]
     },
     "execution_count": 54,
     "metadata": {},
     "output_type": "execute_result"
    }
   ],
   "source": [
    "map_template(lambda a:a, [1,2,3])"
   ]
  },
  {
   "cell_type": "code",
   "execution_count": 58,
   "id": "5dec1274",
   "metadata": {},
   "outputs": [
    {
     "data": {
      "text/plain": [
       "[1, 2, 3, 4, 5, 6, 7, 8, 9]"
      ]
     },
     "execution_count": 58,
     "metadata": {},
     "output_type": "execute_result"
    }
   ],
   "source": [
    "list_data = [1,2,3,4,5,6,7,8,9]\n",
    "def x_2(x):\n",
    "    return x*2\n",
    "map_template(x_2, list_data)"
   ]
  },
  {
   "cell_type": "code",
   "execution_count": 59,
   "id": "8f1d08b3",
   "metadata": {},
   "outputs": [
    {
     "data": {
      "text/plain": [
       "[1, 2, 3, 4, 5, 6, 7, 8, 9]"
      ]
     },
     "execution_count": 59,
     "metadata": {},
     "output_type": "execute_result"
    }
   ],
   "source": [
    "list_data = [1,2,3,4,5,6,7,8,9]\n",
    "# def x_2(x):\n",
    "#    return x*2\n",
    "x_2 = lambda x : x*2\n",
    "map_template(x_2, list_data)"
   ]
  },
  {
   "cell_type": "code",
   "execution_count": 60,
   "id": "c0ed58be",
   "metadata": {},
   "outputs": [
    {
     "data": {
      "text/plain": [
       "[1, 2, 3, 4, 5, 6, 7, 8, 9]"
      ]
     },
     "execution_count": 60,
     "metadata": {},
     "output_type": "execute_result"
    }
   ],
   "source": [
    "map_template(lambda x:x*2, list_data)"
   ]
  },
  {
   "cell_type": "code",
   "execution_count": 61,
   "id": "bdc8e9b8",
   "metadata": {},
   "outputs": [
    {
     "data": {
      "text/plain": [
       "[2, 4, 6, 8, 10, 12, 14, 16, 18]"
      ]
     },
     "execution_count": 61,
     "metadata": {},
     "output_type": "execute_result"
    }
   ],
   "source": [
    "# 리스트 컴퓨리헨션\n",
    "[ item*2 for item in list_data ]"
   ]
  },
  {
   "cell_type": "code",
   "execution_count": 62,
   "id": "1d346aed",
   "metadata": {},
   "outputs": [
    {
     "data": {
      "text/plain": [
       "<map at 0x22755c83a90>"
      ]
     },
     "execution_count": 62,
     "metadata": {},
     "output_type": "execute_result"
    }
   ],
   "source": [
    "map(lambda x:x*2, list_data)"
   ]
  },
  {
   "cell_type": "code",
   "execution_count": 63,
   "id": "88aa4b10",
   "metadata": {},
   "outputs": [
    {
     "data": {
      "text/plain": [
       "[2, 4, 6, 8, 10, 12, 14, 16, 18]"
      ]
     },
     "execution_count": 63,
     "metadata": {},
     "output_type": "execute_result"
    }
   ],
   "source": [
    "list(map(lambda x:x*2, list_data))"
   ]
  },
  {
   "cell_type": "code",
   "execution_count": 64,
   "id": "8552a908",
   "metadata": {},
   "outputs": [
    {
     "name": "stdout",
     "output_type": "stream",
     "text": [
      "2  4  6  8  10  12  14  16  18  "
     ]
    }
   ],
   "source": [
    "for data in map(lambda x:x*2, list_data):\n",
    "    print(data, end='  ')"
   ]
  },
  {
   "cell_type": "code",
   "execution_count": 66,
   "id": "e51a09e8",
   "metadata": {},
   "outputs": [
    {
     "name": "stdout",
     "output_type": "stream",
     "text": [
      "[5000, 5000, 6000, 1000, 5000, 5000, 6000, 1000]\n"
     ]
    }
   ],
   "source": [
    "# ```\n",
    "# 예제1. prices = ['5,000', '5000', '6,000', '1000','5,000', '5000', '6,000', '1000']를 [5000,5000,6000,1000]식으로 바꾸시오\n",
    "# ```\n",
    "prices = ['5,000', '5000', '6,000', '1000','5,000', '5000', '6,000', '1000']\n",
    "\n",
    "# 쉼표를 제거하고 정수로 변환\n",
    "cleaned_prices = [int(price.replace(',', '')) for price in prices]\n",
    "\n",
    "print(cleaned_prices)\n",
    "# 결과: [5000, 5000, 6000, 1000, 5000, 5000, 6000, 1000]"
   ]
  },
  {
   "cell_type": "code",
   "execution_count": 68,
   "id": "93b5ee41",
   "metadata": {},
   "outputs": [
    {
     "name": "stdout",
     "output_type": "stream",
     "text": [
      "[5000, 6000, 1000]\n",
      "[1000, 5000, 6000]\n"
     ]
    }
   ],
   "source": [
    "# 중복 제거 (순서 유지)\n",
    "unique_prices = list(dict.fromkeys(cleaned_prices))\n",
    "print(unique_prices)\n",
    "# 결과: [5000, 6000, 1000]\n",
    "\n",
    "# 또는 set을 사용 (순서 보장 안됨)\n",
    "unique_prices_set = list(set(cleaned_prices))\n",
    "print(sorted(unique_prices_set))\n",
    "# 결과: [1000, 5000, 6000]"
   ]
  },
  {
   "cell_type": "code",
   "execution_count": 73,
   "id": "57628ca3",
   "metadata": {},
   "outputs": [
    {
     "ename": "NameError",
     "evalue": "name 'prices_int' is not defined",
     "output_type": "error",
     "traceback": [
      "\u001b[1;31m---------------------------------------------------------------------------\u001b[0m",
      "\u001b[1;31mNameError\u001b[0m                                 Traceback (most recent call last)",
      "Cell \u001b[1;32mIn[73], line 4\u001b[0m\n\u001b[0;32m      2\u001b[0m \u001b[38;5;28;01mdef\u001b[39;00m \u001b[38;5;21mtoint\u001b[39m(value):\n\u001b[0;32m      3\u001b[0m     \u001b[38;5;28;01mreturn\u001b[39;00m \u001b[38;5;28mint\u001b[39m(value\u001b[38;5;241m.\u001b[39mreplace(\u001b[38;5;124m'\u001b[39m\u001b[38;5;124m,\u001b[39m\u001b[38;5;124m'\u001b[39m,\u001b[38;5;124m'\u001b[39m\u001b[38;5;124m'\u001b[39m))\n\u001b[1;32m----> 4\u001b[0m \u001b[43mprices_int\u001b[49m \u001b[38;5;241m-\u001b[39m \u001b[38;5;28mmap\u001b[39m(\u001b[38;5;28;01mlambda\u001b[39;00m value : \u001b[38;5;28mint\u001b[39m(value\u001b[38;5;241m.\u001b[39mreplace(\u001b[38;5;124m'\u001b[39m\u001b[38;5;124m,\u001b[39m\u001b[38;5;124m'\u001b[39m,\u001b[38;5;124m'\u001b[39m\u001b[38;5;124m'\u001b[39m)), prices)\n\u001b[0;32m      5\u001b[0m \u001b[38;5;28;01mfor\u001b[39;00m price \u001b[38;5;129;01min\u001b[39;00m prices_int:\n\u001b[0;32m      6\u001b[0m     \u001b[38;5;28mprint\u001b[39m(price, end\u001b[38;5;241m=\u001b[39m\u001b[38;5;124m'\u001b[39m\u001b[38;5;124m \u001b[39m\u001b[38;5;124m'\u001b[39m)\n",
      "\u001b[1;31mNameError\u001b[0m: name 'prices_int' is not defined"
     ]
    }
   ],
   "source": [
    "prices = ['5,000', '5000', '6,000', '1000','5,000', '5000', '6,000', '1000']\n",
    "def toint(value):\n",
    "    return int(value.replace(',',''))\n",
    "prices_int - map(lambda value : int(value.replace(',','')), prices)\n",
    "for price in prices_int:\n",
    "    print(price, end=' ')"
   ]
  },
  {
   "cell_type": "markdown",
   "id": "bf04a3d9",
   "metadata": {},
   "source": [
    "```\n",
    "예제2. members1 = [{'name':'홍길동', 'birth':'2000-01-01’}, {'name':'신길동', 'birth':'1995-12-18'},]를\n",
    "members2 = [{'name':'홍길동', 'year':2000, 'month':1,'day':1}, {'name':'신길동', 'year':1995, 'month':12, 'day':18},] 변환\n",
    "```"
   ]
  },
  {
   "cell_type": "code",
   "execution_count": 78,
   "id": "f69e802a",
   "metadata": {},
   "outputs": [],
   "source": [
    "members1 = [{'name':'홍길동', 'birth':'2000-01-01'}, \n",
    "            {'name':'신길동', 'birth':'1995-12-18'},]"
   ]
  },
  {
   "cell_type": "code",
   "execution_count": 83,
   "id": "7ab5153a",
   "metadata": {},
   "outputs": [
    {
     "data": {
      "text/plain": [
       "({'year': 2025, 'month': 1, 'day': 1}, {'year': 1995, 'month': 12, 'day': 12})"
      ]
     },
     "execution_count": 83,
     "metadata": {},
     "output_type": "execute_result"
    }
   ],
   "source": [
    "# '2000-01-01' => {'year':2000, 'month':1, 'day':1}\n",
    "def split_data(date):\n",
    "    split_date = date.split('-')\n",
    "    return {\n",
    "        'year' : int(split_date[0]),\n",
    "        'month' : int(split_date[1]),\n",
    "        'day' : int(split_date[2]),\n",
    "    }\n",
    "split_data('2025-01-01'), split_data('1995-12-12')"
   ]
  },
  {
   "cell_type": "code",
   "execution_count": 84,
   "id": "5f898f4a",
   "metadata": {},
   "outputs": [
    {
     "data": {
      "text/plain": [
       "({'year': 2025, 'month': 1, 'day': 1}, {'year': 1995, 'month': 12, 'day': 12})"
      ]
     },
     "execution_count": 84,
     "metadata": {},
     "output_type": "execute_result"
    }
   ],
   "source": [
    "# '2000-01-01' => {'year':2000, 'month':1, 'day':1}\n",
    "# 딕셔너리 리스트에서 생년월일 문자열을 연도, 월, 일로 분리하는 방법]\n",
    "def split_data(date):\n",
    "    return {\n",
    "        'year' : int(date.split('-')[0]),\n",
    "        'month' : int(date.split('-')[1]),\n",
    "        'day' : int(date.split('-')[2]),\n",
    "    }\n",
    "split_data('2025-01-01'), split_data('1995-12-12')"
   ]
  },
  {
   "cell_type": "code",
   "execution_count": 86,
   "id": "777c430c",
   "metadata": {},
   "outputs": [],
   "source": [
    "# {'name':'홍길동', 'birth':'2000-01-01'}=>{'name':'홍길동', 'year':2000, 'month':1, 'day':1}\n",
    "def split_data(date):\n",
    "    return {\n",
    "        'year' : int(date.split('-')[0]),\n",
    "        'month' : int(date.split('-')[1]),\n",
    "        'day' : int(date.split('-')[2]),\n",
    "    }"
   ]
  },
  {
   "cell_type": "code",
   "execution_count": 87,
   "id": "6b0ccc7c",
   "metadata": {},
   "outputs": [],
   "source": [
    "split_date_lambda = lambda date: {\n",
    "    'year': int(date.split('-')[0]),\n",
    "    'month': int(date.split('-')[1]), \n",
    "    'day': int(date.split('-')[2])\n",
    "}"
   ]
  },
  {
   "cell_type": "code",
   "execution_count": 90,
   "id": "d8f587b9",
   "metadata": {},
   "outputs": [
    {
     "data": {
      "text/plain": [
       "{'name': '홍길동', 'year': 2000, 'month': 1, 'day': 1}"
      ]
     },
     "execution_count": 90,
     "metadata": {},
     "output_type": "execute_result"
    }
   ],
   "source": [
    "# {'name':'홍길동', 'birth':'2000-01-01'}=>{'name':'홍길동', 'year':2000, 'month':1, 'day':1}\n",
    "def member_preprocessing(memeber):\n",
    "    return {\n",
    "        'name' : memeber.get('name', '이름없음'), \n",
    "        'year' : int(memeber.get('birth').split('-')[0]),\n",
    "        'month' : int(memeber.get('birth').split('-')[1]),\n",
    "        'day' : int(memeber.get('birth').split('-')[2]),\n",
    "        }\n",
    "member_preprocessing({'name':'홍길동', 'birth':'2000-01-01'})"
   ]
  },
  {
   "cell_type": "code",
   "execution_count": 96,
   "id": "8260c38d",
   "metadata": {},
   "outputs": [
    {
     "data": {
      "text/plain": [
       "[{'name': '홍길동', 'year': 2000, 'month': 1, 'day': 1},\n",
       " {'name': '신길동', 'year': 1995, 'month': 12, 'day': 18}]"
      ]
     },
     "execution_count": 96,
     "metadata": {},
     "output_type": "execute_result"
    }
   ],
   "source": [
    "members2 = list(map(lambda memeber : {\n",
    "                                'name' : memeber.get('name', '이름없음'), \n",
    "                                'year' : int(memeber.get('birth').split('-')[0]),\n",
    "                                'month' : int(memeber.get('birth').split('-')[1]),\n",
    "                                'day' : int(memeber.get('birth').split('-')[2]),\n",
    "                                }, members1\n",
    "                   )\n",
    "               )\n",
    "members2"
   ]
  },
  {
   "cell_type": "code",
   "execution_count": null,
   "id": "154bc89a",
   "metadata": {},
   "outputs": [],
   "source": [
    "'''\n",
    "예제3. members2를 members1로 전환\n",
    "'''"
   ]
  },
  {
   "cell_type": "code",
   "execution_count": 101,
   "id": "a55206bb",
   "metadata": {},
   "outputs": [
    {
     "data": {
      "text/plain": [
       "'2000-09-09'"
      ]
     },
     "execution_count": 101,
     "metadata": {},
     "output_type": "execute_result"
    }
   ],
   "source": [
    "# {'year':2000, 'month':1, 'day':1} => 2025-0101\n",
    "def join_date(data):\n",
    "    return \"{}-{:02}-{:02}\".format(data.get('year'), data.get('month'), data.get('day'))\n",
    "join_date({'year':2000, 'month':9, 'day':9})"
   ]
  },
  {
   "cell_type": "code",
   "execution_count": 102,
   "id": "d50b2d76",
   "metadata": {},
   "outputs": [
    {
     "data": {
      "text/plain": [
       "'2000-09-09'"
      ]
     },
     "execution_count": 102,
     "metadata": {},
     "output_type": "execute_result"
    }
   ],
   "source": [
    "# {'year':2000, 'month':1, 'day':1} => 2025-0101\n",
    "def join_date(data):\n",
    "    return \"{year}-{month:02}-{day:02}\".format(**data)\n",
    "join_date({'year':2000, 'month':9, 'day':9})"
   ]
  },
  {
   "cell_type": "code",
   "execution_count": 103,
   "id": "36f819c2",
   "metadata": {},
   "outputs": [
    {
     "data": {
      "text/plain": [
       "{'birth': '2000-09-09'}"
      ]
     },
     "execution_count": 103,
     "metadata": {},
     "output_type": "execute_result"
    }
   ],
   "source": [
    "# {'year':2000, 'month':1, 'day':1} => {'birth':2025-01-01'}\n",
    "def join_date(data):\n",
    "    return {\"birth\" : \"{year}-{month:02}-{day:02}\".format(**data)}\n",
    "join_date({'year':2000, 'month':9, 'day':9})"
   ]
  },
  {
   "cell_type": "code",
   "execution_count": 105,
   "id": "e0cec5dd",
   "metadata": {},
   "outputs": [
    {
     "data": {
      "text/plain": [
       "{'name': 'hong', 'birht': '2000-01-01'}"
      ]
     },
     "execution_count": 105,
     "metadata": {},
     "output_type": "execute_result"
    }
   ],
   "source": [
    "# members2를 members1로 전환\n",
    "# {'name' : 'hong', 'year':2000, 'month':1, 'day':1} => {'name':'hong',birth':2025-01-01'}\n",
    "def members_preprocessing(member):\n",
    "    return {\n",
    "        'name': member.get('name'),\n",
    "        'birht': \"{year}-{month:02}-{day:02}\".format(**member)\n",
    "    }\n",
    "members_preprocessing({'name':'hong', 'year':2000, 'month':1, 'day':1})"
   ]
  },
  {
   "cell_type": "code",
   "execution_count": 109,
   "id": "324dff50",
   "metadata": {},
   "outputs": [
    {
     "data": {
      "text/plain": [
       "[{'name': '홍길동', 'birth': '2000-01-01'},\n",
       " {'name': '신길동', 'birth': '1995-12-18'}]"
      ]
     },
     "execution_count": 109,
     "metadata": {},
     "output_type": "execute_result"
    }
   ],
   "source": [
    "list(map(lambda member : {\n",
    "    'name': member.get('name'),\n",
    "    'birth':\"{year}-{month:02}-{day:02}\".format(**member)\n",
    "    }, members2))"
   ]
  },
  {
   "cell_type": "markdown",
   "id": "e7122f1e",
   "metadata": {},
   "source": [
    "## (2) filter"
   ]
  },
  {
   "cell_type": "code",
   "execution_count": 123,
   "id": "e56fd56b",
   "metadata": {},
   "outputs": [],
   "source": [
    "def filter_template(func, L=[]): # 특정한 조건인지 아닌지 살펴보고 함수\n",
    "    result = []\n",
    "    for item in L:\n",
    "        if func(item):\n",
    "            result.append(item)\n",
    "    return result"
   ]
  },
  {
   "cell_type": "code",
   "execution_count": 124,
   "id": "ed0bc1c6",
   "metadata": {},
   "outputs": [
    {
     "ename": "TypeError",
     "evalue": "filter_template() missing 1 required positional argument: 'func'",
     "output_type": "error",
     "traceback": [
      "\u001b[1;31m---------------------------------------------------------------------------\u001b[0m",
      "\u001b[1;31mTypeError\u001b[0m                                 Traceback (most recent call last)",
      "Cell \u001b[1;32mIn[124], line 7\u001b[0m\n\u001b[0;32m      5\u001b[0m     \u001b[38;5;28;01melse\u001b[39;00m:\n\u001b[0;32m      6\u001b[0m         \u001b[38;5;28;01mreturn\u001b[39;00m \u001b[38;5;28;01mFalse\u001b[39;00m\n\u001b[1;32m----> 7\u001b[0m \u001b[43mfilter_template\u001b[49m\u001b[43m(\u001b[49m\u001b[43m)\u001b[49m\n",
      "\u001b[1;31mTypeError\u001b[0m: filter_template() missing 1 required positional argument: 'func'"
     ]
    }
   ],
   "source": [
    "list_data = [1,2,3,4,5,6,7,8,9]\n",
    "def odd_chk(value):\n",
    "    if value%2:\n",
    "        return True\n",
    "    else:\n",
    "        return False\n",
    "filter_template()"
   ]
  },
  {
   "cell_type": "code",
   "execution_count": 125,
   "id": "b02dfe97",
   "metadata": {},
   "outputs": [
    {
     "data": {
      "text/plain": [
       "[1, 3, 5, 7, 9]"
      ]
     },
     "execution_count": 125,
     "metadata": {},
     "output_type": "execute_result"
    }
   ],
   "source": [
    "# 람다식\n",
    "list_data = [1,2,3,4,5,6,7,8,9]\n",
    "def odd_chk(value):\n",
    "    return value%2\n",
    "filter_template(lambda value : value%2!=0, list_data)"
   ]
  },
  {
   "cell_type": "code",
   "execution_count": 126,
   "id": "0c0141cc",
   "metadata": {},
   "outputs": [
    {
     "data": {
      "text/plain": [
       "[1, 3, 5, 7, 9]"
      ]
     },
     "execution_count": 126,
     "metadata": {},
     "output_type": "execute_result"
    }
   ],
   "source": [
    "# 리스트 컴플리핸션\n",
    "[value for value in list_data if value%2]"
   ]
  },
  {
   "cell_type": "code",
   "execution_count": 131,
   "id": "4953634e",
   "metadata": {},
   "outputs": [
    {
     "data": {
      "text/plain": [
       "[1, 3, 5, 7, 9]"
      ]
     },
     "execution_count": 131,
     "metadata": {},
     "output_type": "execute_result"
    }
   ],
   "source": [
    "# 리스트 함수\n",
    "list(filter(lambda value : value%2, list_data))"
   ]
  },
  {
   "cell_type": "code",
   "execution_count": 137,
   "id": "b7d384e1",
   "metadata": {},
   "outputs": [
    {
     "ename": "TypeError",
     "evalue": "filter expected 2 arguments, got 1",
     "output_type": "error",
     "traceback": [
      "\u001b[1;31m---------------------------------------------------------------------------\u001b[0m",
      "\u001b[1;31mTypeError\u001b[0m                                 Traceback (most recent call last)",
      "Cell \u001b[1;32mIn[137], line 3\u001b[0m\n\u001b[0;32m      1\u001b[0m \u001b[38;5;66;03m# 예제 : 다음 리스트에서 소수점 이하가 0인 수만 추출하시오(filter/리스트 컴프리헨션)\u001b[39;00m\n\u001b[0;32m      2\u001b[0m L \u001b[38;5;241m=\u001b[39m [\u001b[38;5;241m1\u001b[39m, \u001b[38;5;241m1.2\u001b[39m, \u001b[38;5;241m1.5\u001b[39m, \u001b[38;5;241m3.0\u001b[39m, \u001b[38;5;241m10.5\u001b[39m, \u001b[38;5;241m100\u001b[39m, \u001b[38;5;241m-\u001b[39m\u001b[38;5;241m2.0\u001b[39m, \u001b[38;5;241m-\u001b[39m\u001b[38;5;241m12.2\u001b[39m]\n\u001b[1;32m----> 3\u001b[0m \u001b[38;5;28mlist\u001b[39m(\u001b[38;5;28;43mfilter\u001b[39;49m\u001b[43m(\u001b[49m\u001b[38;5;28;43;01mlambda\u001b[39;49;00m\u001b[43m \u001b[49m\u001b[43ma\u001b[49m\u001b[43m \u001b[49m\u001b[43m:\u001b[49m\u001b[43m \u001b[49m\u001b[43ma\u001b[49m\u001b[38;5;241;43m%\u001b[39;49m\u001b[38;5;241;43m1\u001b[39;49m\u001b[38;5;241;43m==\u001b[39;49m\u001b[38;5;241;43m0\u001b[39;49m\u001b[43m)\u001b[49m, L)\n",
      "\u001b[1;31mTypeError\u001b[0m: filter expected 2 arguments, got 1"
     ]
    }
   ],
   "source": [
    "# 예제 : 다음 리스트에서 소수점 이하가 0인 수만 추출하시오(filter/리스트 컴프리헨션)\n",
    "L = [1, 1.2, 1.5, 3.0, 10.5, 100, -2.0, -12.2]\n",
    "list(filter(lambda x : x%1==0), L)"
   ]
  },
  {
   "cell_type": "code",
   "execution_count": 135,
   "id": "17669a90",
   "metadata": {},
   "outputs": [
    {
     "data": {
      "text/plain": [
       "[1, 3.0, 100, -2.0]"
      ]
     },
     "execution_count": 135,
     "metadata": {},
     "output_type": "execute_result"
    }
   ],
   "source": [
    "[item for item in L if item%1==0]"
   ]
  },
  {
   "cell_type": "markdown",
   "id": "7e02d383",
   "metadata": {},
   "source": [
    "## (3) sort"
   ]
  },
  {
   "cell_type": "code",
   "execution_count": 143,
   "id": "335e1a6f",
   "metadata": {},
   "outputs": [
    {
     "data": {
      "text/plain": [
       "[10, 6, 3, 1]"
      ]
     },
     "execution_count": 143,
     "metadata": {},
     "output_type": "execute_result"
    }
   ],
   "source": [
    "p = [10, 3, 6, 1]\n",
    "p.sort(reverse = True)\n",
    "p"
   ]
  },
  {
   "cell_type": "code",
   "execution_count": 139,
   "id": "ef342d0a",
   "metadata": {},
   "outputs": [
    {
     "data": {
      "text/plain": [
       "[(1, 'one'), (2, 'two'), (3, 'three'), (4, 'four')]"
      ]
     },
     "execution_count": 139,
     "metadata": {},
     "output_type": "execute_result"
    }
   ],
   "source": [
    "# 무조건 0번째 item을 기준으로 오름차순 정렬\n",
    "pairs = [(2, 'two'), (1, 'one'), (3, 'three'), (4, 'four')]\n",
    "pairs.sort()\n",
    "pairs"
   ]
  },
  {
   "cell_type": "code",
   "execution_count": 144,
   "id": "be4d204b",
   "metadata": {},
   "outputs": [
    {
     "data": {
      "text/plain": [
       "[(4, 'four'), (1, 'one'), (3, 'three'), (2, 'two')]"
      ]
     },
     "execution_count": 144,
     "metadata": {},
     "output_type": "execute_result"
    }
   ],
   "source": [
    "# 1번째 item 기준으로 내림차순 정렬\n",
    "pairs.sort(key=lambda data:data[1])\n",
    "pairs"
   ]
  },
  {
   "cell_type": "code",
   "execution_count": 149,
   "id": "b98d6832",
   "metadata": {},
   "outputs": [
    {
     "name": "stdout",
     "output_type": "stream",
     "text": [
      "[[1, 100], [9, 9], [10, 1]]\n"
     ]
    }
   ],
   "source": [
    "# 합이 큰 순으로 정렬\n",
    "number_2d = [[9,9],[1,100],[10,1]]\n",
    "number_2d.sort()\n",
    "number_2d\n",
    "print(number_2d)\n",
    "# 합이 큰순으로 정렬\n",
    "number_2d.sort()"
   ]
  },
  {
   "cell_type": "code",
   "execution_count": 151,
   "id": "df4e76fe",
   "metadata": {},
   "outputs": [
    {
     "name": "stdout",
     "output_type": "stream",
     "text": [
      "[[1, 100], [9, 9], [10, 1]]\n",
      "[[1, 100], [9, 9], [10, 1]]\n"
     ]
    }
   ],
   "source": [
    "# 합이 큰 순으로 정렬\n",
    "number_2d = [[9,9],[1,100],[10,1]]\n",
    "number_2d.sort()\n",
    "number_2d\n",
    "print(number_2d)\n",
    "\n",
    "# 합이 큰순으로 정렬\n",
    "number_2d.sort(key=lambda items : sum(items), reverse=True)\n",
    "print(number_2d)"
   ]
  },
  {
   "cell_type": "code",
   "execution_count": 161,
   "id": "a966f1be",
   "metadata": {},
   "outputs": [],
   "source": [
    "students=[\n",
    "        {'name':'홍', 'score':99},\n",
    "        {'name':'김', 'score':99},\n",
    "        {'name':'박', 'score':99},\n",
    "        {'score':100},]"
   ]
  },
  {
   "cell_type": "code",
   "execution_count": 162,
   "id": "e7797e7c",
   "metadata": {},
   "outputs": [
    {
     "data": {
      "text/plain": [
       "'홍'"
      ]
     },
     "execution_count": 162,
     "metadata": {},
     "output_type": "execute_result"
    }
   ],
   "source": [
    "name_select = lambda data : data.get('name', '')\n",
    "name_select({'name':'홍', 'score':99})"
   ]
  },
  {
   "cell_type": "code",
   "execution_count": 163,
   "id": "5124d7c7",
   "metadata": {},
   "outputs": [
    {
     "data": {
      "text/plain": [
       "[{'name': '김', 'score': 99},\n",
       " {'name': '박', 'score': 99},\n",
       " {'name': '홍', 'score': 99},\n",
       " {'score': 100}]"
      ]
     },
     "execution_count": 163,
     "metadata": {},
     "output_type": "execute_result"
    }
   ],
   "source": [
    "# student를 name 순으로 정렬(ㄱㄴㄷ순)\n",
    "students.sort(key=lambda data : data.get('name', '힣'))\n",
    "students"
   ]
  },
  {
   "cell_type": "code",
   "execution_count": 167,
   "id": "b19eeeb9",
   "metadata": {},
   "outputs": [],
   "source": [
    "books = \\\n",
    "   [{'no':2, 'title':'더트릭컬', 'writer':'폴빠','price':'19,800'},\n",
    "    {'no':1, 'title':'흔한남매', 'writer':'백난도', 'price':'15,120'},\n",
    "    {'no':3, 'title':'단 한 번의 삶', 'writer':'김영하', 'price':'15,120'},\n",
    "    {'no':4, 'title':'가격잘못', 'writer':'홍길동', 'price':'ㅁ'},\n",
    "    {'no':5, 'title':'가격이숫자', 'writer':'백난도', 'price':30200},\n",
    "    {'no':6, 'title':'가격이없음', 'writer':'이길동'},] "
   ]
  },
  {
   "cell_type": "code",
   "execution_count": 168,
   "id": "ac675cec",
   "metadata": {},
   "outputs": [
    {
     "data": {
      "text/plain": [
       "[{'no': 2, 'title': '더트릭컬', 'writer': '폴빠', 'price': '19,800'},\n",
       " {'no': 1, 'title': '흔한남매', 'writer': '백난도', 'price': '15,120'},\n",
       " {'no': 3, 'title': '단 한 번의 삶', 'writer': '김영하', 'price': '15,120'},\n",
       " {'no': 4, 'title': '가격잘못', 'writer': '홍길동', 'price': 'ㅁ'},\n",
       " {'no': 5, 'title': '가격이숫자', 'writer': '백난도', 'price': 30200},\n",
       " {'no': 6, 'title': '가격이없음', 'writer': '이길동'}]"
      ]
     },
     "execution_count": 168,
     "metadata": {},
     "output_type": "execute_result"
    }
   ],
   "source": [
    "books"
   ]
  },
  {
   "cell_type": "code",
   "execution_count": 169,
   "id": "c5b7b1b3",
   "metadata": {},
   "outputs": [
    {
     "data": {
      "text/plain": [
       "[{'no': 1, 'title': '흔한남매', 'writer': '백난도', 'price': '15,120'},\n",
       " {'no': 2, 'title': '더트릭컬', 'writer': '폴빠', 'price': '19,800'},\n",
       " {'no': 3, 'title': '단 한 번의 삶', 'writer': '김영하', 'price': '15,120'},\n",
       " {'no': 4, 'title': '가격잘못', 'writer': '홍길동', 'price': 'ㅁ'},\n",
       " {'no': 5, 'title': '가격이숫자', 'writer': '백난도', 'price': 30200},\n",
       " {'no': 6, 'title': '가격이없음', 'writer': '이길동'}]"
      ]
     },
     "execution_count": 169,
     "metadata": {},
     "output_type": "execute_result"
    }
   ],
   "source": [
    "# no기준으로 sort\n",
    "books.sort(key = lambda book : book['no'])\n",
    "books"
   ]
  },
  {
   "cell_type": "code",
   "execution_count": 170,
   "id": "8dd0cff4",
   "metadata": {},
   "outputs": [
    {
     "data": {
      "text/plain": [
       "[{'no': 5, 'title': '가격이숫자', 'writer': '백난도', 'price': 30200},\n",
       " {'no': 6, 'title': '가격이없음', 'writer': '이길동'},\n",
       " {'no': 4, 'title': '가격잘못', 'writer': '홍길동', 'price': 'ㅁ'},\n",
       " {'no': 3, 'title': '단 한 번의 삶', 'writer': '김영하', 'price': '15,120'},\n",
       " {'no': 2, 'title': '더트릭컬', 'writer': '폴빠', 'price': '19,800'},\n",
       " {'no': 1, 'title': '흔한남매', 'writer': '백난도', 'price': '15,120'}]"
      ]
     },
     "execution_count": 170,
     "metadata": {},
     "output_type": "execute_result"
    }
   ],
   "source": [
    "# title기준으로 sort\n",
    "books.sort(key = lambda book : book['title'])\n",
    "books"
   ]
  },
  {
   "cell_type": "code",
   "execution_count": 184,
   "id": "d258df27",
   "metadata": {},
   "outputs": [
    {
     "name": "stdout",
     "output_type": "stream",
     "text": [
      "12000 0 0 0\n"
     ]
    }
   ],
   "source": [
    "# 30200=> 30200, '12,000'=>12000, '5000'=>5000, 'ㅁ'=>0, None=>0\n",
    "def parse_int(price):\n",
    "    if isinstance(price, str) and price.replace(',','').isdigit():\n",
    "        return int(price.replace(',',''))\n",
    "    else:\n",
    "        return 0\n",
    "print(parse_int('12,000'), parse_int(30200), parse_int('ㅁ'), parse_int(None))"
   ]
  },
  {
   "cell_type": "code",
   "execution_count": 187,
   "id": "10a3f34f",
   "metadata": {},
   "outputs": [
    {
     "name": "stdout",
     "output_type": "stream",
     "text": [
      "12000 30200 0 0\n"
     ]
    }
   ],
   "source": [
    "# 30200=> 30200, '12,000'=>12000, '5000'=>5000, 'ㅁ'=>0, None=>0\n",
    "def parse_int(price):\n",
    "    if isinstance(price, str) and price.replace(',','').isdigit():\n",
    "        return int(price.replace(',',''))\n",
    "    elif isinstance(price, int):\n",
    "        return price\n",
    "    else:\n",
    "        return 0\n",
    "    \n",
    "parse_int = lambda price : \\\n",
    "            int(price.replace(',','')) \\\n",
    "                    if isinstance(price, str) and price.replace(',','').isdigit() else \\\n",
    "            price if isinstance(price, int) else \\\n",
    "            0\n",
    "\n",
    "print(parse_int('12,000'), parse_int(30200), parse_int('ㅁ'), parse_int(None))"
   ]
  },
  {
   "cell_type": "code",
   "execution_count": 188,
   "id": "7dc02c59",
   "metadata": {},
   "outputs": [
    {
     "ename": "NameError",
     "evalue": "name 'book' is not defined",
     "output_type": "error",
     "traceback": [
      "\u001b[1;31m---------------------------------------------------------------------------\u001b[0m",
      "\u001b[1;31mNameError\u001b[0m                                 Traceback (most recent call last)",
      "Cell \u001b[1;32mIn[188], line 8\u001b[0m\n\u001b[0;32m      1\u001b[0m \u001b[38;5;66;03m# {'no': 5, 'title': '가격이숫자', 'writer': '백난도', 'price': '12,000'} => 12000\u001b[39;00m\n\u001b[0;32m      2\u001b[0m parse_int \u001b[38;5;241m=\u001b[39m \u001b[38;5;28;01mlambda\u001b[39;00m price : \\\n\u001b[0;32m      3\u001b[0m             \u001b[38;5;28mint\u001b[39m(book\u001b[38;5;241m.\u001b[39mget(\u001b[38;5;124m'\u001b[39m\u001b[38;5;124mprice\u001b[39m\u001b[38;5;124m'\u001b[39m)\u001b[38;5;241m.\u001b[39mreplace(\u001b[38;5;124m'\u001b[39m\u001b[38;5;124m,\u001b[39m\u001b[38;5;124m'\u001b[39m,\u001b[38;5;124m'\u001b[39m\u001b[38;5;124m'\u001b[39m)) \\\n\u001b[0;32m      4\u001b[0m                     \u001b[38;5;28;01mif\u001b[39;00m \u001b[38;5;28misinstance\u001b[39m(book\u001b[38;5;241m.\u001b[39mget(\u001b[38;5;124m'\u001b[39m\u001b[38;5;124mprice\u001b[39m\u001b[38;5;124m'\u001b[39m), \u001b[38;5;28mstr\u001b[39m) \u001b[38;5;129;01mand\u001b[39;00m \\\n\u001b[0;32m      5\u001b[0m                                 book\u001b[38;5;241m.\u001b[39mget(\u001b[38;5;124m'\u001b[39m\u001b[38;5;124mprice\u001b[39m\u001b[38;5;124m'\u001b[39m)\u001b[38;5;241m.\u001b[39mreplace(\u001b[38;5;124m'\u001b[39m\u001b[38;5;124m,\u001b[39m\u001b[38;5;124m'\u001b[39m,\u001b[38;5;124m'\u001b[39m\u001b[38;5;124m'\u001b[39m)\u001b[38;5;241m.\u001b[39misdigit() \u001b[38;5;28;01melse\u001b[39;00m \\\n\u001b[0;32m      6\u001b[0m             price \u001b[38;5;28;01mif\u001b[39;00m \u001b[38;5;28misinstance\u001b[39m(book\u001b[38;5;241m.\u001b[39mget(\u001b[38;5;124m'\u001b[39m\u001b[38;5;124mprice\u001b[39m\u001b[38;5;124m'\u001b[39m), \u001b[38;5;28mint\u001b[39m) \u001b[38;5;28;01melse\u001b[39;00m \\\n\u001b[0;32m      7\u001b[0m             \u001b[38;5;241m0\u001b[39m\n\u001b[1;32m----> 8\u001b[0m \u001b[38;5;28mprint\u001b[39m(\u001b[43mparse_int\u001b[49m\u001b[43m(\u001b[49m\u001b[38;5;124;43m'\u001b[39;49m\u001b[38;5;124;43m12,000\u001b[39;49m\u001b[38;5;124;43m'\u001b[39;49m\u001b[43m)\u001b[49m, parse_int(\u001b[38;5;241m30200\u001b[39m), parse_int(\u001b[38;5;124m'\u001b[39m\u001b[38;5;124mㅁ\u001b[39m\u001b[38;5;124m'\u001b[39m), parse_int(\u001b[38;5;28;01mNone\u001b[39;00m))\n",
      "Cell \u001b[1;32mIn[188], line 4\u001b[0m, in \u001b[0;36m<lambda>\u001b[1;34m(price)\u001b[0m\n\u001b[0;32m      1\u001b[0m \u001b[38;5;66;03m# {'no': 5, 'title': '가격이숫자', 'writer': '백난도', 'price': '12,000'} => 12000\u001b[39;00m\n\u001b[0;32m      2\u001b[0m parse_int \u001b[38;5;241m=\u001b[39m \u001b[38;5;28;01mlambda\u001b[39;00m price : \\\n\u001b[0;32m      3\u001b[0m             \u001b[38;5;28mint\u001b[39m(book\u001b[38;5;241m.\u001b[39mget(\u001b[38;5;124m'\u001b[39m\u001b[38;5;124mprice\u001b[39m\u001b[38;5;124m'\u001b[39m)\u001b[38;5;241m.\u001b[39mreplace(\u001b[38;5;124m'\u001b[39m\u001b[38;5;124m,\u001b[39m\u001b[38;5;124m'\u001b[39m,\u001b[38;5;124m'\u001b[39m\u001b[38;5;124m'\u001b[39m)) \\\n\u001b[1;32m----> 4\u001b[0m                     \u001b[38;5;28;01mif\u001b[39;00m \u001b[38;5;28misinstance\u001b[39m(\u001b[43mbook\u001b[49m\u001b[38;5;241m.\u001b[39mget(\u001b[38;5;124m'\u001b[39m\u001b[38;5;124mprice\u001b[39m\u001b[38;5;124m'\u001b[39m), \u001b[38;5;28mstr\u001b[39m) \u001b[38;5;129;01mand\u001b[39;00m \\\n\u001b[0;32m      5\u001b[0m                                 book\u001b[38;5;241m.\u001b[39mget(\u001b[38;5;124m'\u001b[39m\u001b[38;5;124mprice\u001b[39m\u001b[38;5;124m'\u001b[39m)\u001b[38;5;241m.\u001b[39mreplace(\u001b[38;5;124m'\u001b[39m\u001b[38;5;124m,\u001b[39m\u001b[38;5;124m'\u001b[39m,\u001b[38;5;124m'\u001b[39m\u001b[38;5;124m'\u001b[39m)\u001b[38;5;241m.\u001b[39misdigit() \u001b[38;5;28;01melse\u001b[39;00m \\\n\u001b[0;32m      6\u001b[0m             price \u001b[38;5;28;01mif\u001b[39;00m \u001b[38;5;28misinstance\u001b[39m(book\u001b[38;5;241m.\u001b[39mget(\u001b[38;5;124m'\u001b[39m\u001b[38;5;124mprice\u001b[39m\u001b[38;5;124m'\u001b[39m), \u001b[38;5;28mint\u001b[39m) \u001b[38;5;28;01melse\u001b[39;00m \\\n\u001b[0;32m      7\u001b[0m             \u001b[38;5;241m0\u001b[39m\n\u001b[0;32m      8\u001b[0m \u001b[38;5;28mprint\u001b[39m(parse_int(\u001b[38;5;124m'\u001b[39m\u001b[38;5;124m12,000\u001b[39m\u001b[38;5;124m'\u001b[39m), parse_int(\u001b[38;5;241m30200\u001b[39m), parse_int(\u001b[38;5;124m'\u001b[39m\u001b[38;5;124mㅁ\u001b[39m\u001b[38;5;124m'\u001b[39m), parse_int(\u001b[38;5;28;01mNone\u001b[39;00m))\n",
      "\u001b[1;31mNameError\u001b[0m: name 'book' is not defined"
     ]
    }
   ],
   "source": [
    "# {'no': 5, 'title': '가격이숫자', 'writer': '백난도', 'price': '12,000'} => 12000\n",
    "parse_int = lambda price : \\\n",
    "            int(book.get('price').replace(',','')) \\\n",
    "                    if isinstance(book.get('price'), str) and \\\n",
    "                                book.get('price').replace(',','').isdigit() else \\\n",
    "            price if isinstance(book.get('price'), int) else \\\n",
    "            0\n",
    "print(parse_int('12,000'), parse_int(30200), parse_int('ㅁ'), parse_int(None))"
   ]
  },
  {
   "cell_type": "code",
   "execution_count": 189,
   "id": "b37469b3",
   "metadata": {},
   "outputs": [
    {
     "data": {
      "text/plain": [
       "[{'no': 5, 'title': '가격이숫자', 'writer': '백난도', 'price': 30200},\n",
       " {'no': 2, 'title': '더트릭컬', 'writer': '폴빠', 'price': '19,800'},\n",
       " {'no': 3, 'title': '단 한 번의 삶', 'writer': '김영하', 'price': '15,120'},\n",
       " {'no': 1, 'title': '흔한남매', 'writer': '백난도', 'price': '15,120'},\n",
       " {'no': 6, 'title': '가격이없음', 'writer': '이길동'},\n",
       " {'no': 4, 'title': '가격잘못', 'writer': '홍길동', 'price': 'ㅁ'}]"
      ]
     },
     "execution_count": 189,
     "metadata": {},
     "output_type": "execute_result"
    }
   ],
   "source": [
    "copyBooks = books.copy()\n",
    "copyBooks.sort(key=lambda book : \\\n",
    "              int(book.get('price').replace(',',''))\\\n",
    "                   if isinstance(book.get('price'), str) and \\\n",
    "                               book.get('price').replace(',', '').isdigit() else \\\n",
    "               book.get('price') if isinstance(book.get('price'), int) else \\\n",
    "               0,\n",
    "               reverse=True)\n",
    "copyBooks"
   ]
  },
  {
   "cell_type": "markdown",
   "id": "4d627077",
   "metadata": {},
   "source": [
    "# 5절 파이썬 내장함수\n",
    "- import 하지 않고 바로 사용 가능한 함수\n",
    "- 키워드(if, while, ...)처럼 간주되므로, 식별자(변수명, 함수명, 클래스명)로 사용하는 것을 피한다."
   ]
  },
  {
   "cell_type": "code",
   "execution_count": 1,
   "id": "e4e06ee2",
   "metadata": {},
   "outputs": [
    {
     "data": {
      "text/plain": [
       "{'__name__': '__main__',\n",
       " '__doc__': 'Automatically created module for IPython interactive environment',\n",
       " '__package__': None,\n",
       " '__loader__': None,\n",
       " '__spec__': None,\n",
       " '__builtin__': <module 'builtins' (built-in)>,\n",
       " '__builtins__': <module 'builtins' (built-in)>,\n",
       " '_ih': ['', 'a = 10\\nglobals()  #전역변수 리스트'],\n",
       " '_oh': {},\n",
       " '_dh': [WindowsPath('C:/AI_X_Practice_0911/Source/01_python')],\n",
       " 'In': ['', 'a = 10\\nglobals()  #전역변수 리스트'],\n",
       " 'Out': {},\n",
       " 'get_ipython': <bound method InteractiveShell.get_ipython of <ipykernel.zmqshell.ZMQInteractiveShell object at 0x0000015B7CCAFF40>>,\n",
       " 'exit': <IPython.core.autocall.ZMQExitAutocall at 0x15b7ccbf850>,\n",
       " 'quit': <IPython.core.autocall.ZMQExitAutocall at 0x15b7ccbf850>,\n",
       " 'open': <function io.open(file, mode='r', buffering=-1, encoding=None, errors=None, newline=None, closefd=True, opener=None)>,\n",
       " '_': '',\n",
       " '__': '',\n",
       " '___': '',\n",
       " '_i': '',\n",
       " '_ii': '',\n",
       " '_iii': '',\n",
       " '_i1': 'a = 10\\nglobals()  #전역변수 리스트',\n",
       " 'a': 10}"
      ]
     },
     "execution_count": 1,
     "metadata": {},
     "output_type": "execute_result"
    }
   ],
   "source": [
    "a = 10\n",
    "globals()  #전역변수 리스트"
   ]
  },
  {
   "cell_type": "code",
   "execution_count": 2,
   "id": "e4d7b40e",
   "metadata": {},
   "outputs": [
    {
     "data": {
      "text/plain": [
       "False"
      ]
     },
     "execution_count": 2,
     "metadata": {},
     "output_type": "execute_result"
    }
   ],
   "source": [
    "all([True, True, True, False]) # 모든 요소가 다 True인지 여부"
   ]
  },
  {
   "cell_type": "markdown",
   "id": "26ec0ec1",
   "metadata": {},
   "source": [
    "# 6절 연습문제"
   ]
  },
  {
   "cell_type": "code",
   "execution_count": null,
   "id": "2ba5d8ea",
   "metadata": {},
   "outputs": [],
   "source": [
    "1. 함수의 인자(매개변수)로 리스트를 받은 후 리스트 내에 있는 모든 정수값에 대한 최대값과 최소값을 리턴하는 함수를 작성하세요\n",
    "• def get_max_min(data_list):\n",
    "• get_max_min= lambda ~"
   ]
  },
  {
   "cell_type": "code",
   "execution_count": 6,
   "id": "900f8cf1",
   "metadata": {},
   "outputs": [],
   "source": [
    "# 요구사항에 맞게 최대값과 최소값을 구하는 함수를 두 가지 방식으로 작성\n",
    "# 1) 일반 함수 버전\n",
    "def get_max_min(data_list):\n",
    "    return max(data_list), min(data_list)"
   ]
  },
  {
   "cell_type": "code",
   "execution_count": 7,
   "id": "d40994e0",
   "metadata": {},
   "outputs": [],
   "source": [
    "# 2) 람다(lambda) 버전\n",
    "get_max_min = lambda data_list: (max(data_list), min(data_list))"
   ]
  },
  {
   "cell_type": "markdown",
   "id": "76d37831",
   "metadata": {},
   "source": [
    "오늘은 람다 형식과 그것을 이용하는 여러 가지 함수들에 대해서 알아보겠습니다. 당장 완벽하게 소화하실 필요는 없을 것 같구요, 가벼운 마음으로 이런 것이 있다는 정도만 아셔도 되지 않을까 합니다. 람다 형식은 인공지능 분야나 AutoCAD라는 설계 프로그램에서 쓰이는 Lisp 언어에서 물려받았다고 하는데요, 함수를 딱 한 줄만으로 만들게 해주는 훌륭한 녀석입니다. 사용할 때는 아래와 같이 써주면 되지요.\n",
    "\n",
    "lambda 매개변수 : 표현식\n",
    "다음은 두 수를 더하는 함수입니다.\n",
    "\n",
    "def hap(x, y):\n",
    "    return x + y\n",
    "\n",
    "hap(10, 20)\n",
    "30\n",
    "\n",
    "이것을 람다 형식으로는 어떻게 표현할까요?\n",
    "(lambda x,y: x + y)(10, 20)\n",
    "30\n",
    "너무나 간단하죠? \n",
    "함수가 이름조차도 없습니다.\n",
    "\n",
    "map()\n",
    "먼저 map 함수를 볼까요?\n",
    "\n",
    "map(함수, 리스트)\n",
    "이 함수는 함수와 리스트를 인자로 받습니다. \n",
    "그렇죠? 그리고, 리스트로부터 원소를 하나씩 꺼내서 함수를 적용시킨 다음, \n",
    "그 결과를 새로운 리스트에 담아준답니다.\n",
    "\n",
    ">>> map(lambda x: x ** 2, range(5))           # 파이썬 2\n",
    "[0, 1, 4, 9, 16]  \n",
    "\n",
    ">>> list(map(lambda x: x ** 2, range(5)))     # 파이썬 2 및 파이썬 3\n",
    "[0, 1, 4, 9, 16]\n",
    "\n",
    "위의 map 함수가 매개변수로 받은 함수는 lambda x: x ** 2구요, 리스트로는 range(5)를 받았습니다. \n",
    "range 함수는 알고계시죠? range(5) 라고 써주면 [0, 1, 2, 3, 4]라는 리스트를 돌려줍니다. \n",
    "그리고 **는 앞의 값을 제곱하는 연산자죠.\n",
    "\n",
    "map 함수는 리스트에서 원소를 하나씩 꺼내서 함수를 적용시킨 결과를 새로운 리스트에 담아주니까, \n",
    "위의 예제는 0을 제곱하고, 1을 제곱하고, 2, 3, 4를 제곱한 것을 새로운 리스트에 넣어주는 것입니다.\n"
   ]
  },
  {
   "cell_type": "code",
   "execution_count": 8,
   "id": "1d4ad6e4",
   "metadata": {},
   "outputs": [
    {
     "name": "stdout",
     "output_type": "stream",
     "text": [
      "(20, 3)\n"
     ]
    }
   ],
   "source": [
    "# 실행 예시\n",
    "print(get_max_min([10, 5, 20, 3, 7]))\n",
    "# (20, 3)\n",
    "# 이렇게 하면 리스트 내 정수들의 최대값과 최소값을 튜플 형태로 반환합니다."
   ]
  },
  {
   "cell_type": "code",
   "execution_count": 9,
   "id": "a4223e08",
   "metadata": {},
   "outputs": [],
   "source": [
    "def get_max_min(data_list): \n",
    "    if not data_list:  # 리스트가 비어있으면 None 반환\n",
    "        return None\n",
    "    return max(data_list), min(data_list)\n",
    "\n",
    "# 1. 함수 정의\n",
    "# - get_max_min(data_list)는 리스트를 인자로 받아서, 그 안에 들어 있는 값들의 최댓값과 최솟값을 튜플로 반환하는 함수입니다.\n",
    "# 2. 리스트가 비어있는 경우 확인\n",
    "# - if not data_list:는 리스트가 비어 있으면([]) True가 됩니다.\n",
    "# - 즉, 인자로 빈 리스트가 들어오면 None을 반환합니다.\n",
    "# - 이렇게 하면 max()나 min() 함수에서 오류가 나는 것을 방지할 수 있어요.\n",
    "# 3. 최댓값과 최솟값 반환\n",
    "# - return max(data_list), min(data_list)는 \n",
    "# 파이썬 내장 함수 max()와 min()을 이용해서 리스트의 최댓값과 최솟값을 계산합니다.\n",
    "# - 두 값을 튜플 형태 (최댓값, 최솟값)으로 반환합니다."
   ]
  },
  {
   "cell_type": "code",
   "execution_count": 10,
   "id": "00a9f2b0",
   "metadata": {},
   "outputs": [
    {
     "name": "stdout",
     "output_type": "stream",
     "text": [
      "(9, 1)\n"
     ]
    }
   ],
   "source": [
    "# lambda 표현식을 이용해서 최댓값과 최솟값을 한 줄로 계산하는 버전\n",
    "get_max_min = lambda data_list: (max(data_list), min(data_list)) if data_list else None\n",
    "\n",
    "# 사용 예시\n",
    "numbers = [3, 7, 1, 9, 4]\n",
    "result = get_max_min(numbers)\n",
    "print(result)  # 출력: (9, 1)\n",
    "\n",
    "# 1. 람다(lambda) 함수\n",
    "# - lambda data_list: ... 는 def 대신 한 줄로 함수를 정의하는 방식입니다.\n",
    "# - 여기서는 data_list라는 매개변수를 받습니다.\n",
    "\n",
    "# 2. 조건부 표현식 사용\n",
    "# - ... if data_list else None 은 파이썬의 삼항 연산자 구문입니다.\n",
    "# - 리스트가 비어있지 않으면 (max(data_list), min(data_list)) 반환,\n",
    "# - 리스트가 비어 있으면 None 반환.\n",
    "\n",
    "# 3. 최댓값과 최솟값 계산\n",
    "# - max(data_list) → 리스트의 최댓값\n",
    "# - min(data_list) → 리스트의 최솟값\n",
    "# - 두 값을 (최댓값, 최솟값) 형태의 튜플로 반환합니다."
   ]
  },
  {
   "cell_type": "code",
   "execution_count": null,
   "id": "caa2ad73",
   "metadata": {},
   "outputs": [],
   "source": [
    "2. 체질량 지수(Body Mass Index, BMI)는 체중과 키를 이용해 비만도를 나타내는 지수로 아래의 수식에 의해 계산됩니다. 함수의 인자로 체중(kg)과 신장(m)를입력받은 후 BMI값에 따라 ‘마른 체형‘, ‘표준‘, ‘비만‘, ‘고도비만‘ 중 하나의 상태를 출력하는 함수를 구현해 보세요.\n",
    "• getBMI(kg, m):\n",
    "• BMI지수 = 체중(kg) / 신장(m)의 제곱\n",
    "• BMI<18.5 : 마른체형\n",
    "• 18.5<=BMI<25 : 표준\n",
    "• 25<=BMI<30 : 비만\n",
    "• BMI >=30 : 고도비만"
   ]
  },
  {
   "cell_type": "code",
   "execution_count": null,
   "id": "8e62d182",
   "metadata": {},
   "outputs": [],
   "source": [
    "# 요구사항에 맞게 BMI 지수를 계산하고 체형 상태를 판별하는 함수를 작성\n",
    "def getBMI(weight, height):\n",
    "    bmi = weight / (height ** 2)  # BMI 공식\n",
    "    \n",
    "    if bmi < 18.5:\n",
    "        return \"마른 체형\"\n",
    "    elif bmi < 25:\n",
    "        return \"표준\"\n",
    "    elif bmi < 30:\n",
    "        return \"비만\"\n",
    "    else:\n",
    "        return \"고도비만\"\n",
    "    \n",
    "# 실행 예시\n",
    "print(getBMI(50, 1.7))   # 50kg, 170cm → 마른 체형\n",
    "print(getBMI(65, 1.7))   # 65kg, 170cm → 표준\n",
    "print(getBMI(80, 1.7))   # 80kg, 170cm → 비만\n",
    "print(getBMI(95, 1.7))   # 95kg, 170cm → 고도비만\n",
    "    \n",
    "# 정리하면:\n",
    "# BMI < 18.5 → 마른 체형\n",
    "# 18.5 ~ 24.9 → 표준\n",
    "# 25 ~ 29.9 → 비만\n",
    "# 30 이상 → 고도비만"
   ]
  },
  {
   "cell_type": "code",
   "execution_count": null,
   "id": "ac93a05c",
   "metadata": {},
   "outputs": [],
   "source": [
    "3. 직각삼각형의 밑변과 높이를 입력받은 후 삼각형의 면적과 둘레를 계산하는 함수를 작성하세요\n",
    "• 리턴값은 면적과 둘레를 return하도록 구현하세요\n",
    "• math.sqrt() : 제곱근을 구하는 함수이용 (ex)math.sqrt(25) : 5.0\n",
    "• def get_triangle(width, height):"
   ]
  },
  {
   "cell_type": "code",
   "execution_count": null,
   "id": "bac3c846",
   "metadata": {},
   "outputs": [],
   "source": [
    "# 직각삼각형의 면적과 둘레를 구하는 함수를 작성\n",
    "# 실습형 3: 직각삼각형 w, h로 area, perimeter(넓이, 둘레)\n",
    "# 밑변과 높이를 입력받아 직각삼각형의 면적과 둘레를 반환하는 함수를 작성하면 다음과 같습니다:\n",
    "\n",
    "import math\n",
    "\n",
    "def get_triangle(width, height):\n",
    "    area = (width * height) / 2                     # 면적 = 밑변 × 높이 ÷ 2\n",
    "    hypotenuse = math.sqrt(width**2 + height**2)    # 빗변 = √(밑변² + 높이²)\n",
    "    perimeter = width + height + hypotenuse         # 둘레 = 밑변 + 높이 + 빗변\n",
    "    return area, perimeter\n"
   ]
  },
  {
   "cell_type": "code",
   "execution_count": null,
   "id": "20937b2a",
   "metadata": {},
   "outputs": [],
   "source": [
    "# 실행 예시\n",
    "print(get_triangle(3, 4))\n",
    "# (6.0, 12.0)\n",
    "\n",
    "print(get_triangle(5, 12))\n",
    "# (30.0, 30.0)\n",
    "\n",
    "# 이 함수는 (면적, 둘레) 형태의 튜플을 반환"
   ]
  },
  {
   "cell_type": "code",
   "execution_count": 3,
   "id": "825cfbba",
   "metadata": {},
   "outputs": [
    {
     "name": "stdout",
     "output_type": "stream",
     "text": [
      "(6.0, 12.0)\n",
      "(30.0, 30.0)\n"
     ]
    }
   ],
   "source": [
    "# 여기서 return area, perimeter는 튜플을 반환합니다. \n",
    "# 필요하면 area, perimeter = get_triangle(...) 형태로 각각 변수에 담아 쓸 수 있어요.\n",
    "\n",
    "print(get_triangle(3, 4))  \n",
    "# (6.0, 12.0)\n",
    "\n",
    "print(get_triangle(5, 12))  \n",
    "# (30.0, 30.0)"
   ]
  },
  {
   "cell_type": "code",
   "execution_count": null,
   "id": "298c0d1b",
   "metadata": {},
   "outputs": [],
   "source": [
    "4. 함수의 인자로 시작과 끝 숫자가 주어질 때 시작부터 끝까지의 모든 정수값의 합을 리턴하는 함수를 작성하세요(시작값과 끝값 포함).\n",
    "• def mysum(fRom, end):"
   ]
  },
  {
   "cell_type": "code",
   "execution_count": null,
   "id": "5e8a4113",
   "metadata": {},
   "outputs": [],
   "source": [
    "# 시작값부터 끝값까지의 모든 정수의 합을 구하는 함수 작성\n",
    "def mysum(fRom, end):\n",
    "    return sum(range(fRom, end + 1))"
   ]
  },
  {
   "cell_type": "code",
   "execution_count": null,
   "id": "aa4e57e2",
   "metadata": {},
   "outputs": [],
   "source": [
    "print(mysum(1, 10))   # 1+2+...+10 = 55\n",
    "print(mysum(5, 8))    # 5+6+7+8 = 26"
   ]
  },
  {
   "cell_type": "code",
   "execution_count": null,
   "id": "33447444",
   "metadata": {},
   "outputs": [],
   "source": [
    "# range(fRom, end + 1) 를 사용해서 끝값도 포함"
   ]
  },
  {
   "cell_type": "code",
   "execution_count": null,
   "id": "f2c54dbd",
   "metadata": {},
   "outputs": [],
   "source": [
    "5. 함수의인자로 문자열을 포함하는 리스트가 입력될 때,\n",
    "   각 문자열의 첫 세글자로만 구성된 리스트를 리턴하는 함수와 람다식을 작성하세요\n",
    "\n",
    "• 예를 들어 함수의 입력으로 [‘Seoul’, ‘Daegu’, ‘Kwangju’, ‘Jeju’]가 입력될 때 \n",
    "            함수의 리턴값은 [‘Seo’, ‘Dae’, ‘Kwa’,’Jej’]\n",
    "    \n",
    "• def get_abbrs(lst):\n",
    "    "
   ]
  },
  {
   "cell_type": "code",
   "execution_count": null,
   "id": "c12bd41c",
   "metadata": {},
   "outputs": [],
   "source": [
    "# 요구사항대로 리스트의 각 문자열 앞 3글자만 추출하는 함수와 람다식 구성\n",
    "1) 일반 함수 버전\n",
    "\n",
    "def get_abbrs(lst):\n",
    "    return [s[:3] for s in lst]\n"
   ]
  },
  {
   "cell_type": "code",
   "execution_count": 31,
   "id": "272afb50",
   "metadata": {},
   "outputs": [],
   "source": [
    "def get_addrs(lst):\n",
    "    answer = []\n",
    "    for l in lst:\n",
    "        answer.append(l[:3])\n",
    "    return answer\n"
   ]
  },
  {
   "cell_type": "code",
   "execution_count": null,
   "id": "6c9533de",
   "metadata": {},
   "outputs": [],
   "source": [
    "2) 람다(lambda) 버전\n",
    "get_abbrs = lambda lst: [s[:3] for s in lst]"
   ]
  },
  {
   "cell_type": "code",
   "execution_count": null,
   "id": "f8481c3f",
   "metadata": {},
   "outputs": [],
   "source": [
    "실행 예시\n",
    "\n",
    "cities = ['Seoul', 'Daegu', 'Kwangju', 'Jeju']\n",
    "print(get_abbrs(cities))\n",
    "\n",
    "# 출력: ['Seo', 'Dae', 'Kwa', 'Jej']\n",
    "# 여기서는 s[:3] 슬라이싱을 사용해서 문자열의 앞 세 글자만 추출"
   ]
  },
  {
   "cell_type": "code",
   "execution_count": null,
   "id": "45777a0e",
   "metadata": {},
   "outputs": [],
   "source": [
    "6. 다음 코드를 람다 함수 형태로 수정할 때 알맞은 코드를 작성하시오.\n",
    "def f(x, y)\n",
    "    return x ** y"
   ]
  },
  {
   "cell_type": "code",
   "execution_count": null,
   "id": "d621fb56",
   "metadata": {},
   "outputs": [],
   "source": [
    "# 주어진 함수를 람다 함수로 바꾸면 이렇게 쓸 수 있습니다:\n",
    "\n",
    "f = lambda x, y: x ** y\n",
    "\n",
    "# 실행 예시\n",
    "print(f(2, 3))   # 2 ** 3 = 8\n",
    "print(f(5, 2))   # 5 ** 2 = 25\n",
    "\n",
    "\n",
    "# 즉, lambda 매개변수: 표현식 형태로 변환하면 됩"
   ]
  },
  {
   "cell_type": "code",
   "execution_count": null,
   "id": "bc87d4cb",
   "metadata": {},
   "outputs": [],
   "source": [
    "7. ex = [1,2,3,4,5]를 [1,4,9,16,25]의 결과를 얻을 수 있도록 \n",
    "   람다함수와 map()함수를 사용하여 구현과 리스트 컴프리헨션으로 구현하시오\n",
    "    \n",
    "ex = [1,2,3,4,5]\n",
    "______________________________\n",
    "[1, 4, 9, 16, 25]\n",
    "ex = ex = [1,2,3,4,5]\n",
    "______________________________\n",
    "[1, 4, 9, 16, 25]"
   ]
  },
  {
   "cell_type": "markdown",
   "id": "4b9ff878",
   "metadata": {},
   "source": [
    "- 람다는 '이름 없는 한 줄짜리 함수'를 정의하는 문법이고, \n",
    "- 맵(map)은 '리스트와 같은 반복 가능한 자료형에 특정 함수를 적용하여 \n",
    "- 새로운 리스트를 생성하는 내장 함수'입니다. \n",
    "\n",
    "람다 함수는 맵 함수의 인자로 사용되어, \n",
    "반복 가능한 자료형의 각 요소에 적용할 함수를 간편하게 정의하는 방식으로 자주 사용됩니다. \n",
    "\n",
    "- 람다 (Lambda)\n",
    "형태: lambda 매개변수: 표현식. \n",
    "특징: 한 줄로 간단하게 함수를 정의할 수 있으며, 함수가 매우 짧고 일회성일 때 유용합니다. \n",
    "용도: 맵, 필터 등의 고차 함수에 전달되는 함수 인자로 사용하거나, 간단한 함수를 변수에 할당할 때 사용합니다. \n",
    "\n",
    "- 맵 (map)\n",
    "정의: 주어진 반복 가능한 자료형(리스트 등)의 모든 요소에 특정 함수를 적용한 결과를 반환하는 내장 함수입니다. \n",
    "형태: map(함수, 반복가능한자료형). \n",
    "특징: 첫 번째 인자로 함수를 받고, 두 번째 인자로 리스트와 같은 자료를 받아 각 요소에 해당 함수를 적용합니다. \n",
    "용도: 리스트의 각 항목에 동일한 연산을 적용하고 싶을 때 사용합니다. \n",
    "        예를 들어, 리스트의 모든 숫자를 두 배로 만들고 싶을 때 람다 함수와 함께 사용하면 효율적입니다. \n",
    "\n",
    "- 람다와 맵에서 둘의 관계\n",
    "람다 함수는 맵 함수의 '인자로 사용되는 함수'를 간편하게 정의하는 데 사용됩니다. 맵 함수는 어떤 동작을 '반복해서 수행'할 때, 그 동작을 람다 함수로 '정의'하여 맵 함수에 전달하는 식으로 함께 사용됩니다. \n",
    "\n",
    "- 예시 리스트 \n",
    "``의 각 요소에 2를 더하는 연산을 하고 싶을 때, \n",
    "            람다 함수와 맵 함수를 다음과 같이 함께 사용할 수 있습니다. \n",
    "\n",
    "Python\n",
    "numbers = [1, 2, 3]\n",
    "람다 함수와 map 함수를 사용한 예시\n",
    "result = list(map(lambda x: x + 2, numbers))\n",
    "result는 [3, 4, 5]가 됩니다.\n",
    "\n",
    "위 예시에서 lambda x: x + 2는 각 요소에 2를 더하는 람다 함수이고, \n",
    "이 람다 함수를 map 함수의 첫 번째 인자로 사용하여 numbers 리스트의 각 요소에 적용합니다.\n"
   ]
  },
  {
   "cell_type": "code",
   "execution_count": 27,
   "id": "0b6532b0",
   "metadata": {},
   "outputs": [
    {
     "data": {
      "text/plain": [
       "[3, 4, 5]"
      ]
     },
     "execution_count": 27,
     "metadata": {},
     "output_type": "execute_result"
    }
   ],
   "source": [
    "# 람다 함수와 map 함수를 사용한 예시\n",
    "\n",
    "numbers = [1, 2, 3]\n",
    "result = list(map(lambda x: x + 2, numbers))\n",
    "result"
   ]
  },
  {
   "cell_type": "code",
   "execution_count": 28,
   "id": "3019d170",
   "metadata": {},
   "outputs": [
    {
     "name": "stdout",
     "output_type": "stream",
     "text": [
      "[3, 4, 5]\n"
     ]
    }
   ],
   "source": [
    "# 일반 함수를 정의해서 같은 작업을 수행할 수 있습니다. 예시는 다음과 같습니다:\n",
    "\n",
    "numbers = [1, 2, 3]\n",
    "\n",
    "def add_two(x):\n",
    "    return x + 2\n",
    "\n",
    "result = list(map(add_two, numbers))\n",
    "print(result)"
   ]
  },
  {
   "cell_type": "code",
   "execution_count": 29,
   "id": "0cafd6e5",
   "metadata": {},
   "outputs": [
    {
     "name": "stdout",
     "output_type": "stream",
     "text": [
      "[3, 4, 5]\n"
     ]
    }
   ],
   "source": [
    "# map 없이 완전히 일반적인 반복문으로도 가능합니다:\n",
    "\n",
    "numbers = [1, 2, 3]\n",
    "result = []\n",
    "\n",
    "def add_two_list(lst):\n",
    "    new_list = []\n",
    "    for x in lst:\n",
    "        new_list.append(x + 2)\n",
    "    return new_list\n",
    "\n",
    "result = add_two_list(numbers)\n",
    "print(result)"
   ]
  },
  {
   "cell_type": "code",
   "execution_count": null,
   "id": "1c81a93c",
   "metadata": {},
   "outputs": [],
   "source": [
    "코드 분석\n",
    "numbers = [1, 2, 3]\n",
    "\n",
    "numbers라는 리스트를 만들고 [1, 2, 3] 값을 넣었습니다.\n",
    "리스트는 여러 값을 순서대로 저장할 수 있는 자료형입니다.\n",
    "\n",
    "result = []\n",
    "\n",
    "result라는 빈 리스트를 생성합니다.\n",
    "이후에 함수의 반환값을 여기에 저장할 예정입니다.\n",
    "\n",
    "def add_two_list(lst):\n",
    "    new_list = []\n",
    "    for x in lst:\n",
    "        new_list.append(x + 2)\n",
    "    return new_list\n",
    "\n",
    "\n",
    "def add_two_list(lst):\n",
    "\n",
    "add_two_list라는 함수를 정의합니다.\n",
    "함수의 입력값(매개변수)은 lst입니다.\n",
    "\n",
    "new_list = []\n",
    "\n",
    "함수 내부에서 새로운 빈 리스트 new_list를 생성합니다.\n",
    "\n",
    "이 리스트에 계산 결과를 담아 반환할 예정입니다.\n",
    "\n",
    "for x in lst:\n",
    "\n",
    "lst에 들어있는 각 값 x를 하나씩 꺼내서 반복합니다.\n",
    "\n",
    "new_list.append(x + 2)\n",
    "\n",
    "현재 값 x에 2를 더한 뒤, new_list에 추가합니다.\n",
    "\n",
    "return new_list\n",
    "\n",
    "반복이 끝난 후, 계산된 새로운 리스트를 반환합니다.\n",
    "\n",
    "result = add_two_list(numbers)\n",
    "\n",
    "numbers 리스트 [1, 2, 3]를 함수에 넣어 호출합니다.\n",
    "\n",
    "함수는 각 값에 2를 더한 [3, 4, 5]를 반환하고, 그 값을 result에 저장합니다.\n",
    "\n",
    "print(result)\n",
    "\n",
    "\n",
    "result의 값을 화면에 출력합니다.\n",
    "\n",
    "출력 결과:\n",
    "[3, 4, 5]\n",
    "\n",
    "요약\n",
    "이 프로그램은 리스트의 각 요소에 2를 더한 새 리스트를 만드는 함수를 정의하고, 이를 실제 리스트에 적용해서 결과를 출력하는 예제입니다."
   ]
  },
  {
   "cell_type": "code",
   "execution_count": null,
   "id": "7d902f41",
   "metadata": {},
   "outputs": [],
   "source": []
  },
  {
   "cell_type": "code",
   "execution_count": null,
   "id": "d227bcba",
   "metadata": {},
   "outputs": [],
   "source": [
    "# 구사항대로 리스트의 각 원소를 제곱하는 두 가지 방법\n",
    "\n",
    "# 1) 람다 + map() 함수 사용\n",
    "ex = [1, 2, 3, 4, 5]\n",
    "result = list(map(lambda x: x**2, ex))\n",
    "print(result)\n",
    "# 출력: [1, 4, 9, 16, 25]\n",
    "\n",
    "# lambda x: x**2 → 각 원소를 제곱\n",
    "# map() → 리스트의 모든 원소에 함수를 적용\n",
    "# list() → map 객체를 리스트로 변환"
   ]
  },
  {
   "cell_type": "code",
   "execution_count": null,
   "id": "1c7c589b",
   "metadata": {},
   "outputs": [],
   "source": [
    "# 2) 리스트 컴프리헨션 사용\n",
    "ex = [1, 2, 3, 4, 5]\n",
    "result = [x**2 for x in ex]\n",
    "print(result)\n",
    "# 출력: [1, 4, 9, 16, 25]\n",
    "\n",
    "# [x**2 for x in ex] → ex의 각 원소 x를 제곱한 값으로 새 리스트 생성\n",
    "\n",
    "# 두 방법 모두 같은 결과 [1, 4, 9, 16, 25]를 얻습니다."
   ]
  },
  {
   "cell_type": "code",
   "execution_count": null,
   "id": "6bcac470",
   "metadata": {},
   "outputs": [],
   "source": [
    "8. 다음코드를 각각 실행하면 서로 다른 결과가 나온다. 이런 결과가 나오는 이유를 서술하시오.\n",
    "\n",
    ">>> a = [1, 2, 3]\n",
    ">>> print(*a\n",
    "1, 2, 3\n",
    ">>> print(a)\n",
    "[1, 2, 3]"
   ]
  },
  {
   "cell_type": "code",
   "execution_count": null,
   "id": "fd6a4d9c",
   "metadata": {},
   "outputs": [],
   "source": [
    "# 코드의 차이\n",
    "\n",
    "# 코드 비교\n",
    "a = [1, 2, 3]\n",
    "print(*a)  # 1, 2, 3\n",
    "print(a)   # [1, 2, 3]\n",
    "\n",
    "# 1. print(a)\n",
    "# 리스트 a 자체를 출력합니다. 따라서 리스트의 대괄호 [ ]와 쉼표 ,가 그대로 표시됩니다.\n",
    "# 출력: [1, 2, 3]\n",
    "\n",
    "# 2. print(*a)\n",
    "# *a 는 언패킹(unpacking) 연산자입니다. 리스트 안의 원소들을 하나씩 꺼내서 print() 함수의 개별 인자로 전달합니다.\n",
    "# print()는 기본적으로 인자를 공백으로 구분해서 출력합니다.\n",
    "# 출력: 1 2 3\n",
    "\n",
    "#주의: 쉼표가 붙은 것처럼 보이게 출력하려면 print(*a, sep=', ') 처럼 sep 옵션을 지정해야 합니다.\n",
    "\n",
    "#정리\n",
    "# print(a) → 리스트 자체 출력 → [1, 2, 3]\n",
    "# print(*a) → 리스트의 원소들을 개별 인자로 언패킹 → 1 2 3\n"
   ]
  },
  {
   "cell_type": "code",
   "execution_count": null,
   "id": "66d141c4",
   "metadata": {},
   "outputs": [],
   "source": [
    "9. 다음 코드의 실행 결과는?\n",
    "\n",
    ">>> date_info={'year':2024}, 'month':9, 'day':6\n",
    ">>> result = '{year}-{month}-{day}', format(**date_info)\n",
    ">>> result"
   ]
  },
  {
   "cell_type": "code",
   "execution_count": 24,
   "id": "3be5801e",
   "metadata": {},
   "outputs": [
    {
     "name": "stdout",
     "output_type": "stream",
     "text": [
      "2024-9-6\n"
     ]
    }
   ],
   "source": [
    "# 코드 확인\n",
    "date_info = {'year':2024, 'month':9, 'day':6}\n",
    "result = '{year}-{month}-{day}'.format(**date_info)\n",
    "print(result)"
   ]
  },
  {
   "cell_type": "code",
   "execution_count": 21,
   "id": "c1eac39c",
   "metadata": {},
   "outputs": [],
   "source": [
    "\n",
    "# 문제점 확인\n",
    "# 1. date_info = {'year':2024}, 'month':9, 'day':6}\n",
    "# 여기서 data_info는 튜플이 됩니다:\n",
    "({'year':2024}, 'month', 9, 'day', 6)\n",
    "# 아마 의도는 딕셔너리 {'year':2024, 'month':9, 'day':6}를 만드는 것이었을 겁니다.\n",
    "\n",
    "# 2. '{year}-{month}-{day}'.format(*date_info)\n",
    "# *date_info 는 튜플의 원소들을 위치 인자로 전달합니다.\n",
    "# 그런데 format 문자열에 키워드(year, month, day) 사용 \n",
    "# → 위치 인자가 아닌 키워드 인자가 필요합니다.\n",
    "# 따라서 실행하면 오류가 납니다:\n",
    "\n",
    "KeyError: 'year'\n"
   ]
  },
  {
   "cell_type": "code",
   "execution_count": 23,
   "id": "1f714fee",
   "metadata": {},
   "outputs": [
    {
     "name": "stdout",
     "output_type": "stream",
     "text": [
      "2024-9-6\n"
     ]
    }
   ],
   "source": [
    "\n",
    "# 올바른 코드 예시\n",
    "\n",
    "date_info = {'year': 2024, 'month': 9, 'day': 6}\n",
    "result = '{year}-{month}-{day}'.format(**date_info)\n",
    "print(result)\n",
    "\n",
    "\n",
    "# 출력:\n",
    "# 2024-9-6\n",
    "# **date_info → 딕셔너리를 키워드 인자로 언패킹하여 format에 전달\n",
    "\n",
    "# 결론:\n",
    "# 주신 코드를 그대로 실행하면 KeyError: 'year' 가 발생합니다.\n"
   ]
  },
  {
   "cell_type": "code",
   "execution_count": null,
   "id": "d67ba119",
   "metadata": {},
   "outputs": [],
   "source": [
    "10. n개의 벡터(리스트나 튜플, 셋등)들의 크기가 같은지 여부를 reutrn하는\n",
    "vector_size_check(*vector _var) 를 한 줄의 코드(리스트 컴프리헨션 이용)로 작성하시오."
   ]
  },
  {
   "cell_type": "code",
   "execution_count": 25,
   "id": "10c76681",
   "metadata": {},
   "outputs": [
    {
     "name": "stdout",
     "output_type": "stream",
     "text": [
      "([1, 2], [10, 20], {'name': '홍', 'age': 30}, (1,))\n"
     ]
    }
   ],
   "source": [
    "# 실습형 10\n",
    "# 입력받은 n개의 벡터(리스트, 셋, 딕셔너리, 튜플)의 크기가 같은지를 return하는 함수\n",
    "3 \n",
    "def vector_size_check(*vector_var):\n",
    "    print(vector_var)\n",
    "vector_size_check([1,2],[10,20],{'name':'홍', 'age':30}, (1,))\n",
    "\n",
    "# 입력받은 4개의 벡터(리스트, 셋, 딕셔너리, 튜플)의 크기\n",
    "# 람다(lambda)는 이름이 없는 간단한 익명 함수이며, \n",
    "# 리스트 컴프리헨션(list comprehension)은 파이썬에서 리스트, 집합, 딕셔너리 등에서 새 자료구조를 생성하는 간결한 문법입니다. \n",
    "# 람다는 주로 `map()`이나 `filter()`와 함께 쓰이며, \n",
    "# 리스트 컴프리헨션은 `map()`과 `filter()`를 대체하는 경우가 많아 코드의 가독성과 효율성을 높이는 데 사용됩니다"
   ]
  },
  {
   "cell_type": "code",
   "execution_count": 1,
   "id": "05ee4631",
   "metadata": {},
   "outputs": [
    {
     "name": "stdout",
     "output_type": "stream",
     "text": [
      "False\n",
      "True\n"
     ]
    }
   ],
   "source": [
    "# vector_size_check 함수를 리스트 컴프리헨션 한 줄로 작성하면 이렇게 할 수 있어요 👇\n",
    "\n",
    "def vector_size_check(*vector_var):\n",
    "    return all(len(v) == len(vector_var[0]) for v in vector_var)\n",
    "\n",
    "# 설명\n",
    "# len(vector_var[0]) : 첫 번째 벡터의 크기를 기준으로 삼습니다.\n",
    "# all(...) : 모든 벡터의 길이가 같으면 True, 하나라도 다르면 False를 반환합니다.\n",
    "# 리스트 컴프리헨션 대신 generator comprehension을 쓰면 메모리 낭비도 줄일 수 있습니다.\n",
    "\n",
    "# 실행 예시\n",
    "print(vector_size_check([1,2],[10,20],{'name':'홍','age':30},(1,)))  \n",
    "# False (마지막 튜플의 길이가 1이라 다름)\n",
    "\n",
    "print(vector_size_check([1,2],[10,20],{'a':1,'b':2},(5,6)))  \n",
    "# True (모두 길이 2)"
   ]
  },
  {
   "cell_type": "code",
   "execution_count": null,
   "id": "5225ff22",
   "metadata": {},
   "outputs": [],
   "source": [
    "11. 다음과 같은 결과를 얻기 위해 하나의 스칼라값을 리스트나 튜플, 셋등 벡터에 곱하는 코드를 작성하시오.(단 입력되는 벡터의 크기는 일정하지 않음)\n",
    "# 스칼라값을 벡터(리스트, 튜플, 셋 등)에 곱해서 각 원소를 스칼라값으로 곱한 새로운 벡터를 만들고 싶다는 의미로 이해"
   ]
  },
  {
   "cell_type": "code",
   "execution_count": null,
   "id": "808a71db",
   "metadata": {},
   "outputs": [],
   "source": [
    "# 1. 리스트, 튜플, 셋 모두 처리 가능한 일반 함수\n",
    "def scalar_multiply(scalar, vector):\n",
    "    if isinstance(vector, list):\n",
    "        return [scalar * x for x in vector]\n",
    "    elif isinstance(vector, tuple):\n",
    "        return tuple(scalar * x for x in vector)\n",
    "    elif isinstance(vector, set):\n",
    "        return {scalar * x for x in vector}\n",
    "    else:\n",
    "        raise TypeError(\"리스트, 튜플, 셋만 지원합니다.\")"
   ]
  },
  {
   "cell_type": "code",
   "execution_count": null,
   "id": "c097a7f2",
   "metadata": {},
   "outputs": [],
   "source": [
    "# 2. 실행 예시\n",
    "print(scalar_multiply(2, [1, 2, 3]))    # [2, 4, 6]\n",
    "print(scalar_multiply(3, (1, 2, 3)))    # (3, 6, 9)\n",
    "print(scalar_multiply(4, {1, 2, 3}))    # {4, 8, 12}"
   ]
  },
  {
   "cell_type": "code",
   "execution_count": null,
   "id": "4799e432",
   "metadata": {},
   "outputs": [],
   "source": [
    "# 3. 핵심 설명\n",
    "# 리스트: [scalar * x for x in vector]\n",
    "# 튜플: tuple(scalar * x for x in vector)\n",
    "# 셋: {scalar * x for x in vector}\n",
    "# isinstance로 자료형을 구분하여 적절한 자료형으로 반환\n",
    "\n",
    "# 입력 벡터의 크기는 일정하지 않아도 상관없습니다."
   ]
  },
  {
   "cell_type": "code",
   "execution_count": null,
   "id": "70b695ef",
   "metadata": {},
   "outputs": [],
   "source": [
    "연습문제 객관식"
   ]
  },
  {
   "cell_type": "code",
   "execution_count": 32,
   "id": "e4a94d11",
   "metadata": {},
   "outputs": [
    {
     "data": {
      "text/plain": [
       "[(4, 'a'), (3, 'b'), (2, 'c'), (1, 'd')]"
      ]
     },
     "execution_count": 32,
     "metadata": {},
     "output_type": "execute_result"
    }
   ],
   "source": [
    "# 1. 다음 코드의 실행 결과는?\n",
    "pairs = [(1, 'd'), (2, 'c'), (3, 'b'), (4, 'a')]\n",
    "pairs.sort(key=lambda pair: pair[1])\n",
    "pairs"
   ]
  },
  {
   "cell_type": "code",
   "execution_count": null,
   "id": "fd3b83e6",
   "metadata": {},
   "outputs": [],
   "source": [
    "# 2. 함수 영역과 변수들의 참조 영역에 따른 동작을 보여주기 위한 문제입니다. \n",
    "# 오류가 발생하는 라인을 찾고 문제를 해결하기 위한 코드를 작성하며, 실행 결과를 쓰세요.\n",
    "\n",
    "a = 10                   # 전역변수\n",
    "def sub():\n",
    "    a += 1\n",
    "    print(a, end='')\n",
    "    \n",
    "def func()\n",
    "    for i in range(2)\n",
    "        a = 5            # 지역변수\n",
    "        a += 1\n",
    "            print(a, end='')\n",
    "            sub()\n",
    "a += 1\n",
    "func()"
   ]
  },
  {
   "cell_type": "code",
   "execution_count": null,
   "id": "fc724075",
   "metadata": {},
   "outputs": [],
   "source": [
    "# 오류가 발생하는 이유와 수정 방법을 단계별로 설명\n",
    "# 2. 오류 발생 이유\n",
    "# ① sub() 함수\n",
    "\n",
    "def sub():\n",
    "    a += 1\n",
    "    print(a, end='')\n",
    "\n",
    "# 여기서 a += 1 은 a = a + 1과 동일합니다.\n",
    "# 파이썬은 함수 내부에서 변수를 할당(=)하면 기본적으로 지역변수로 간주합니다.\n",
    "# 그런데 a를 지역변수로 정의하기 전에 a += 1을 하므로\n",
    "# UnboundLocalError: local variable 'a' referenced before assignment 오류가 발생합니다.\n",
    "\n",
    "# 해결 방법:\n",
    "\n",
    "# a가 전역변수임을 명시적으로 알려주기 위해 global a를 사용합니다.\n",
    "\n",
    "def sub():\n",
    "    global a\n",
    "    a += 1\n",
    "    print(a, end='')\n"
   ]
  },
  {
   "cell_type": "code",
   "execution_count": null,
   "id": "8b347e85",
   "metadata": {},
   "outputs": [],
   "source": [
    "3. 다음 구문을 실행한 결과는?\n",
    "var = 100\n",
    "def func(var):\n",
    "    var = 200\n",
    "func(var)\n",
    "print(var)"
   ]
  },
  {
   "cell_type": "code",
   "execution_count": null,
   "id": "2908b914",
   "metadata": {},
   "outputs": [],
   "source": [
    "# 실행 과정\n",
    "# 1. var = 100 → 전역 변수 var 생성, 값 100\n",
    "# 2. def func(var): → 함수 정의\n",
    "#    함수 매개변수 var는 지역 변수가 됩니다.\n",
    "# 3. func(var) → 전역 변수 var(값 100)를 인자로 전달\n",
    "#    함수 내부: 지역 변수 var = 200\n",
    "#    전역 변수 var는 그대로 100\n",
    "# 4. print(var) → 전역 변수 var 참조\n",
    "\n",
    "#  결과\n",
    "# 100\n",
    "\n",
    "\n",
    "#  정리\n",
    "# 함수 내부에서 매개변수로 받은 var는 지역 변수이므로, 전역 변수에 영향을 주지 않습니다.\n",
    "# 따라서 func() 호출 후에도 전역 변수 var의 값은 그대로 100입니다."
   ]
  },
  {
   "cell_type": "code",
   "execution_count": 34,
   "id": "d686036f",
   "metadata": {},
   "outputs": [
    {
     "data": {
      "text/plain": [
       "5"
      ]
     },
     "execution_count": 34,
     "metadata": {},
     "output_type": "execute_result"
    }
   ],
   "source": [
    "# 4. 다음 구문의 실행 결과는?\n",
    "def my_func(func, *args):\n",
    "    return func(*args)\n",
    "import numpy as np\n",
    "my_func(np.add, 2, 3)"
   ]
  },
  {
   "cell_type": "code",
   "execution_count": 33,
   "id": "43723474",
   "metadata": {},
   "outputs": [
    {
     "data": {
      "text/plain": [
       "5"
      ]
     },
     "execution_count": 33,
     "metadata": {},
     "output_type": "execute_result"
    }
   ],
   "source": [
    "import numpy as np\n",
    "np.add(2,3)"
   ]
  },
  {
   "cell_type": "code",
   "execution_count": null,
   "id": "d1e1e89b",
   "metadata": {},
   "outputs": [],
   "source": [
    "def my_func(func, *args):\n",
    "    return func(*args)\n",
    "\n",
    "import numpy as np\n",
    "my_func(np.add, 2, 3)\n",
    "\n",
    "# 코드 설명\n",
    "# 1. def my_func(func, *args)\n",
    "# - func → 함수 객체를 인자로 받음\n",
    "# - *args → 여러 개의 인자를 튜플 형태로 받음\n",
    "# 2. return func(*args)\n",
    "# *args를 언패킹하여 func에 인자로 전달\n",
    "# 즉, func(args[0], args[1], ...) 실행\n",
    "# 3. my_func(np.add, 2, 3)\n",
    "# func = np.add → NumPy의 덧셈 함수\n",
    "# args = (2, 3) → np.add(2, 3) 실행\n",
    "\n",
    "# 실행 결과\n",
    "# python\n",
    "# 5\n",
    "# - np.add(2, 3) → 2 + 3 = 5\n",
    "# - 따라서 함수 호출 결과는 5입니다.\n",
    "\n",
    "#  정리\n",
    "# - my_func는 함수와 인자를 받아서 실행하는 일반화된 함수 호출기 역할\n",
    "# - *args → 가변 인자 언패킹\n",
    "# - np.add → 두 수를 더하는 NumPy 함수"
   ]
  },
  {
   "cell_type": "code",
   "execution_count": null,
   "id": "67195f06",
   "metadata": {},
   "outputs": [],
   "source": [
    "5. 다음 구문의 실행결과는?\n",
    "def my_func(func, *args):\n",
    "    return func(*args)\n",
    "my_func(lambda a, b: a**b, 3, 2)"
   ]
  },
  {
   "cell_type": "code",
   "execution_count": null,
   "id": "29410898",
   "metadata": {},
   "outputs": [],
   "source": [
    "# 코드 설명\n",
    "# 1. def my_func(func, *args)\n",
    "# - func → 함수 객체를 인자로 받음\n",
    "# - *args → 여러 개의 인자를 튜플 형태로 받음\n",
    "\n",
    "# 2. return func(*args)\n",
    "# - *args를 언패킹하여 func에 전달\n",
    "# - 즉, func(args[0], args[1], ...) 실행\n",
    "\n",
    "# 3. my_func(lambda a, b: a**b, 3, 2)\n",
    "# - func = lambda a, b: a**b → 두 수의 거듭제곱을 계산하는 람다 함수\n",
    "# - args = (3, 2) → lambda a, b: a**b에 인자로 전달\n",
    "\n",
    "# - 계산: 3 ** 2 = 9\n",
    "\n",
    "# 실행 결과\n",
    "# 9"
   ]
  },
  {
   "cell_type": "markdown",
   "id": "849bd92f",
   "metadata": {},
   "source": [
    "6. 파이썬 함수에 대한 설명 중 잘 못된 것은? (1)\n",
    "(1) 파이썬의 함수는 중복 정의해 사용할 수 있다.\n",
    "(2) 파이썬의 함수 매개변수는 기본값을 가질 수 있다.\n",
    "(3) **args형식의 매개변수가 있으면 키워드 인수는 딕셔너리 형식으로 받는다.\n",
    "(4) 함수를 호출할 때 매개변수 이름이 없는 인수는 매개변수 이름이 있는 인수보다 앞에 와야 한다."
   ]
  },
  {
   "cell_type": "code",
   "execution_count": null,
   "id": "2ac53f5b",
   "metadata": {},
   "outputs": [],
   "source": [
    "\n",
    "# (1) 파이썬의 함수는 중복 정의해 사용할 수 있다.\n",
    "# 맞습니다. 다만, 같은 이름으로 함수를 재정의하면 마지막 정의가 적용됩니다.\n",
    "# 예:\n",
    "# def f(): return 1\n",
    "# def f(): return 2\n",
    "# print(f())  # 2\n",
    "\n",
    "# (2) 파이썬의 함수 매개변수는 기본값을 가질 수 있다.\n",
    "# 맞습니다.\n",
    "# 예:\n",
    "# def f(a=10): return a\n",
    "# print(f())  # 10\n",
    "\n",
    "# (3) *args 형식의 매개변수가 있으면 키워드 인수는 딕셔너리 형식으로 받는다.\n",
    "# 잘못된 설명입니다.\n",
    "# *args → 위치 인수를 튜플로 받습니다.\n",
    "# 키워드 인수를 딕셔너리로 받으려면 **kwargs를 사용해야 합니다.\n",
    "\n",
    "# 예:\n",
    "\n",
    "# def f(*args, **kwargs):\n",
    "#     print(args, kwargs)\n",
    "\n",
    "# f(1, 2, x=3, y=4)  \n",
    "# 출력: (1, 2) {'x': 3, 'y': 4}\n",
    "\n",
    "# ❌ 잘못된 설명 → 정답\n",
    "\n",
    "# (4) 함수를 호출할 때 매개변수 이름이 없는 인수는 매개변수 이름이 있는 인수보다 앞에 와야 한다.\n",
    "\n",
    "# 맞습니다.\n",
    "\n",
    "# 위치 인수(positional argument)가 키워드 인수(keyword argument)보다 앞에 와야 합니다.\n",
    "\n",
    "# 예:\n",
    "\n",
    "def f(a, b): return a+b\n",
    "f(1, b=2)  # 가능\n",
    "f(a=1, 2)  # 오류\n",
    "\n",
    "\n",
    "#  맞는 설명\n",
    "\n",
    "#  정답\n",
    "# (3)\n",
    "\n",
    "#  이유: *args는 튜플로 위치 인수를 받으며, 키워드 인수는 **kwargs로 딕셔너리 형식으로 받아야 합니다."
   ]
  },
  {
   "cell_type": "code",
   "execution_count": null,
   "id": "bd6fd79f",
   "metadata": {},
   "outputs": [],
   "source": [
    "7. 다음과 같은 구문이 있을 경우 오류가 발생하는 함수 호출은?\n",
    "list_ = []\n",
    "def func(a, L=None):\n",
    "    if Lis None:\n",
    "        L=[]\n",
    "    L.append(a)\n",
    "    return L\n",
    "\n",
    "(1) func(10, list_)\n",
    "(2) func(20, L=list_)\n",
    "(3) func(a=30)\n",
    "(4) func([], a=40)\n"
   ]
  },
  {
   "cell_type": "code",
   "execution_count": null,
   "id": "5cbda48c",
   "metadata": {},
   "outputs": [],
   "source": [
    "# 매개변수:\n",
    "\n",
    "# a → 필수 위치 인수\n",
    "# L=None → 기본값은 None, 내부에서 리스트로 초기화\n",
    "\n",
    "# 함수 내부:\n",
    "# if L is None: → L = []\n",
    "# L.append(a) → 리스트에 a 추가\n",
    "\n",
    "# 각 호출 분석\n",
    "\n",
    "# (1) func(10, list_)\n",
    "# 위치 인수로 a=10, L=list_ 전달\n",
    "# \n",
    "# L은 None이 아니므로 기존 리스트(list_)에 10 추가\n",
    "# 오류 없음 ✅\n",
    "\n",
    "\n",
    "# (2) func(20, L=list_)\n",
    "# 키워드 인수로 L=list_ 전달\n",
    "# a=20 → 위치 인수, L=list_ → 키워드 인수\n",
    "# Python에서 위치 인수와 키워드 인수를 섞어도 문제 없음\n",
    "# 오류 없음 ✅\n",
    "\n",
    "# (3) func(a=30)\n",
    "# a=30 → 키워드 인수\n",
    "# L → 기본값 None 사용 → 내부에서 L = []로 초기화\n",
    "# 오류 없음 ✅\n",
    "\n",
    "# (4) func([], a=40)\n",
    "# 호출: 위치 인수 1개 ([]), 키워드 인수 a=40\n",
    "# Python 함수에서 같은 매개변수에 대해 위치 인수와 키워드 인수를 동시에 전달하면 오류\n",
    "# 여기서 []는 a에 들어가고, a=40도 전달 → TypeError: got multiple values for argument 'a'\n",
    "# ❌ 오류 발생\n",
    "# ✅ 정답 (4)"
   ]
  },
  {
   "cell_type": "code",
   "execution_count": null,
   "id": "3e4ee763",
   "metadata": {},
   "outputs": [],
   "source": [
    "8. 다음 보기가 설명하는 것을 작성하기 위한 키워드를 쓰세요.(영문 소문자로 쓰세요)\n",
    "- 작은 익명 함수를 의미합니다.\n",
    "- 함수가 실행할 문장이 한 문장일 경우에 만들어 사용할 수 있습니다.\n",
    "- 다른 함수의 인수 또는 리턴값에 사용할 수 있습니다."
   ]
  },
  {
   "cell_type": "code",
   "execution_count": null,
   "id": "60fae898",
   "metadata": {},
   "outputs": [],
   "source": [
    "# 설명하신 내용은 파이썬에서 람다 함수를 의미합니다.\n",
    "#  키워드 lambda"
   ]
  }
 ],
 "metadata": {
  "kernelspec": {
   "display_name": "Python 3 (ipykernel)",
   "language": "python",
   "name": "python3"
  },
  "language_info": {
   "codemirror_mode": {
    "name": "ipython",
    "version": 3
   },
   "file_extension": ".py",
   "mimetype": "text/x-python",
   "name": "python",
   "nbconvert_exporter": "python",
   "pygments_lexer": "ipython3",
   "version": "3.10.9"
  },
  "toc": {
   "base_numbering": 1,
   "nav_menu": {},
   "number_sections": false,
   "sideBar": true,
   "skip_h1_title": false,
   "title_cell": "Table of Contents",
   "title_sidebar": "Contents",
   "toc_cell": false,
   "toc_position": {
    "height": "calc(100% - 180px)",
    "left": "10px",
    "top": "150px",
    "width": "222.65px"
   },
   "toc_section_display": true,
   "toc_window_display": true
  }
 },
 "nbformat": 4,
 "nbformat_minor": 5
}
