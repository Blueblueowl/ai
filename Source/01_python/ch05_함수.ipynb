{
 "cells": [
  {
   "cell_type": "code",
   "execution_count": 232,
   "id": "1956cf58",
   "metadata": {},
   "outputs": [
    {
     "data": {
      "text/html": [
       "\n",
       "<style>\n",
       "div.container{width:90% !important;}\n",
       "div.cell.code_cell.rendered{width:100%;}\n",
       "div.input_prompt{padding:0px;}\n",
       "div.CodeMirror {font-family:Consolas; font-size:22pt;}\n",
       "div.text_cell_render.rendered_html{font-size:12pt;}\n",
       "div.output {font-size:12pt; font-weight:bold;}\n",
       "div.input {font-family:Consolas; font-size:12pt;}\n",
       "div.prompt {min-width:140px;}\n",
       "div#toc-wrapper{padding-top:120px;}\n",
       "div.text_cell_render ul li{font-size:12pt;padding:5px;}\n",
       "table.dataframe{font-size:12px;}\n",
       "</style>\n"
      ],
      "text/plain": [
       "<IPython.core.display.HTML object>"
      ]
     },
     "metadata": {},
     "output_type": "display_data"
    }
   ],
   "source": [
    "from IPython.display import display, HTML\n",
    "display(HTML(\"\"\"\n",
    "<style>\n",
    "div.container{width:90% !important;}\n",
    "div.cell.code_cell.rendered{width:100%;}\n",
    "div.input_prompt{padding:0px;}\n",
    "div.CodeMirror {font-family:Consolas; font-size:22pt;}\n",
    "div.text_cell_render.rendered_html{font-size:12pt;}\n",
    "div.output {font-size:12pt; font-weight:bold;}\n",
    "div.input {font-family:Consolas; font-size:12pt;}\n",
    "div.prompt {min-width:140px;}\n",
    "div#toc-wrapper{padding-top:120px;}\n",
    "div.text_cell_render ul li{font-size:12pt;padding:5px;}\n",
    "table.dataframe{font-size:12px;}\n",
    "</style>\n",
    "\"\"\"))"
   ]
  },
  {
   "cell_type": "markdown",
   "id": "c8ce8406",
   "metadata": {},
   "source": [
    "<b><font size=\"7\" color=\"red\">ch05.함수</font></b>\n",
    "- 반복해서 사용할 코드를 묶어 놓고 그것에 이름을 붙인 것\n",
    "- 오버로딩 불가(같은 이름의 함수는 덮어씀)\n",
    "- 함수 정의\n",
    "```\n",
    "def 함수명([매개변수1, 매개변수2, ...]):\n",
    "    명령어1\n",
    "    명령어2\n",
    "```"
   ]
  },
  {
   "cell_type": "markdown",
   "id": "9a662b13",
   "metadata": {},
   "source": [
    "# 1절. 함수의 정의 및 사용\n",
    "## 1.1. 함수 정의"
   ]
  },
  {
   "cell_type": "code",
   "execution_count": 1,
   "id": "d381a5db",
   "metadata": {},
   "outputs": [],
   "source": [
    "# 함수 정의\n",
    "def my_message(x, msg): # msg를 x번 출력하는 함수\n",
    "    for i in range(x):\n",
    "        print(i, msg)\n",
    "    "
   ]
  },
  {
   "cell_type": "code",
   "execution_count": 3,
   "id": "8531ae68",
   "metadata": {},
   "outputs": [
    {
     "name": "stdout",
     "output_type": "stream",
     "text": [
      "0 Hello\n",
      "1 Hello\n",
      "2 Hello\n"
     ]
    }
   ],
   "source": [
    "# 함수 호출 == 함수 사용\n",
    "my_message(3, 'Hello')"
   ]
  },
  {
   "cell_type": "code",
   "execution_count": 4,
   "id": "490ef2c6",
   "metadata": {},
   "outputs": [
    {
     "name": "stdout",
     "output_type": "stream",
     "text": [
      "0 Hello\n",
      "1 Hello\n",
      "0 Python\n",
      "1 Python\n",
      "2 Python\n"
     ]
    }
   ],
   "source": [
    "# 함수 이름 변경\n",
    "my_msg = my_message\n",
    "my_message(2, 'Hello')\n",
    "my_msg(3, 'Python')"
   ]
  },
  {
   "cell_type": "code",
   "execution_count": 5,
   "id": "9113fe70",
   "metadata": {},
   "outputs": [
    {
     "data": {
      "text/plain": [
       "(function, function)"
      ]
     },
     "execution_count": 5,
     "metadata": {},
     "output_type": "execute_result"
    }
   ],
   "source": [
    "type(my_msg), type(my_message)"
   ]
  },
  {
   "cell_type": "code",
   "execution_count": null,
   "id": "522f95f0",
   "metadata": {},
   "outputs": [],
   "source": [
    "# 파이썬 내장 함수(import 하지 않고 사용할 수 있는 함수)\n",
    "# 내장 함수명은 일종의 키워드로 간주되므로 식별자로 사용하는 것은 피해야 한다.\n",
    "# 심볼 테이블로 함수를 불러오는 명령어가 import이다."
   ]
  },
  {
   "cell_type": "code",
   "execution_count": null,
   "id": "afd24754",
   "metadata": {},
   "outputs": [],
   "source": [
    "print(\"Hello\") "
   ]
  },
  {
   "cell_type": "code",
   "execution_count": 6,
   "id": "5e724ca1",
   "metadata": {},
   "outputs": [
    {
     "name": "stdout",
     "output_type": "stream",
     "text": [
      "0 Hello\n",
      "1 Hello\n"
     ]
    }
   ],
   "source": [
    "my_message(2, 'Hello')"
   ]
  },
  {
   "cell_type": "code",
   "execution_count": 10,
   "id": "02695124",
   "metadata": {},
   "outputs": [
    {
     "name": "stdout",
     "output_type": "stream",
     "text": [
      "0 Hello\n",
      "1 Hello\n"
     ]
    }
   ],
   "source": [
    "my_message = 5\n",
    "my_msg(2, \"Hello\")"
   ]
  },
  {
   "cell_type": "code",
   "execution_count": null,
   "id": "ed4e750f",
   "metadata": {},
   "outputs": [],
   "source": [
    "# my_message(2, 'Hello') 이제 실행하면 에러남"
   ]
  },
  {
   "cell_type": "code",
   "execution_count": 4,
   "id": "994c6a8b",
   "metadata": {},
   "outputs": [
    {
     "ename": "NameError",
     "evalue": "name 'messgage' is not defined",
     "output_type": "error",
     "traceback": [
      "\u001b[1;31m---------------------------------------------------------------------------\u001b[0m",
      "\u001b[1;31mNameError\u001b[0m                                 Traceback (most recent call last)",
      "Cell \u001b[1;32mIn[4], line 1\u001b[0m\n\u001b[1;32m----> 1\u001b[0m \u001b[38;5;28;01mdel\u001b[39;00m messgage \u001b[38;5;66;03m# 변수 및 함수 제거하여도\u001b[39;00m\n\u001b[0;32m      2\u001b[0m my_message(\u001b[38;5;241m2\u001b[39m, \u001b[38;5;124m'\u001b[39m\u001b[38;5;124mHello\u001b[39m\u001b[38;5;124m'\u001b[39m)\n",
      "\u001b[1;31mNameError\u001b[0m: name 'messgage' is not defined"
     ]
    }
   ],
   "source": [
    "del messgage # 변수 및 함수 제거하여도\n",
    "my_message(2, 'Hello') "
   ]
  },
  {
   "cell_type": "code",
   "execution_count": 3,
   "id": "0a61410b",
   "metadata": {},
   "outputs": [
    {
     "ename": "SyntaxError",
     "evalue": "expected ':' (3981259654.py, line 6)",
     "output_type": "error",
     "traceback": [
      "\u001b[1;36m  Cell \u001b[1;32mIn[3], line 6\u001b[1;36m\u001b[0m\n\u001b[1;33m    for i in range(cnt)\u001b[0m\n\u001b[1;37m                       ^\u001b[0m\n\u001b[1;31mSyntaxError\u001b[0m\u001b[1;31m:\u001b[0m expected ':'\n"
     ]
    }
   ],
   "source": [
    "# 함수 중복 정의 불가 (오버로딩 불가)\n",
    "def my_hello():\n",
    "    print('Hello Python')\n",
    "    print('Hello World')\n",
    "def my_hello(cnt):    # cnt번 출력\n",
    "    for i in range(cnt)\n",
    "        print('Hello, Python', end='\\t')\n",
    "        print('Hello, World')"
   ]
  },
  {
   "cell_type": "code",
   "execution_count": 6,
   "id": "36bcb7c5",
   "metadata": {},
   "outputs": [
    {
     "name": "stdout",
     "output_type": "stream",
     "text": [
      "Hello, Python\tHello, World\n",
      "Hello, Python\tHello, World\n"
     ]
    }
   ],
   "source": [
    "my_hello(2) # 함수의 중복 정의가 이루어지지 않음."
   ]
  },
  {
   "cell_type": "code",
   "execution_count": 11,
   "id": "2c677ff8",
   "metadata": {},
   "outputs": [
    {
     "name": "stdout",
     "output_type": "stream",
     "text": [
      "Hello, Python\tHello, World\n",
      "Hello, Python\tHello, World\n",
      "Hello, Python\tHello, World\n"
     ]
    }
   ],
   "source": [
    "my_hello(3)"
   ]
  },
  {
   "cell_type": "code",
   "execution_count": 12,
   "id": "d78415ca",
   "metadata": {},
   "outputs": [],
   "source": [
    "from ch05 import my_hello # ch05 모듈 안의 my_hello만 메모리 로드"
   ]
  },
  {
   "cell_type": "code",
   "execution_count": 13,
   "id": "76dbc518",
   "metadata": {},
   "outputs": [
    {
     "data": {
      "text/plain": [
       "'__main__'"
      ]
     },
     "execution_count": 13,
     "metadata": {},
     "output_type": "execute_result"
    }
   ],
   "source": [
    "__name__"
   ]
  },
  {
   "cell_type": "code",
   "execution_count": 14,
   "id": "11e83e6e",
   "metadata": {},
   "outputs": [],
   "source": [
    "import ch05"
   ]
  },
  {
   "cell_type": "code",
   "execution_count": 15,
   "id": "f1cb6896",
   "metadata": {},
   "outputs": [
    {
     "name": "stdout",
     "output_type": "stream",
     "text": [
      "ch05\n",
      "Hello, Python!\tHello, World\n",
      "Hello, Python!\tHello, World\n",
      "Hello, Python!\tHello, World\n"
     ]
    }
   ],
   "source": [
    "ch05.my_hello(3)"
   ]
  },
  {
   "cell_type": "markdown",
   "id": "c04ab205",
   "metadata": {},
   "source": [
    "## 1.2 docstring"
   ]
  },
  {
   "cell_type": "code",
   "execution_count": 19,
   "id": "bfd273d4",
   "metadata": {},
   "outputs": [],
   "source": [
    "def my_function():\n",
    "    \"\"\"\n",
    "    함수의 첫 라인에 독스트링을 포함할 수 있습니다.\n",
    "    독스트링은 함수의 설명서를 달아주는 역할\n",
    "    주석보다 많은 기능(함수 호출시 shift+tab으로 독스트링을 볼 수 있음)\n",
    "    \"\"\"\n",
    "\n",
    "#어떤 함수  "
   ]
  },
  {
   "cell_type": "code",
   "execution_count": 20,
   "id": "2f874016",
   "metadata": {},
   "outputs": [
    {
     "name": "stdout",
     "output_type": "stream",
     "text": [
      "\n",
      "    함수의 첫 라인에 독스트링을 포함할 수 있습니다.\n",
      "    독스트링은 함수의 설명서를 달아주는 역할\n",
      "    주석보다 많은 기능(함수 호출시 shift+tab으로 독스트링을 볼 수 있음)\n",
      "    \n"
     ]
    }
   ],
   "source": [
    "print(my_function.__doc__)\n",
    "    ```\n",
    "    매겨변수로 들어온 n값 미만의 피보나치 수열을 출력하는 함수\n",
    "    ex. n=10  : 0, 1, 1, 2, 3, 5, 8\n",
    "    n=100 : 0, 1, 1, 2, 3, 5, 8 13 21 34 55 89\n",
    "    ```\n",
    "    a, b = 0, 1 # 함수 내에 선언한 변수 : 지역 변수 (반: 전역변수) fibonacci\n",
    "    while a < n:\n",
    "        print(a, end=' ')\n",
    "        a, b = b, a+b\n",
    "    print()  # 개행"
   ]
  },
  {
   "cell_type": "code",
   "execution_count": 27,
   "id": "a6b8638c",
   "metadata": {},
   "outputs": [],
   "source": [
    "def fibonacci(n):\n",
    "    a, b = 0, 1 \n",
    "    while a < n:\n",
    "        print(a, end=' ')\n",
    "        a, b = b, a+b\n",
    "    print()  # 개행"
   ]
  },
  {
   "cell_type": "code",
   "execution_count": 28,
   "id": "377d6fcd",
   "metadata": {},
   "outputs": [
    {
     "name": "stdout",
     "output_type": "stream",
     "text": [
      "0 1 1 2 3 5 8 13 21 34 55 89 144 233 377 610 987 1597 2584 4181 6765 \n"
     ]
    }
   ],
   "source": [
    "fibonacci(10000)"
   ]
  },
  {
   "cell_type": "markdown",
   "id": "61478fdc",
   "metadata": {},
   "source": [
    "## 1.3 지역변수(local var)와 전역변수(global var)\n",
    "- 지역 심볼 테이블, 전역 심볼 테이블 -\n",
    "- 함수 내에서 변수에 정수를 할당하면 -"
   ]
  },
  {
   "cell_type": "code",
   "execution_count": 31,
   "id": "75dc809d",
   "metadata": {},
   "outputs": [
    {
     "name": "stdout",
     "output_type": "stream",
     "text": [
      "함수안 : 100\n",
      "함수밖: 100\n"
     ]
    }
   ],
   "source": [
    "global_var = 100\n",
    "def func1():\n",
    "    print('함수안 :', global_var)\n",
    "func1()\n",
    "print('함수밖:', global_var)"
   ]
  },
  {
   "cell_type": "code",
   "execution_count": 33,
   "id": "0e0d8873",
   "metadata": {},
   "outputs": [
    {
     "name": "stdout",
     "output_type": "stream",
     "text": [
      "함수안 : 200\n"
     ]
    }
   ],
   "source": [
    "def func2():\n",
    "    local_var = 200  # 지역변수(함수내에서 할당)\n",
    "    print('함수안 :', local_var)\n",
    "func2()"
   ]
  },
  {
   "cell_type": "code",
   "execution_count": null,
   "id": "f8503dd8",
   "metadata": {},
   "outputs": [],
   "source": [
    "# print('함수밖에서 지역변수 :', local_var) # 에러"
   ]
  },
  {
   "cell_type": "code",
   "execution_count": 45,
   "id": "6f924024",
   "metadata": {},
   "outputs": [
    {
     "name": "stdout",
     "output_type": "stream",
     "text": [
      "지역변수 g_var : 200\n",
      "전역변수 g_var : 100\n"
     ]
    }
   ],
   "source": [
    "g_var = 100 # 전역변수\n",
    "def func3():\n",
    "    g_var = 200\n",
    "    print('지역변수 g_var :', g_var)\n",
    "func3()\n",
    "print('전역변수 g_var :', g_var)"
   ]
  },
  {
   "cell_type": "code",
   "execution_count": 46,
   "id": "594dc666",
   "metadata": {},
   "outputs": [
    {
     "ename": "UnboundLocalError",
     "evalue": "local variable 'g_var' referenced before assignment",
     "output_type": "error",
     "traceback": [
      "\u001b[1;31m---------------------------------------------------------------------------\u001b[0m",
      "\u001b[1;31mUnboundLocalError\u001b[0m                         Traceback (most recent call last)",
      "Cell \u001b[1;32mIn[46], line 7\u001b[0m\n\u001b[0;32m      5\u001b[0m     \u001b[38;5;28mprint\u001b[39m(\u001b[38;5;124m'\u001b[39m\u001b[38;5;124m지역변수 g_var :\u001b[39m\u001b[38;5;124m'\u001b[39m, g_var)\n\u001b[0;32m      6\u001b[0m     g_var \u001b[38;5;241m=\u001b[39m \u001b[38;5;241m200\u001b[39m \u001b[38;5;66;03m# 지역변수 (함수 내에서 할당)\u001b[39;00m\n\u001b[1;32m----> 7\u001b[0m \u001b[43mfunc3\u001b[49m\u001b[43m(\u001b[49m\u001b[43m)\u001b[49m\n\u001b[0;32m      8\u001b[0m \u001b[38;5;28mprint\u001b[39m(\u001b[38;5;124m'\u001b[39m\u001b[38;5;124m전역변수 g_var :\u001b[39m\u001b[38;5;124m'\u001b[39m, g_var)\n",
      "Cell \u001b[1;32mIn[46], line 5\u001b[0m, in \u001b[0;36mfunc3\u001b[1;34m()\u001b[0m\n\u001b[0;32m      4\u001b[0m \u001b[38;5;28;01mdef\u001b[39;00m \u001b[38;5;21mfunc3\u001b[39m():\n\u001b[1;32m----> 5\u001b[0m     \u001b[38;5;28mprint\u001b[39m(\u001b[38;5;124m'\u001b[39m\u001b[38;5;124m지역변수 g_var :\u001b[39m\u001b[38;5;124m'\u001b[39m, \u001b[43mg_var\u001b[49m)\n\u001b[0;32m      6\u001b[0m     g_var \u001b[38;5;241m=\u001b[39m \u001b[38;5;241m200\u001b[39m\n",
      "\u001b[1;31mUnboundLocalError\u001b[0m: local variable 'g_var' referenced before assignment"
     ]
    }
   ],
   "source": [
    "# 렉시컬 특성 : 변수가 어디서 선언되었는지에 따라\n",
    "# 변수의 범위가 정해짐(지역 vs. 전역)\n",
    "g_var = 100 # 전역변수\n",
    "def func3():\n",
    "    print('지역변수 g_var :', g_var)\n",
    "    g_var = 200 # 지역변수 (함수 내에서 할당)\n",
    "func3()\n",
    "print('전역변수 g_var :', g_var)"
   ]
  },
  {
   "cell_type": "code",
   "execution_count": 51,
   "id": "fac06e33",
   "metadata": {},
   "outputs": [
    {
     "name": "stdout",
     "output_type": "stream",
     "text": [
      "지역변수 g_var : 100\n",
      "전역변수 g_var : 200\n"
     ]
    }
   ],
   "source": [
    "# 렉시컬 특성\n",
    "g_var = 100 # 전역변수\n",
    "def func3():\n",
    "    global g_var\n",
    "    print('지역변수 g_var :', g_var)\n",
    "    g_var = 200 # 전역변수 g_var에 200할당.\n",
    "func3()\n",
    "print('전역변수 g_var :', g_var)"
   ]
  },
  {
   "cell_type": "markdown",
   "id": "743c8b70",
   "metadata": {},
   "source": [
    "## 1.4 값에 의한 호출\n",
    "- 함수에 인수에 전달되는 변수가 스칼라변수(문자, 숫자, 논리형)일 때"
   ]
  },
  {
   "cell_type": "code",
   "execution_count": 52,
   "id": "6703714f",
   "metadata": {},
   "outputs": [
    {
     "data": {
      "text/plain": [
       "1800892737456"
      ]
     },
     "execution_count": 52,
     "metadata": {},
     "output_type": "execute_result"
    }
   ],
   "source": [
    "foo = 'a' # 전역변수\n",
    "id(foo)"
   ]
  },
  {
   "cell_type": "code",
   "execution_count": 53,
   "id": "36a4d945",
   "metadata": {
    "scrolled": true
   },
   "outputs": [
    {
     "name": "stdout",
     "output_type": "stream",
     "text": [
      "Before : a 의 주소는  1800892737456\n",
      "After : aaa 의 주소는  1801001296560\n"
     ]
    }
   ],
   "source": [
    "def func1(f):    # 매개변수는 지역변수\n",
    "    print('Before :', f, '의 주소는 ', id(f))\n",
    "    f = f*3\n",
    "    print('After :', f, '의 주소는 ', id(f))\n",
    "func1(foo)\n",
    "\n",
    "\n",
    "# 파이썬의 id() 함수는 객체를 인자로 받아, \n",
    "# 해당 객체의 **고유한 식별값(메모리 주소)**을 반환합니다. \n",
    "# 이 값은 객체를 구별하는 데 사용되며, \n",
    "# 동일한 객체를 가리키는지를 판별하는 데 활용될 수 있습니다. \n",
    "# id()는 객체가 생성될 때 부여되는 일련번호와 같으며, \n",
    "# 숫자로서 특별한 의미를 가지는 것은 아닙니다. "
   ]
  },
  {
   "cell_type": "code",
   "execution_count": 54,
   "id": "2f5890ad",
   "metadata": {},
   "outputs": [
    {
     "name": "stdout",
     "output_type": "stream",
     "text": [
      "foo =  a 의 주소는 1800892737456\n"
     ]
    }
   ],
   "source": [
    "print('foo = ', foo, '의 주소는', id(foo))"
   ]
  },
  {
   "cell_type": "markdown",
   "id": "97b4155b",
   "metadata": {},
   "source": [
    "## 1.5 참조에 의한 호출\n",
    "- 함수에 인수로 전달되는 변수가 리스트, 튜플, 셋, 딕셔너리, 기타 객체일 경우"
   ]
  },
  {
   "cell_type": "code",
   "execution_count": 55,
   "id": "3f71518d",
   "metadata": {},
   "outputs": [
    {
     "data": {
      "text/plain": [
       "1800971354880"
      ]
     },
     "execution_count": 55,
     "metadata": {},
     "output_type": "execute_result"
    }
   ],
   "source": [
    "L = [1, 2, 3, 4, 5]\n",
    "id(L)"
   ]
  },
  {
   "cell_type": "code",
   "execution_count": 56,
   "id": "e4533c52",
   "metadata": {},
   "outputs": [
    {
     "name": "stdout",
     "output_type": "stream",
     "text": [
      "Before : [1, 2, 3, 4, 5] 의 주소는 1800971354880\n",
      "After : [1, 2, 3, 4, 5, 6] 의 주소는 1800971354880\n"
     ]
    }
   ],
   "source": [
    "def func2(f): # 매개변수는 지역변수\n",
    "    print('Before :', f, '의 주소는', id(f))\n",
    "    f.append(6)\n",
    "    print('After :', f, '의 주소는', id(f))\n",
    "func2(L)"
   ]
  },
  {
   "cell_type": "code",
   "execution_count": 57,
   "id": "2661590d",
   "metadata": {},
   "outputs": [
    {
     "name": "stdout",
     "output_type": "stream",
     "text": [
      "L= [1, 2, 3, 4, 5, 6] 의 주소는 1800971354880\n"
     ]
    }
   ],
   "source": [
    "print('L=', L, '의 주소는', id(L))"
   ]
  },
  {
   "cell_type": "markdown",
   "id": "102ad41d",
   "metadata": {},
   "source": [
    "# 2절 함수의 실행결과를 반환하는 return"
   ]
  },
  {
   "cell_type": "code",
   "execution_count": 59,
   "id": "9cd78803",
   "metadata": {},
   "outputs": [],
   "source": [
    "def fibonacci_print(n):\n",
    "    a, b = 0, 1 # 함수 내에 선언한 변수 : 지역 변수 (반: 전역변수) fibonacci\n",
    "    while a < n:\n",
    "        print(a, end=' ')\n",
    "        a, b = b, a+b\n",
    "    print()  # 개행\n",
    "def fibonacci(n):\n",
    "    \"n미만의 피보나치 수열을 리스트로 return\"\n",
    "    result = [] # 피보나치 수열은 append할 리스트\n",
    "    a, b = 0, 1 # 함수 내에 선언한 변수 : 지역 변수 (반: 전역변수) fibonacci\n",
    "    while a < n:\n",
    "        result.append(a)    #  리스트에 append\n",
    "        a, b = b, a+b\n",
    "    return result"
   ]
  },
  {
   "cell_type": "code",
   "execution_count": 63,
   "id": "d4347163",
   "metadata": {},
   "outputs": [
    {
     "name": "stdout",
     "output_type": "stream",
     "text": [
      "[0, 1, 1, 2, 3, 5, 8]\n",
      "<class 'list'>\n"
     ]
    }
   ],
   "source": [
    "x = fibonacci(10)\n",
    "print(x)\n",
    "print(type(x))"
   ]
  },
  {
   "cell_type": "code",
   "execution_count": 62,
   "id": "18c52166",
   "metadata": {},
   "outputs": [
    {
     "name": "stdout",
     "output_type": "stream",
     "text": [
      "0 1 1 2 3 5 8 \n",
      "None\n",
      "<class 'NoneType'>\n"
     ]
    }
   ],
   "source": [
    "x = fibonacci_print(10)\n",
    "print(x)\n",
    "print(type(x))"
   ]
  },
  {
   "cell_type": "code",
   "execution_count": 76,
   "id": "c4665eb7",
   "metadata": {},
   "outputs": [
    {
     "name": "stdout",
     "output_type": "stream",
     "text": [
      "숫자를 입력하세요:10\n",
      "[1]\t[1, 2]\t[1, 2, 3]\t[1, 2, 3, 4]\t[1, 2, 3, 4, 5]\t[1, 2, 3, 4, 5, 6]\t[1, 2, 3, 4, 5, 6, 7]\t[1, 2, 3, 4, 5, 6, 7, 8]\t[1, 2, 3, 4, 5, 6, 7, 8, 9]\t[1, 2, 3, 4, 5, 6, 7, 8, 9, 10]\t"
     ]
    }
   ],
   "source": [
    "num = int(input(\"숫자를 입력하세요:\"))\n",
    "numbers=[]\n",
    "for i in range(1, num+1):\n",
    "    numbers.append(i)\n",
    "    print(numbers, end='\\t')"
   ]
  },
  {
   "cell_type": "markdown",
   "id": "ebba01e9",
   "metadata": {},
   "source": [
    "### 여러개 값 return ###"
   ]
  },
  {
   "cell_type": "code",
   "execution_count": 80,
   "id": "d15ba2aa",
   "metadata": {},
   "outputs": [
    {
     "name": "stdout",
     "output_type": "stream",
     "text": [
      "a b\n"
     ]
    }
   ],
   "source": [
    "def swap(a, b):\n",
    "    '매개변수의 순서를 바꿔서 return'\n",
    "    return(b, a)\n",
    "print('a', 'b')"
   ]
  },
  {
   "cell_type": "markdown",
   "id": "eccde319",
   "metadata": {},
   "source": [
    "x = 5; y = 10\n",
    "print('함수 실행 전 x, y =', x, y)\n",
    "x, y = swap(x, y)\n",
    "print('함수 실행 후 x, y =', x, y)"
   ]
  },
  {
   "cell_type": "markdown",
   "id": "c129d4ed",
   "metadata": {},
   "source": [
    "# 3절 함수의 매개변수 ★\n",
    "## 3.1 기본값을 갖는 매개변수"
   ]
  },
  {
   "cell_type": "code",
   "execution_count": 87,
   "id": "4a139aa4",
   "metadata": {},
   "outputs": [],
   "source": [
    "def make_url(ip, port=80):  # 순서인수 > 기본값을 갖는 매개변수\n",
    "    return \"http://{}:{}\".format(ip, port)"
   ]
  },
  {
   "cell_type": "code",
   "execution_count": 96,
   "id": "05660660",
   "metadata": {},
   "outputs": [
    {
     "name": "stdout",
     "output_type": "stream",
     "text": [
      "http://8090:localhost\n",
      "http://localhost:www.naver.com\n",
      "http://localhost:9090\n"
     ]
    }
   ],
   "source": [
    "print(make_url(\"localhost\", 8090))\n",
    "print(make_url(\"www.naver.com\"))\n",
    "print(make_url(port=9090, ip=\"localhost\"))"
   ]
  },
  {
   "cell_type": "code",
   "execution_count": 92,
   "id": "d23c97e0",
   "metadata": {},
   "outputs": [],
   "source": [
    "def make_url(port=80, ip='localhost'):  # 순서인수 > 기본값을 갖는 매개변수\n",
    "    return \"http://{}:{}\".format(ip, port)"
   ]
  },
  {
   "cell_type": "code",
   "execution_count": 93,
   "id": "f09a664c",
   "metadata": {},
   "outputs": [
    {
     "data": {
      "text/plain": [
       "'http://localhost:localhost'"
      ]
     },
     "execution_count": 93,
     "metadata": {},
     "output_type": "execute_result"
    }
   ],
   "source": [
    "make_url(\"localhost\")"
   ]
  },
  {
   "cell_type": "markdown",
   "id": "675ad93f",
   "metadata": {},
   "source": [
    "## 3.2 기본변수를 기본값으로 갖는 매개변수\n",
    "- 기본변수가 스칼라변수(문자, 숫자, 논리형)일 때\n",
    "- 기본변수가 리스트, 셋, 딕셔너리, 기타 객체일 때"
   ]
  },
  {
   "cell_type": "code",
   "execution_count": 100,
   "id": "d5b17627",
   "metadata": {},
   "outputs": [],
   "source": [
    "i = 80\n",
    "# 기본변수가 스칼라변수일 때 : 함수가 정의되는 시점으로 기본갑 셋팅\n",
    "def make_url(ip, port=i):\n",
    "    return \"http://{}:{}\".format(ip, port)"
   ]
  },
  {
   "cell_type": "code",
   "execution_count": 101,
   "id": "7e4fa017",
   "metadata": {},
   "outputs": [
    {
     "data": {
      "text/plain": [
       "'http://loclalhost:80'"
      ]
     },
     "execution_count": 101,
     "metadata": {},
     "output_type": "execute_result"
    }
   ],
   "source": [
    "i =  90\n",
    "make_url(\"loclalhost\")"
   ]
  },
  {
   "cell_type": "code",
   "execution_count": 105,
   "id": "bd716bbe",
   "metadata": {},
   "outputs": [
    {
     "name": "stdout",
     "output_type": "stream",
     "text": [
      "[10]\n"
     ]
    }
   ],
   "source": [
    "list_ = []\n",
    "# 기본변수가 리스트, 셋, 딕셔너리, 객체일 때 : 함수가 실행되는 시점으로 기본값 셋팅\n",
    "def func3(a, L=list_):\n",
    "    L.append(a)\n",
    "    return L\n",
    "print(func3(10))"
   ]
  },
  {
   "cell_type": "code",
   "execution_count": 123,
   "id": "31a1f570",
   "metadata": {},
   "outputs": [
    {
     "name": "stdout",
     "output_type": "stream",
     "text": [
      "[10]\n"
     ]
    }
   ],
   "source": [
    "print(func3(10))"
   ]
  },
  {
   "cell_type": "code",
   "execution_count": 121,
   "id": "29f7b196",
   "metadata": {},
   "outputs": [
    {
     "name": "stdout",
     "output_type": "stream",
     "text": [
      "list_ = [10, 10, 10, 10, 10, 10, 10, 10, 20]\n"
     ]
    }
   ],
   "source": [
    "print(\"list_ =\", list_)"
   ]
  },
  {
   "cell_type": "code",
   "execution_count": 122,
   "id": "940ced65",
   "metadata": {},
   "outputs": [
    {
     "name": "stdout",
     "output_type": "stream",
     "text": [
      "[20]\n"
     ]
    }
   ],
   "source": [
    "print(func3(20))"
   ]
  },
  {
   "cell_type": "code",
   "execution_count": 119,
   "id": "669a8f15",
   "metadata": {},
   "outputs": [
    {
     "name": "stdout",
     "output_type": "stream",
     "text": [
      "[10]\n"
     ]
    }
   ],
   "source": [
    "# 실행할 때마다 L을 공유하는게 싫으면\n",
    "def func3(a, L=None):\n",
    "    if L is None:\n",
    "        L = []\n",
    "    L.append(a)\n",
    "    return L\n",
    "print(func3(10))"
   ]
  },
  {
   "cell_type": "markdown",
   "id": "6a4433c7",
   "metadata": {},
   "source": [
    "## 3.3 순서 인수\n",
    "- 순서인수 : 함수에 정의된 순서대로 전달방식\n",
    "- 키워드인수 : 인수의 이름을 명시하는 방식\n",
    "- 함수 정의시 순서인수와 키워드인수가 같이 올 때는 순서인수가 오고 다음에 키워드인수 순으로 옴"
   ]
  },
  {
   "cell_type": "code",
   "execution_count": 132,
   "id": "b8cf1b74",
   "metadata": {},
   "outputs": [
    {
     "name": "stdout",
     "output_type": "stream",
     "text": [
      "[1, 2, 3, 4, 5, 6]\n"
     ]
    }
   ],
   "source": [
    "def func3(a, L=None):\n",
    "    if L is None:\n",
    "        L = []\n",
    "    L.append(a)\n",
    "    return L\n",
    "print(L)"
   ]
  },
  {
   "cell_type": "code",
   "execution_count": 134,
   "id": "738fe9ee",
   "metadata": {},
   "outputs": [
    {
     "name": "stdout",
     "output_type": "stream",
     "text": [
      "[10]\n",
      "[10, 20]\n"
     ]
    }
   ],
   "source": [
    "lst = []\n",
    "print(func3(10, lst))\n",
    "print(func3(L=lst, a=20)) # 키워드 인수"
   ]
  },
  {
   "cell_type": "markdown",
   "id": "22ceeb59",
   "metadata": {},
   "source": [
    "## 3.4 튜플매개변수를 이용한 가변인수 설정"
   ]
  },
  {
   "cell_type": "code",
   "execution_count": 150,
   "id": "ab9f2979",
   "metadata": {},
   "outputs": [],
   "source": [
    "# 파이썬은 함수의 중복정의(오버로딩)을 지원하지 않음.\n",
    "def add(a, b):\n",
    "    return a+b\n",
    "def add(a, b, c):\n",
    "    return a+b+c"
   ]
  },
  {
   "cell_type": "code",
   "execution_count": 151,
   "id": "0bec7399",
   "metadata": {},
   "outputs": [
    {
     "data": {
      "text/plain": [
       "10"
      ]
     },
     "execution_count": 151,
     "metadata": {},
     "output_type": "execute_result"
    }
   ],
   "source": [
    "add(3, 5, 2)"
   ]
  },
  {
   "cell_type": "code",
   "execution_count": 163,
   "id": "cf1da488",
   "metadata": {},
   "outputs": [],
   "source": [
    "# args 앞에 * : args가 튜플로 전달받는다\n",
    "def add(*args):\n",
    "    # print('args=', args)\n",
    "    # 전달받은 매개변수들의 합을 return.\n",
    "    # 매개변수가 없을 경우 0을 return\n",
    "    sum = 0 \n",
    "    for num in args:\n",
    "        sum += num\n",
    "    return sum"
   ]
  },
  {
   "cell_type": "code",
   "execution_count": 164,
   "id": "73133ee4",
   "metadata": {},
   "outputs": [
    {
     "data": {
      "text/plain": [
       "15"
      ]
     },
     "execution_count": 164,
     "metadata": {},
     "output_type": "execute_result"
    }
   ],
   "source": [
    "add(1,2,3,4,5)"
   ]
  },
  {
   "cell_type": "code",
   "execution_count": 176,
   "id": "01d7c956",
   "metadata": {},
   "outputs": [
    {
     "name": "stdout",
     "output_type": "stream",
     "text": [
      "0\n",
      "1\n",
      "4\n",
      "55\n"
     ]
    }
   ],
   "source": [
    "print(add())\n",
    "print(add(1))\n",
    "print(add(1, 3))\n",
    "print(add(1, 2, 3, 4, 5, 6, 7, 8, 9, 10))"
   ]
  },
  {
   "cell_type": "code",
   "execution_count": 177,
   "id": "1fc9b870",
   "metadata": {},
   "outputs": [
    {
     "data": {
      "text/plain": [
       "'Python-HTML/CSS-JavaScript-Oracle/MySQL'"
      ]
     },
     "execution_count": 177,
     "metadata": {},
     "output_type": "execute_result"
    }
   ],
   "source": [
    "subject = ('Python', 'HTML/CSS', 'JavaScript', 'Oracle/MySQL')\n",
    "'-'.join(subject)"
   ]
  },
  {
   "cell_type": "code",
   "execution_count": 187,
   "id": "a7f44271",
   "metadata": {},
   "outputs": [],
   "source": [
    "# 튜플 매개변수와 일반 매개변수가 같이 있을 때\n",
    "def contcat(*subject, sep):\n",
    "    return(sep. join(subject))"
   ]
  },
  {
   "cell_type": "code",
   "execution_count": 188,
   "id": "ca0512a6",
   "metadata": {},
   "outputs": [],
   "source": [
    "# contact('Python', 'web', 'JavaScript', 'DBMS', '_') "
   ]
  },
  {
   "cell_type": "code",
   "execution_count": 181,
   "id": "79cfaaa8",
   "metadata": {},
   "outputs": [
    {
     "data": {
      "text/plain": [
       "'Python_web_JavaScript_DBMS'"
      ]
     },
     "execution_count": 181,
     "metadata": {},
     "output_type": "execute_result"
    }
   ],
   "source": [
    "# 해결책1\n",
    "contcat('Python', 'web', 'JavaScript', 'DBMS', sep='_') "
   ]
  },
  {
   "cell_type": "code",
   "execution_count": 194,
   "id": "42f771f3",
   "metadata": {},
   "outputs": [
    {
     "name": "stdout",
     "output_type": "stream",
     "text": [
      "Python ~ Web ~ JS ~ DBMS ~ -\n",
      "Python-Web-JS-DBMS\n"
     ]
    }
   ],
   "source": [
    "# 해결책2 \n",
    "def concat(*subject, sep = ' ~ '):\n",
    "    return sep.join(subject)\n",
    "print(concat('Python','Web','JS','DBMS', '-'))\n",
    "print(concat('Python','Web','JS','DBMS', sep='-'))"
   ]
  },
  {
   "cell_type": "code",
   "execution_count": null,
   "id": "a78fe81d",
   "metadata": {},
   "outputs": [],
   "source": [
    "# 해결책3 : 추천, sep을 순서인수로 앞으로\n",
    "def concat(sep, *subject):\n",
    "    return sep.join(subjct)"
   ]
  },
  {
   "cell_type": "code",
   "execution_count": 195,
   "id": "c2ff802b",
   "metadata": {},
   "outputs": [
    {
     "data": {
      "text/plain": [
       "'~ ~ Python ~ Web ~ DB ~ MLDL'"
      ]
     },
     "execution_count": 195,
     "metadata": {},
     "output_type": "execute_result"
    }
   ],
   "source": [
    "concat('~','Python','Web','DB','MLDL')"
   ]
  },
  {
   "cell_type": "markdown",
   "id": "ffd0c6dc",
   "metadata": {},
   "source": [
    "## 3.5 딕셔너리 매개변수\n",
    "- 딕셔너리 인수 : 여러 개의 키워드 인수를 딕셔너리 형태로 받아서 가변인수로 처리\n",
    "- 데이터 시각화에서 2개의 별표시(**), 즉 딕셔너리 매개 변수를 사용할 때 효과적이다. "
   ]
  },
  {
   "cell_type": "code",
   "execution_count": 196,
   "id": "e08dd905",
   "metadata": {},
   "outputs": [
    {
     "data": {
      "text/plain": [
       "'http://localhost:8080'"
      ]
     },
     "execution_count": 196,
     "metadata": {},
     "output_type": "execute_result"
    }
   ],
   "source": [
    "make_url(ip=\"localhost\", port=8080)"
   ]
  },
  {
   "cell_type": "code",
   "execution_count": 210,
   "id": "8ae004e4",
   "metadata": {},
   "outputs": [],
   "source": [
    "def func5(**args): # 별표시(*)가 한 개면 투플 매개변수, 별표시(**)가 한 개면 딕셔너리 매개변수 \n",
    "    print('이름:', args.get('name'))\n",
    "    print('나이:', args.get('age'))\n",
    "    print('전화:', args.get('tel'))\n",
    "    print('주소:', args.get('address'))"
   ]
  },
  {
   "cell_type": "code",
   "execution_count": 230,
   "id": "9a2ecd26",
   "metadata": {},
   "outputs": [],
   "source": [
    "def func5(**args):\n",
    "    print(args)\n",
    "    print(type(args))\n",
    "    if 'address' not in args:\n",
    "        args['address'] = '서울시 관악구'\n",
    "        args.update({'address': '서울시 관악구'})\n",
    "    for key, value in args.items():\n",
    "        print(\"{} : {}\".format(key, value))"
   ]
  },
  {
   "cell_type": "code",
   "execution_count": 231,
   "id": "442d4715",
   "metadata": {},
   "outputs": [
    {
     "name": "stdout",
     "output_type": "stream",
     "text": [
      "{'name': '홍길동', 'age': 30, 'tel': '010-9999-9999', 'address': '서울 관악구'}\n",
      "<class 'dict'>\n",
      "name : 홍길동\n",
      "age : 30\n",
      "tel : 010-9999-9999\n",
      "address : 서울 관악구\n"
     ]
    }
   ],
   "source": [
    "func5(name='홍길동', \n",
    "      age=30,\n",
    "      tel='010-9999-9999',\n",
    "      address='서울 관악구')"
   ]
  },
  {
   "cell_type": "code",
   "execution_count": 225,
   "id": "8135b899",
   "metadata": {},
   "outputs": [
    {
     "name": "stdout",
     "output_type": "stream",
     "text": [
      "{'name': '홍길동'}\n",
      "<class 'dict'>\n",
      "name : 홍길동\n",
      "address : 서울시 관악구\n"
     ]
    }
   ],
   "source": [
    "func5(name='홍길동')"
   ]
  },
  {
   "cell_type": "code",
   "execution_count": 226,
   "id": "b299e5f5",
   "metadata": {},
   "outputs": [],
   "source": [
    "def func5(**args):\n",
    "    print('args')"
   ]
  },
  {
   "cell_type": "code",
   "execution_count": 227,
   "id": "d01100ac",
   "metadata": {},
   "outputs": [
    {
     "name": "stdout",
     "output_type": "stream",
     "text": [
      "args\n"
     ]
    }
   ],
   "source": [
    "func5(name='홍길동', \n",
    "      age=30,\n",
    "      tel='010-9999-9999',\n",
    "      address='서울 관악구',\n",
    "      width=300,\n",
    "      color='red')"
   ]
  },
  {
   "cell_type": "code",
   "execution_count": 228,
   "id": "6e615cdf",
   "metadata": {},
   "outputs": [],
   "source": [
    "def func(a, b, c):\n",
    "    return a+b+c"
   ]
  },
  {
   "cell_type": "code",
   "execution_count": 229,
   "id": "740b8883",
   "metadata": {},
   "outputs": [],
   "source": [
    "def func5(**args): # 별표시(*)가 한 개면 투플 매개변수, 별표시(**)가 한 개면 딕셔너리 매개변수 \n",
    "    print('이름:', args.get('name'))\n",
    "    print('나이:', args.get('age'))\n",
    "    print('전화:', args.get('tel'))\n",
    "    print('주소:', args.get('address'))"
   ]
  },
  {
   "cell_type": "markdown",
   "id": "c41887b1",
   "metadata": {},
   "source": [
    "## 3.6 함수 정의시 매개변수의 순서\n",
    "순서인수 > 튜플인수(*) > 키워드인수(기본값) > 딕셔너리인수(**)"
   ]
  },
  {
   "cell_type": "code",
   "execution_count": 234,
   "id": "9ceeba20",
   "metadata": {},
   "outputs": [],
   "source": [
    "# 순서인수 > 튜플인수 > 딕셔너리인수\n",
    "def func6(a, b, *c, **d):\n",
    "    print('순서인수 a = ', a)\n",
    "    print('순서인수 b = ', b)\n",
    "    print('튜플인수 c = ', c)\n",
    "    print('딕셔너리인수 d = ', d)"
   ]
  },
  {
   "cell_type": "code",
   "execution_count": 235,
   "id": "dbae7a96",
   "metadata": {},
   "outputs": [
    {
     "name": "stdout",
     "output_type": "stream",
     "text": [
      "순서인수 a =  10\n",
      "순서인수 b =  20\n",
      "튜플인수 c =  (1, 2, 3, 4, 5, 6, 7, 8, 9)\n",
      "딕셔너리인수 d =  {'name': '홍', 'age': 30, 'address': '신림'}\n"
     ]
    }
   ],
   "source": [
    "func6(10, 20, 1,2,3,4,5,6,7,8,9, name='홍', age=30, address='신림')"
   ]
  },
  {
   "cell_type": "code",
   "execution_count": 237,
   "id": "f38718ac",
   "metadata": {},
   "outputs": [],
   "source": [
    "# 순서인수 > 튜플인수(*) > 키워드인수(기본값) > 딕셔너리인수(**)\n",
    "def func7(a, b, c,*d, e=10, **f):\n",
    "    print('순서인수 a = ', a)\n",
    "    print('순서인수 b = ', b)\n",
    "    print('순서인수 c = ', c)\n",
    "    print('튜플인수 d = ', d)\n",
    "    print('키워드인수(기본값 10) e = ', a)\n",
    "    print('딕셔너리인수 f = ', f)"
   ]
  },
  {
   "cell_type": "code",
   "execution_count": 239,
   "id": "7e72d5f6",
   "metadata": {},
   "outputs": [
    {
     "name": "stdout",
     "output_type": "stream",
     "text": [
      "순서인수 a =  10\n",
      "순서인수 b =  20\n",
      "순서인수 c =  30\n",
      "튜플인수 d =  ()\n",
      "키워드인수(기본값 10) e =  10\n",
      "딕셔너리인수 f =  {}\n"
     ]
    }
   ],
   "source": [
    "func7(10, 20, 30, e=100)"
   ]
  },
  {
   "cell_type": "code",
   "execution_count": 238,
   "id": "02376e7f",
   "metadata": {},
   "outputs": [
    {
     "name": "stdout",
     "output_type": "stream",
     "text": [
      "순서인수 a =  10\n",
      "순서인수 b =  20\n",
      "순서인수 c =  30\n",
      "튜플인수 d =  (1, 2, 3, 4, 5)\n",
      "키워드인수(기본값 10) e =  10\n",
      "딕셔너리인수 f =  {'shape': 'rect', 'width': 20, 'height': 30}\n"
     ]
    }
   ],
   "source": [
    "func7(10, 20, 30, 1,2,3,4,5, e=100, shape='rect', width=20, height=30)"
   ]
  },
  {
   "cell_type": "code",
   "execution_count": null,
   "id": "aedc5bd9",
   "metadata": {},
   "outputs": [],
   "source": [
    "## 3.7 인수의 언패킹\n",
    "### 튜플인수 언패킹\n",
    "- 언패킹 : 함수 호출시 매개변수 앞에 * 붙임\n",
    "- 패킹 : 함수 정의시 매개변수 앞에 * 붙임(튜플매개변수)"
   ]
  },
  {
   "cell_type": "code",
   "execution_count": 240,
   "id": "eeaf4722",
   "metadata": {},
   "outputs": [],
   "source": [
    "def add(*args):\n",
    "    sum = 0\n",
    "    for num in args:\n",
    "        sum += num\n",
    "    return sum"
   ]
  },
  {
   "cell_type": "code",
   "execution_count": 241,
   "id": "59a8e8d0",
   "metadata": {},
   "outputs": [
    {
     "data": {
      "text/plain": [
       "6"
      ]
     },
     "execution_count": 241,
     "metadata": {},
     "output_type": "execute_result"
    }
   ],
   "source": [
    "add(1, 2, 3)"
   ]
  },
  {
   "cell_type": "code",
   "execution_count": 243,
   "id": "b90b45b9",
   "metadata": {},
   "outputs": [
    {
     "data": {
      "text/plain": [
       "6"
      ]
     },
     "execution_count": 243,
     "metadata": {},
     "output_type": "execute_result"
    }
   ],
   "source": [
    "numbers = (1, 2, 3)\n",
    "add(*numbers)"
   ]
  },
  {
   "cell_type": "code",
   "execution_count": null,
   "id": "6892a59f",
   "metadata": {},
   "outputs": [],
   "source": [
    "numbers = (1, 2, 3)\n",
    "add(*numbers)"
   ]
  },
  {
   "cell_type": "code",
   "execution_count": null,
   "id": "9fb011e7",
   "metadata": {},
   "outputs": [],
   "source": [
    "### 딕셔너리 인수 언패킹"
   ]
  },
  {
   "cell_type": "code",
   "execution_count": 249,
   "id": "60d5b310",
   "metadata": {},
   "outputs": [],
   "source": [
    "def func8(**data):\n",
    "    print(data)\n",
    "    for item in data.items():\n",
    "        print(item)"
   ]
  },
  {
   "cell_type": "code",
   "execution_count": 252,
   "id": "048b4abd",
   "metadata": {},
   "outputs": [
    {
     "name": "stdout",
     "output_type": "stream",
     "text": [
      "{'shape': 'rect', 'width': 40, 'height': 30}\n",
      "('shape', 'rect')\n",
      "('width', 40)\n",
      "('height', 30)\n"
     ]
    }
   ],
   "source": [
    "func8(shape='rect', width=40, height=30)"
   ]
  },
  {
   "cell_type": "code",
   "execution_count": 253,
   "id": "77b6bf95",
   "metadata": {},
   "outputs": [
    {
     "name": "stdout",
     "output_type": "stream",
     "text": [
      "{'shape': 'rect', 'width': 40, 'height': 30}\n",
      "('shape', 'rect')\n",
      "('width', 40)\n",
      "('height', 30)\n"
     ]
    }
   ],
   "source": [
    "info = {'shape':'rect', 'width' : 40, 'height':30}\n",
    "func8(**info)"
   ]
  },
  {
   "cell_type": "code",
   "execution_count": null,
   "id": "360aa091",
   "metadata": {},
   "outputs": [],
   "source": []
  },
  {
   "cell_type": "code",
   "execution_count": null,
   "id": "94c719e4",
   "metadata": {},
   "outputs": [],
   "source": []
  },
  {
   "cell_type": "code",
   "execution_count": null,
   "id": "8c44985f",
   "metadata": {},
   "outputs": [],
   "source": []
  },
  {
   "cell_type": "code",
   "execution_count": null,
   "id": "83db7aad",
   "metadata": {},
   "outputs": [],
   "source": []
  }
 ],
 "metadata": {
  "kernelspec": {
   "display_name": "Python 3 (ipykernel)",
   "language": "python",
   "name": "python3"
  },
  "language_info": {
   "codemirror_mode": {
    "name": "ipython",
    "version": 3
   },
   "file_extension": ".py",
   "mimetype": "text/x-python",
   "name": "python",
   "nbconvert_exporter": "python",
   "pygments_lexer": "ipython3",
   "version": "3.10.9"
  },
  "toc": {
   "base_numbering": 1,
   "nav_menu": {},
   "number_sections": false,
   "sideBar": true,
   "skip_h1_title": false,
   "title_cell": "Table of Contents",
   "title_sidebar": "Contents",
   "toc_cell": false,
   "toc_position": {
    "height": "calc(100% - 180px)",
    "left": "10px",
    "top": "150px",
    "width": "222.663px"
   },
   "toc_section_display": true,
   "toc_window_display": true
  }
 },
 "nbformat": 4,
 "nbformat_minor": 5
}
