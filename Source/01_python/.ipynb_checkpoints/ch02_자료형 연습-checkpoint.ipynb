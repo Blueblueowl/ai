{
 "cells": [
  {
   "cell_type": "code",
   "execution_count": null,
   "id": "10856bfb",
   "metadata": {},
   "outputs": [],
   "source": [
    "from IPython.display import display, HTML\n",
    "display(HTML(\"\"\"\n",
    "<style>\n",
    "div.container{width:90% !important;}\n",
    "div.cell.code_cell.rendered{width:100%;}\n",
    "div.input_prompt{padding:0px;}\n",
    "div.CodeMirror {font-family:Consolas; font-size:22pt;}\n",
    "div.text_cell_render.rendered_html{font-size:22pt;}\n",
    "div.output {font-size:22pt; font-weight:bold;}\n",
    "div.input {font-family:Consolas; font-size:22pt;}\n",
    "div.prompt {min-width:70px;}\n",
    "div#toc-wrapper{padding-top:120px;}\n",
    "div.text_cell_render ul li{font-size:22pt;padding:5px;}\n",
    "table.dataframe{font-size:22px;}\n",
    "</style>\n",
    "\"\"\"))"
   ]
  },
  {
   "cell_type": "code",
   "execution_count": null,
   "id": "efc46270",
   "metadata": {},
   "outputs": [],
   "source": [
    "# data에서 전화번호 없애기\n",
    "tel_pattern = r\"0\\d{1,2}[\\-\\.)]?\\d{3,4}[\\-\\.]?\\d{4}\"\n",
    "re.sub(tel_pattern, '')"
   ]
  },
  {
   "cell_type": "code",
   "execution_count": null,
   "id": "4cccec98",
   "metadata": {},
   "outputs": [],
   "source": [
    "# 파일 경로\n",
    "file_path = r\"D:\\ai\\source\\01_python\\data\\ch02.txt\"\n",
    "file_path = \"D:\\ai\\source\\01_python\\data\\ch02.txt\"\n",
    "file_path = \"D:\\ai\\source\\01_python\\data\\ch02.txt\""
   ]
  },
  {
   "cell_type": "code",
   "execution_count": null,
   "id": "c1b27307",
   "metadata": {},
   "outputs": [],
   "source": [
    "## 4.2 format() 문법\n",
    "- \"{[인덱스]:[공백대체문자],[정렬방식],[자릿수],[타입]}\".format(변수명)\n",
    "* 인덱스 : format 함수안의 매개변수 순서\n",
    "* 정렬방식 : <(왼쪽 정렬), >(오른쪽 정렬), ^(가운데정렬)\n",
    "* 정수자릿수 : 출력할 자릿수\n",
    "* 문자자릿수 : 전체출력될 자리수, 변수중에 출력할 자리수\n",
    "* 타입 : d(10진수), o(8진수), x(16진수), b(2진수), s(문자)\n",
    "* 공백대체문자는 정렬방식을 명시하여 함."
   ]
  },
  {
   "cell_type": "code",
   "execution_count": 1,
   "id": "1367789d",
   "metadata": {},
   "outputs": [
    {
     "name": "stdout",
     "output_type": "stream",
     "text": [
      "[12345][     12345][12345]\n",
      "[Hello][Hello     ][Hello]\n"
     ]
    }
   ],
   "source": [
    "# 숫자의 경우 오른쪽 정렬(기본)\n",
    "# 문자의 경우 왼쪽 정렬(기본)\n",
    "a = 12345\n",
    "s = 'Hello'\n",
    "print(\"[{0}][{0:10}][{0:3}]\".format(a))\n",
    "print(\"[{0}][{0:10}][{0:3}]\".format(s))"
   ]
  },
  {
   "cell_type": "code",
   "execution_count": 4,
   "id": "01680441",
   "metadata": {},
   "outputs": [
    {
     "name": "stdout",
     "output_type": "stream",
     "text": [
      "[  10][ 20 ][   3]\n"
     ]
    }
   ],
   "source": [
    "# 정렬방식 : <, ^, > \n",
    "a, b, c = 10, 20,3\n",
    "print(\"[{:>4}][{:^4}][{:>4}]\".format(a, b, c))"
   ]
  },
  {
   "cell_type": "code",
   "execution_count": null,
   "id": "1bdda1cc",
   "metadata": {},
   "outputs": [],
   "source": [
    "# 실수 자릿수 ex. 10.2f:전체10자리 소수정2자리\n",
    "a = 20\n",
    "f = 12.569\n",
    "s = \"Hello\""
   ]
  }
 ],
 "metadata": {
  "kernelspec": {
   "display_name": "Python 3 (ipykernel)",
   "language": "python",
   "name": "python3"
  },
  "language_info": {
   "codemirror_mode": {
    "name": "ipython",
    "version": 3
   },
   "file_extension": ".py",
   "mimetype": "text/x-python",
   "name": "python",
   "nbconvert_exporter": "python",
   "pygments_lexer": "ipython3",
   "version": "3.10.9"
  },
  "toc": {
   "base_numbering": 1,
   "nav_menu": {},
   "number_sections": false,
   "sideBar": true,
   "skip_h1_title": false,
   "title_cell": "Table of Contents",
   "title_sidebar": "Contents",
   "toc_cell": false,
   "toc_position": {
    "height": "calc(100% - 180px)",
    "left": "10px",
    "top": "150px",
    "width": "246.594px"
   },
   "toc_section_display": true,
   "toc_window_display": true
  }
 },
 "nbformat": 4,
 "nbformat_minor": 5
}
