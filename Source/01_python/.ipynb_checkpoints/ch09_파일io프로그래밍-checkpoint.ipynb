{
 "cells": [
  {
   "cell_type": "code",
   "execution_count": 1,
   "id": "895e73c9",
   "metadata": {},
   "outputs": [
    {
     "data": {
      "text/html": [
       "\n",
       "<style>\n",
       "div.container{width:95% !important;}\n",
       "div.cell.code_cell.rendered{width:95%;}\n",
       "div.input_prompt{padding:0px;}\n",
       "div.CodeMirror {font-family:Consolas; font-size:22pt;}\n",
       "div.text_cell_render.rendered_html{font-size:18pt;}\n",
       "div.output {font-size:22pt; font-weight:bold;}\n",
       "div.input {font-family:Consolas; font-size:22pt;}\n",
       "div.prompt {min-width:70px;}\n",
       "div#toc-wrapper{padding-top:120px;}\n",
       "div.text_cell_render ul li{font-size:22pt;padding:5px;}\n",
       "table.dataframe{font-size:22px;}\n",
       "</style>\n"
      ],
      "text/plain": [
       "<IPython.core.display.HTML object>"
      ]
     },
     "metadata": {},
     "output_type": "display_data"
    }
   ],
   "source": [
    "from IPython.display import display, HTML\n",
    "display(HTML(\"\"\"\n",
    "<style>\n",
    "div.container{width:95% !important;}\n",
    "div.cell.code_cell.rendered{width:95%;}\n",
    "div.input_prompt{padding:0px;}\n",
    "div.CodeMirror {font-family:Consolas; font-size:22pt;}\n",
    "div.text_cell_render.rendered_html{font-size:18pt;}\n",
    "div.output {font-size:22pt; font-weight:bold;}\n",
    "div.input {font-family:Consolas; font-size:22pt;}\n",
    "div.prompt {min-width:70px;}\n",
    "div#toc-wrapper{padding-top:120px;}\n",
    "div.text_cell_render ul li{font-size:22pt;padding:5px;}\n",
    "table.dataframe{font-size:22px;}\n",
    "</style>\n",
    "\"\"\"))"
   ]
  },
  {
   "cell_type": "markdown",
   "id": "af58a0b8",
   "metadata": {},
   "source": [
    "<b><font size=\"7\" color=\"red\">ch09. 파일 i/o 프로그래밍</font></b>\n",
    "- 파일 : txt, pickle(머신러닝모델저장, 배열저장), csv, json, h5(딥러닝모델저장)\n",
    "# 1절 txt파일에 데이터저장하고 불러오기"
   ]
  },
  {
   "cell_type": "code",
   "execution_count": 9,
   "id": "407a672e",
   "metadata": {},
   "outputs": [
    {
     "name": "stdout",
     "output_type": "stream",
     "text": [
      "쓰기 가능한지 : True\n"
     ]
    }
   ],
   "source": [
    "# mode = 'r' 또는 'rt' : 텍스트 읽기모드로 열기. 파일이 없을 경우 예외 발생\n",
    "# mode = 'w' 또는 'wt' : 텍스트 쓰기모드로 열기. 폴더가 없을 경우 예외 발생\n",
    "                    # 파일이 없으면 생성. 파일이 있으면 덮어씀\n",
    "# mode = 'a' 또는 'at' : 텍스트 쓰기모드로 열기. 폴더가 없을 경우 예외 발생\n",
    "                    # 파일이 없으면 생성. 파일이 있으면 뒤에 append\n",
    "f = open('data/ch09.txt', 'w') # encoding='cp949'(win)\n",
    "print('쓰기 가능한지 :', f.writable())\n",
    "f.write('Hello\\nWorld\\n')\n",
    "f.close()"
   ]
  },
  {
   "cell_type": "code",
   "execution_count": 10,
   "id": "80d04c29",
   "metadata": {},
   "outputs": [
    {
     "name": "stdout",
     "output_type": "stream",
     "text": [
      "쓰기 가능한지 : True\n"
     ]
    }
   ],
   "source": [
    "# with구문을 사용면 매번 close()하는 코드가 불필요\n",
    "with open('data/ch09.txt', 'wt') as f:\n",
    "    print('쓰기 가능한지 :', f.writable())\n",
    "    f.write('Python is easy.\\nPython is smart.\\n')"
   ]
  },
  {
   "cell_type": "code",
   "execution_count": 12,
   "id": "4bc38802",
   "metadata": {},
   "outputs": [
    {
     "name": "stdout",
     "output_type": "stream",
     "text": [
      "프린트 함수로 파일 쓰기가 가능합니다-콘솔출력\n"
     ]
    }
   ],
   "source": [
    "with open('data/ch09.txt', 'a') as f: # cp949\n",
    "    print('프린트 함수로 파일 쓰기가 가능합니다-파일출력', file=f)\n",
    "    print('프린트 함수로 파일 쓰기가 가능합니다-콘솔출력')"
   ]
  },
  {
   "cell_type": "markdown",
   "id": "ce3cec2b",
   "metadata": {},
   "source": [
    "- 한글 읽기/쓰기\n",
    "    * cp949(한글완성형확장형) : open함수의 기본 인코딩(win)\n",
    "    * utf-8(한글조합형) : 주피터노트북에서 열기"
   ]
  },
  {
   "cell_type": "code",
   "execution_count": 4,
   "id": "4ff3ff08",
   "metadata": {},
   "outputs": [],
   "source": [
    "with open('data/ch09.txt', 'w', encoding='UTF-8') as f:\n",
    "    # 방법1\n",
    "    f.write('홍길동, 30, 서울\\n')\n",
    "    f.write('김길동, 20, 수원\\n')\n",
    "    # 방법2\n",
    "    textlist = ['홍길동, 30, 서울\\n', '김길동, 20, 부산\\n']\n",
    "    for line in textlist:\n",
    "        f.write(line)\n",
    "    # 방법3\n",
    "    f.writelines(textlist) # 리스트를 한꺼번에 write"
   ]
  },
  {
   "cell_type": "code",
   "execution_count": 5,
   "id": "70e6331b",
   "metadata": {},
   "outputs": [
    {
     "data": {
      "text/plain": [
       "'홍길동, 30, 서울\\n김길동, 20, 수원\\n홍길동, 30, 서울\\n김길동, 20, 부산\\n홍길동, 30, 서울\\n김길동, 20, 부산\\n'"
      ]
     },
     "execution_count": 5,
     "metadata": {},
     "output_type": "execute_result"
    }
   ],
   "source": [
    "# 파일을 한꺼번에 읽어오기\n",
    "with open('data/ch09.txt', 'rt', encoding='utf-8') as f:\n",
    "    filecontent = f.read()\n",
    "filecontent"
   ]
  },
  {
   "cell_type": "code",
   "execution_count": 6,
   "id": "e666d445",
   "metadata": {},
   "outputs": [
    {
     "name": "stdout",
     "output_type": "stream",
     "text": [
      "홍길동, 30, 서울\n",
      "김길동, 20, 수원\n",
      "홍길동, 30, 서울\n",
      "김길동, 20, 부산\n",
      "홍길동, 30, 서울\n",
      "김길동, 20, 부산\n"
     ]
    }
   ],
   "source": [
    "# 파일을 한줄 읽고 출력하고, 한줄읽고 출력, ...\n",
    "with open('data/ch09.txt', 'r', encoding='utf-8') as txtfile:\n",
    "    line = txtfile.readline()\n",
    "    while line != '':\n",
    "        print(line, end='') # line에 \\n이 포함되어 있어 출력시 개행은 제거\n",
    "        line = txtfile.readline()"
   ]
  },
  {
   "cell_type": "code",
   "execution_count": 7,
   "id": "1ee6f61c",
   "metadata": {},
   "outputs": [
    {
     "name": "stdout",
     "output_type": "stream",
     "text": [
      "['홍길동, 30, 서울\\n', '김길동, 20, 수원\\n', '홍길동, 30, 서울\\n', '김길동, 20, 부산\\n', '홍길동, 30, 서울\\n', '김길동, 20, 부산\\n']\n"
     ]
    }
   ],
   "source": [
    "# 파일을 한꺼번에 여러줄 읽어, 한줄씩 list담아 return\n",
    "with open('data/ch09.txt', 'r', encoding='utf-8') as txtfile:\n",
    "    lines = txtfile.readlines()\n",
    "print(lines)"
   ]
  },
  {
   "cell_type": "code",
   "execution_count": 8,
   "id": "b9804c52",
   "metadata": {},
   "outputs": [
    {
     "name": "stdout",
     "output_type": "stream",
     "text": [
      "홍길동, 30, 서울\n",
      "김길동, 20, 수원\n",
      "홍길동, 30, 서울\n",
      "김길동, 20, 부산\n",
      "홍길동, 30, 서울\n",
      "김길동, 20, 부산\n"
     ]
    }
   ],
   "source": [
    "for line in lines:\n",
    "    print(line, end='')"
   ]
  },
  {
   "cell_type": "markdown",
   "id": "fe0c538d",
   "metadata": {},
   "source": [
    "# 2절 피클을 이용한 객체 저장 및 불러오기\n",
    "- 머신러닝 모델저장, 배열저장, 객체저장\n",
    "## 2.1 형식이 있는 텍스트 데이터 불러오기"
   ]
  },
  {
   "cell_type": "code",
   "execution_count": 12,
   "id": "0145911c",
   "metadata": {},
   "outputs": [
    {
     "name": "stdout",
     "output_type": "stream",
     "text": [
      "{'name': '홍길동', 'age': 20, 'email': 'kildong@hong.com', 'address': '서울시 관악구'}\n",
      "{'name': '홍길숙', 'age': 25, 'email': 'kilsuk1@hong.com', 'address': '서울시 영등포구'}\n",
      "{'name': '신길동', 'age': 30, 'email': 'shinkil@hong.com', 'address': '서울시 동작구'}\n"
     ]
    }
   ],
   "source": [
    "with open('data/ch09_member.txt', 'r', encoding='UTF-8') as f:\n",
    "    lines = f.readlines()\n",
    "#print(lines)\n",
    "for line in lines:\n",
    "    # print(line)\n",
    "    data = line.split(', ')\n",
    "    # print(data)\n",
    "    name = data[0]\n",
    "    age = int(data[1])\n",
    "    email = data[2]\n",
    "    address = data[3].strip()\n",
    "    print({'name':name,\n",
    "           'age':age,\n",
    "           'email':email,\n",
    "           'address':address})"
   ]
  },
  {
   "cell_type": "code",
   "execution_count": 20,
   "id": "fc911cd2",
   "metadata": {},
   "outputs": [],
   "source": [
    "class Member:\n",
    "    def __init__(self, name, age, email, address):\n",
    "        self.name = name\n",
    "        self.age  = age\n",
    "        self.email = email\n",
    "        self.address = address\n",
    "    def __str__(self):\n",
    "        return \"{},{},{},{}\".format(self.name, self.age, self.email, self.address)\n",
    "#     def __eq__(self, other):\n",
    "#         return self.name == other.name and \\\n",
    "#                 self.age == other.age and \\\n",
    "#                 self.email == other.email and \\\n",
    "#                 self.address == other.address\n",
    "    def __eq__(self, other):\n",
    "        return self.__str__() == other.__str__()\n",
    "    def as_dict(self):\n",
    "        '객체를 딕셔너리로 바꿔 return(json파일 저장시 필요)'\n",
    "        return self.__dict__"
   ]
  },
  {
   "cell_type": "code",
   "execution_count": 19,
   "id": "781933d1",
   "metadata": {},
   "outputs": [
    {
     "name": "stdout",
     "output_type": "stream",
     "text": [
      "신길동,30,shinkil@hong.com,서울시 동작구\n",
      "신길동,30,shinkil@hong.com,서울시 동작구\n",
      "True\n",
      "True\n",
      "{'name': '신길동', 'age': 30, 'email': 'shinkil@hong.com', 'address': '서울시 동작구'}\n",
      "{'name': '신길동', 'age': 30, 'email': 'shinkil@hong.com', 'address': '서울시 동작구'}\n"
     ]
    }
   ],
   "source": [
    "member1 = Member(\"신길동\", 30, 'shinkil@hong.com', '서울시 동작구')\n",
    "member2 = Member(\"신길동\", 30, 'shinkil@hong.com', '서울시 동작구')\n",
    "print(member1.__str__())\n",
    "print(member2)\n",
    "print(member2==member1)\n",
    "print(member2.__eq__(member1))\n",
    "print(member1.__dict__)\n",
    "print(member1.as_dict())"
   ]
  },
  {
   "cell_type": "markdown",
   "id": "2d7c9388",
   "metadata": {},
   "source": [
    "## 2.2 피클링\n",
    "- 객체리스트 -> 피클파일로 쓰기\n",
    "- 피클파일 -> 객체리스트로 읽기"
   ]
  },
  {
   "cell_type": "code",
   "execution_count": 26,
   "id": "5f9e8f51",
   "metadata": {},
   "outputs": [],
   "source": [
    "# ch09_member.txt파일 -> 객체list, 딕셔너리list로 읽어오기\n",
    "member_list = [] # Member객체 list\n",
    "dict_list   = [] # 딕셔너리 list\n",
    "with open('data/ch09_member.txt', 'r', encoding='UTF-8') as f:\n",
    "    lines = f.readlines()\n",
    "for line in lines:\n",
    "    data = line.split(',')\n",
    "    data = [item.strip() for item in data]\n",
    "    name = data[0]\n",
    "    age = int(data[1])\n",
    "    email = data[2]\n",
    "    address = data[3]\n",
    "    member = Member(name, age, email, address)\n",
    "    member_list.append(member)\n",
    "    dict_list.append(member.__dict__)"
   ]
  },
  {
   "cell_type": "code",
   "execution_count": 27,
   "id": "4d0dc288",
   "metadata": {},
   "outputs": [
    {
     "name": "stdout",
     "output_type": "stream",
     "text": [
      "홍길동,20,kildong@hong.com,서울시 관악구\n",
      "홍길숙,25,kilsuk1@hong.com,서울시 영등포구\n",
      "신길동,30,shinkil@hong.com,서울시 동작구\n"
     ]
    }
   ],
   "source": [
    "for member in member_list: # 객체 list\n",
    "    print(member)"
   ]
  },
  {
   "cell_type": "code",
   "execution_count": 29,
   "id": "593e3e45",
   "metadata": {},
   "outputs": [],
   "source": [
    "# 피클링(확장자 : pkl, pickle, data)을 이용한 객체를 파일에 저장하기\n",
    "import pickle\n",
    "with open('data/ch09_member.pkl', 'wb') as f:\n",
    "    pickle.dump(member_list, f)"
   ]
  },
  {
   "cell_type": "code",
   "execution_count": 30,
   "id": "c6ab7d3b",
   "metadata": {},
   "outputs": [],
   "source": [
    "# 피클링을 이용한 파일을 객체리스트로 읽기\n",
    "with open('data/ch09_member.pkl', 'rb') as f:\n",
    "    load_member_list = pickle.load(f)"
   ]
  },
  {
   "cell_type": "code",
   "execution_count": 31,
   "id": "db337535",
   "metadata": {},
   "outputs": [
    {
     "data": {
      "text/plain": [
       "(3009872589184, 3009872283776)"
      ]
     },
     "execution_count": 31,
     "metadata": {},
     "output_type": "execute_result"
    }
   ],
   "source": [
    "id(member_list), id(load_member_list)"
   ]
  },
  {
   "cell_type": "code",
   "execution_count": 33,
   "id": "5f829fd4",
   "metadata": {},
   "outputs": [
    {
     "name": "stdout",
     "output_type": "stream",
     "text": [
      "0 번째 비교 : True\n",
      "1 번째 비교 : True\n",
      "2 번째 비교 : True\n"
     ]
    }
   ],
   "source": [
    "for idx in range(len(member_list)):\n",
    "    print(idx, '번째 비교 :', (member_list[idx]==load_member_list[idx]))"
   ]
  },
  {
   "cell_type": "code",
   "execution_count": 36,
   "id": "37b07a24",
   "metadata": {},
   "outputs": [
    {
     "name": "stdout",
     "output_type": "stream",
     "text": [
      "0 번째 비교 : True\n",
      "1 번째 비교 : True\n",
      "2 번째 비교 : True\n"
     ]
    }
   ],
   "source": [
    "for idx, (member, load_member) in enumerate(zip(member_list, load_member_list)):\n",
    "    print(idx, '번째 비교 :', member==load_member)"
   ]
  },
  {
   "cell_type": "code",
   "execution_count": 37,
   "id": "4bf70b14",
   "metadata": {},
   "outputs": [
    {
     "data": {
      "text/plain": [
       "[True, True, True]"
      ]
     },
     "execution_count": 37,
     "metadata": {},
     "output_type": "execute_result"
    }
   ],
   "source": [
    "result = [] # 비교결과(True/False)를 append\n",
    "for member, load_member in zip(member_list, load_member_list):\n",
    "    result.append(member==load_member)\n",
    "result"
   ]
  },
  {
   "cell_type": "code",
   "execution_count": 38,
   "id": "dca7d961",
   "metadata": {},
   "outputs": [
    {
     "data": {
      "text/plain": [
       "True"
      ]
     },
     "execution_count": 38,
     "metadata": {},
     "output_type": "execute_result"
    }
   ],
   "source": [
    "all(result) # 모든 요소들이 True인지 여부"
   ]
  },
  {
   "cell_type": "code",
   "execution_count": 39,
   "id": "761f4376",
   "metadata": {},
   "outputs": [
    {
     "data": {
      "text/plain": [
       "False"
      ]
     },
     "execution_count": 39,
     "metadata": {},
     "output_type": "execute_result"
    }
   ],
   "source": [
    "all([True, True, True, True, True, True, True, True, True, False])"
   ]
  },
  {
   "cell_type": "markdown",
   "id": "5a919180",
   "metadata": {},
   "source": [
    "# 3절 CSV 파일 읽기/쓰기\n",
    "- CSV파일의 자료를 리스트 데이터로 읽고 쓰기 (3.1과 3.2)\n",
    "- CSV파일의 자료를 딕셔너리 데이터로 읽고 쓰기 (3.3과 3.4)\n",
    "## 3.1 reader"
   ]
  },
  {
   "cell_type": "code",
   "execution_count": 43,
   "id": "f1878788",
   "metadata": {},
   "outputs": [
    {
     "data": {
      "text/plain": [
       "[['홍길동', '20', 'kildong@hong.com', '서울시 관악구'],\n",
       " ['김길동', '40', 'kimdong@hong.com', '서울시 영등포구'],\n",
       " ['신길동', '30', 'sindong@hong.com', '서울시 동작구']]"
      ]
     },
     "execution_count": 43,
     "metadata": {},
     "output_type": "execute_result"
    }
   ],
   "source": [
    "import csv\n",
    "with open('data/ch09_member1.csv', 'r', encoding='utf-8') as f:\n",
    "    reader = csv.reader(f)\n",
    "    result = list(reader)\n",
    "result"
   ]
  },
  {
   "cell_type": "code",
   "execution_count": 44,
   "id": "582dd9eb",
   "metadata": {},
   "outputs": [
    {
     "name": "stdout",
     "output_type": "stream",
     "text": [
      "['홍길동', '20', 'kildong@hong.com', '서울시 관악구', '']\n",
      "['김길동', '40', 'kimdong@hong.com', '서울시 영등포구', '팀장']\n",
      "['신길동', '30', 'sindong@hong.com', '서울시 동작구', '']\n"
     ]
    }
   ],
   "source": [
    "with open('data/ch09_member1-cp.csv', 'r') as f:\n",
    "    reader = csv.reader(f)\n",
    "    for row in reader:\n",
    "        print(row)"
   ]
  },
  {
   "cell_type": "code",
   "execution_count": 8,
   "id": "3f7e83dd",
   "metadata": {},
   "outputs": [
    {
     "name": "stdout",
     "output_type": "stream",
     "text": [
      "['홍길동', 20.0, 'kildong@hong.com', '서울시 관악구']\n",
      "['김길동', 40.0, 'kimdong@hong.com', '서울시 영등포구']\n",
      "['신길동', 30.0, 'sindong@hong.com', '서울시 동작구']\n"
     ]
    }
   ],
   "source": [
    "# \"\"(따옴표)가 없는 데이터는 numeric으로\n",
    "import csv\n",
    "with open('data/ch09_member1.csv', 'r', encoding='utf-8') as f:\n",
    "    reader = csv.reader(f, \n",
    "                        quoting=csv.QUOTE_NONNUMERIC)\n",
    "    for row in reader:\n",
    "        print(row)"
   ]
  },
  {
   "cell_type": "markdown",
   "id": "39314c63",
   "metadata": {},
   "source": [
    "## 3.2 writer\n",
    "- list -> csv로 저장"
   ]
  },
  {
   "cell_type": "code",
   "execution_count": 9,
   "id": "0474131f",
   "metadata": {},
   "outputs": [],
   "source": [
    "user_list = [ ['신길동', 30, 'sindong@hong.com', '서울시 관악구'], \n",
    "             ['홍길동', 20, 'sindong@hong.com', '서울시 동작구'],\n",
    "             ['박길동', 25, 'sindong@hong.com', '서울시 서초구'] ]"
   ]
  },
  {
   "cell_type": "code",
   "execution_count": 13,
   "id": "0cd72588",
   "metadata": {},
   "outputs": [],
   "source": [
    "# newline='' 옵션 빼면 개행이 2번(python 3.10)\n",
    "try:\n",
    "    with open('data/ch09_member2-write.csv', 'w', newline='') as f:\n",
    "        writer = csv.writer(f)\n",
    "#         for user in user_list:\n",
    "#             writer.writerow(user)\n",
    "        writer.writerows(user_list)\n",
    "except FileNotFoundError as e:\n",
    "    print(e)"
   ]
  },
  {
   "cell_type": "markdown",
   "id": "5c8862a2",
   "metadata": {},
   "source": [
    "## 3.3 DictReader\n",
    "- CSV파일을 딕셔너리 데이터로 읽기"
   ]
  },
  {
   "cell_type": "code",
   "execution_count": 14,
   "id": "08e6e63c",
   "metadata": {},
   "outputs": [
    {
     "data": {
      "text/plain": [
       "[{'name': '홍길동',\n",
       "  'age': '20',\n",
       "  'email': 'h@h.com',\n",
       "  'address': '서울시 관악구',\n",
       "  'job': None},\n",
       " {'name': '신길동',\n",
       "  'age': '40',\n",
       "  'email': 's@h.com',\n",
       "  'address': '서울시 영등포구',\n",
       "  'job': '팀장'},\n",
       " {'name': '김길동',\n",
       "  'age': '30',\n",
       "  'email': 'k@h.com',\n",
       "  'address': '서울시 동작구',\n",
       "  'job': None}]"
      ]
     },
     "execution_count": 14,
     "metadata": {},
     "output_type": "execute_result"
    }
   ],
   "source": [
    "import csv\n",
    "# header가 있는 csv파일을 딕셔너리로 읽기(ch09_member3.csv)\n",
    "with open('data/ch09_member3.csv', 'r', encoding='utf-8') as f:\n",
    "    dict_reader = csv.DictReader(f)\n",
    "    result = list(dict_reader)\n",
    "result"
   ]
  },
  {
   "cell_type": "code",
   "execution_count": 15,
   "id": "ecccc447",
   "metadata": {
    "collapsed": true
   },
   "outputs": [
    {
     "name": "stdout",
     "output_type": "stream",
     "text": [
      "{'name': '홍길동', 'age': '20', 'email': 'h@h.com', 'address': '서울시 관악구', 'job': '없음'}\n",
      "{'name': '신길동', 'age': '40', 'email': 's@h.com', 'address': '서울시 영등포구', 'job': '팀장'}\n",
      "{'name': '김길동', 'age': '30', 'email': 'k@h.com', 'address': '서울시 동작구', 'job': '없음'}\n"
     ]
    }
   ],
   "source": [
    "# header가 있는 csv파일을 딕셔너리로 읽기(ch09_member3.csv)\n",
    "with open('data/ch09_member3.csv', 'r', encoding='utf-8') as f:\n",
    "    dict_reader = csv.DictReader(f, restval=\"없음\")\n",
    "    for row in dict_reader:\n",
    "        print(row)"
   ]
  },
  {
   "cell_type": "code",
   "execution_count": 16,
   "id": "51586e4c",
   "metadata": {},
   "outputs": [
    {
     "data": {
      "text/html": [
       "<div>\n",
       "<style scoped>\n",
       "    .dataframe tbody tr th:only-of-type {\n",
       "        vertical-align: middle;\n",
       "    }\n",
       "\n",
       "    .dataframe tbody tr th {\n",
       "        vertical-align: top;\n",
       "    }\n",
       "\n",
       "    .dataframe thead th {\n",
       "        text-align: right;\n",
       "    }\n",
       "</style>\n",
       "<table border=\"1\" class=\"dataframe\">\n",
       "  <thead>\n",
       "    <tr style=\"text-align: right;\">\n",
       "      <th></th>\n",
       "      <th>name</th>\n",
       "      <th>age</th>\n",
       "      <th>email</th>\n",
       "      <th>address</th>\n",
       "      <th>job</th>\n",
       "    </tr>\n",
       "  </thead>\n",
       "  <tbody>\n",
       "    <tr>\n",
       "      <th>0</th>\n",
       "      <td>홍길동</td>\n",
       "      <td>20</td>\n",
       "      <td>h@h.com</td>\n",
       "      <td>서울시 관악구</td>\n",
       "      <td>NaN</td>\n",
       "    </tr>\n",
       "    <tr>\n",
       "      <th>1</th>\n",
       "      <td>신길동</td>\n",
       "      <td>40</td>\n",
       "      <td>s@h.com</td>\n",
       "      <td>서울시 영등포구</td>\n",
       "      <td>팀장</td>\n",
       "    </tr>\n",
       "    <tr>\n",
       "      <th>2</th>\n",
       "      <td>김길동</td>\n",
       "      <td>30</td>\n",
       "      <td>k@h.com</td>\n",
       "      <td>서울시 동작구</td>\n",
       "      <td>NaN</td>\n",
       "    </tr>\n",
       "  </tbody>\n",
       "</table>\n",
       "</div>"
      ],
      "text/plain": [
       "  name  age    email   address  job\n",
       "0  홍길동   20  h@h.com   서울시 관악구  NaN\n",
       "1  신길동   40  s@h.com  서울시 영등포구   팀장\n",
       "2  김길동   30  k@h.com   서울시 동작구  NaN"
      ]
     },
     "execution_count": 16,
     "metadata": {},
     "output_type": "execute_result"
    }
   ],
   "source": [
    "# csv파일을 데이터프레임 데이터로 읽기\n",
    "import pandas as pd\n",
    "members = pd.read_csv('data/ch09_member3.csv') # 기본 인코딩 방식이 encoding='utf-8'\n",
    "members"
   ]
  },
  {
   "cell_type": "code",
   "execution_count": 17,
   "id": "7bca4b90",
   "metadata": {},
   "outputs": [
    {
     "data": {
      "text/plain": [
       "pandas.core.frame.DataFrame"
      ]
     },
     "execution_count": 17,
     "metadata": {},
     "output_type": "execute_result"
    }
   ],
   "source": [
    "type(members)"
   ]
  },
  {
   "cell_type": "code",
   "execution_count": 18,
   "id": "a1963825",
   "metadata": {},
   "outputs": [
    {
     "data": {
      "text/html": [
       "<div>\n",
       "<style scoped>\n",
       "    .dataframe tbody tr th:only-of-type {\n",
       "        vertical-align: middle;\n",
       "    }\n",
       "\n",
       "    .dataframe tbody tr th {\n",
       "        vertical-align: top;\n",
       "    }\n",
       "\n",
       "    .dataframe thead th {\n",
       "        text-align: right;\n",
       "    }\n",
       "</style>\n",
       "<table border=\"1\" class=\"dataframe\">\n",
       "  <thead>\n",
       "    <tr style=\"text-align: right;\">\n",
       "      <th></th>\n",
       "      <th>name</th>\n",
       "      <th>age</th>\n",
       "      <th>email</th>\n",
       "      <th>address</th>\n",
       "      <th>job</th>\n",
       "    </tr>\n",
       "  </thead>\n",
       "  <tbody>\n",
       "    <tr>\n",
       "      <th>0</th>\n",
       "      <td>홍길동</td>\n",
       "      <td>20</td>\n",
       "      <td>h@h.com</td>\n",
       "      <td>서울시 관악구</td>\n",
       "      <td>None</td>\n",
       "    </tr>\n",
       "    <tr>\n",
       "      <th>1</th>\n",
       "      <td>신길동</td>\n",
       "      <td>40</td>\n",
       "      <td>s@h.com</td>\n",
       "      <td>서울시 영등포구</td>\n",
       "      <td>팀장</td>\n",
       "    </tr>\n",
       "    <tr>\n",
       "      <th>2</th>\n",
       "      <td>김길동</td>\n",
       "      <td>30</td>\n",
       "      <td>k@h.com</td>\n",
       "      <td>서울시 동작구</td>\n",
       "      <td>None</td>\n",
       "    </tr>\n",
       "  </tbody>\n",
       "</table>\n",
       "</div>"
      ],
      "text/plain": [
       "  name age    email   address   job\n",
       "0  홍길동  20  h@h.com   서울시 관악구  None\n",
       "1  신길동  40  s@h.com  서울시 영등포구    팀장\n",
       "2  김길동  30  k@h.com   서울시 동작구  None"
      ]
     },
     "execution_count": 18,
     "metadata": {},
     "output_type": "execute_result"
    }
   ],
   "source": [
    "pd.DataFrame(data=result)"
   ]
  },
  {
   "cell_type": "code",
   "execution_count": 21,
   "id": "54e85722",
   "metadata": {},
   "outputs": [
    {
     "name": "stdout",
     "output_type": "stream",
     "text": [
      "{'이름': '홍길동', 'Age': '20', 'Email': 'kildong@hong.com', 'Address': '서울시 관악구', 'Job': ''}\n",
      "{'이름': '김길동', 'Age': '40', 'Email': 'kimdong@hong.com', 'Address': '서울시 영등포구', 'Job': '팀장'}\n",
      "{'이름': '신길동', 'Age': '30', 'Email': 'sindong@hong.com', 'Address': '서울시 동작구', 'Job': ''}\n"
     ]
    }
   ],
   "source": [
    "# header가 없는 CSV파일을 딕셔너리 데이터로 읽기(ch09_member1-cp.csv)\n",
    "with open('data/ch09_member1-cp.csv', 'r') as f:\n",
    "    dict_reader = csv.DictReader(f, fieldnames=['name','Age','Email','Address','Job'])\n",
    "    for row in dict_reader:\n",
    "        print(row)"
   ]
  },
  {
   "cell_type": "code",
   "execution_count": 23,
   "id": "b0a69ca0",
   "metadata": {},
   "outputs": [
    {
     "name": "stdout",
     "output_type": "stream",
     "text": [
      "{'name': '홍길동', 'Age': '20', 'Email': 'kildong@hong.com', 'Address': '서울시 관악구', 'Job': ['']}\n",
      "{'name': '김길동', 'Age': '40', 'Email': 'kimdong@hong.com', 'Address': '서울시 영등포구', 'Job': ['팀장']}\n",
      "{'name': '신길동', 'Age': '30', 'Email': 'sindong@hong.com', 'Address': '서울시 동작구', 'Job': ['']}\n"
     ]
    }
   ],
   "source": [
    "# header가 없는 CSV파일을 딕셔너리 데이터로 읽기(ch09_member1-cp.csv)\n",
    "with open('data/ch09_member1-cp.csv', 'r') as f:\n",
    "    dict_reader = csv.DictReader(f, fieldnames=['name','Age','Email','Address'],\n",
    "                                restkey='Job')\n",
    "    for row in dict_reader:\n",
    "        print(row)"
   ]
  },
  {
   "cell_type": "markdown",
   "id": "8d5103ce",
   "metadata": {},
   "source": [
    "## 3.4 DictWriter\n",
    "- 딕셔너리 데이터(딕셔너리 list)를 csv파일로 쓰기"
   ]
  },
  {
   "cell_type": "code",
   "execution_count": 24,
   "id": "f2c07128",
   "metadata": {},
   "outputs": [
    {
     "data": {
      "text/plain": [
       "[{'name': '신길동', 'Age': '30', 'Email': 'sg@hong.com', 'Address': '서울'},\n",
       " {'name': '홍길동', 'Age': '20', 'Email': 'ho@hong.com', 'Address': '수원'},\n",
       " {'name': '마길동', 'Age': '25', 'Email': 'ma@hong.com', 'Address': '안양'}]"
      ]
     },
     "execution_count": 24,
     "metadata": {},
     "output_type": "execute_result"
    }
   ],
   "source": [
    "user1 = {'name':'신길동', 'Age':'30', 'Email':'sg@hong.com', 'Address':'서울'}\n",
    "user2 = {'name':'홍길동', 'Age':'20', 'Email':'ho@hong.com', 'Address':'수원'}\n",
    "user3 = {'name':'마길동', 'Age':'25', 'Email':'ma@hong.com', 'Address':'안양'}\n",
    "user_list = [user1, user2, user3]\n",
    "user_list         "
   ]
  },
  {
   "cell_type": "code",
   "execution_count": 27,
   "id": "d63d1d47",
   "metadata": {},
   "outputs": [
    {
     "data": {
      "text/plain": [
       "['name', 'Age', 'Email', 'Address']"
      ]
     },
     "execution_count": 27,
     "metadata": {},
     "output_type": "execute_result"
    }
   ],
   "source": [
    "fieldnames = list(user1.keys())\n",
    "fieldnames"
   ]
  },
  {
   "cell_type": "code",
   "execution_count": 30,
   "id": "c9acdf71",
   "metadata": {},
   "outputs": [],
   "source": [
    "with open('data/ch09_member4.csv', 'w', encoding='utf-8', newline='') as f:\n",
    "    dict_writer = csv.DictWriter(f, fieldnames=fieldnames)\n",
    "    dict_writer.writeheader() # header 한줄 쓰기\n",
    "#     for user in user_list:\n",
    "#         dict_writer.writerow(user)\n",
    "    dict_writer.writerows(user_list)"
   ]
  },
  {
   "cell_type": "markdown",
   "id": "5f18f466",
   "metadata": {},
   "source": [
    "# 4절 JSON 파일에 저장하고 불러오기(dump, load)\n",
    "```\n",
    "[{'title':'국가정보원 화재', 'url':'http://~', 'content':'무시기무기시~'},\n",
    " {'title':'국가정보원 화재', 'url':'http://~', 'content':'무시기무기시~'},\n",
    " {'title':'국가정보원 화재', 'url':'http://~', 'content':'무시기무기시~'}]\n",
    "```\n",
    "## 4.1 JSON dump(파일에 저장)\n",
    "### (1) 딕셔너리 list를 json파일로 저장\n",
    "### (2) 객체 list를 json파일로 저장(객체를 딕셔너리로 바꾸는 함수가 필요)"
   ]
  },
  {
   "cell_type": "code",
   "execution_count": 40,
   "id": "7657310b",
   "metadata": {
    "scrolled": true
   },
   "outputs": [],
   "source": [
    "### (1) 딕셔너리 list를 json파일로 저장\n",
    "data = [{'name': '홍길동', 'Age': 30, 'Email': 'hg@hong.com', 'Address': '서울'},\n",
    "       {'name': '박길동', 'Age': 20, 'Email': 'pg@hong.com', 'Address': '부산'},\n",
    "       {'name': '신길동', 'Age': 25, 'Email': 'sg@hong.com', 'Address': '대전'}]"
   ]
  },
  {
   "cell_type": "code",
   "execution_count": 41,
   "id": "94c068a5",
   "metadata": {},
   "outputs": [],
   "source": [
    "# ensure_ascii 옵션의 역할 : ASCII 코드를 넘어선 문자를 어떻게 처리할지\n",
    "# 기본값(True) : ASCII 코드 범위를 넘어선 글자는 유니코드로 저장\n",
    "# False : 비ASCII 문자는 원래 형태로 그대로 저장\n",
    "import json\n",
    "with open('data/ch09_member1.json', 'w') as jsonfile:\n",
    "    json.dump(data, # 딕셔너리 리스트\n",
    "             jsonfile, # 파일 스트림\n",
    "             ensure_ascii=False, # 비ASCII 코드 문자 처리 여부\n",
    "             indent='  ') # 들여쓰기 여부"
   ]
  },
  {
   "cell_type": "code",
   "execution_count": null,
   "id": "a1aeede9",
   "metadata": {},
   "outputs": [],
   "source": [
    "### (2) 객체 list를 json파일로 저장(객체를 딕셔너리로 바꾸는 함수가 필요)"
   ]
  },
  {
   "cell_type": "code",
   "execution_count": 42,
   "id": "b83caa1f",
   "metadata": {},
   "outputs": [],
   "source": [
    "class Member:\n",
    "    def __init__(self, name, age, email, address):\n",
    "        self.name = name\n",
    "        self.age  = age\n",
    "        self.email = email\n",
    "        self.address = address\n",
    "    def __str__(self):\n",
    "        return \"{},{},{},{}\".format(self.name, self.age, self.email, self.address)\n",
    "    def __eq__(self, other):\n",
    "        return self.__str__() == other.__str__()\n",
    "    def as_dict(self):\n",
    "        '객체를 딕셔너리로 바꿔 return(json파일 저장시 필요)'\n",
    "        return self.__dict__"
   ]
  },
  {
   "cell_type": "code",
   "execution_count": 44,
   "id": "01a986a2",
   "metadata": {},
   "outputs": [
    {
     "data": {
      "text/plain": [
       "['홍길동,30,h@h.com,서울', '마길동,25,m@h.com,하남', '박길동,35,p@p.com,대전']"
      ]
     },
     "execution_count": 44,
     "metadata": {},
     "output_type": "execute_result"
    }
   ],
   "source": [
    "member_list = [Member('홍길동', 30, 'h@h.com', '서울'),\n",
    "               Member('마길동', 25, 'm@h.com', '하남'),\n",
    "               Member('박길동', 35, 'p@p.com', '대전')]\n",
    "[member.__str__() for member in member_list]"
   ]
  },
  {
   "cell_type": "code",
   "execution_count": 46,
   "id": "31f0ea97",
   "metadata": {},
   "outputs": [],
   "source": [
    "with open('data/ch09_member2.json', 'w', encoding='utf-8') as jsonfile:\n",
    "    json.dump(member_list, # 저장할 리스트(객체 리스트)\n",
    "             jsonfile,\n",
    "             ensure_ascii=False,\n",
    "             indent='\\t',\n",
    "             default=Member.as_dict) # 객체를 딕셔너리형태로 return하는 함수"
   ]
  },
  {
   "cell_type": "markdown",
   "id": "ba93e1df",
   "metadata": {},
   "source": [
    "## 4.2 JSON load(파일 읽기)\n",
    "### (1) json파일을 딕셔너리 리스트로 읽기\n",
    "### (2) json파일을 객체 리스트로 읽기(딕셔너리를 객체로 return 하는 함수가 필요)"
   ]
  },
  {
   "cell_type": "code",
   "execution_count": 47,
   "id": "f7f6bb94",
   "metadata": {},
   "outputs": [
    {
     "data": {
      "text/plain": [
       "[{'name': '홍길동', 'Age': 30, 'Email': 'hg@hong.com', 'Address': '서울'},\n",
       " {'name': '박길동', 'Age': 20, 'Email': 'pg@hong.com', 'Address': '부산'},\n",
       " {'name': '신길동', 'Age': 25, 'Email': 'sg@hong.com', 'Address': '대전'}]"
      ]
     },
     "execution_count": 47,
     "metadata": {},
     "output_type": "execute_result"
    }
   ],
   "source": [
    "### (1) json파일을 딕셔너리 리스트로 읽기\n",
    "with open('data/ch09_member1.json', 'r') as jsonfile:\n",
    "    load_data = json.load(jsonfile)\n",
    "load_data"
   ]
  },
  {
   "cell_type": "code",
   "execution_count": 48,
   "id": "ef2c50de",
   "metadata": {},
   "outputs": [
    {
     "data": {
      "text/plain": [
       "(list, dict)"
      ]
     },
     "execution_count": 48,
     "metadata": {},
     "output_type": "execute_result"
    }
   ],
   "source": [
    "type(load_data), type(load_data[0])"
   ]
  },
  {
   "cell_type": "code",
   "execution_count": 51,
   "id": "27486621",
   "metadata": {},
   "outputs": [],
   "source": [
    "### (2) json파일을 객체 리스트로 읽기(딕셔너리를 객체로 return 하는 함수가 필요)\n",
    "# {'name':'홍','age':3, 'email':'h@h','address':'설'} => Member('홍', 3, 'h@h','설')\n",
    "def as_member(dic): \n",
    "    #return Member(dic['name'], dic['age'], dic['email'], dic['address'])\n",
    "    return Member(dic.get('name'), \n",
    "                  dic.get('age'), \n",
    "                  dic.get('email'), \n",
    "                  dic.get('address')\n",
    "                 )"
   ]
  },
  {
   "cell_type": "code",
   "execution_count": 53,
   "id": "117b6c86",
   "metadata": {},
   "outputs": [
    {
     "name": "stdout",
     "output_type": "stream",
     "text": [
      "홍길동,30,h@h.com,서울\n",
      "마길동,25,m@h.com,하남\n",
      "박길동,35,p@p.com,대전\n"
     ]
    }
   ],
   "source": [
    "with open('data/ch09_member2.json', 'r', encoding='utf-8') as jsonfile:\n",
    "    load_member_list = json.load(jsonfile, \n",
    "                                 object_hook=as_member) # 딕셔너리를 객체로 return 함수\n",
    "for load_member in load_member_list:\n",
    "    print(load_member)"
   ]
  },
  {
   "cell_type": "code",
   "execution_count": null,
   "id": "c3064be7",
   "metadata": {},
   "outputs": [],
   "source": [
    "# member_list => ch09_member2.json => load_member_list\n",
    "# member_list와 load_member_list가 같은 내용인지 검사"
   ]
  },
  {
   "cell_type": "code",
   "execution_count": 58,
   "id": "717ce60f",
   "metadata": {},
   "outputs": [
    {
     "name": "stdout",
     "output_type": "stream",
     "text": [
      "두 객체 리스트의 모든 데이터가 일치하는지 여부 : True\n"
     ]
    }
   ],
   "source": [
    "result = [] # list내 객체들끼리 비교 결과\n",
    "for member, load_member in zip(member_list, load_member_list):\n",
    "    result.append(member == load_member)\n",
    "print('두 객체 리스트의 모든 데이터가 일치하는지 여부 :', all(result))"
   ]
  },
  {
   "cell_type": "code",
   "execution_count": 63,
   "id": "dbedd94f",
   "metadata": {},
   "outputs": [
    {
     "data": {
      "text/plain": [
       "(array([3, 5], dtype=int64),)"
      ]
     },
     "execution_count": 63,
     "metadata": {},
     "output_type": "execute_result"
    }
   ],
   "source": [
    "# False인 곳의 index가 궁금?\n",
    "import numpy as np\n",
    "result = np.array([True, True, True, False, True, False])\n",
    "np.where(result == False)"
   ]
  },
  {
   "cell_type": "code",
   "execution_count": 65,
   "id": "1eecef01",
   "metadata": {},
   "outputs": [
    {
     "data": {
      "text/plain": [
       "{True}"
      ]
     },
     "execution_count": 65,
     "metadata": {},
     "output_type": "execute_result"
    }
   ],
   "source": [
    "result = set() # 빈 셋 / {}:빈딕셔너리\n",
    "for member, load_member in zip(member_list, load_member_list):\n",
    "    result.add(member == load_member)\n",
    "result"
   ]
  },
  {
   "cell_type": "markdown",
   "id": "10d9314e",
   "metadata": {},
   "source": [
    "# 5절 hdf5파일 쓰기/읽기\n",
    "- *.hdf5나 *.h5 파일을 볼 수 있는 hdfviwer를 설치\n",
    "- 딕셔너리 리스트, 데이터프레임, 딥러닝 모델"
   ]
  },
  {
   "cell_type": "code",
   "execution_count": 5,
   "id": "d8bc50df",
   "metadata": {
    "scrolled": true
   },
   "outputs": [
    {
     "data": {
      "text/html": [
       "<div>\n",
       "<style scoped>\n",
       "    .dataframe tbody tr th:only-of-type {\n",
       "        vertical-align: middle;\n",
       "    }\n",
       "\n",
       "    .dataframe tbody tr th {\n",
       "        vertical-align: top;\n",
       "    }\n",
       "\n",
       "    .dataframe thead th {\n",
       "        text-align: right;\n",
       "    }\n",
       "</style>\n",
       "<table border=\"1\" class=\"dataframe\">\n",
       "  <thead>\n",
       "    <tr style=\"text-align: right;\">\n",
       "      <th></th>\n",
       "      <th>sepal_length</th>\n",
       "      <th>sepal_width</th>\n",
       "      <th>petal_length</th>\n",
       "      <th>petal_width</th>\n",
       "      <th>species</th>\n",
       "    </tr>\n",
       "  </thead>\n",
       "  <tbody>\n",
       "    <tr>\n",
       "      <th>0</th>\n",
       "      <td>5.1</td>\n",
       "      <td>3.5</td>\n",
       "      <td>1.4</td>\n",
       "      <td>0.2</td>\n",
       "      <td>setosa</td>\n",
       "    </tr>\n",
       "    <tr>\n",
       "      <th>1</th>\n",
       "      <td>4.9</td>\n",
       "      <td>3.0</td>\n",
       "      <td>1.4</td>\n",
       "      <td>0.2</td>\n",
       "      <td>setosa</td>\n",
       "    </tr>\n",
       "    <tr>\n",
       "      <th>2</th>\n",
       "      <td>4.7</td>\n",
       "      <td>3.2</td>\n",
       "      <td>1.3</td>\n",
       "      <td>0.2</td>\n",
       "      <td>setosa</td>\n",
       "    </tr>\n",
       "    <tr>\n",
       "      <th>3</th>\n",
       "      <td>4.6</td>\n",
       "      <td>3.1</td>\n",
       "      <td>1.5</td>\n",
       "      <td>0.2</td>\n",
       "      <td>setosa</td>\n",
       "    </tr>\n",
       "    <tr>\n",
       "      <th>4</th>\n",
       "      <td>5.0</td>\n",
       "      <td>3.6</td>\n",
       "      <td>1.4</td>\n",
       "      <td>0.2</td>\n",
       "      <td>setosa</td>\n",
       "    </tr>\n",
       "    <tr>\n",
       "      <th>...</th>\n",
       "      <td>...</td>\n",
       "      <td>...</td>\n",
       "      <td>...</td>\n",
       "      <td>...</td>\n",
       "      <td>...</td>\n",
       "    </tr>\n",
       "    <tr>\n",
       "      <th>145</th>\n",
       "      <td>6.7</td>\n",
       "      <td>3.0</td>\n",
       "      <td>5.2</td>\n",
       "      <td>2.3</td>\n",
       "      <td>virginica</td>\n",
       "    </tr>\n",
       "    <tr>\n",
       "      <th>146</th>\n",
       "      <td>6.3</td>\n",
       "      <td>2.5</td>\n",
       "      <td>5.0</td>\n",
       "      <td>1.9</td>\n",
       "      <td>virginica</td>\n",
       "    </tr>\n",
       "    <tr>\n",
       "      <th>147</th>\n",
       "      <td>6.5</td>\n",
       "      <td>3.0</td>\n",
       "      <td>5.2</td>\n",
       "      <td>2.0</td>\n",
       "      <td>virginica</td>\n",
       "    </tr>\n",
       "    <tr>\n",
       "      <th>148</th>\n",
       "      <td>6.2</td>\n",
       "      <td>3.4</td>\n",
       "      <td>5.4</td>\n",
       "      <td>2.3</td>\n",
       "      <td>virginica</td>\n",
       "    </tr>\n",
       "    <tr>\n",
       "      <th>149</th>\n",
       "      <td>5.9</td>\n",
       "      <td>3.0</td>\n",
       "      <td>5.1</td>\n",
       "      <td>1.8</td>\n",
       "      <td>virginica</td>\n",
       "    </tr>\n",
       "  </tbody>\n",
       "</table>\n",
       "<p>150 rows × 5 columns</p>\n",
       "</div>"
      ],
      "text/plain": [
       "     sepal_length  sepal_width  petal_length  petal_width    species\n",
       "0             5.1          3.5           1.4          0.2     setosa\n",
       "1             4.9          3.0           1.4          0.2     setosa\n",
       "2             4.7          3.2           1.3          0.2     setosa\n",
       "3             4.6          3.1           1.5          0.2     setosa\n",
       "4             5.0          3.6           1.4          0.2     setosa\n",
       "..            ...          ...           ...          ...        ...\n",
       "145           6.7          3.0           5.2          2.3  virginica\n",
       "146           6.3          2.5           5.0          1.9  virginica\n",
       "147           6.5          3.0           5.2          2.0  virginica\n",
       "148           6.2          3.4           5.4          2.3  virginica\n",
       "149           5.9          3.0           5.1          1.8  virginica\n",
       "\n",
       "[150 rows x 5 columns]"
      ]
     },
     "execution_count": 5,
     "metadata": {},
     "output_type": "execute_result"
    }
   ],
   "source": [
    "# seaborn은 파이썬에서 데이터 시각화를 도와주는 라이브러리로 자주 쓰이는 데이터 셋\n",
    "import seaborn as sns\n",
    "iris_df = sns.load_dataset(\"iris\")\n",
    "iris_df # 꽃의종, 꽃받침길이, 꽃받침너비, 꽃잎길이, 꽃잎너비"
   ]
  },
  {
   "cell_type": "code",
   "execution_count": 6,
   "id": "88bcd354",
   "metadata": {},
   "outputs": [],
   "source": [
    "# 데이터 프레임을 hdf파일로 쓰기\n",
    "iris_df.to_hdf('data/ch09_irisdf.hdf5', key='iris')"
   ]
  },
  {
   "cell_type": "code",
   "execution_count": 7,
   "id": "a91491ea",
   "metadata": {},
   "outputs": [
    {
     "data": {
      "text/html": [
       "<div>\n",
       "<style scoped>\n",
       "    .dataframe tbody tr th:only-of-type {\n",
       "        vertical-align: middle;\n",
       "    }\n",
       "\n",
       "    .dataframe tbody tr th {\n",
       "        vertical-align: top;\n",
       "    }\n",
       "\n",
       "    .dataframe thead th {\n",
       "        text-align: right;\n",
       "    }\n",
       "</style>\n",
       "<table border=\"1\" class=\"dataframe\">\n",
       "  <thead>\n",
       "    <tr style=\"text-align: right;\">\n",
       "      <th></th>\n",
       "      <th>sepal_length</th>\n",
       "      <th>sepal_width</th>\n",
       "      <th>petal_length</th>\n",
       "      <th>petal_width</th>\n",
       "      <th>species</th>\n",
       "    </tr>\n",
       "  </thead>\n",
       "  <tbody>\n",
       "    <tr>\n",
       "      <th>0</th>\n",
       "      <td>5.1</td>\n",
       "      <td>3.5</td>\n",
       "      <td>1.4</td>\n",
       "      <td>0.2</td>\n",
       "      <td>setosa</td>\n",
       "    </tr>\n",
       "    <tr>\n",
       "      <th>1</th>\n",
       "      <td>4.9</td>\n",
       "      <td>3.0</td>\n",
       "      <td>1.4</td>\n",
       "      <td>0.2</td>\n",
       "      <td>setosa</td>\n",
       "    </tr>\n",
       "    <tr>\n",
       "      <th>2</th>\n",
       "      <td>4.7</td>\n",
       "      <td>3.2</td>\n",
       "      <td>1.3</td>\n",
       "      <td>0.2</td>\n",
       "      <td>setosa</td>\n",
       "    </tr>\n",
       "    <tr>\n",
       "      <th>3</th>\n",
       "      <td>4.6</td>\n",
       "      <td>3.1</td>\n",
       "      <td>1.5</td>\n",
       "      <td>0.2</td>\n",
       "      <td>setosa</td>\n",
       "    </tr>\n",
       "    <tr>\n",
       "      <th>4</th>\n",
       "      <td>5.0</td>\n",
       "      <td>3.6</td>\n",
       "      <td>1.4</td>\n",
       "      <td>0.2</td>\n",
       "      <td>setosa</td>\n",
       "    </tr>\n",
       "    <tr>\n",
       "      <th>...</th>\n",
       "      <td>...</td>\n",
       "      <td>...</td>\n",
       "      <td>...</td>\n",
       "      <td>...</td>\n",
       "      <td>...</td>\n",
       "    </tr>\n",
       "    <tr>\n",
       "      <th>145</th>\n",
       "      <td>6.7</td>\n",
       "      <td>3.0</td>\n",
       "      <td>5.2</td>\n",
       "      <td>2.3</td>\n",
       "      <td>virginica</td>\n",
       "    </tr>\n",
       "    <tr>\n",
       "      <th>146</th>\n",
       "      <td>6.3</td>\n",
       "      <td>2.5</td>\n",
       "      <td>5.0</td>\n",
       "      <td>1.9</td>\n",
       "      <td>virginica</td>\n",
       "    </tr>\n",
       "    <tr>\n",
       "      <th>147</th>\n",
       "      <td>6.5</td>\n",
       "      <td>3.0</td>\n",
       "      <td>5.2</td>\n",
       "      <td>2.0</td>\n",
       "      <td>virginica</td>\n",
       "    </tr>\n",
       "    <tr>\n",
       "      <th>148</th>\n",
       "      <td>6.2</td>\n",
       "      <td>3.4</td>\n",
       "      <td>5.4</td>\n",
       "      <td>2.3</td>\n",
       "      <td>virginica</td>\n",
       "    </tr>\n",
       "    <tr>\n",
       "      <th>149</th>\n",
       "      <td>5.9</td>\n",
       "      <td>3.0</td>\n",
       "      <td>5.1</td>\n",
       "      <td>1.8</td>\n",
       "      <td>virginica</td>\n",
       "    </tr>\n",
       "  </tbody>\n",
       "</table>\n",
       "<p>150 rows × 5 columns</p>\n",
       "</div>"
      ],
      "text/plain": [
       "     sepal_length  sepal_width  petal_length  petal_width    species\n",
       "0             5.1          3.5           1.4          0.2     setosa\n",
       "1             4.9          3.0           1.4          0.2     setosa\n",
       "2             4.7          3.2           1.3          0.2     setosa\n",
       "3             4.6          3.1           1.5          0.2     setosa\n",
       "4             5.0          3.6           1.4          0.2     setosa\n",
       "..            ...          ...           ...          ...        ...\n",
       "145           6.7          3.0           5.2          2.3  virginica\n",
       "146           6.3          2.5           5.0          1.9  virginica\n",
       "147           6.5          3.0           5.2          2.0  virginica\n",
       "148           6.2          3.4           5.4          2.3  virginica\n",
       "149           5.9          3.0           5.1          1.8  virginica\n",
       "\n",
       "[150 rows x 5 columns]"
      ]
     },
     "execution_count": 7,
     "metadata": {},
     "output_type": "execute_result"
    }
   ],
   "source": [
    "# hdf파일을 데이터프레임으로 읽어오기\n",
    "import pandas as pd\n",
    "load_iris_df = pd.read_hdf('data/ch09_irisdf.hdf5', key='iris')\n",
    "load_iris_df"
   ]
  },
  {
   "cell_type": "code",
   "execution_count": 8,
   "id": "bd0720a6",
   "metadata": {},
   "outputs": [
    {
     "data": {
      "text/plain": [
       "True"
      ]
     },
     "execution_count": 8,
     "metadata": {},
     "output_type": "execute_result"
    }
   ],
   "source": [
    "# 두 데이터프레임이 같은지 여부\n",
    "iris_df.equals(load_iris_df)"
   ]
  },
  {
   "cell_type": "code",
   "execution_count": 9,
   "id": "72b39a9a",
   "metadata": {},
   "outputs": [
    {
     "data": {
      "text/html": [
       "<div>\n",
       "<style scoped>\n",
       "    .dataframe tbody tr th:only-of-type {\n",
       "        vertical-align: middle;\n",
       "    }\n",
       "\n",
       "    .dataframe tbody tr th {\n",
       "        vertical-align: top;\n",
       "    }\n",
       "\n",
       "    .dataframe thead th {\n",
       "        text-align: right;\n",
       "    }\n",
       "</style>\n",
       "<table border=\"1\" class=\"dataframe\">\n",
       "  <thead>\n",
       "    <tr style=\"text-align: right;\">\n",
       "      <th></th>\n",
       "      <th>sepal_length</th>\n",
       "      <th>sepal_width</th>\n",
       "      <th>petal_length</th>\n",
       "      <th>petal_width</th>\n",
       "      <th>species</th>\n",
       "    </tr>\n",
       "  </thead>\n",
       "  <tbody>\n",
       "    <tr>\n",
       "      <th>0</th>\n",
       "      <td>True</td>\n",
       "      <td>True</td>\n",
       "      <td>True</td>\n",
       "      <td>True</td>\n",
       "      <td>True</td>\n",
       "    </tr>\n",
       "    <tr>\n",
       "      <th>1</th>\n",
       "      <td>True</td>\n",
       "      <td>True</td>\n",
       "      <td>True</td>\n",
       "      <td>True</td>\n",
       "      <td>True</td>\n",
       "    </tr>\n",
       "    <tr>\n",
       "      <th>2</th>\n",
       "      <td>True</td>\n",
       "      <td>True</td>\n",
       "      <td>True</td>\n",
       "      <td>True</td>\n",
       "      <td>True</td>\n",
       "    </tr>\n",
       "    <tr>\n",
       "      <th>3</th>\n",
       "      <td>True</td>\n",
       "      <td>True</td>\n",
       "      <td>True</td>\n",
       "      <td>True</td>\n",
       "      <td>True</td>\n",
       "    </tr>\n",
       "    <tr>\n",
       "      <th>4</th>\n",
       "      <td>True</td>\n",
       "      <td>True</td>\n",
       "      <td>True</td>\n",
       "      <td>True</td>\n",
       "      <td>True</td>\n",
       "    </tr>\n",
       "    <tr>\n",
       "      <th>...</th>\n",
       "      <td>...</td>\n",
       "      <td>...</td>\n",
       "      <td>...</td>\n",
       "      <td>...</td>\n",
       "      <td>...</td>\n",
       "    </tr>\n",
       "    <tr>\n",
       "      <th>145</th>\n",
       "      <td>True</td>\n",
       "      <td>True</td>\n",
       "      <td>True</td>\n",
       "      <td>True</td>\n",
       "      <td>True</td>\n",
       "    </tr>\n",
       "    <tr>\n",
       "      <th>146</th>\n",
       "      <td>True</td>\n",
       "      <td>True</td>\n",
       "      <td>True</td>\n",
       "      <td>True</td>\n",
       "      <td>True</td>\n",
       "    </tr>\n",
       "    <tr>\n",
       "      <th>147</th>\n",
       "      <td>True</td>\n",
       "      <td>True</td>\n",
       "      <td>True</td>\n",
       "      <td>True</td>\n",
       "      <td>True</td>\n",
       "    </tr>\n",
       "    <tr>\n",
       "      <th>148</th>\n",
       "      <td>True</td>\n",
       "      <td>True</td>\n",
       "      <td>True</td>\n",
       "      <td>True</td>\n",
       "      <td>True</td>\n",
       "    </tr>\n",
       "    <tr>\n",
       "      <th>149</th>\n",
       "      <td>True</td>\n",
       "      <td>True</td>\n",
       "      <td>True</td>\n",
       "      <td>True</td>\n",
       "      <td>True</td>\n",
       "    </tr>\n",
       "  </tbody>\n",
       "</table>\n",
       "<p>150 rows × 5 columns</p>\n",
       "</div>"
      ],
      "text/plain": [
       "     sepal_length  sepal_width  petal_length  petal_width  species\n",
       "0            True         True          True         True     True\n",
       "1            True         True          True         True     True\n",
       "2            True         True          True         True     True\n",
       "3            True         True          True         True     True\n",
       "4            True         True          True         True     True\n",
       "..            ...          ...           ...          ...      ...\n",
       "145          True         True          True         True     True\n",
       "146          True         True          True         True     True\n",
       "147          True         True          True         True     True\n",
       "148          True         True          True         True     True\n",
       "149          True         True          True         True     True\n",
       "\n",
       "[150 rows x 5 columns]"
      ]
     },
     "execution_count": 9,
     "metadata": {},
     "output_type": "execute_result"
    }
   ],
   "source": [
    "iris_df == load_iris_df"
   ]
  },
  {
   "cell_type": "markdown",
   "id": "51b6a500",
   "metadata": {},
   "source": [
    "# 6절 연습문제 : 고객관리\n",
    "- 프로그램 시작시 \n",
    "    * data/ch09_customers.txt(프로그램 종료시 백업용 데이터)파일이 있으면 파일을 customer_list에\n",
    "    * data/ch09_customers.txt 파일이 없으면 빈 파일 생성(w모드 열어 close)\n",
    "    * data/ch09_customers.txt 파일 내용\n",
    "    ```\n",
    "        홍길동, 010-9999-9999, k@hong.com, 30, 5, vvip\n",
    "        유길동, 010-5432-2222, y@hong.com, 20, 2, 가칠해\n",
    "    ```\n",
    "## Customer 클래스 및 to_customer()함수 작성\n",
    "    * Customer(\"홍길동\", \"010-9999-9999\", \"h@h\", 30, 2, '기타') 객체 생성\n",
    "    * 변수 : name, phone, email, age, grade, etc\n",
    "    * 함수 : `__init__`, `__str__`, as_dic(객체를 딕셔너리로 return), to_txt_style(객체를 text로)"
   ]
  },
  {
   "cell_type": "code",
   "execution_count": 1,
   "id": "5e6e13ed",
   "metadata": {},
   "outputs": [],
   "source": [
    "class Customer:\n",
    "    '고객 데이터'\n",
    "    def __init__(self, name, phone, email, age, grade, etc):\n",
    "        self.name = name\n",
    "        self.phone = phone\n",
    "        self.email = email\n",
    "        self.age = age\n",
    "        self.grade = grade\n",
    "        self.etc = etc\n",
    "    def as_dic(self):\n",
    "        return self.__dict__\n",
    "    def to_txt_style(self):\n",
    "        return \"{}, {}, {}, {}, {}, {}\".format(self.name, self.phone, self.email,\n",
    "                                              self.age, self.grade, self.etc)\n",
    "    def __str__(self):\n",
    "        return \"{:>5}\\t{}\\t{}\\t{}\\t{}\\t{}\".format('*'*self.grade,\n",
    "                                                    self.name,\n",
    "                                                    self.phone,\n",
    "                                                    self.email,\n",
    "                                                    self.age,\n",
    "                                                    self.etc)"
   ]
  },
  {
   "cell_type": "code",
   "execution_count": 2,
   "id": "294921bf",
   "metadata": {},
   "outputs": [
    {
     "name": "stdout",
     "output_type": "stream",
     "text": [
      "  ***\t홍길동\t010-9999-9999\th@h.com\t20\t기타\n",
      "*****\t홍길동\t010-9999-9999\th@h.com\t20\t기타\n",
      "홍길동, 010-9999-9999, h@h.com, 20, 3, 기타\n",
      "{'name': '홍길동', 'phone': '010-9999-9999', 'email': 'h@h.com', 'age': 20, 'grade': 3, 'etc': '기타'}\n"
     ]
    }
   ],
   "source": [
    "c1 = Customer(\"홍길동\",\"010-9999-9999\",\"h@h.com\", 20, 3, \"기타\")\n",
    "c2 = Customer(\"홍길동\",\"010-9999-9999\",\"h@h.com\", 20, 5, \"기타\")\n",
    "print(c1)\n",
    "print(c2)\n",
    "print(c1.to_txt_style())\n",
    "print(c1.as_dic())"
   ]
  },
  {
   "cell_type": "code",
   "execution_count": 3,
   "id": "08bb6dd1",
   "metadata": {},
   "outputs": [],
   "source": [
    "def to_customer(text):\n",
    "    'txt 파일 내용 한줄(홍길동, 010-8999-9999, e@e.com, 20, 3, 까칠해)을 Customer 객체로 반환'\n",
    "    data = text.strip().split(',')\n",
    "    name = data[0].strip()\n",
    "    phone = data[1].strip()\n",
    "    email = data[2].strip()\n",
    "    age = int(data[3].strip())\n",
    "    grade = int(data[4].strip())\n",
    "    etc = data[5].strip()\n",
    "    return Customer(name, phone, email, age, grade, etc)\n",
    "\n",
    "# 코드 동작 설명\n",
    "\n",
    "# - 함수 정의\n",
    "# to_customer(text) : 문자열(text)을 받아서 Customer 객체로 바꿔주는 함수입니다.\n",
    "# docstring(작은 따옴표 안의 설명문)에는 함수의 용도가 적혀 있습니다.\n",
    "# \"txt 파일의 한 줄(예: 홍길동, 010-8999-9999, e@e.com, 20, 3, 까칠해)을 Customer 객체로 변환\"\n",
    "\n",
    "# - 문자열 전처리\n",
    "# text.strip() : 양쪽 공백(개행 문자 포함)을 제거합니다.\n",
    "# .split(',') : ,(쉼표)를 기준으로 나누어 리스트로 만듭니다.\n",
    "# 예) \"홍길동, 010-8999-9999, e@e.com, 20, 3, 까칠해\" →\n",
    "# [\"홍길동\", \"010-8999-9999\", \"e@e.com\", \"20\", \"3\", \"까칠해\"]\n",
    "\n",
    "# - 리스트 요소 분리\n",
    "# name = data[0].strip()   # \"홍길동\"\n",
    "# phone = data[1].strip()  # \"010-8999-9999\"\n",
    "# email = data[2].strip()  # \"e@e.com\"\n",
    "# age = int(data[3].strip())    # \"20\" → 20 (정수 변환)\n",
    "# grade = int(data[4].strip())  # \"3\" → 3 (정수 변환)\n",
    "# etc = data[5].strip()    # \"까칠해\"\n",
    "\n",
    "# 각 데이터 항목 앞뒤 공백을 제거하고, 숫자(나이와 등급)는 int()로 변환합니다.\n",
    "\n",
    "# - Customer 객체 생성\n",
    "# Customer(name, phone, email, age, grade, etc)\n",
    "# → 위에서 뽑아낸 값들을 인자로 넣어 Customer 클래스의 객체를 만듭니다.\n",
    "\n",
    "# 최종적으로 Customer 객체가 반환됩니다.\n",
    "# ✅ 정리\n",
    "# 이 함수는 CSV 형식(쉼표 구분)의 한 줄 문자열을 받아서, \n",
    "# 내용을 알맞은 타입(문자열/정수)으로 변환한 뒤 Customer 객체로 만드는 변환 함수입니다."
   ]
  },
  {
   "cell_type": "code",
   "execution_count": 4,
   "id": "f0aa1821",
   "metadata": {},
   "outputs": [
    {
     "name": "stdout",
     "output_type": "stream",
     "text": [
      "   **\t유길동\t010-5432-2222\ty@hong.com\t20\t가칠해\n"
     ]
    }
   ],
   "source": [
    "customer = to_customer('유길동, 010-5432-2222, y@hong.com, 20, 2, 가칠해')\n",
    "print(customer)"
   ]
  },
  {
   "cell_type": "markdown",
   "id": "0b0e49c8",
   "metadata": {},
   "source": [
    "## 0. 처음 실행\n",
    "```\n",
    " data/ch09_customers.txt 파일의 내용을 읽기(to_customer()함수를 이용해서 customer_list append)\n",
    " data/ch09_customers.txt 파일이 존재하지 않으면(예외발생) \n",
    "     빈 data/ch09_customers.txt 파일 생성(w모드로 열고 닫으면) f.write('') customer_list = []\n",
    "```"
   ]
  },
  {
   "cell_type": "code",
   "execution_count": 5,
   "id": "6a47c6a5",
   "metadata": {},
   "outputs": [],
   "source": [
    "def load_customers():\n",
    "    customer_list = []\n",
    "    # 파일 내용을 customer_list에 append한다. 예외발생시 파일 작성\n",
    "    try:\n",
    "        with open('data/ch09_customers.txt', 'r', encoding='utf-8') as f:\n",
    "            # 방법1. 한줄씩 읽어서 customer_list에 append하기\n",
    "#             line = f.readline()\n",
    "#             while line != '':\n",
    "#                 customer = to_customer(line)\n",
    "#                 customer_list.append(customer)\n",
    "#                 line = f.readline()\n",
    "            # 방법2. 여러줄을 한꺼번에 읽어서 for문으로 append하기\n",
    "            lines = f.readlines()\n",
    "        for line in lines:\n",
    "            customer = to_customer(line)\n",
    "            customer_list.append(customer)\n",
    "    except FileNotFoundError as e:\n",
    "        with open('data/ch09_customers.txt', 'w', encoding='utf-8') as f:\n",
    "            f.write('')\n",
    "    return customer_list"
   ]
  },
  {
   "cell_type": "code",
   "execution_count": 6,
   "id": "35eefd20",
   "metadata": {},
   "outputs": [
    {
     "data": {
      "text/plain": [
       "['*****\\t홍길동\\t010-9999-9999\\tk@hong.com\\t30\\tvvip',\n",
       " '   **\\t유길동\\t010-5432-2222\\ty@hong.com\\t20\\t가칠해',\n",
       " '  ***\\t신림동\\t010-8888-8888\\ts@song.com\\t33\\t글쎄',\n",
       " ' ****\\t홍길동\\t010-7777-7777\\th@hong.com\\t33\\tvip',\n",
       " ' ****\\t여상철\\t010-3333-7777\\texample@lagout.fr\\t43\\t미디어 전문가']"
      ]
     },
     "execution_count": 6,
     "metadata": {},
     "output_type": "execute_result"
    }
   ],
   "source": [
    "# 위 함수 test\n",
    "customer_list = load_customers()\n",
    "[customer.__str__() for customer in customer_list]"
   ]
  },
  {
   "cell_type": "markdown",
   "id": "758f669f",
   "metadata": {},
   "source": [
    "## 1. 입력"
   ]
  },
  {
   "cell_type": "code",
   "execution_count": 7,
   "id": "4ed62447",
   "metadata": {},
   "outputs": [],
   "source": [
    "def fn1_insert_customer_info():\n",
    "    'name(정규표현식 검증), phone, email, age, grade, etc 입력받아 Customer형 객체 return'\n",
    "    import re\n",
    "    name = input('이름')\n",
    "    \n",
    "    pass"
   ]
  },
  {
   "cell_type": "code",
   "execution_count": 8,
   "id": "c7b89164",
   "metadata": {},
   "outputs": [],
   "source": [
    "    # 위 1번 함수 test"
   ]
  },
  {
   "cell_type": "markdown",
   "id": "90809253",
   "metadata": {},
   "source": [
    "## 2. 전체 출력"
   ]
  },
  {
   "cell_type": "code",
   "execution_count": 9,
   "id": "2c990aeb",
   "metadata": {},
   "outputs": [],
   "source": [
    "def fn2_print_customers(customer_list):\n",
    "    pass"
   ]
  },
  {
   "cell_type": "code",
   "execution_count": 10,
   "id": "60d011f0",
   "metadata": {},
   "outputs": [],
   "source": [
    "# 위 2번 함수 test"
   ]
  },
  {
   "cell_type": "markdown",
   "id": "4548cf54",
   "metadata": {},
   "source": [
    "## 3. 삭제"
   ]
  },
  {
   "cell_type": "code",
   "execution_count": 13,
   "id": "c1c54070",
   "metadata": {},
   "outputs": [],
   "source": [
    "# 동명이인이 없을 경우 삭제 구현\n",
    "def fn3_delete_customer(customer_list):\n",
    "    '삭제하고자 하는 고객이름을 받아 customer_list에서 삭제'\n",
    "    name = input('삭제할 고객의 이름은?')\n",
    "    for idx, customer in enumerate(customer_list):\n",
    "        if customer.name == name:\n",
    "            delete_idx.append(idx)\n",
    "    if delete_idx:\n",
    "        for idx in delete_idx[::-1]:\n",
    "            del customer_list[idx]\n",
    "        print(f'{name}님 {len(delete_idx)}')\n",
    "    else:\n",
    "        print(name, '님이 데이터에 존재하지 않습니다')"
   ]
  },
  {
   "cell_type": "code",
   "execution_count": 23,
   "id": "ce59f418",
   "metadata": {},
   "outputs": [],
   "source": [
    "# 위 3번 함수 test\n",
    "fn3_delete_customer(customer_list)"
   ]
  },
  {
   "cell_type": "code",
   "execution_count": 24,
   "id": "913583cf",
   "metadata": {},
   "outputs": [],
   "source": [
    "# 동명이인이 있을 경우(해당 동명이인을 다 삭제) 삭제 구현\n",
    "def fn3_delete_customer(customer_list):\n",
    "    pass"
   ]
  },
  {
   "cell_type": "code",
   "execution_count": 25,
   "id": "54df1d30",
   "metadata": {},
   "outputs": [],
   "source": [
    "# 위 3번 함수 test"
   ]
  },
  {
   "cell_type": "code",
   "execution_count": 26,
   "id": "40f023fd",
   "metadata": {},
   "outputs": [],
   "source": [
    "# 동명이인이 있을 경우 해당 customer를 삭제할지 붇고 Y를 입력시 삭제 구현\n",
    "def fn3_delete_customer(customer_list):\n",
    "    pass"
   ]
  },
  {
   "cell_type": "code",
   "execution_count": 18,
   "id": "57b5c1e7",
   "metadata": {},
   "outputs": [],
   "source": [
    "# 위 3번 함수 test"
   ]
  },
  {
   "cell_type": "markdown",
   "id": "10cf56dd",
   "metadata": {},
   "source": [
    "## 4. 이름찾기"
   ]
  },
  {
   "cell_type": "code",
   "execution_count": 19,
   "id": "4ebcb7f8",
   "metadata": {},
   "outputs": [],
   "source": [
    "# 동명이인이 없을 경우 삭제 구현\n",
    "def fn4_search_customer(customer_list):\n",
    "    pass"
   ]
  },
  {
   "cell_type": "code",
   "execution_count": 20,
   "id": "8b9d8eed",
   "metadata": {},
   "outputs": [],
   "source": [
    "# 위 4번 함수 test"
   ]
  },
  {
   "cell_type": "code",
   "execution_count": 21,
   "id": "35e45423",
   "metadata": {},
   "outputs": [],
   "source": [
    "# 동명이인이 있을 경우 삭제 구현\n",
    "def fn4_search_customer(customer_list):\n",
    "    pass"
   ]
  },
  {
   "cell_type": "code",
   "execution_count": 61,
   "id": "c133d98c",
   "metadata": {},
   "outputs": [],
   "source": [
    "# 위 4번 함수 test"
   ]
  },
  {
   "cell_type": "markdown",
   "id": "84c4e357",
   "metadata": {},
   "source": [
    "## 5. 내보내기(CSV)"
   ]
  },
  {
   "cell_type": "code",
   "execution_count": 62,
   "id": "9a8b7bff",
   "metadata": {},
   "outputs": [],
   "source": [
    "def fn5_save_customer_csv(customer_list):\n",
    "    pass"
   ]
  },
  {
   "cell_type": "code",
   "execution_count": 63,
   "id": "e518a41c",
   "metadata": {},
   "outputs": [],
   "source": [
    "# 위 5번 함수 test"
   ]
  },
  {
   "cell_type": "markdown",
   "id": "6ea0bfc7",
   "metadata": {},
   "source": [
    "## 9. 종료\n",
    "- 종료하기 전 customer_list를 txt파일에 저장하고 종료"
   ]
  },
  {
   "cell_type": "code",
   "execution_count": 64,
   "id": "fb91f156",
   "metadata": {},
   "outputs": [],
   "source": [
    "def fn9_save_customer_txt(customer_list):\n",
    "    pass"
   ]
  },
  {
   "cell_type": "code",
   "execution_count": 65,
   "id": "5c2f994a",
   "metadata": {},
   "outputs": [],
   "source": [
    "# 위 9번 함수 test"
   ]
  },
  {
   "cell_type": "markdown",
   "id": "53723c53",
   "metadata": {},
   "source": [
    "## main()"
   ]
  },
  {
   "cell_type": "code",
   "execution_count": 1,
   "id": "7d262c80",
   "metadata": {},
   "outputs": [
    {
     "ename": "NameError",
     "evalue": "name 'load_customers' is not defined",
     "output_type": "error",
     "traceback": [
      "\u001b[1;31m---------------------------------------------------------------------------\u001b[0m",
      "\u001b[1;31mNameError\u001b[0m                                 Traceback (most recent call last)",
      "Cell \u001b[1;32mIn[1], line 23\u001b[0m\n\u001b[0;32m     21\u001b[0m             \u001b[38;5;28;01mbreak\u001b[39;00m\n\u001b[0;32m     22\u001b[0m \u001b[38;5;28;01mif\u001b[39;00m \u001b[38;5;18m__name__\u001b[39m \u001b[38;5;241m==\u001b[39m \u001b[38;5;124m'\u001b[39m\u001b[38;5;124m__main__\u001b[39m\u001b[38;5;124m'\u001b[39m:\n\u001b[1;32m---> 23\u001b[0m     \u001b[43mmain\u001b[49m\u001b[43m(\u001b[49m\u001b[43m)\u001b[49m\n",
      "Cell \u001b[1;32mIn[1], line 3\u001b[0m, in \u001b[0;36mmain\u001b[1;34m()\u001b[0m\n\u001b[0;32m      1\u001b[0m \u001b[38;5;28;01mdef\u001b[39;00m \u001b[38;5;21mmain\u001b[39m():\n\u001b[0;32m      2\u001b[0m     \u001b[38;5;28;01mglobal\u001b[39;00m customer_list\n\u001b[1;32m----> 3\u001b[0m     customer_list \u001b[38;5;241m=\u001b[39m \u001b[43mload_customers\u001b[49m() \u001b[38;5;66;03m# ch09_customers.txt의 내용을 load\u001b[39;00m\n\u001b[0;32m      4\u001b[0m     \u001b[38;5;28;01mwhile\u001b[39;00m \u001b[38;5;28;01mTrue\u001b[39;00m:\n\u001b[0;32m      5\u001b[0m         \u001b[38;5;28mprint\u001b[39m(\u001b[38;5;124m\"\u001b[39m\u001b[38;5;124m1:입력\u001b[39m\u001b[38;5;124m\"\u001b[39m,\u001b[38;5;124m\"\u001b[39m\u001b[38;5;124m2:전체출력\u001b[39m\u001b[38;5;124m\"\u001b[39m,\u001b[38;5;124m\"\u001b[39m\u001b[38;5;124m3:삭제\u001b[39m\u001b[38;5;124m\"\u001b[39m,\u001b[38;5;124m\"\u001b[39m\u001b[38;5;124m4:이름찾기\u001b[39m\u001b[38;5;124m\"\u001b[39m,\u001b[38;5;124m\"\u001b[39m\u001b[38;5;124m5:내보내기(CSV)\u001b[39m\u001b[38;5;124m\"\u001b[39m, \u001b[38;5;124m\"\u001b[39m\u001b[38;5;124m9:종료\u001b[39m\u001b[38;5;124m\"\u001b[39m, \n\u001b[0;32m      6\u001b[0m               sep\u001b[38;5;241m=\u001b[39m\u001b[38;5;124m'\u001b[39m\u001b[38;5;124m | \u001b[39m\u001b[38;5;124m'\u001b[39m, end\u001b[38;5;241m=\u001b[39m\u001b[38;5;124m'\u001b[39m\u001b[38;5;124m \u001b[39m\u001b[38;5;124m'\u001b[39m)\n",
      "\u001b[1;31mNameError\u001b[0m: name 'load_customers' is not defined"
     ]
    }
   ],
   "source": [
    "def main():\n",
    "    global customer_list\n",
    "    customer_list = load_customers() # ch09_customers.txt의 내용을 load\n",
    "    while True:\n",
    "        print(\"1:입력\",\"2:전체출력\",\"3:삭제\",\"4:이름찾기\",\"5:내보내기(CSV)\", \"9:종료\", \n",
    "              sep=' | ', end=' ')\n",
    "        fn = int(input('메뉴선택 : '))\n",
    "        if fn == 1:\n",
    "            customer = fn1_insert_customer_info() # 입력받은 내용으로 customer객체를 반환\n",
    "            customer_list.append(customer)\n",
    "        elif fn == 2:\n",
    "            fn2_print_customers(customer_list)\n",
    "        elif fn == 3:\n",
    "            fn3_delete_customer(customer_list)\n",
    "        elif fn == 4:\n",
    "            fn4_search_customer(customer_list)\n",
    "        elif fn == 5:\n",
    "            fn5_save_customer_csv(customer_list)\n",
    "        elif fn == 9:\n",
    "            fn9_save_customer_txt(customer_list)\n",
    "            break\n",
    "if __name__ == '__main__':\n",
    "    main()"
   ]
  },
  {
   "cell_type": "code",
   "execution_count": null,
   "id": "903221f5",
   "metadata": {},
   "outputs": [],
   "source": []
  },
  {
   "cell_type": "code",
   "execution_count": null,
   "id": "3e4db8b5",
   "metadata": {},
   "outputs": [
    {
     "name": "stdout",
     "output_type": "stream",
     "text": [
      "===============================================================\n",
      "               고객 관리 시스템\n",
      "===============================================================\n",
      "data/ch09_customers.txt 파일에서 5명의 데이터가 로드되었습니다.\n",
      "\n",
      "===============================================================\n",
      "1:입력|2:전체출력|3:삭제|4:이름찾기|5:내보내기(CSV)|6:수정|9:종료 메뉴 선택 : 5\n",
      "저장할 파일 이름은 : 5\n",
      "❌ 파일 저장 중 오류 발생: name 'csv' is not defined\n",
      "\n",
      "===============================================================\n"
     ]
    }
   ],
   "source": [
    "import csv\n",
    "import os\n",
    "import re\n",
    "\n",
    "# 상수 정의\n",
    "TABLE_WIDTH = 63\n",
    "FILEPATH = \"data/ch09_customers.txt\"\n",
    "MIN_GRADE = 1\n",
    "MAX_GRADE = 5\n",
    "\n",
    "class Customer:\n",
    "    \"\"\"고객 정보를 관리하는 클래스\"\"\"\n",
    "    \n",
    "    def __init__(self, name, phone, email, age, grade, etc=\"\"):\n",
    "        self.name = name\n",
    "        self.phone = phone\n",
    "        self.email = email\n",
    "        self.age = age\n",
    "        self.grade = grade\n",
    "        self.etc = etc\n",
    "    \n",
    "    def as_dict(self):\n",
    "        \"\"\"객체를 딕셔너리로 반환 (CSV 저장용)\"\"\"\n",
    "        return {\n",
    "            \"name\": self.name,\n",
    "            \"phone\": self.phone,\n",
    "            \"email\": self.email,\n",
    "            \"age\": self.age,\n",
    "            \"grade\": self.grade,\n",
    "            \"etc\": self.etc\n",
    "        }\n",
    "    \n",
    "    def to_txt_style(self):\n",
    "        \"\"\"객체를 텍스트로 반환 (파일 저장용)\"\"\"\n",
    "        return f\"{self.name},{self.phone},{self.email},{self.age},{self.grade},{self.etc}\"\n",
    "    \n",
    "    def __str__(self):\n",
    "        \"\"\"고객 정보를 문자열로 반환\"\"\"\n",
    "        grade_stars = \"*\" * self.grade\n",
    "        return f\"{grade_stars:<8}{self.name:<10}{self.phone:<18}{self.email:<18}{self.age:<6}{self.etc}\"\n",
    "\n",
    "\n",
    "def to_customer(row):\n",
    "    \"\"\"텍스트 한 줄을 Customer 객체로 변환\"\"\"\n",
    "    try:\n",
    "        parts = [part.strip() for part in row.strip().split(',')]\n",
    "        \n",
    "        name = parts[0] if len(parts) > 0 else \"\"\n",
    "        phone = parts[1] if len(parts) > 1 else \"\"\n",
    "        email = parts[2] if len(parts) > 2 else \"\"\n",
    "        age = int(parts[3]) if len(parts) > 3 else 0\n",
    "        grade = int(parts[4]) if len(parts) > 4 else 1\n",
    "        etc = parts[5] if len(parts) > 5 else \"\"\n",
    "        \n",
    "        return Customer(name, phone, email, age, grade, etc)\n",
    "    except (ValueError, IndexError) as e:\n",
    "        print(f\"데이터 변환 오류: {row} - {e}\")\n",
    "        return None\n",
    "\n",
    "\n",
    "def validate_phone(phone):\n",
    "    \"\"\"전화번호 형식 검증\"\"\"\n",
    "    pattern = r'^01[0-9]-\\d{3,4}-\\d{4}$'\n",
    "    return re.match(pattern, phone) is not None\n",
    "\n",
    "\n",
    "def validate_email(email):\n",
    "    \"\"\"이메일 형식 검증\"\"\"\n",
    "    pattern = r'^[a-zA-Z0-9._%+-]+@[a-zA-Z0-9.-]+\\.[a-zA-Z]{2,}$'\n",
    "    return re.match(pattern, email) is not None\n",
    "\n",
    "\n",
    "def get_valid_input(prompt, validator=None, error_msg=\"잘못된 입력입니다.\"):\n",
    "    \"\"\"유효한 입력을 받을 때까지 반복\"\"\"\n",
    "    while True:\n",
    "        value = input(prompt)\n",
    "        if validator is None or validator(value):\n",
    "            return value\n",
    "        print(error_msg)\n",
    "\n",
    "\n",
    "def get_valid_int(prompt, min_val=None, max_val=None):\n",
    "    \"\"\"유효한 정수 입력 받기\"\"\"\n",
    "    while True:\n",
    "        try:\n",
    "            value = int(input(prompt))\n",
    "            if min_val is not None and value < min_val:\n",
    "                print(f\"{min_val} 이상의 값을 입력하세요.\")\n",
    "                continue\n",
    "            if max_val is not None and value > max_val:\n",
    "                print(f\"{max_val} 이하의 값을 입력하세요.\")\n",
    "                continue\n",
    "            return value\n",
    "        except ValueError:\n",
    "            print(\"숫자를 입력해주세요.\")\n",
    "\n",
    "\n",
    "def load_customers(filepath=FILEPATH):\n",
    "    \"\"\"파일에서 고객 데이터 로드\"\"\"\n",
    "    customer_list = []\n",
    "    \n",
    "    # 디렉토리가 없으면 생성\n",
    "    os.makedirs(os.path.dirname(filepath), exist_ok=True)\n",
    "    \n",
    "    # 파일이 존재하지 않으면 빈 파일 생성\n",
    "    if not os.path.exists(filepath):\n",
    "        with open(filepath, 'w', encoding='utf-8') as f:\n",
    "            pass\n",
    "        print(f\"{filepath} 파일이 생성되었습니다.\")\n",
    "        return customer_list\n",
    "    \n",
    "    # 파일에서 데이터 로드\n",
    "    try:\n",
    "        with open(filepath, 'r', encoding='utf-8') as f:\n",
    "            for line in f:\n",
    "                if line.strip():\n",
    "                    customer = to_customer(line)\n",
    "                    if customer:\n",
    "                        customer_list.append(customer)\n",
    "        print(f\"{filepath} 파일에서 {len(customer_list)}명의 데이터가 로드되었습니다.\")\n",
    "    except Exception as e:\n",
    "        print(f\"데이터 로드 중 오류 발생: {e}\")\n",
    "    \n",
    "    return customer_list\n",
    "\n",
    "\n",
    "def auto_save_customers(customer_list, filepath=FILEPATH):\n",
    "    \"\"\"자동 저장 (입력/삭제 후)\"\"\"\n",
    "    try:\n",
    "        with open(filepath, 'w', encoding='utf-8') as f:\n",
    "            for customer in customer_list:\n",
    "                f.write(customer.to_txt_style() + \"\\n\")\n",
    "    except Exception as e:\n",
    "        print(f\"자동 저장 중 오류 발생: {e}\")\n",
    "\n",
    "\n",
    "def print_table_header():\n",
    "    \"\"\"테이블 헤더 출력\"\"\"\n",
    "    print(\"=\" * TABLE_WIDTH)\n",
    "    print(\" \" * 7 + \"고객 정보\")\n",
    "    print(\"-\" * TABLE_WIDTH)\n",
    "    print(f\"{'GRADE':<8}{'이름':<10}{'전화':<18}{'메일':<18}{'나이':<6}{'기타'}\")\n",
    "    print(\"=\" * TABLE_WIDTH)\n",
    "\n",
    "\n",
    "def print_table_footer():\n",
    "    \"\"\"테이블 푸터 출력\"\"\"\n",
    "    print(\"=\" * TABLE_WIDTH)\n",
    "\n",
    "\n",
    "def fn1_insert_customer_info(customer_list):\n",
    "    \"\"\"고객 정보 입력\"\"\"\n",
    "    print(\"\\n[ 고객 정보 입력 ]\")\n",
    "    \n",
    "    name = get_valid_input(\"이름 : \", lambda x: len(x.strip()) > 0, \"이름은 필수입니다.\")\n",
    "    \n",
    "    phone = get_valid_input(\n",
    "        \"전화번호 (예: 010-1234-5678) : \",\n",
    "        validate_phone,\n",
    "        \"올바른 전화번호 형식이 아닙니다. (예: 010-1234-5678)\"\n",
    "    )\n",
    "    \n",
    "    # 전화번호 중복 확인\n",
    "    if any(c.phone == phone for c in customer_list):\n",
    "        print(\"⚠️  이미 등록된 전화번호입니다.\")\n",
    "        confirm = input(\"그래도 등록하시겠습니까? (y/n) : \")\n",
    "        if confirm.lower() != 'y':\n",
    "            print(\"등록을 취소합니다.\")\n",
    "            return\n",
    "    \n",
    "    email = get_valid_input(\n",
    "        \"이메일 (예: example@mail.com) : \",\n",
    "        validate_email,\n",
    "        \"올바른 이메일 형식이 아닙니다.\"\n",
    "    )\n",
    "    \n",
    "    age = get_valid_int(\"나이 : \", min_val=0, max_val=150)\n",
    "    \n",
    "    grade = get_valid_int(f\"고객등급({MIN_GRADE}-{MAX_GRADE}) : \", min_val=MIN_GRADE, max_val=MAX_GRADE)\n",
    "    \n",
    "    etc = input(\"기타 정보 : \")\n",
    "    \n",
    "    customer = Customer(name, phone, email, age, grade, etc)\n",
    "    customer_list.append(customer)\n",
    "    \n",
    "    # 자동 저장\n",
    "    auto_save_customers(customer_list)\n",
    "    print(\"✓ 고객 정보가 추가되었습니다.\")\n",
    "\n",
    "\n",
    "def fn2_print_customers(customer_list):\n",
    "    \"\"\"전체 고객 정보 출력\"\"\"\n",
    "    if not customer_list:\n",
    "        print(\"\\n등록된 고객이 없습니다.\")\n",
    "        return\n",
    "    \n",
    "    print()\n",
    "    print_table_header()\n",
    "    \n",
    "    for customer in customer_list:\n",
    "        print(customer)\n",
    "    \n",
    "    print_table_footer()\n",
    "    print(f\"총 {len(customer_list)}명\")\n",
    "\n",
    "\n",
    "def fn3_delete_customer(customer_list):\n",
    "    \"\"\"고객 정보 삭제 (동명이인 있음)\"\"\"\n",
    "    if not customer_list:\n",
    "        print(\"\\n삭제할 고객이 없습니다.\")\n",
    "        return\n",
    "    \n",
    "    name = input(\"삭제할 고객 이름 : \")\n",
    "    \n",
    "    # 해당 이름의 고객 찾기\n",
    "    found_customers = [c for c in customer_list if c.name == name]\n",
    "    \n",
    "    if not found_customers:\n",
    "        print(f\"❌ {name} 고객을 찾을 수 없습니다.\")\n",
    "        return\n",
    "    \n",
    "    # 동명이인이 있는 경우\n",
    "    if len(found_customers) > 1:\n",
    "        print(f\"\\n{name} 고객이 {len(found_customers)}명 있습니다.\")\n",
    "        print(\"=\" * TABLE_WIDTH)\n",
    "        for idx, customer in enumerate(found_customers, 1):\n",
    "            print(f\"{idx}. {customer.phone} / {customer.email} / {customer.age}세 / 등급:{customer.grade} / {customer.etc}\")\n",
    "        print(\"=\" * TABLE_WIDTH)\n",
    "        \n",
    "        choice = get_valid_int(\"삭제할 고객 번호 (0: 전체삭제, -1: 취소) : \", min_val=-1)\n",
    "        \n",
    "        if choice == -1:\n",
    "            print(\"삭제를 취소합니다.\")\n",
    "            return\n",
    "        elif choice == 0:\n",
    "            # 삭제 확인\n",
    "            confirm = input(f\"정말 {len(found_customers)}명 모두 삭제하시겠습니까? (y/n) : \")\n",
    "            if confirm.lower() == 'y':\n",
    "                for customer in found_customers:\n",
    "                    customer_list.remove(customer)\n",
    "                auto_save_customers(customer_list)\n",
    "                print(f\"✓ {name} 고객 {len(found_customers)}명이 모두 삭제되었습니다.\")\n",
    "            else:\n",
    "                print(\"삭제를 취소합니다.\")\n",
    "        elif 1 <= choice <= len(found_customers):\n",
    "            # 삭제 확인\n",
    "            confirm = input(f\"{found_customers[choice - 1].phone} 고객을 삭제하시겠습니까? (y/n) : \")\n",
    "            if confirm.lower() == 'y':\n",
    "                customer_list.remove(found_customers[choice - 1])\n",
    "                auto_save_customers(customer_list)\n",
    "                print(f\"✓ {name} 고객 정보가 삭제되었습니다.\")\n",
    "            else:\n",
    "                print(\"삭제를 취소합니다.\")\n",
    "        else:\n",
    "            print(\"❌ 잘못된 번호입니다.\")\n",
    "    else:\n",
    "        # 동명이인이 없는 경우\n",
    "        confirm = input(f\"{name} ({found_customers[0].phone}) 고객을 삭제하시겠습니까? (y/n) : \")\n",
    "        if confirm.lower() == 'y':\n",
    "            customer_list.remove(found_customers[0])\n",
    "            auto_save_customers(customer_list)\n",
    "            print(f\"✓ {name} 고객 정보가 삭제되었습니다.\")\n",
    "        else:\n",
    "            print(\"삭제를 취소합니다.\")\n",
    "\n",
    "\n",
    "def fn4_search_customer(customer_list):\n",
    "    \"\"\"이름으로 고객 찾기 (동명이인 있음)\"\"\"\n",
    "    name = input(\"찾을 고객 이름은 ? \")\n",
    "    found_customers = [c for c in customer_list if c.name == name]\n",
    "    \n",
    "    if found_customers:\n",
    "        print()\n",
    "        print_table_header()\n",
    "        \n",
    "        for customer in found_customers:\n",
    "            print(customer)\n",
    "        \n",
    "        print_table_footer()\n",
    "        \n",
    "        if len(found_customers) > 1:\n",
    "            print(f\"※ {name} 고객 {len(found_customers)}명이 검색되었습니다.\")\n",
    "    else:\n",
    "        print(f\"❌ {name} 고객을 찾을 수 없습니다.\")\n",
    "\n",
    "\n",
    "def fn5_save_customer_csv(customer_list):\n",
    "    \"\"\"CSV 파일로 내보내기\"\"\"\n",
    "    if not customer_list:\n",
    "        print(\"\\n내보낼 데이터가 없습니다.\")\n",
    "        return\n",
    "    \n",
    "    filename = input(\"저장할 파일 이름은 : \")\n",
    "    if not filename.endswith('.csv'):\n",
    "        filename += '.csv'\n",
    "    \n",
    "    # 디렉토리 경로 확인\n",
    "    directory = os.path.dirname(filename)\n",
    "    if directory and not os.path.exists(directory):\n",
    "        try:\n",
    "            os.makedirs(directory)\n",
    "        except Exception as e:\n",
    "            print(f\"디렉토리 생성 실패: {e}\")\n",
    "            return\n",
    "    \n",
    "    try:\n",
    "        with open(filename, 'w', newline='', encoding='utf-8-sig') as f:\n",
    "            writer = csv.DictWriter(f, fieldnames=[\"name\", \"phone\", \"email\", \"age\", \"grade\", \"etc\"])\n",
    "            writer.writeheader()\n",
    "            for customer in customer_list:\n",
    "                writer.writerow(customer.as_dict())\n",
    "        print(f\"✓ CSV 파일이 저장되었습니다. 파일명은 {filename}\")\n",
    "    except Exception as e:\n",
    "        print(f\"❌ 파일 저장 중 오류 발생: {e}\")\n",
    "\n",
    "\n",
    "def fn6_update_customer(customer_list):\n",
    "    \"\"\"고객 정보 수정 (추가 기능)\"\"\"\n",
    "    if not customer_list:\n",
    "        print(\"\\n수정할 고객이 없습니다.\")\n",
    "        return\n",
    "    \n",
    "    name = input(\"수정할 고객 이름 : \")\n",
    "    found_customers = [c for c in customer_list if c.name == name]\n",
    "    \n",
    "    if not found_customers:\n",
    "        print(f\"❌ {name} 고객을 찾을 수 없습니다.\")\n",
    "        return\n",
    "    \n",
    "    # 동명이인 처리\n",
    "    if len(found_customers) > 1:\n",
    "        print(f\"\\n{name} 고객이 {len(found_customers)}명 있습니다.\")\n",
    "        for idx, customer in enumerate(found_customers, 1):\n",
    "            print(f\"{idx}. {customer.phone} / {customer.email}\")\n",
    "        choice = get_valid_int(\"수정할 고객 번호 : \", min_val=1, max_val=len(found_customers))\n",
    "        target = found_customers[choice - 1]\n",
    "    else:\n",
    "        target = found_customers[0]\n",
    "    \n",
    "    print(f\"\\n현재 정보: {target.phone} / {target.email} / {target.age}세 / 등급:{target.grade}\")\n",
    "    print(\"수정할 항목을 선택하세요 (Enter: 변경 안 함)\")\n",
    "    \n",
    "    phone = input(f\"전화번호 [{target.phone}] : \").strip()\n",
    "    if phone:\n",
    "        if validate_phone(phone):\n",
    "            target.phone = phone\n",
    "        else:\n",
    "            print(\"❌ 올바른 전화번호 형식이 아닙니다. 변경하지 않습니다.\")\n",
    "    \n",
    "    email = input(f\"이메일 [{target.email}] : \").strip()\n",
    "    if email:\n",
    "        if validate_email(email):\n",
    "            target.email = email\n",
    "        else:\n",
    "            print(\"❌ 올바른 이메일 형식이 아닙니다. 변경하지 않습니다.\")\n",
    "    \n",
    "    age_input = input(f\"나이 [{target.age}] : \").strip()\n",
    "    if age_input:\n",
    "        try:\n",
    "            target.age = int(age_input)\n",
    "        except ValueError:\n",
    "            print(\"❌ 숫자가 아닙니다. 변경하지 않습니다.\")\n",
    "    \n",
    "    grade_input = input(f\"고객등급 [{target.grade}] : \").strip()\n",
    "    if grade_input:\n",
    "        try:\n",
    "            grade = int(grade_input)\n",
    "            if MIN_GRADE <= grade <= MAX_GRADE:\n",
    "                target.grade = grade\n",
    "            else:\n",
    "                print(f\"❌ {MIN_GRADE}-{MAX_GRADE} 범위를 벗어났습니다. 변경하지 않습니다.\")\n",
    "        except ValueError:\n",
    "            print(\"❌ 숫자가 아닙니다. 변경하지 않습니다.\")\n",
    "    \n",
    "    etc = input(f\"기타 정보 [{target.etc}] : \").strip()\n",
    "    if etc:\n",
    "        target.etc = etc\n",
    "    \n",
    "    auto_save_customers(customer_list)\n",
    "    print(\"✓ 고객 정보가 수정되었습니다.\")\n",
    "\n",
    "\n",
    "def fn9_save_customer_txt(customer_list, filepath=FILEPATH):\n",
    "    \"\"\"종료 전 고객 데이터를 txt 파일에 저장\"\"\"\n",
    "    try:\n",
    "        with open(filepath, 'w', encoding='utf-8') as f:\n",
    "            for customer in customer_list:\n",
    "                f.write(customer.to_txt_style() + \"\\n\")\n",
    "        print(f\"✓ {filepath}에 데이터가 백업되었습니다.\")\n",
    "        print(\"프로그램을 종료합니다.\")\n",
    "    except Exception as e:\n",
    "        print(f\"❌ 데이터 저장 중 오류 발생: {e}\")\n",
    "\n",
    "\n",
    "def show_menu():\n",
    "    \"\"\"메뉴 출력 및 선택\"\"\"\n",
    "    print(\"\\n\" + \"=\" * TABLE_WIDTH)\n",
    "    choice = input(\"1:입력|2:전체출력|3:삭제|4:이름찾기|5:내보내기(CSV)|6:수정|9:종료 메뉴 선택 : \")\n",
    "    return choice\n",
    "\n",
    "\n",
    "def main():\n",
    "    \"\"\"메인 함수\"\"\"\n",
    "    print(\"=\" * TABLE_WIDTH)\n",
    "    print(\" \" * 15 + \"고객 관리 시스템\")\n",
    "    print(\"=\" * TABLE_WIDTH)\n",
    "    \n",
    "    # 0. 데이터 로드\n",
    "    customer_list = load_customers()\n",
    "    \n",
    "    while True:\n",
    "        try:\n",
    "            choice = show_menu()\n",
    "            \n",
    "            if choice == \"1\":\n",
    "                fn1_insert_customer_info(customer_list)\n",
    "            elif choice == \"2\":\n",
    "                fn2_print_customers(customer_list)\n",
    "            elif choice == \"3\":\n",
    "                fn3_delete_customer(customer_list)\n",
    "            elif choice == \"4\":\n",
    "                fn4_search_customer(customer_list)\n",
    "            elif choice == \"5\":\n",
    "                fn5_save_customer_csv(customer_list)\n",
    "            elif choice == \"6\":\n",
    "                fn6_update_customer(customer_list)\n",
    "            elif choice == \"9\":\n",
    "                fn9_save_customer_txt(customer_list)\n",
    "                break\n",
    "            else:\n",
    "                print(\"❌ 잘못된 선택입니다. 다시 선택해주세요.\")\n",
    "        except KeyboardInterrupt:\n",
    "            print(\"\\n\\n프로그램을 강제 종료합니다.\")\n",
    "            print(\"데이터를 저장하시겠습니까? (y/n) : \", end='')\n",
    "            try:\n",
    "                if input().lower() == 'y':\n",
    "                    fn9_save_customer_txt(customer_list)\n",
    "                else:\n",
    "                    print(\"저장하지 않고 종료합니다.\")\n",
    "            except:\n",
    "                pass\n",
    "            break\n",
    "            \n",
    "            print(f\"❌ 예상치 못한 오류 발생: {e}\")\n",
    "            print(\"계속 진행합니다...\")\n",
    "\n",
    "\n",
    "if __name__ == \"__main__\":\n",
    "    main()"
   ]
  },
  {
   "cell_type": "code",
   "execution_count": null,
   "id": "cc166120",
   "metadata": {},
   "outputs": [],
   "source": []
  }
 ],
 "metadata": {
  "kernelspec": {
   "display_name": "Python 3 (ipykernel)",
   "language": "python",
   "name": "python3"
  },
  "language_info": {
   "codemirror_mode": {
    "name": "ipython",
    "version": 3
   },
   "file_extension": ".py",
   "mimetype": "text/x-python",
   "name": "python",
   "nbconvert_exporter": "python",
   "pygments_lexer": "ipython3",
   "version": "3.10.9"
  },
  "toc": {
   "base_numbering": 1,
   "nav_menu": {},
   "number_sections": false,
   "sideBar": true,
   "skip_h1_title": false,
   "title_cell": "Table of Contents",
   "title_sidebar": "Contents",
   "toc_cell": false,
   "toc_position": {
    "height": "calc(100% - 180px)",
    "left": "10px",
    "top": "150px",
    "width": "229.4px"
   },
   "toc_section_display": true,
   "toc_window_display": true
  }
 },
 "nbformat": 4,
 "nbformat_minor": 5
}
