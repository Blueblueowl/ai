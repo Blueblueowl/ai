{
 "cells": [
  {
   "cell_type": "code",
   "execution_count": 6,
   "id": "ee95c841",
   "metadata": {},
   "outputs": [
    {
     "data": {
      "text/html": [
       "\n",
       "<style>\n",
       "div.container{width:90% !important;}\n",
       "div.cell.code_cell.rendered{width:100%;}\n",
       "div.input_prompt{padding:0px;}\n",
       "div.CodeMirror {font-family:Consolas; font-size:22pt;}\n",
       "div.text_cell_render.rendered_html{font-size:12pt;}\n",
       "div.output {font-size:12pt; font-weight:bold;}\n",
       "div.input {font-family:Consolas; font-size:12pt;}\n",
       "div.prompt {min-width:70px;}\n",
       "div#toc-wrapper{padding-top:120px;}\n",
       "div.text_cell_render ul li{font-size:12pt;padding:5px;}\n",
       "table.dataframe{font-size:12px;}\n",
       "</style>\n"
      ],
      "text/plain": [
       "<IPython.core.display.HTML object>"
      ]
     },
     "metadata": {},
     "output_type": "display_data"
    }
   ],
   "source": [
    "from IPython.display import display, HTML\n",
    "display(HTML(\"\"\"\n",
    "<style>\n",
    "div.container{width:90% !important;}\n",
    "div.cell.code_cell.rendered{width:100%;}\n",
    "div.input_prompt{padding:0px;}\n",
    "div.CodeMirror {font-family:Consolas; font-size:22pt;}\n",
    "div.text_cell_render.rendered_html{font-size:12pt;}\n",
    "div.output {font-size:12pt; font-weight:bold;}\n",
    "div.input {font-family:Consolas; font-size:12pt;}\n",
    "div.prompt {min-width:70px;}\n",
    "div#toc-wrapper{padding-top:120px;}\n",
    "div.text_cell_render ul li{font-size:12pt;padding:5px;}\n",
    "table.dataframe{font-size:12px;}\n",
    "</style>\n",
    "\"\"\"))"
   ]
  },
  {
   "cell_type": "code",
   "execution_count": null,
   "id": "92ac73ec",
   "metadata": {},
   "outputs": [],
   "source": [
    "\n",
    "<b><font size=\"7\" color=\"red\">ch04.제어문</font></b>\n",
    "- 조건문 : if문\n",
    "- 반복문 : for문(반복횟수 지정), while문(조건)\n",
    "** 모두 중첩가능 **\n"
   ]
  },
  {
   "cell_type": "markdown",
   "id": "72fc1aec",
   "metadata": {},
   "source": [
    "# 1절 조건문(if)\n",
    "\n",
    "'''\n",
    "if 조건1:\n",
    "     조건1일 true일 경우 수행할 명령어들 \n",
    "     (들여쓰기indentation 중요. if절 단독 가능)\n",
    "elif 조건2:\n",
    "     조건1일 False이고 \n",
    "     조건2가 True일 경우 수행할 명령어들\n",
    "else:\n",
    "     모든 조건 False일 경우 수행할 명령어들\n",
    "     (elif나 else는 단독 사용 불가)\n",
    "'''\n"
   ]
  },
  {
   "cell_type": "code",
   "execution_count": null,
   "id": "330da0a6",
   "metadata": {},
   "outputs": [],
   "source": [
    "score = int(input('Enter your score'))\n",
    "if score >= 90:\n",
    "    print('참 잘했어요')\n",
    "    print('다음에도 기대할께요')\n",
    "elif score >= 60:\n",
    "    print('분발하셔요')\n",
    "    print('뭐 그대로 고생하셨어요')\n",
    "else:\n",
    "    print('재시험 응시하세요')\n",
    "    print('화이팅')"
   ]
  },
  {
   "cell_type": "markdown",
   "id": "c0f82afc",
   "metadata": {},
   "source": [
    "# ex. 점수를 입력받아 학점출력(A, B, C, D, F), 유효하지 않는 점수)\n",
    "# 입력하신 점수 85점은 B학점입니다.\n",
    "# 입력하신 점수 -1점은 유효하지 않은 점수"
   ]
  },
  {
   "cell_type": "code",
   "execution_count": 11,
   "id": "e48c06cb",
   "metadata": {},
   "outputs": [
    {
     "name": "stdout",
     "output_type": "stream",
     "text": [
      "Enter your score60\n",
      "분발하셔요\n",
      "D학점\n"
     ]
    }
   ],
   "source": [
    "score = int(input('Enter your score'))\n",
    "if score >= 90:\n",
    "    print('참 잘했어요')\n",
    "    print('A학점')\n",
    "elif score >= 80:\n",
    "    print('잘했어요')\n",
    "    print('B학점')\n",
    "elif score >= 70:\n",
    "    print('노력하셨네요')\n",
    "    print('C학점')\n",
    "elif score >= 60:\n",
    "    print('분발하셔요')\n",
    "    print('D학점')\n",
    "else:\n",
    "    print('재시험 응시하세요')\n",
    "    print('F학점')"
   ]
  },
  {
   "cell_type": "code",
   "execution_count": 14,
   "id": "bd9df3c6",
   "metadata": {},
   "outputs": [
    {
     "name": "stdout",
     "output_type": "stream",
     "text": [
      "Enter your score65\n",
      "입력하신 점수 65점은 D학점\n",
      "입력하신 점수 65점은 D학점\n"
     ]
    }
   ],
   "source": [
    "score = int(input('Enter your score'))\n",
    "if 90 <= score <= 100: # (90<=score) & (score>=100)\n",
    "    grade = 'A학점'\n",
    "elif 80 <= score <90:\n",
    "    grade = 'B학점'\n",
    "elif 70 <= score <80:\n",
    "    grade = 'C학점'\n",
    "elif 60 <= score <70:\n",
    "    grade = 'D학점'\n",
    "elif  0 <= score <60:\n",
    "    grade = 'F학점'\n",
    "else:\n",
    "    grade = '유효하지 않는 점수'\n",
    "print(\"입력하신 점수 {}점은 {}\".format(score, grade))\n",
    "print(f\"입력하신 점수 {score}점은 {grade}\")"
   ]
  },
  {
   "cell_type": "markdown",
   "id": "394de3f8",
   "metadata": {},
   "source": [
    "# 2절 반복문\n",
    "## 2.1 for-in문\n",
    "- 객체지향언어 => 자바(Java)\n",
    "- 함수형언어 => 자바스크립트(JS), 파이썬(py)\n",
    "---------------[5,4,3,2,1]\n",
    "---------------[0,1,2]\n",
    "\n",
    "```\n",
    "for 임시변수 in 나열가능한 자료:\n",
    "    반복할 문장1\n",
    "    반족할 문장2\n",
    "else\n",
    "    나열 가능한 자료를 다 소요하여 for블록을 다 수행한 후, 최종 한번 실행한 문장들\n",
    "    for문 안의 break를 수행할 경우, else블록을 수행하지 않음\n",
    "```"
   ]
  },
  {
   "cell_type": "code",
   "execution_count": 23,
   "id": "20f93bf8",
   "metadata": {},
   "outputs": [
    {
     "name": "stdout",
     "output_type": "stream",
     "text": [
      "5\t4\t3\t2\t1\tDONE\n",
      "END\n",
      "1\t3\t5\t7\t9\tDONE\n",
      "END\n"
     ]
    }
   ],
   "source": [
    "# brake가 없을 경우, else가 있든 없든 결과가 똑같음.\n",
    "\n",
    "for i in range(5, 0, -1):\n",
    "    print(i, end='\\t')\n",
    "else:\n",
    "    print('DONE')\n",
    "print('END')\n",
    "\n",
    "for i in range(1, 10, 2):\n",
    "    print(i, end='\\t')\n",
    "else:\n",
    "    print('DONE')\n",
    "print('END')"
   ]
  },
  {
   "cell_type": "code",
   "execution_count": 22,
   "id": "f2ff5f85",
   "metadata": {},
   "outputs": [
    {
     "name": "stdout",
     "output_type": "stream",
     "text": [
      "0\t1\t2\t3\t4\t5\t6\t7\t8\t9\tDONE\n",
      "END\n"
     ]
    }
   ],
   "source": [
    "for i in range(10):\n",
    "    print(i, end='\\t')\n",
    "else:\n",
    "    print('DONE')\n",
    "print('END')"
   ]
  },
  {
   "cell_type": "code",
   "execution_count": 25,
   "id": "c16f17bc",
   "metadata": {},
   "outputs": [
    {
     "name": "stdout",
     "output_type": "stream",
     "text": [
      "1~100까지 짝수들의 합은 5050\n"
     ]
    }
   ],
   "source": [
    "# 1~100까지 합을 계산하고 출력하시오(for문)\n",
    "sum = 0 # 누적변수\n",
    "for i in range(1, 101):\n",
    "    sum += i # sum = sum + i\n",
    "else:\n",
    "    print(\"1~100까지 짝수들의 합은\", sum)"
   ]
  },
  {
   "cell_type": "code",
   "execution_count": 27,
   "id": "2c2a3471",
   "metadata": {},
   "outputs": [
    {
     "name": "stdout",
     "output_type": "stream",
     "text": [
      "1~100까지 짝수들의 합은 2550\n"
     ]
    }
   ],
   "source": [
    "# 1~100까지 합을 계산하고 출력하시오(for문)\n",
    "\n",
    "sum = 0 # 누적변수\n",
    "for i in range(1, 101):\n",
    "    if i%2==0:\n",
    "        sum += i # sum = sum + i\n",
    "else:\n",
    "    print(\"1~100까지 짝수들의 합은\", sum)"
   ]
  },
  {
   "cell_type": "code",
   "execution_count": null,
   "id": "9d063505",
   "metadata": {},
   "outputs": [],
   "source": [
    "## 2.2 while 문\n",
    "```\n",
    "while 조건:\n",
    "    조건이 True일 경우 반복할 문장들\n",
    "else:\n",
    "    조건이 False일 경우 한번 실행할 문장들(else구문 선택사항)\n",
    "    while문 내의 break 수행할 경우 else구몬은 실행되지 않음\n",
    "```"
   ]
  },
  {
   "cell_type": "code",
   "execution_count": null,
   "id": "bdffb262",
   "metadata": {},
   "outputs": [],
   "source": [
    "# 1~100까지 짝수들의 합을 계산하고 출력하시오(while문)\n",
    "sum = 0 # 누적변수\n",
    "i = 1 # i값 초기화\n",
    "while i <= 100:\n",
    "    if i%2==0:\n",
    "        sum += i # sum = sum_i\n",
    "    i += 1\n",
    "else:\n",
    "    print('1~100까지 짝수의 합은', sum)"
   ]
  },
  {
   "cell_type": "code",
   "execution_count": 14,
   "id": "f36d5a87",
   "metadata": {},
   "outputs": [
    {
     "ename": "SyntaxError",
     "evalue": "invalid decimal literal (3960852876.py, line 7)",
     "output_type": "error",
     "traceback": [
      "\u001b[1;36m  Cell \u001b[1;32mIn[14], line 7\u001b[1;36m\u001b[0m\n\u001b[1;33m    print(f\" 두 수의 합{sum%5d}\")\u001b[0m\n\u001b[1;37m         ^\u001b[0m\n\u001b[1;31mSyntaxError\u001b[0m\u001b[1;31m:\u001b[0m invalid decimal literal\n"
     ]
    }
   ],
   "source": [
    "# ex1. 사용자에게 두 정수를 입력받아, 작은수부터 큰수까지 홀수의 합을 누적해서 출력\n",
    "# 두 정수를 입력\n",
    "\n",
    "a = int(input('Enter your score'))\n",
    "b = int(input('Enter your score'))\n",
    "sum = a + b\n",
    "print(f\" 두 수의 합{sum}\")\n",
    "\n",
    "# 두 정수중 작은 수와 큰 수\n",
    "\n",
    "# 누적"
   ]
  },
  {
   "cell_type": "markdown",
   "id": "1a2c9842",
   "metadata": {},
   "source": [
    "[프로그래밍 문제: 두 정수 사이 홀수의 합]\n",
    "```\n",
    "문제 설명\n",
    "사용자로부터 두 개의 정수를 입력받아, 작은 수부터 큰 수까지의 범위에 있는 모든 홀수의 합을 구하는 프로그램을 작성하시오.\n",
    "요구사항\n",
    "\n",
    "사용자로부터 두 개의 정수를 입력받는다.\n",
    "입력받은 두 수 중 작은 수와 큰 수를 판별한다.\n",
    "작은 수부터 큰 수까지의 범위에서 홀수를 찾는다.\n",
    "찾은 홀수들의 합을 누적하여 계산한다.\n",
    "결과를 출력한다.\n",
    "\n",
    "입력\n",
    "\n",
    "첫 번째 정수\n",
    "두 번째 정수\n",
    "\n",
    "출력\n",
    "\n",
    "두 수 사이(포함)에 있는 모든 홀수의 합\n",
    "```"
   ]
  },
  {
   "cell_type": "code",
   "execution_count": 17,
   "id": "8e08b785",
   "metadata": {},
   "outputs": [
    {
     "name": "stdout",
     "output_type": "stream",
     "text": [
      "첫 번째 정수를 입력하세요: 134\n",
      "두 번째 정수를 입력하세요: 35\n",
      "입력된 두 수: 134, 35\n",
      "작은 수: 35, 큰 수: 134\n",
      "35부터 134까지의 홀수: [35, 37, 39, 41, 43, 45, 47, 49, 51, 53, 55, 57, 59, 61, 63, 65, 67, 69, 71, 73, 75, 77, 79, 81, 83, 85, 87, 89, 91, 93, 95, 97, 99, 101, 103, 105, 107, 109, 111, 113, 115, 117, 119, 121, 123, 125, 127, 129, 131, 133]\n",
      "35부터 134까지 홀수의 합: 4200\n",
      "계산 과정: 35 + 37 + 39 + 41 + 43 + 45 + 47 + 49 + 51 + 53 + 55 + 57 + 59 + 61 + 63 + 65 + 67 + 69 + 71 + 73 + 75 + 77 + 79 + 81 + 83 + 85 + 87 + 89 + 91 + 93 + 95 + 97 + 99 + 101 + 103 + 105 + 107 + 109 + 111 + 113 + 115 + 117 + 119 + 121 + 123 + 125 + 127 + 129 + 131 + 133 = 4200\n"
     ]
    }
   ],
   "source": [
    "# 두 정수를 입력\n",
    "a = int(input('첫 번째 정수를 입력하세요: '))\n",
    "b = int(input('두 번째 정수를 입력하세요: '))\n",
    "\n",
    "print(f\"입력된 두 수: {a}, {b}\")\n",
    "\n",
    "# 두 정수 중 작은 수와 큰 수 구하기\n",
    "min_num = min(a, b)\n",
    "max_num = max(a, b)\n",
    "\n",
    "print(f\"작은 수: {min_num}, 큰 수: {max_num}\")\n",
    "\n",
    "# 홀수의 합을 누적하여 계산\n",
    "odd_sum = 0\n",
    "odd_numbers = []  # 홀수들을 저장할 리스트 (확인용)\n",
    "\n",
    "for i in range(min_num, max_num + 1):\n",
    "    if i % 2 == 1:  # 홀수인지 확인\n",
    "        odd_sum += i\n",
    "        odd_numbers.append(i)\n",
    "\n",
    "# 결과 출력\n",
    "print(f\"{min_num}부터 {max_num}까지의 홀수: {odd_numbers}\")\n",
    "print(f\"{min_num}부터 {max_num}까지 홀수의 합: {odd_sum}\")\n",
    "\n",
    "# 계산 과정 보여주기 (선택사항)\n",
    "if odd_numbers:\n",
    "    calculation_process = \" + \".join(map(str, odd_numbers))\n",
    "    print(f\"계산 과정: {calculation_process} = {odd_sum}\")\n",
    "else:\n",
    "    print(\"범위 내에 홀수가 없습니다.\")"
   ]
  },
  {
   "cell_type": "code",
   "execution_count": 27,
   "id": "402eff9f",
   "metadata": {},
   "outputs": [
    {
     "name": "stdout",
     "output_type": "stream",
     "text": [
      "첫 번째 정수?23\n",
      "두 번째 정수?56\n",
      "23~56까지 누적합은 663\n"
     ]
    }
   ],
   "source": [
    "# [프로그래밍 문제: 두 정수 사이 홀수의 합]\n",
    "# - 문제 설명\n",
    "# - 사용자로부터 두 개의 정수를 입력받아, \n",
    "# - 작은 수부터 큰 수까지의 범위에 있는 모든 홀수의 합을 구하는 프로그램을 작성하시오.\n",
    "first = int(input('첫 번째 정수?'))\n",
    "second = int(input('두 번째 정수?'))\n",
    "# first에 작은값, second에 큰값\n",
    "# 두 정수중 작은 수와 큰수\n",
    "if first > second:\n",
    "\n",
    "    # 바꿔\n",
    "    temp = first\n",
    "    first = second\n",
    "    second = temp\n",
    "    \n",
    "# 누적\n",
    "sum = 0\n",
    "for i in range(first, second+1):\n",
    "    if  i%2: #(i%2==1)|(i%2)==-1\n",
    "        sum += i\n",
    "print(\"{}~{}까지 누적합은 {}\".format(first, second, sum))"
   ]
  },
  {
   "cell_type": "code",
   "execution_count": null,
   "id": "5927b230",
   "metadata": {},
   "outputs": [],
   "source": [
    "[프로그래밍 문제:로또 번호 추출 및 정렬]\n",
    "```\n",
    "로또 번호 추출 및 정렬하는 프로그래밍 문제를 구체적으로 작성했습니다. 이 문제는:\n",
    "\n",
    "명확한 요구사항: random 모듈의 핵심 함수들을 모두 사용하도록 구성\n",
    "구체적인 출력 형식: 학생들이 어떤 형태로 출력해야 하는지 명확히 제시\n",
    "핵심 개념 설명: 중복 제거, 정렬, 리스트와 셋의 차이점 등 학습 목표 제시\n",
    "참고 예제: 정렬 개념을 이해할 수 있는 간단한 예제 포함\n",
    "추가 도전과제: 심화 학습을 위한 확장 문제 제시\n",
    "\n",
    "이 문제를 통해 학생들은 Python의 random 모듈 사용법과 리스트 정렬에 대해 체계적으로 학습할 수 있습니다.\n",
    "```"
   ]
  },
  {
   "cell_type": "markdown",
   "id": "4bc5e982",
   "metadata": {},
   "source": [
    "[프로그래밍 문제: 로또 번호 추출 및 정렬]\n",
    "\n",
    "```\n",
    "문제 설명\n",
    "Python의 random 모듈을 사용하여 로또 번호 6개를 중복 없이 랜덤으로 추출하고, 이를 오름차순으로 정렬하여 출력하는 프로그램을 작성하시오.\n",
    "\n",
    "요구사항\n",
    "- random 모듈을 import하여 사용한다.\n",
    "- random.seed()를 사용하여 난수 생성기를 초기화한다.\n",
    "- random.random()을 사용하여 0 이상 1 미만의 실수 난수를 출력한다. (테스트용)\n",
    "- 1부터 45까지의 숫자 중에서 중복되지 않게 6개의 번호를 추출한다.\n",
    "- 추출된 번호를 정렬하기 전과 후 모두 출력한다.\n",
    "- 최종적으로 정렬된 로또\n",
    "- 출력 형식 번호를 리스트 형태로 출력한다.\n",
    "\n",
    "랜덤 실수: 0.xxxxxx\n",
    "추출된 번호: [xx, xx, xx, xx, xx, xx]\n",
    "정렬된 로또 번호: [x, xx, xx, xx, xx, xx]\n",
    "최종 로또 번호: [x, xx, xx, xx, xx, xx]\n",
    "예시\n",
    "출력 예시:\n",
    "랜덤 실수: 0.8444218515250481\n",
    "추출된 번호: [23, 7, 41, 12, 35, 3]\n",
    "정렬된 로또 번호: [3, 7, 12, 23, 35, 41]\n",
    "최종 로또 번호: [5, 18, 22, 28, 33, 44]\n",
    "사용해야 할 함수들\n",
    "\n",
    "import random\n",
    "random.seed() - 난수 생성기 초기화\n",
    "random.random() - 0 이상 1 미만의 실수 난수 생성\n",
    "random.sample(range(1, 46), 6) - 1~45에서 중복 없이 6개 추출\n",
    "sorted() - 리스트 정렬\n",
    "\n",
    "핵심 개념\n",
    "\n",
    "중복 제거: random.sample()을 사용하면 중복 없이 샘플링 가능\n",
    "정렬: sorted() 함수로 리스트를 오름차순 정렬\n",
    "리스트 vs 셋: 리스트는 정렬이 가능하지만, 셋(set)은 정렬이 불가능\n",
    "\n",
    "참고 예제\n",
    "python# 정렬 예제\n",
    "unsorted_list = [45, 30, 2, 10, 12, 31]\n",
    "sorted_list = sorted(unsorted_list)\n",
    "print(f\"정렬 전: {unsorted_list}\")\n",
    "print(f\"정렬 후: {sorted_list}\")\n",
    "# 출력: 정렬 후: [2, 10, 12, 30, 31, 45]\n",
    "힌트\n",
    "\n",
    "random.sample(range(시작, 끝+1), 개수)로 중복 없는 랜덤 추출\n",
    "sorted(리스트)로 새로운 정렬된 리스트 반환\n",
    "로또 번호는 1부터 45까지의 범위에서 선택\n",
    "매번 실행할 때마다 다른 결과가 나와야 함\n",
    "\n",
    "추가 도전과제\n",
    "\n",
    "특정 시드 값(예: 3)을 설정하여 항상 같은 결과가 나오도록 해보기\n",
    "여러 개의 로또 번호 세트를 한 번에 생성해보기\n",
    "생성된 번호들의 통계 정보(평균, 최댓값, 최솟값) 출력해보기\n",
    "```"
   ]
  },
  {
   "cell_type": "markdown",
   "id": "d82a1639",
   "metadata": {},
   "source": [
    "## 2.2 while문"
   ]
  },
  {
   "cell_type": "code",
   "execution_count": 11,
   "id": "7c518280",
   "metadata": {},
   "outputs": [
    {
     "data": {
      "text/plain": [
       "0.25306588031317523"
      ]
     },
     "execution_count": 11,
     "metadata": {},
     "output_type": "execute_result"
    }
   ],
   "source": [
    "# ex2. 로또번호 6개를 추출 후, 정렬하여 출력\n",
    "import random\n",
    "random.random()"
   ]
  },
  {
   "cell_type": "code",
   "execution_count": 13,
   "id": "1d59d147",
   "metadata": {},
   "outputs": [
    {
     "name": "stdout",
     "output_type": "stream",
     "text": [
      "6번 로또번호 추출함 :[1, 3, 7, 18, 35, 44]\n",
      "정렬후 : [1, 3, 7, 18, 35, 44]\n"
     ]
    }
   ],
   "source": [
    "lotto_lst = [] # 추출된 로또번호를 담을 변수\n",
    "cnt = 0\n",
    "while len(lotto_lst) < 6:\n",
    "    temp = random.randint(1, 45) # 임의의 수를 temp변수\n",
    "    cnt += 1\n",
    "    if not temp in lotto_lst:\n",
    "        lotto_lst.append(temp)\n",
    "print(\"{}번 로또번호 추출함 :{}\".format(cnt, sorted(lotto_lst)))\n",
    "\n",
    "# 정렬 알고리즘 (오름차순)\n",
    "for i in range(len(lotto_lst)-1):\n",
    "    for j in range(i+1, len(lotto_lst)):\n",
    "        if lotto_lst[i] > lotto_lst[j]:\n",
    "            lotto_lst[i], lotto_lst[j] = lotto_lst[j], lotto_lst[i]\n",
    "print(\"정렬후 :\", lotto_lst)"
   ]
  },
  {
   "cell_type": "code",
   "execution_count": null,
   "id": "480539e4",
   "metadata": {},
   "outputs": [],
   "source": [
    "import random\n",
    "\n",
    "lotto_lst = [] # 추출된 로또번호를 담을 변수\n",
    "cnt = 0\n",
    "\n",
    "while len(lotto_lst) < 6:\n",
    "    temp = random.randint(1, 45) # 임의의 수를 temp변수\n",
    "    cnt += 1\n",
    "    if not temp in lotto_lst:\n",
    "        lotto_lst.append(temp)\n",
    "\n",
    "print(\"{}번 로또번호 추출함 :{}\".format(cnt, sorted(lotto_lst, reverse=True)))\n",
    "\n",
    "# 정렬 알고리즘 (내림차순으로 수정)\n",
    "for i in range(len(lotto_lst)-1):\n",
    "    for j in range(i+1, len(lotto_lst)):\n",
    "        if lotto_lst[i] < lotto_lst[j]:  # 부등호 방향 변경 (< 로 변경)\n",
    "            lotto_lst[i], lotto_lst[j] = lotto_lst[j], lotto_lst[i]\n",
    "\n",
    "print(\"정렬후 :\", lotto_lst)"
   ]
  },
  {
   "cell_type": "code",
   "execution_count": 14,
   "id": "66c74a18",
   "metadata": {},
   "outputs": [
    {
     "data": {
      "text/plain": [
       "[5, 11, 14, 21, 41, 45]"
      ]
     },
     "execution_count": 14,
     "metadata": {},
     "output_type": "execute_result"
    }
   ],
   "source": [
    "# ex2. 로또번호 6개를 추출 후, 정렬하여 출력\n",
    "\n",
    "lotto_set = set() # 빈 셋\n",
    "while len(lotto_set)<6:\n",
    "    lotto_set.add(random.randint(1, 45))\n",
    "sorted(lotto_set)"
   ]
  },
  {
   "cell_type": "code",
   "execution_count": 18,
   "id": "94b33a85",
   "metadata": {},
   "outputs": [
    {
     "name": "stdout",
     "output_type": "stream",
     "text": [
      "로또 번호: [4, 10, 33, 34, 40, 44]\n"
     ]
    }
   ],
   "source": [
    "# 로또 번호 추출 프로그램 해설\n",
    "# 전체 코드\n",
    "# python# ex2. 로또번호 6개를 추출 후, 정렬하여 출력\n",
    "lotto_set = set()  # 빈 셋\n",
    "while len(lotto_set)<6:\n",
    "    lotto_set.add(random.randint(1, 45))\n",
    "sorted(lotto_set)\n",
    "\n",
    "#단계별 해설\n",
    "#1단계: 빈 셋(set) 생성\n",
    "pythonlotto_set = set()  # 빈 셋\n",
    "\n",
    "#셋(set): 중복을 허용하지 않는 자료구조\n",
    "#같은 숫자가 여러 번 들어와도 한 개만 저장됨\n",
    "#예: {1, 2, 2, 3} → {1, 2, 3} (중복 제거됨)\n",
    "\n",
    "#2단계: 반복문으로 6개 숫자 수집\n",
    "while len(lotto_set)<6:\n",
    "    lotto_set.add(random.randint(1, 45))\n",
    "\n",
    "#조건: 셋의 크기가 6보다 작은 동안 계속 반복\n",
    "#동작: 1~45 사이의 랜덤 숫자를 셋에 추가\n",
    "#중복 처리: 이미 있는 숫자가 나와도 셋에서 자동으로 중복 제거\n",
    "#종료: 6개의 서로 다른 숫자가 모이면 반복 종료\n",
    "\n",
    "result = sorted(lotto_set)\n",
    "print(\"로또 번호:\", result)"
   ]
  },
  {
   "cell_type": "code",
   "execution_count": 15,
   "id": "ce87fdc1",
   "metadata": {},
   "outputs": [
    {
     "name": "stdout",
     "output_type": "stream",
     "text": [
      "로또 번호: [8, 18, 23, 27, 35, 38]\n"
     ]
    }
   ],
   "source": [
    "#개선된 코드\n",
    "#python\n",
    "\n",
    "import random\n",
    "\n",
    "lotto_set = set()  # 빈 셋\n",
    "while len(lotto_set) < 6:\n",
    "    lotto_set.add(random.randint(1, 45))\n",
    "\n",
    "# 정렬 결과를 변수에 저장하고 출력\n",
    "result = sorted(lotto_set)\n",
    "print(\"로또 번호:\", result)\n",
    "\n",
    "#핵심 포인트\n",
    "\n",
    "#셋의 장점: 중복 제거가 자동으로 됨\n",
    "#효율성: 중복 검사 없이 간단하게 구현\n",
    "#주의사항: sorted() 결과는 리스트로 반환되므로 저장 필요\n",
    "\n",
    "#리스트 방식과의 차이점\n",
    "\n",
    "#리스트 방식: 중복 검사를 직접 해야 함 (if not temp in lotto_lst)\n",
    "#셋 방식: 중복 검사가 자동으로 됨 (더 간단함)\n"
   ]
  },
  {
   "cell_type": "code",
   "execution_count": 3,
   "id": "7eb0e829",
   "metadata": {},
   "outputs": [
    {
     "data": {
      "text/plain": [
       "'0.37415112152658513977598886413034051656723022460938'"
      ]
     },
     "execution_count": 3,
     "metadata": {},
     "output_type": "execute_result"
    }
   ],
   "source": [
    "# ex2. 로또번호 6개를 추출 후, 정렬하여 출력\n",
    "import random\n",
    "\"{:.50f}\".format(random.random())"
   ]
  },
  {
   "cell_type": "code",
   "execution_count": 3,
   "id": "b4748d49",
   "metadata": {},
   "outputs": [
    {
     "data": {
      "text/plain": [
       "1"
      ]
     },
     "execution_count": 3,
     "metadata": {},
     "output_type": "execute_result"
    }
   ],
   "source": [
    "# ex2. 로또번호 6개를 추출 후, 정렬하여 출력\n",
    "import random\n",
    "\n",
    "# random.random()      # 0이상 1미만의 실수 난수\n",
    "random.randint(1, 45)  # 1~45의 정수 난수\n",
    "\n",
    "# randint는 프로그래밍, 특히 파이썬의 random 모듈에 포함된 함수로, \n",
    "# 지정한 두 정수값(a, b)을 포함한 범위 내에서 임의의(무작위) 정수 하나를 생성하여 반환하는 함수입니다. \n",
    "# 예를 들어 `random.randint(1, 10)`은 1부터 10까지의 정수 중 하나를 무작위로 선택해 줍니다. \n",
    "# 주요 특징\n",
    "# 무작위 정수 생성: 이름에서 알 수 있듯이, 'random integer'의 줄임말로 정수형 난수를 생성합니다. \n",
    "#포함 범위: `randint(a, b)`는 a와 b를 모두 포함하는 범위 내에서 난수를 생성합니다."
   ]
  },
  {
   "cell_type": "code",
   "execution_count": 4,
   "id": "dba5df47",
   "metadata": {},
   "outputs": [
    {
     "data": {
      "text/plain": [
       "13"
      ]
     },
     "execution_count": 4,
     "metadata": {},
     "output_type": "execute_result"
    }
   ],
   "source": [
    "random.randint(1, 45)"
   ]
  },
  {
   "cell_type": "code",
   "execution_count": 5,
   "id": "70f46656",
   "metadata": {},
   "outputs": [
    {
     "data": {
      "text/plain": [
       "41"
      ]
     },
     "execution_count": 5,
     "metadata": {},
     "output_type": "execute_result"
    }
   ],
   "source": [
    "random.randint(1, 45)"
   ]
  },
  {
   "cell_type": "code",
   "execution_count": 28,
   "id": "4975a675",
   "metadata": {},
   "outputs": [
    {
     "ename": "SyntaxError",
     "evalue": "unmatched ')' (1179861202.py, line 9)",
     "output_type": "error",
     "traceback": [
      "\u001b[1;36m  Cell \u001b[1;32mIn[28], line 9\u001b[1;36m\u001b[0m\n\u001b[1;33m    random.choices(['사기꾼', '비사기꾼']), weights=[0.1, 0.9])\u001b[0m\n\u001b[1;37m                                                       ^\u001b[0m\n\u001b[1;31mSyntaxError\u001b[0m\u001b[1;31m:\u001b[0m unmatched ')'\n"
     ]
    }
   ],
   "source": [
    "# ex2. 로또번호 6개를 랜덤으로 중복되지 않게 추출 후, \n",
    "# 정렬하여 출력 [45, 30, 2, 10, 12, 31] => [2, 10, 12, 30, 31, 45]\n",
    "# 셋은 정렬이 안되고, 리스트는 정렬이 된다.\n",
    "# import random\n",
    "# random.seed(3)\n",
    "# random.random()      # 0이상 1미만의 실수 난수\n",
    "# random.randint(1, 45)  # 1~45의 정수 난수\n",
    "# random.choice(['남자', '여자'] # 남자나 여자를 선택(확률일치)\n",
    "random.choices(['사기꾼', '비사기꾼']), weights=[0.1, 0.9])"
   ]
  },
  {
   "cell_type": "code",
   "execution_count": 15,
   "id": "809b2a91",
   "metadata": {},
   "outputs": [
    {
     "name": "stdout",
     "output_type": "stream",
     "text": [
      "추출된 번호: [27, 35, 15, 44, 14, 28]\n",
      "정렬된 로또 번호: [14, 15, 27, 28, 35, 44]\n",
      "최종 로또 번호: [9, 11, 22, 25, 30, 41]\n"
     ]
    }
   ],
   "source": [
    "import random\n",
    "\n",
    "# 1부터 45까지의 숫자 중에서 중복되지 않게 6개 선택\n",
    "lotto_numbers = random.sample(range(1, 46), 6)\n",
    "\n",
    "# 정렬하기 전 출력\n",
    "print(f\"추출된 번호: {lotto_numbers}\")\n",
    "\n",
    "# 정렬하여 출력\n",
    "sorted_lotto_numbers = sorted(lotto_numbers)\n",
    "print(f\"정렬된 로또 번호: {sorted_lotto_numbers}\")\n",
    "\n",
    "# 또는 한 번에 정렬해서 출력\n",
    "final_numbers = sorted(random.sample(range(1, 46), 6))\n",
    "print(f\"최종 로또 번호: {final_numbers}\")"
   ]
  },
  {
   "cell_type": "code",
   "execution_count": 16,
   "id": "0782b64a",
   "metadata": {},
   "outputs": [
    {
     "name": "stdout",
     "output_type": "stream",
     "text": [
      "랜덤 실수: 0.15361085934949514\n",
      "추출된 번호: [38, 6, 11, 5, 45, 20]\n",
      "정렬된 로또 번호: [5, 6, 11, 20, 38, 45]\n",
      "최종 로또 번호: [1, 5, 11, 25, 29, 42]\n"
     ]
    }
   ],
   "source": [
    "import random\n",
    "\n",
    "# 시드 설정 (현재 시간 기반으로 초기화)\n",
    "random.seed()\n",
    "\n",
    "# 0 이상 1 미만의 실수 난수 생성 (테스트용)\n",
    "print(f\"랜덤 실수: {random.random()}\")\n",
    "\n",
    "# 1부터 45까지의 숫자 중에서 중복되지 않게 6개 선택\n",
    "lotto_numbers = random.sample(range(1, 46), 6)\n",
    "\n",
    "# 정렬하기 전 출력\n",
    "print(f\"추출된 번호: {lotto_numbers}\")\n",
    "\n",
    "# 정렬하여 출력\n",
    "sorted_lotto_numbers = sorted(lotto_numbers)\n",
    "print(f\"정렬된 로또 번호: {sorted_lotto_numbers}\")\n",
    "\n",
    "# 또는 한 번에 정렬해서 출력하는 방법\n",
    "final_numbers = sorted(random.sample(range(1, 46), 6))\n",
    "print(f\"최종 로또 번호: {final_numbers}\")"
   ]
  },
  {
   "cell_type": "markdown",
   "id": "e31bbdd2",
   "metadata": {},
   "source": [
    "## 2.3 break, contionue\n",
    "- break : 현재 반복문 탈출\n",
    "- continue : 수행중인 반복문을 멈추고 조건절로"
   ]
  },
  {
   "cell_type": "code",
   "execution_count": 19,
   "id": "37eac089",
   "metadata": {},
   "outputs": [
    {
     "name": "stdout",
     "output_type": "stream",
     "text": [
      "1 2 3 4 6 7 8 9 10 END\n"
     ]
    }
   ],
   "source": [
    "num = 0\n",
    "while num<10:\n",
    "    num += 1\n",
    "    if num == 5:\n",
    "        # break\n",
    "        continue\n",
    "    print(num, end=' ')\n",
    "print('END')"
   ]
  },
  {
   "cell_type": "code",
   "execution_count": 52,
   "id": "e2f48b43",
   "metadata": {},
   "outputs": [
    {
     "ename": "SyntaxError",
     "evalue": "'continue' not properly in loop (667095595.py, line 24)",
     "output_type": "error",
     "traceback": [
      "\u001b[1;36m  Cell \u001b[1;32mIn[52], line 24\u001b[1;36m\u001b[0m\n\u001b[1;33m    continue\u001b[0m\n\u001b[1;37m    ^\u001b[0m\n\u001b[1;31mSyntaxError\u001b[0m\u001b[1;31m:\u001b[0m 'continue' not properly in loop\n"
     ]
    }
   ],
   "source": [
    "# 단계별 해설\n",
    "\n",
    "# 1단계: 초기 설정\n",
    "num = 0\n",
    "#변수 num을 0으로 초기화\n",
    "\n",
    "#2단계: 반복 조건\n",
    "while num<10:\n",
    "\n",
    "#num이 10보다 작은 동안 계속 반복\n",
    "# 1부터 10까지 처리할 예정\n",
    "\n",
    "#3단계: 숫자 증가\n",
    "\n",
    "    num += 1\n",
    "\n",
    "# 매 반복마다 num을 1씩 증가\n",
    "# num = num + 1과 같은 의미\n",
    "\n",
    "#4단계: 조건문과 continue\n",
    "\n",
    "if num == 5:\n",
    "    # break\n",
    "        continue\n",
    "\n",
    "#num이 5일 때 continue 실행\n",
    "#continue: 남은 코드를 건너뛰고 다음 반복으로 이동\n",
    "#break(주석 처리됨): 반복문을 완전히 종료\n",
    "\n",
    "#5단계: 출력\n",
    "        print(num, end=' ')\n",
    "        print('END')\n",
    "#num 값을 출력하되, 줄바꿈 대신 공백으로 구분\n",
    "#end=' ': 출력 후 공백 추가 (기본값은 줄바꿈)"
   ]
  },
  {
   "cell_type": "code",
   "execution_count": null,
   "id": "e4523909",
   "metadata": {},
   "outputs": [],
   "source": [
    "# 숫자 찾기 게임\n",
    "```\n",
    "1~100 사이의 정수 맞추기 프로그램\n",
    "(프로그램 안에서  만들어지고, 그 random수 맞추기)\n",
    "1단계 : 숫자를 못 맞추면 UP/DOWN을 출력하고, 맞추면 축하 메세지 출력하고 종료\n",
    "2단계 : 숫자를 못 맞추면 min(0), max(100)를 조정하고, 맞추면 축하메세지 출력하고 종료\n",
    "3단계 : 2단계의 기회를 5회로 제한. 5회의 기회가 지나면 실패메세지 출력하고 종료\n",
    "        5회 이내에 맞추면 축하메세지 출력하고 종료\n",
    "    (2단계와 3단계는 연습문제)\n",
    "```"
   ]
  },
  {
   "cell_type": "code",
   "execution_count": null,
   "id": "350d11f7",
   "metadata": {},
   "outputs": [
    {
     "name": "stdout",
     "output_type": "stream",
     "text": [
      "컴퓨터가 발생한 random 수 : 9\n"
     ]
    }
   ],
   "source": [
    "import random\n",
    "randomNum = random.randint(1, 100)\n",
    "print(\"컴퓨터가 발생한 random 수 :\", randomNum)\n",
    "while True:\n",
    "    inputNum = int(input(\"1~100 사이의 수를 맞춰 보세요 :\"))\n",
    "    if (inputNum<1) | (input>100):\n",
    "        print('수의 범위를 벗어났습니다')\n",
    "    elif randomNum < inputNum :\n",
    "        print('DOWN ↓')\n",
    "    elif randomNum > inputNum:\n",
    "        print('UP ↑')\n",
    "    else:\n",
    "        print(\"축하 축하 맞추셨습니다\")\n",
    "        break\n",
    "print(\"BYE\")"
   ]
  },
  {
   "cell_type": "code",
   "execution_count": null,
   "id": "7755beda",
   "metadata": {},
   "outputs": [],
   "source": [
    "import random\n",
    "randomNum = random.randint(1, 100)\n",
    "print(\"컴퓨터가 발생한 random 수 :\", randomNum)\n",
    "while True:\n",
    "    inputNum = int(input(\"1~100 사이의 수를 맞춰 보세요 :\"))\n",
    "    if (inputNum<1) | (input>100):\n",
    "        print('수의 범위를 벗어났습니다')\n",
    "    elif randomNum < inputNum :\n",
    "        print('DOWN ↓')\n",
    "    elif randomNum > inputNum:\n",
    "        print('UP ↑')\n",
    "    else:\n",
    "        print(\"축하 축하 맞추셨습니다\")\n",
    "        break\n",
    "print(\"BYE\")"
   ]
  },
  {
   "cell_type": "markdown",
   "id": "1bb35136",
   "metadata": {},
   "source": [
    "# 3절 중첩루프\n",
    "(반복문 안의 반복문)"
   ]
  },
  {
   "cell_type": "code",
   "execution_count": 2,
   "id": "ce4fbfd2",
   "metadata": {},
   "outputs": [
    {
     "name": "stdout",
     "output_type": "stream",
     "text": [
      "2*1=2\t2*2=4\t2*3=6\t2*4=8\t2*5=10\t2*6=12\t2*7=14\t2*8=16\t2*9=18\t\n",
      "3*1=3\t3*2=6\t3*3=9\t3*4=12\t3*5=15\t3*6=18\t3*7=21\t3*8=24\t3*9=27\t\n",
      "4*1=4\t4*2=8\t4*3=12\t4*4=16\t4*5=20\t4*6=24\t4*7=28\t4*8=32\t4*9=36\t\n",
      "5*1=5\t5*2=10\t5*3=15\t5*4=20\t5*5=25\t5*6=30\t5*7=35\t5*8=40\t5*9=45\t\n",
      "6*1=6\t6*2=12\t6*3=18\t6*4=24\t6*5=30\t6*6=36\t6*7=42\t6*8=48\t6*9=54\t\n",
      "7*1=7\t7*2=14\t7*3=21\t7*4=28\t7*5=35\t7*6=42\t7*7=49\t7*8=56\t7*9=63\t\n",
      "8*1=8\t8*2=16\t8*3=24\t8*4=32\t8*5=40\t8*6=48\t8*7=56\t8*8=64\t8*9=72\t\n",
      "9*1=9\t9*2=18\t9*3=27\t9*4=36\t9*5=45\t9*6=54\t9*7=63\t9*8=72\t9*9=81\t\n"
     ]
    }
   ],
   "source": [
    "# 2~9단 구구단 출력\n",
    "for i in range(2, 10):\n",
    "    for j in range(1, 10):\n",
    "        print(\"{}*{}={}\".format(i, j, i*j), end=\"\\t\")\n",
    "    print()"
   ]
  },
  {
   "cell_type": "code",
   "execution_count": 3,
   "id": "86e394fb",
   "metadata": {},
   "outputs": [
    {
     "name": "stdout",
     "output_type": "stream",
     "text": [
      "  2단  \t  3단  \t  4단  \t  5단  \t  6단  \t  7단  \t  8단  \t  9단  \t\n",
      "9*2=18\t9*3=27\t9*4=36\t9*5=45\t9*6=54\t9*7=63\t9*8=72\t9*9=81\t\n",
      "9*2=18\t9*3=27\t9*4=36\t9*5=45\t9*6=54\t9*7=63\t9*8=72\t9*9=81\t\n",
      "9*2=18\t9*3=27\t9*4=36\t9*5=45\t9*6=54\t9*7=63\t9*8=72\t9*9=81\t\n",
      "9*2=18\t9*3=27\t9*4=36\t9*5=45\t9*6=54\t9*7=63\t9*8=72\t9*9=81\t\n",
      "9*2=18\t9*3=27\t9*4=36\t9*5=45\t9*6=54\t9*7=63\t9*8=72\t9*9=81\t\n",
      "9*2=18\t9*3=27\t9*4=36\t9*5=45\t9*6=54\t9*7=63\t9*8=72\t9*9=81\t\n",
      "9*2=18\t9*3=27\t9*4=36\t9*5=45\t9*6=54\t9*7=63\t9*8=72\t9*9=81\t\n",
      "9*2=18\t9*3=27\t9*4=36\t9*5=45\t9*6=54\t9*7=63\t9*8=72\t9*9=81\t\n",
      "9*2=18\t9*3=27\t9*4=36\t9*5=45\t9*6=54\t9*7=63\t9*8=72\t9*9=81\t\n"
     ]
    }
   ],
   "source": [
    "# 2~9단 구구단 출력\n",
    "for i in range(2, 10):\n",
    "    print(\"{:^6}\".format(str(i)+'단'), end=\"\\t\")\n",
    "print() # 개행\n",
    "for j in range(1, 10):\n",
    "    for j in range(2, 10):\n",
    "        print(\"{}*{}={}\".format(i, j, i*j), end=\"\\t\")\n",
    "    print()"
   ]
  },
  {
   "cell_type": "markdown",
   "id": "43643182",
   "metadata": {},
   "source": [
    "# 4절 중첩루프 탈출"
   ]
  },
  {
   "cell_type": "code",
   "execution_count": 4,
   "id": "8e4beb01",
   "metadata": {},
   "outputs": [
    {
     "name": "stdout",
     "output_type": "stream",
     "text": [
      "0 1\n",
      "0 2\n",
      "1 1\n",
      "1 2\n",
      "2 1\n",
      "2 2\n",
      "DONE\n"
     ]
    }
   ],
   "source": [
    "for a in range(0, 3): # a=0일때 1일때, 2일때\n",
    "    for b in range(1, 3): # b=1일때, 2일때\n",
    "        print(a, b)\n",
    "print('DONE')"
   ]
  },
  {
   "cell_type": "code",
   "execution_count": 6,
   "id": "b1deb206",
   "metadata": {},
   "outputs": [
    {
     "name": "stdout",
     "output_type": "stream",
     "text": [
      "0 1\n",
      "0 2\n",
      "1 1\n",
      "1 2\n",
      "2 1\n",
      "2 2\n",
      "DONE\n"
     ]
    }
   ],
   "source": [
    "# 중첩 반복문(Nested Loop) 해설\n",
    "# 중첩 루프 탈출 방법1. flag변수 사용\n",
    "\n",
    "for a in range(0, 3):  # a=0일때 1일때, 2일때\n",
    "    for b in range(1, 3):  # b=1일때, 2일때\n",
    "        print(a, b)\n",
    "print('DONE')\n",
    "\n",
    "## 단계별 해설\n",
    "### 1단계: 바깥쪽 반복문\n",
    "# 이 프로그램의 핵심은 중첩 반복문의 실행 순서를 이해하는 것입니다.\n",
    "\n",
    "#간단 요약:\n",
    "#바깥쪽 a가 0일 때: 안쪽 b가 1, 2를 모두 순회 → 0 1, 0 2 출력\n",
    "#바깥쪽 a가 1일 때: 안쪽 b가 1, 2를 모두 순회 → 1 1, 1 2 출력\n",
    "#바깥쪽 a가 2일 때: 안쪽 b가 1, 2를 모두 순회 → 2 1, 2 2 출력\n",
    "\n",
    "#결과: 총 6개의 조합이 출력되고 마지막에 DONE이 출력됩니다.\n",
    "#핵심: \"바깥쪽이 한 번 돌 때마다, 안쪽이 완전히 한 바퀴 돈다\""
   ]
  },
  {
   "cell_type": "code",
   "execution_count": null,
   "id": "aaca91c3",
   "metadata": {},
   "outputs": [],
   "source": [
    "# 수정된 코드\n",
    "flag = False  # flag 변수를 미리 초기화\n",
    "\n",
    "for a in range(0, 3):  # a=0일때 1일때, 2일때\n",
    "    for b in range(1, 3):  # b=1일때, 2일때\n",
    "        if a == b:\n",
    "            flag = True\n",
    "            break\n",
    "        print(a, b)\n",
    "    if flag:\n",
    "        break\n",
    "print('DONE')\n",
    "\n",
    "print(\"\\n\" + \"=\"*40)\n",
    "print(\"실행 과정 상세 분석:\")\n",
    "print(\"=\"*40)\n",
    "\n",
    "# 실행 과정을 단계별로 보여주는 코드\n",
    "flag = False\n",
    "step = 1\n",
    "\n",
    "for a in range(0, 3):\n",
    "    print(f\"\\n외부 루프: a = {a}\")\n",
    "    \n",
    "    for b in range(1, 3):\n",
    "        print(f\"  내부 루프: b = {b}\")\n",
    "        print(f\"  {step}단계: a({a}) == b({b}) ? {a == b}\")\n",
    "        \n",
    "        if a == b:\n",
    "            print(f\"  ✓ 조건 만족! flag를 True로 설정하고 내부 루프 종료\")\n",
    "            flag = True\n",
    "            break\n",
    "        else:\n",
    "            print(f\"  출력: {a} {b}\")\n",
    "        \n",
    "        step += 1\n",
    "    \n",
    "    if flag:\n",
    "        print(f\"flag가 True이므로 외부 루프도 종료\")\n",
    "        break\n",
    "\n",
    "print('DONE')"
   ]
  },
  {
   "cell_type": "markdown",
   "id": "397c088f",
   "metadata": {},
   "source": [
    "# 5절 연습문제"
   ]
  },
  {
   "cell_type": "code",
   "execution_count": 1,
   "id": "b55263db",
   "metadata": {},
   "outputs": [
    {
     "name": "stdout",
     "output_type": "stream",
     "text": [
      "양의 정수를 입력하세요543\n",
      "inputStr이 정수인지 여부 : True\n"
     ]
    }
   ],
   "source": [
    "inputStr = input('양의 정수를 입력하세요')\n",
    "print('inputStr이 정수인지 여부 :', inputStr.isdigit())"
   ]
  },
  {
   "cell_type": "markdown",
   "id": "bd4b0171",
   "metadata": {},
   "source": [
    "## [연습문제 01] 1.\n",
    "- 양의 정수를 입력 받아 홀수인지 짝수인지를 판별하는 프로그램을 작성하세요. \n",
    "- 양의 정수가 아니면 숫자를 다시 입력 받아야 합니다 "
   ]
  },
  {
   "cell_type": "code",
   "execution_count": 2,
   "id": "44bf9171",
   "metadata": {},
   "outputs": [
    {
     "name": "stdout",
     "output_type": "stream",
     "text": [
      "홀수/짝수 판별 프로그램을 시작합니다.\n",
      "양의 정수를 입력하세요 (종료: q): 5678\n",
      "5678은(는) 짝수입니다.\n",
      "다시 하시겠습니까? (y/n): y\n",
      "양의 정수를 입력하세요 (종료: q): q\n",
      "프로그램을 종료합니다.\n",
      "이용해 주셔서 감사합니다.\n"
     ]
    }
   ],
   "source": [
    "# 연습문제 01: 홀수/짝수 판별 프로그램\n",
    "\n",
    "print(\"홀수/짝수 판별 프로그램을 시작합니다.\")\n",
    "\n",
    "while True:\n",
    "    try:\n",
    "        # 사용자로부터 정수 입력받기\n",
    "        user_input = input(\"양의 정수를 입력하세요 (종료: q): \").strip()\n",
    "        \n",
    "        # 종료 조건 추가\n",
    "        if user_input.lower() == 'q':\n",
    "            print(\"프로그램을 종료합니다.\")\n",
    "            break\n",
    "        \n",
    "        # 정수로 변환\n",
    "        num = int(user_input)\n",
    "        \n",
    "        # 양의 정수인지 확인\n",
    "        if num <= 0:\n",
    "            print(\"양의 정수가 아닙니다. 다시 입력해주세요.\")\n",
    "            continue  # 다시 입력받기\n",
    "        \n",
    "        # 홀수/짝수 판별\n",
    "        if num % 2 == 0:\n",
    "            print(f\"{num}은(는) 짝수입니다.\")\n",
    "        else:\n",
    "            print(f\"{num}은(는) 홀수입니다.\")\n",
    "        \n",
    "        # 계속 여부 확인\n",
    "        while True:\n",
    "            continue_choice = input(\"다시 하시겠습니까? (y/n): \").lower()\n",
    "            if continue_choice in ['y', 'yes']:\n",
    "                break\n",
    "            elif continue_choice in ['n', 'no']:\n",
    "                print(\"프로그램을 종료합니다.\")\n",
    "                exit()\n",
    "            else:\n",
    "                print(\"y 또는 n을 입력해주세요.\")\n",
    "        \n",
    "    except ValueError:\n",
    "        # 정수가 아닌 값이 입력된 경우\n",
    "        print(\"잘못된 입력입니다. 정수를 입력해주세요.\")\n",
    "        continue\n",
    "    \n",
    "    except KeyboardInterrupt:\n",
    "        # Ctrl+C 처리\n",
    "        print(\"\\n프로그램이 중단되었습니다.\")\n",
    "        break\n",
    "\n",
    "print(\"이용해 주셔서 감사합니다.\")"
   ]
  },
  {
   "cell_type": "markdown",
   "id": "7ac87a26",
   "metadata": {},
   "source": [
    "## [연습문제 02] 2.\n",
    "중첩 for 문을 이용하여 아래 패턴의 별을 출력하는 프로그램을 작성하세요\n",
    "\n",
    "(1)\n",
    "*****\n",
    "*****\n",
    "*****\n",
    "*****\n",
    "*****\n",
    "\n",
    "(2)\n",
    "*\n",
    "**\n",
    "***\n",
    "****\n",
    "*****"
   ]
  },
  {
   "cell_type": "code",
   "execution_count": 3,
   "id": "b6b64bb6",
   "metadata": {},
   "outputs": [
    {
     "name": "stdout",
     "output_type": "stream",
     "text": [
      "=== 패턴 1: 직사각형 ===\n",
      "*****\n",
      "*****\n",
      "*****\n",
      "*****\n",
      "*****\n",
      "\n",
      "=== 패턴 2: 증가하는 삼각형 ===\n",
      "*\n",
      "**\n",
      "***\n",
      "****\n",
      "*****\n",
      "\n",
      "=== 패턴 3: 감소하는 삼각형 ===\n",
      "*****\n",
      "****\n",
      "***\n",
      "**\n",
      "*\n",
      "\n",
      "=== 패턴 4: 오른쪽 정렬 삼각형 ===\n",
      "    *\n",
      "   **\n",
      "  ***\n",
      " ****\n",
      "*****\n",
      "\n",
      "=== 패턴 5: 피라미드 ===\n",
      "    *\n",
      "   ***\n",
      "  *****\n",
      " *******\n",
      "*********\n",
      "\n",
      "=== 패턴 6: 역삼각형 (피라미드 뒤집기) ===\n",
      "*********\n",
      " *******\n",
      "  *****\n",
      "   ***\n",
      "    *\n",
      "\n",
      "=== 패턴 7: 다이아몬드 ===\n",
      "    *\n",
      "   ***\n",
      "  *****\n",
      " *******\n",
      "*********\n",
      " *******\n",
      "  *****\n",
      "   ***\n",
      "    *\n",
      "\n",
      "=== 패턴 8: 속이 빈 사각형 ===\n",
      "*****\n",
      "*   *\n",
      "*   *\n",
      "*   *\n",
      "*****\n",
      "\n",
      "프로그램 종료!\n"
     ]
    }
   ],
   "source": [
    "# 중첩 for문을 이용한 별 패턴 출력 프로그램\n",
    "\n",
    "print(\"=== 패턴 1: 직사각형 ===\")\n",
    "# 5x5 직사각형 패턴\n",
    "for i in range(5):\n",
    "    for j in range(5):\n",
    "        print(\"*\", end=\"\")\n",
    "    print()  # 줄바꿈\n",
    "\n",
    "print(\"\\n=== 패턴 2: 증가하는 삼각형 ===\")\n",
    "# 1개부터 5개까지 증가하는 삼각형\n",
    "for i in range(1, 6):\n",
    "    for j in range(i):\n",
    "        print(\"*\", end=\"\")\n",
    "    print()  # 줄바꿈\n",
    "\n",
    "print(\"\\n=== 패턴 3: 감소하는 삼각형 ===\")\n",
    "# 5개부터 1개까지 감소하는 삼각형\n",
    "for i in range(5, 0, -1):\n",
    "    for j in range(i):\n",
    "        print(\"*\", end=\"\")\n",
    "    print()  # 줄바꿈\n",
    "\n",
    "print(\"\\n=== 패턴 4: 오른쪽 정렬 삼각형 ===\")\n",
    "# 오른쪽 정렬된 증가하는 삼각형\n",
    "for i in range(1, 6):\n",
    "    # 공백 출력\n",
    "    for j in range(5-i):\n",
    "        print(\" \", end=\"\")\n",
    "    # 별 출력\n",
    "    for k in range(i):\n",
    "        print(\"*\", end=\"\")\n",
    "    print()  # 줄바꿈\n",
    "\n",
    "print(\"\\n=== 패턴 5: 피라미드 ===\")\n",
    "# 중앙 정렬된 피라미드\n",
    "for i in range(1, 6):\n",
    "    # 앞쪽 공백\n",
    "    for j in range(5-i):\n",
    "        print(\" \", end=\"\")\n",
    "    # 별 출력\n",
    "    for k in range(2*i-1):\n",
    "        print(\"*\", end=\"\")\n",
    "    print()  # 줄바꿈\n",
    "\n",
    "print(\"\\n=== 패턴 6: 역삼각형 (피라미드 뒤집기) ===\")\n",
    "# 중앙 정렬된 역삼각형\n",
    "for i in range(5, 0, -1):\n",
    "    # 앞쪽 공백\n",
    "    for j in range(5-i):\n",
    "        print(\" \", end=\"\")\n",
    "    # 별 출력\n",
    "    for k in range(2*i-1):\n",
    "        print(\"*\", end=\"\")\n",
    "    print()  # 줄바꿈\n",
    "\n",
    "print(\"\\n=== 패턴 7: 다이아몬드 ===\")\n",
    "# 다이아몬드 패턴 (위쪽 피라미드)\n",
    "for i in range(1, 5):\n",
    "    # 앞쪽 공백\n",
    "    for j in range(5-i):\n",
    "        print(\" \", end=\"\")\n",
    "    # 별 출력\n",
    "    for k in range(2*i-1):\n",
    "        print(\"*\", end=\"\")\n",
    "    print()\n",
    "\n",
    "# 다이아몬드 패턴 (아래쪽 역삼각형)\n",
    "for i in range(5, 0, -1):\n",
    "    # 앞쪽 공백\n",
    "    for j in range(5-i):\n",
    "        print(\" \", end=\"\")\n",
    "    # 별 출력\n",
    "    for k in range(2*i-1):\n",
    "        print(\"*\", end=\"\")\n",
    "    print()\n",
    "\n",
    "print(\"\\n=== 패턴 8: 속이 빈 사각형 ===\")\n",
    "# 테두리만 있는 사각형\n",
    "for i in range(5):\n",
    "    for j in range(5):\n",
    "        # 첫 번째/마지막 행 또는 첫 번째/마지막 열만 별 출력\n",
    "        if i == 0 or i == 4 or j == 0 or j == 4:\n",
    "            print(\"*\", end=\"\")\n",
    "        else:\n",
    "            print(\" \", end=\"\")\n",
    "    print()\n",
    "\n",
    "print(\"\\n프로그램 종료!\")"
   ]
  },
  {
   "cell_type": "markdown",
   "id": "67b47865",
   "metadata": {},
   "source": [
    "3. 다음 코드는 1 부터 30 까지 (30 포함 ) 자연수 중에서 3 의 배수의 총합을 출력하는 프로그램입니다. \n",
    "빈칸의 코드를 완성하시오\n",
    "sum = 0\n",
    "for i in ___________:\n",
    "    if _____________:\n",
    "        sum = sum + i\n",
    "else:\n",
    "        pass\n",
    "print(sum)"
   ]
  },
  {
   "cell_type": "code",
   "execution_count": 6,
   "id": "2bac2b30",
   "metadata": {},
   "outputs": [
    {
     "name": "stdout",
     "output_type": "stream",
     "text": [
      "165\n"
     ]
    }
   ],
   "source": [
    "#1부터 30까지의 자연수 중에서 3의 배수의 총합을 구하는 코드의 빈칸을 완성해보겠습니다.\n",
    "#python\n",
    "\n",
    "sum = 0\n",
    "for i in range(1, 31):\n",
    "    if i % 3 == 0:\n",
    "        sum = sum + i\n",
    "    else:\n",
    "        pass\n",
    "print(sum)\n",
    "\n",
    "#빈칸 설명:\n",
    "\n",
    "#첫 번째 빈칸: range(1, 31) - 1부터 30까지의 범위 (31은 포함되지 않으므로 30까지)\n",
    "#두 번째 빈칸: i % 3 == 0 - i를 3으로 나눈 나머지가 0인지 확인 (3의 배수 조건)\n",
    "\n",
    "#이 코드를 실행하면 1부터 30까지의 3의 배수(3, 6, 9, 12, 15, 18, 21, 24, 27, 30)의 총합인 165가 출력됩니다."
   ]
  },
  {
   "cell_type": "markdown",
   "id": "eade8b5c",
   "metadata": {},
   "source": [
    "4. 다음 코드의 실행결과가 “1 3 5 7 9\"가 되도록 빈칸을 완성하시오\n",
    "num = 0\n",
    "________ num <=\n",
    " if num%2 :\n",
    "  print(num, end=‘ ’)\n",
    " num += 1"
   ]
  },
  {
   "cell_type": "code",
   "execution_count": 7,
   "id": "9dd3ca8e",
   "metadata": {},
   "outputs": [
    {
     "name": "stdout",
     "output_type": "stream",
     "text": [
      "1 3 5 7 9 "
     ]
    }
   ],
   "source": [
    "# 주어진 코드의 실행결과가 \"1 3 5 7 9\"가 되도록 빈칸을 완성해보겠습니다.\n",
    "# python\n",
    "\n",
    "num = 0\n",
    "while num <= 10:\n",
    "    if num%2 :\n",
    "        print(num, end=' ')\n",
    "    num += 1\n",
    "\n",
    "# 빈칸에는 while이 들어갑니다.\n",
    "# 코드 동작 설명:\n",
    "# num = 0부터 시작\n",
    "# while num <= 10: 조건으로 num이 10 이하일 때까지 반복\n",
    "# if num%2 : 조건은 num을 2로 나눈 나머지가 0이 아닐 때(즉, 홀수일 때) True\n",
    "# 홀수인 경우 print(num, end=' ')로 숫자를 공백과 함께 출력\n",
    "# num += 1로 num을 1씩 증가\n",
    "# 따라서 0부터 10까지 중에서 홀수인 1, 3, 5, 7, 9가 출력됩니다."
   ]
  },
  {
   "cell_type": "code",
   "execution_count": null,
   "id": "782aebac",
   "metadata": {},
   "outputs": [],
   "source": [
    "5. 다음 2 차원 리스트의 모든 값을 출력하는 코드입니다. \n",
    "빈칸을 완성하시오\n",
    "\n",
    "list2d = [ [1,2,3],[4,5,6,7],[8,9]]\n",
    "for row in list2d:\n",
    "    _____________________\n",
    "            print(data, end=‘ ’)\n",
    "    print()\n",
    "결과\n",
    "1 2 3\n",
    "4 5 6 7\n",
    "8 9"
   ]
  },
  {
   "cell_type": "code",
   "execution_count": 8,
   "id": "c75ff235",
   "metadata": {},
   "outputs": [
    {
     "name": "stdout",
     "output_type": "stream",
     "text": [
      "1 2 3 \n",
      "4 5 6 7 \n",
      "8 9 \n"
     ]
    }
   ],
   "source": [
    "# 2차원 리스트의 모든 값을 출력하는 코드의 빈칸을 완성해보겠습니다.\n",
    "# python\n",
    "list2d = [ [1,2,3],[4,5,6,7],[8,9]]\n",
    "for row in list2d:\n",
    "    for data in row:\n",
    "        print(data, end=' ')\n",
    "    print()\n",
    "# 빈칸에는 for data in row:가 들어갑니다.\n",
    "# 코드 동작 설명:\n",
    "\n",
    "# 외부 반복문 for row in list2d:는 각 행(리스트)을 순회\n",
    "# 내부 반복문 for data in row:는 각 행의 개별 요소들을 순회\n",
    "# print(data, end=' ')로 각 요소를 공백과 함께 출력\n",
    "# print()로 각 행이 끝나면 줄바꿈\n",
    "# 이렇게 2중 for문을 사용하여 2차원 리스트의 모든 요소를 행별로 출력할 수 있습니다."
   ]
  },
  {
   "cell_type": "code",
   "execution_count": null,
   "id": "287ea32a",
   "metadata": {},
   "outputs": [],
   "source": [
    "6. 다음 빈칸에 들어갈 함수 이름은?\n",
    "colors = {\" red\":'apple ', yellow\":'banana'}\n",
    "for i , v in _______________(colors.________()):\n",
    "    print(i , v)\n",
    "0 apple\n",
    "1 banana"
   ]
  },
  {
   "cell_type": "code",
   "execution_count": 10,
   "id": "c76dc9b4",
   "metadata": {},
   "outputs": [
    {
     "name": "stdout",
     "output_type": "stream",
     "text": [
      "0 apple\n",
      "1 banana\n"
     ]
    }
   ],
   "source": [
    "colors = {\"red\":'apple', \"yellow\":'banana'}\n",
    "for i, v in enumerate(colors.values()):\n",
    "    print(i, v)\n",
    "    \n",
    "# 빈칸에 들어갈 함수들:\n",
    "\n",
    "# 첫 번째 빈칸: enumerate\n",
    "# 두 번째 빈칸: values\n",
    "\n",
    "# 코드 동작 설명:\n",
    "\n",
    "# colors.values()는 딕셔너리의 값들('apple', 'banana')을 반환\n",
    "# enumerate()는 순서가 있는 자료형을 인덱스와 값의 쌍으로 반환\n",
    "# enumerate(colors.values())는 (0, 'apple'), (1, 'banana')를 생성\n",
    "# for i, v in으로 인덱스는 i에, 값은 v에 할당되어 출력\n",
    "\n",
    "# 결과:\n",
    "# 0 apple\n",
    "# 1 banana\n",
    "# enumerate() 함수는 반복 가능한 객체의 각 요소에 \n",
    "# 인덱스를 붙여서 enumerate 객체를 반환하는 내장 함수입니다."
   ]
  },
  {
   "cell_type": "markdown",
   "id": "986f642b",
   "metadata": {},
   "source": [
    "7. 다음 코드의 실행결과는 ?\n",
    "for i in range(0, 2):\n",
    "    for j in range(0,2):\n",
    "        if i==j:\n",
    "            break\n",
    "        print(i ,j)"
   ]
  },
  {
   "cell_type": "code",
   "execution_count": null,
   "id": "f6182bbe",
   "metadata": {},
   "outputs": [],
   "source": [
    "# 실행 과정:\n",
    "# i = 0일 때:\n",
    "\n",
    "# j = 0: i==j (0==0)이므로 break 실행 → 내부 반복문 종료\n",
    "# print문 실행되지 않음2\n",
    "\n",
    "# i = 1일 때:\n",
    "\n",
    "# j = 0: i≠j (1≠0)이므로 조건 거짓 → print(1, 0) 실행\n",
    "# j = 1: i==j (1==1)이므로 break 실행 → 내부 반복문 종료\n",
    "\n",
    "# 실행결과: 1 0\n",
    "\n",
    "# break문은 가장 가까운 반복문(여기서는 내부 for문)만 종료시키므로, 외부 반복문은 계속 실행됩니다.\n",
    "# i와 j가 같을 때만 break되어 해당 내부 반복문이 종료되고, i≠j인 경우에만 출력됩니다."
   ]
  },
  {
   "cell_type": "code",
   "execution_count": null,
   "id": "0cfb16f6",
   "metadata": {},
   "outputs": [],
   "source": [
    "8. 다음 코드의 실행 결과로 출력될 수 없는 것은?\n",
    "for i in range(0, 2):\n",
    "    for j in range(0,2):\n",
    "        print(I, j)\n",
    "    if i==j:\n",
    "        break\n",
    "# ①00 ② 0 1 ③ 1 0 ④ 1 1"
   ]
  },
  {
   "cell_type": "code",
   "execution_count": 12,
   "id": "f398ae43",
   "metadata": {},
   "outputs": [
    {
     "name": "stdout",
     "output_type": "stream",
     "text": [
      "0 0\n",
      "0 1\n",
      "1 0\n",
      "1 1\n"
     ]
    }
   ],
   "source": [
    "# 주어진 코드를 분석해보겠습니다.\n",
    "# python\n",
    "\n",
    "for i in range(0, 2):\n",
    "    for j in range(0,2):\n",
    "        print(i, j)\n",
    "    if i==j:\n",
    "        break\n",
    "# 실행 과정:\n",
    "# i = 0일 때:\n",
    "\n",
    "# 내부 for문 실행: j = 0, 1에 대해\n",
    "# print(0, 0) 출력\n",
    "# print(0, 1) 출력\n",
    "# 내부 for문 종료 후 if문 체크: i==j → 0==1 (거짓)\n",
    "# break 실행되지 않음\n",
    "\n",
    "# i = 1일 때:\n",
    "\n",
    "# 내부 for문 실행: j = 0, 1에 대해\n",
    "# print(1, 0) 출력\n",
    "# print(1, 1) 출력\n",
    "# 내부 for문 종료 후 if문 체크: i==j → 1==1 (참)\n",
    "# break 실행 → 외부 for문 종료\n",
    "\n",
    "# 실행결과:\n",
    "# 0 0\n",
    "# 0 1\n",
    "# 1 0\n",
    "# 1 1\n",
    "# 따라서 모든 선택지 ①0 0, ②0 1, ③1 0, ④1 1이 모두 출력됩니다.\n",
    "# 답: 문제에 오류가 있는 것 같습니다. \n",
    "# 모든 선택지가 출력되므로 \"출력될 수 없는 것\"은 없습니다. \n",
    "# 아마도 if문의 위치나 조건이 다르게 의도된 것 같습니다."
   ]
  },
  {
   "cell_type": "code",
   "execution_count": null,
   "id": "e93d1859",
   "metadata": {},
   "outputs": [],
   "source": [
    "9.다음 코드의 실행결과는?\n",
    "L = [3, 4, 5, 6, 7, 8, 9, 10]\n",
    "for i , data in enumerate(L):\n",
    "    if i%2 == 0:\n",
    "        print(data, end=‘ ’)"
   ]
  },
  {
   "cell_type": "code",
   "execution_count": 13,
   "id": "313118bf",
   "metadata": {},
   "outputs": [
    {
     "name": "stdout",
     "output_type": "stream",
     "text": [
      "3 5 7 9 "
     ]
    }
   ],
   "source": [
    "# 주어진 코드의 실행결과를 분석해보겠습니다.\n",
    "# python\n",
    "\n",
    "L = [3, 4, 5, 6, 7, 8, 9, 10]\n",
    "for i, data in enumerate(L):\n",
    "    if i%2 == 0:\n",
    "        print(data, end=' ')\n",
    "\n",
    "# 실행 과정:\n",
    "# enumerate(L)은 각 요소에 인덱스를 붙여서 (인덱스, 값) 쌍을 반환합니다:\n",
    "\n",
    "# (0, 3), (1, 4), (2, 5), (3, 6), (4, 7), (5, 8), (6, 9), (7, 10)\n",
    "\n",
    "# 각 단계별 실행:\n",
    "\n",
    "# i=0, data=3: 0%2==0 (참) → print(3) 출력\n",
    "# i=1, data=4: 1%2==0 (거짓) → 출력 안함\n",
    "# i=2, data=5: 2%2==0 (참) → print(5) 출력\n",
    "# i=3, data=6: 3%2==0 (거짓) → 출력 안함\n",
    "# i=4, data=7: 4%2==0 (참) → print(7) 출력\n",
    "# i=5, data=8: 5%2==0 (거짓) → 출력 안함\n",
    "# i=6, data=9: 6%2==0 (참) → print(9) 출력\n",
    "# i=7, data=10: 7%2==0 (거짓) → 출력 안함\n",
    "\n",
    "# 실행결과:\n",
    "# 3 5 7 9\n",
    "# 인덱스가 짝수인 위치(0, 2, 4, 6번째)에 있는 요소들만 출력됩니다."
   ]
  },
  {
   "cell_type": "code",
   "execution_count": 15,
   "id": "718eaeb4",
   "metadata": {},
   "outputs": [
    {
     "ename": "SyntaxError",
     "evalue": "invalid syntax (680338759.py, line 1)",
     "output_type": "error",
     "traceback": [
      "\u001b[1;36m  Cell \u001b[1;32mIn[15], line 1\u001b[1;36m\u001b[0m\n\u001b[1;33m    10. 1~100\u001b[0m\n\u001b[1;37m        ^\u001b[0m\n\u001b[1;31mSyntaxError\u001b[0m\u001b[1;31m:\u001b[0m invalid syntax\n"
     ]
    }
   ],
   "source": [
    "10. 1~100\n",
    "# 사이의 정수를 맞추는 프로그램을 구현하시오\n",
    "# (프로그램안에 임의의 숫자가 만들어지고 그 숫자를 맞추도록 합니다)\n",
    "\n",
    "# 1단계. 입력된 숫자가 틀리면 UP/DOWN 메시지를 출력하고 \n",
    "# 숫자를 맞추면 축하메세지와 함꼐 종료합니다 맞출 때까지 반복\n",
    "\n",
    "# 난수 발생 코드\n",
    "# import random\n",
    "# random.seed (21) # seed 값을 넣어주면 랜덤수가 같다\n",
    "# print(random.randint (1, 100))\n",
    "\n",
    "# 2단계 . 입력된 숫자가 틀리면 min~max 사이의 수라고 알려주고 숫자를 맞추면 \n",
    "# 축하 메시지와 함께 종료합니다 맞출 때까지 반복\n",
    "\n",
    "# 3단계 . 숫자를 맞출 수 있는 기회를 5 회로 제한하고 \n",
    "# 5회 이내에 맞추지 않으면 실패 메세지를 출력합니다"
   ]
  },
  {
   "cell_type": "code",
   "execution_count": null,
   "id": "162473e2",
   "metadata": {},
   "outputs": [
    {
     "name": "stdout",
     "output_type": "stream",
     "text": [
      "숫자 맞추기 게임에 오신 것을 환영합니다!\n",
      "\n",
      "==================================================\n",
      "어떤 단계를 플레이하시겠습니까?\n",
      "1. 1단계: 기본 UP/DOWN 게임\n",
      "2. 2단계: 범위 힌트 게임\n",
      "3. 3단계: 5회 기회 제한 게임\n",
      "4. 종료\n",
      "선택하세요 (1-4): 3\n",
      "\n",
      "=== 3단계: 5회 기회 제한 숫자 맞추기 게임 ===\n",
      "1부터 100 사이의 숫자를 맞춰보세요!\n",
      "기회는 총 5회입니다!\n",
      "\n",
      "남은 기회: 5회\n",
      "힌트: 1~100 사이의 수입니다.\n",
      "숫자를 입력하세요: 2\n",
      "UP! 더 큰 숫자입니다.\n",
      "\n",
      "남은 기회: 4회\n",
      "힌트: 3~100 사이의 수입니다.\n",
      "숫자를 입력하세요: 5\n",
      "UP! 더 큰 숫자입니다.\n",
      "\n",
      "남은 기회: 3회\n",
      "힌트: 6~100 사이의 수입니다.\n",
      "숫자를 입력하세요: 6\n",
      "UP! 더 큰 숫자입니다.\n",
      "\n",
      "남은 기회: 2회\n",
      "힌트: 7~100 사이의 수입니다.\n",
      "숫자를 입력하세요: 8\n",
      "UP! 더 큰 숫자입니다.\n",
      "\n",
      "남은 기회: 1회\n",
      "힌트: 9~100 사이의 수입니다.\n",
      "숫자를 입력하세요: 90\n",
      "DOWN! 더 작은 숫자입니다.\n",
      "\n",
      "게임 오버! 5번의 기회를 모두 사용했습니다.\n",
      "정답은 68이었습니다.\n",
      "\n",
      "==================================================\n",
      "어떤 단계를 플레이하시겠습니까?\n",
      "1. 1단계: 기본 UP/DOWN 게임\n",
      "2. 2단계: 범위 힌트 게임\n",
      "3. 3단계: 5회 기회 제한 게임\n",
      "4. 종료\n",
      "선택하세요 (1-4): 2\n",
      "\n",
      "=== 2단계: 범위를 알려주는 숫자 맞추기 게임 ===\n",
      "1부터 100 사이의 숫자를 맞춰보세요!\n",
      "힌트: 1~100 사이의 수입니다.\n",
      "숫자를 입력하세요: 3\n",
      "UP! 더 큰 숫자입니다.\n",
      "힌트: 4~100 사이의 수입니다.\n",
      "숫자를 입력하세요: 4\n",
      "UP! 더 큰 숫자입니다.\n",
      "힌트: 5~100 사이의 수입니다.\n",
      "숫자를 입력하세요: 6\n",
      "UP! 더 큰 숫자입니다.\n",
      "힌트: 7~100 사이의 수입니다.\n",
      "숫자를 입력하세요: 89\n",
      "DOWN! 더 작은 숫자입니다.\n",
      "힌트: 7~88 사이의 수입니다.\n",
      "숫자를 입력하세요: 0\n",
      "UP! 더 큰 숫자입니다.\n",
      "힌트: 1~88 사이의 수입니다.\n",
      "숫자를 입력하세요: 98\n",
      "DOWN! 더 작은 숫자입니다.\n",
      "힌트: 1~97 사이의 수입니다.\n"
     ]
    }
   ],
   "source": [
    "import random\n",
    "\n",
    "# 1단계: UP/DOWN 메시지와 함께 맞출 때까지 반복\n",
    "def stage1():\n",
    "    print(\"=== 1단계: 숫자 맞추기 게임 ===\")\n",
    "    print(\"1부터 100 사이의 숫자를 맞춰보세요!\")\n",
    "    \n",
    "    # 랜덤 숫자 생성\n",
    "    answer = random.randint(1, 100)\n",
    "    \n",
    "    while True:\n",
    "        try:\n",
    "            guess = int(input(\"숫자를 입력하세요: \"))\n",
    "            \n",
    "            if guess == answer:\n",
    "                print(\"축하합니다! 정답입니다!\")\n",
    "                break\n",
    "            elif guess < answer:\n",
    "                print(\"UP! 더 큰 숫자입니다.\")\n",
    "            else:\n",
    "                print(\"DOWN! 더 작은 숫자입니다.\")\n",
    "                \n",
    "        except ValueError:\n",
    "            print(\"올바른 숫자를 입력해주세요.\")\n",
    "\n",
    "# 2단계: min~max 범위를 알려주며 맞출 때까지 반복\n",
    "def stage2():\n",
    "    print(\"\\n=== 2단계: 범위를 알려주는 숫자 맞추기 게임 ===\")\n",
    "    print(\"1부터 100 사이의 숫자를 맞춰보세요!\")\n",
    "    \n",
    "    answer = random.randint(1, 100)\n",
    "    min_num = 1\n",
    "    max_num = 100\n",
    "    \n",
    "    while True:\n",
    "        try:\n",
    "            print(f\"힌트: {min_num}~{max_num} 사이의 수입니다.\")\n",
    "            guess = int(input(\"숫자를 입력하세요: \"))\n",
    "            \n",
    "            if guess == answer:\n",
    "                print(\"축하합니다! 정답입니다!\")\n",
    "                break\n",
    "            elif guess < answer:\n",
    "                print(\"UP! 더 큰 숫자입니다.\")\n",
    "                min_num = guess + 1\n",
    "            else:\n",
    "                print(\"DOWN! 더 작은 숫자입니다.\")\n",
    "                max_num = guess - 1\n",
    "                \n",
    "        except ValueError:\n",
    "            print(\"올바른 숫자를 입력해주세요.\")\n",
    "\n",
    "# 3단계: 5회 기회 제한\n",
    "def stage3():\n",
    "    print(\"\\n=== 3단계: 5회 기회 제한 숫자 맞추기 게임 ===\")\n",
    "    print(\"1부터 100 사이의 숫자를 맞춰보세요!\")\n",
    "    print(\"기회는 총 5회입니다!\")\n",
    "    \n",
    "    answer = random.randint(1, 100)\n",
    "    min_num = 1\n",
    "    max_num = 100\n",
    "    attempts = 0\n",
    "    max_attempts = 5\n",
    "    \n",
    "    while attempts < max_attempts:\n",
    "        try:\n",
    "            print(f\"\\n남은 기회: {max_attempts - attempts}회\")\n",
    "            print(f\"힌트: {min_num}~{max_num} 사이의 수입니다.\")\n",
    "            guess = int(input(\"숫자를 입력하세요: \"))\n",
    "            \n",
    "            attempts += 1\n",
    "            \n",
    "            if guess == answer:\n",
    "                print(f\"축하합니다! 정답입니다! ({attempts}번 만에 맞췄습니다!)\")\n",
    "                return\n",
    "            elif guess < answer:\n",
    "                print(\"UP! 더 큰 숫자입니다.\")\n",
    "                min_num = guess + 1\n",
    "            else:\n",
    "                print(\"DOWN! 더 작은 숫자입니다.\")\n",
    "                max_num = guess - 1\n",
    "                \n",
    "        except ValueError:\n",
    "            print(\"올바른 숫자를 입력해주세요.\")\n",
    "            attempts -= 1  # 잘못된 입력은 기회를 차감하지 않음\n",
    "    \n",
    "    print(f\"\\n게임 오버! 5번의 기회를 모두 사용했습니다.\")\n",
    "    print(f\"정답은 {answer}이었습니다.\")\n",
    "\n",
    "# 메인 함수\n",
    "def main():\n",
    "    print(\"숫자 맞추기 게임에 오신 것을 환영합니다!\")\n",
    "    \n",
    "    while True:\n",
    "        print(\"\\n\" + \"=\"*50)\n",
    "        print(\"어떤 단계를 플레이하시겠습니까?\")\n",
    "        print(\"1. 1단계: 기본 UP/DOWN 게임\")\n",
    "        print(\"2. 2단계: 범위 힌트 게임\")\n",
    "        print(\"3. 3단계: 5회 기회 제한 게임\")\n",
    "        print(\"4. 종료\")\n",
    "        \n",
    "        try:\n",
    "            choice = int(input(\"선택하세요 (1-4): \"))\n",
    "            \n",
    "            if choice == 1:\n",
    "                stage1()\n",
    "            elif choice == 2:\n",
    "                stage2()\n",
    "            elif choice == 3:\n",
    "                stage3()\n",
    "            elif choice == 4:\n",
    "                print(\"게임을 종료합니다. 감사합니다!\")\n",
    "                break\n",
    "            else:\n",
    "                print(\"1-4 사이의 숫자를 입력해주세요.\")\n",
    "                \n",
    "        except ValueError:\n",
    "            print(\"올바른 숫자를 입력해주세요.\")\n",
    "\n",
    "if __name__ == \"__main__\":\n",
    "    main()"
   ]
  },
  {
   "cell_type": "code",
   "execution_count": null,
   "id": "ba4f80a0",
   "metadata": {},
   "outputs": [],
   "source": []
  },
  {
   "cell_type": "code",
   "execution_count": null,
   "id": "4d8fe5ff",
   "metadata": {},
   "outputs": [],
   "source": []
  },
  {
   "cell_type": "code",
   "execution_count": null,
   "id": "78a2cd10",
   "metadata": {},
   "outputs": [],
   "source": []
  }
 ],
 "metadata": {
  "kernelspec": {
   "display_name": "Python 3 (ipykernel)",
   "language": "python",
   "name": "python3"
  },
  "language_info": {
   "codemirror_mode": {
    "name": "ipython",
    "version": 3
   },
   "file_extension": ".py",
   "mimetype": "text/x-python",
   "name": "python",
   "nbconvert_exporter": "python",
   "pygments_lexer": "ipython3",
   "version": "3.10.9"
  },
  "toc": {
   "base_numbering": 1,
   "nav_menu": {},
   "number_sections": false,
   "sideBar": true,
   "skip_h1_title": false,
   "title_cell": "Table of Contents",
   "title_sidebar": "Contents",
   "toc_cell": false,
   "toc_position": {
    "height": "calc(100% - 180px)",
    "left": "10px",
    "top": "150px",
    "width": "349.091px"
   },
   "toc_section_display": true,
   "toc_window_display": true
  }
 },
 "nbformat": 4,
 "nbformat_minor": 5
}
