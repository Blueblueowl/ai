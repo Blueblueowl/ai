{
 "cells": [
  {
   "cell_type": "code",
   "execution_count": 232,
   "id": "1956cf58",
   "metadata": {},
   "outputs": [
    {
     "data": {
      "text/html": [
       "\n",
       "<style>\n",
       "div.container{width:90% !important;}\n",
       "div.cell.code_cell.rendered{width:100%;}\n",
       "div.input_prompt{padding:0px;}\n",
       "div.CodeMirror {font-family:Consolas; font-size:22pt;}\n",
       "div.text_cell_render.rendered_html{font-size:12pt;}\n",
       "div.output {font-size:12pt; font-weight:bold;}\n",
       "div.input {font-family:Consolas; font-size:12pt;}\n",
       "div.prompt {min-width:140px;}\n",
       "div#toc-wrapper{padding-top:120px;}\n",
       "div.text_cell_render ul li{font-size:12pt;padding:5px;}\n",
       "table.dataframe{font-size:12px;}\n",
       "</style>\n"
      ],
      "text/plain": [
       "<IPython.core.display.HTML object>"
      ]
     },
     "metadata": {},
     "output_type": "display_data"
    }
   ],
   "source": [
    "from IPython.display import display, HTML\n",
    "display(HTML(\"\"\"\n",
    "<style>\n",
    "div.container{width:90% !important;}\n",
    "div.cell.code_cell.rendered{width:100%;}\n",
    "div.input_prompt{padding:0px;}\n",
    "div.CodeMirror {font-family:Consolas; font-size:22pt;}\n",
    "div.text_cell_render.rendered_html{font-size:12pt;}\n",
    "div.output {font-size:12pt; font-weight:bold;}\n",
    "div.input {font-family:Consolas; font-size:12pt;}\n",
    "div.prompt {min-width:140px;}\n",
    "div#toc-wrapper{padding-top:120px;}\n",
    "div.text_cell_render ul li{font-size:12pt;padding:5px;}\n",
    "table.dataframe{font-size:12px;}\n",
    "</style>\n",
    "\"\"\"))"
   ]
  },
  {
   "cell_type": "markdown",
   "id": "c8ce8406",
   "metadata": {},
   "source": [
    "<b><font size=\"7\" color=\"red\">ch05.함수</font></b>\n",
    "- 반복해서 사용할 코드를 묶어 놓고 그것에 이름을 붙인 것\n",
    "- 오버로딩 불가(같은 이름의 함수는 덮어씀)\n",
    "- 함수 정의\n",
    "```\n",
    "def 함수명([매개변수1, 매개변수2, ...]):\n",
    "    명령어1\n",
    "    명령어2\n",
    "```"
   ]
  },
  {
   "cell_type": "markdown",
   "id": "9a662b13",
   "metadata": {},
   "source": [
    "# 1절. 함수의 정의 및 사용\n",
    "## 1.1. 함수 정의"
   ]
  },
  {
   "cell_type": "code",
   "execution_count": 1,
   "id": "d381a5db",
   "metadata": {},
   "outputs": [],
   "source": [
    "# 함수 정의\n",
    "def my_message(x, msg): # msg를 x번 출력하는 함수\n",
    "    for i in range(x):\n",
    "        print(i, msg)\n",
    "    "
   ]
  },
  {
   "cell_type": "code",
   "execution_count": 3,
   "id": "8531ae68",
   "metadata": {},
   "outputs": [
    {
     "name": "stdout",
     "output_type": "stream",
     "text": [
      "0 Hello\n",
      "1 Hello\n",
      "2 Hello\n"
     ]
    }
   ],
   "source": [
    "# 함수 호출 == 함수 사용\n",
    "my_message(3, 'Hello')"
   ]
  },
  {
   "cell_type": "code",
   "execution_count": 4,
   "id": "490ef2c6",
   "metadata": {},
   "outputs": [
    {
     "name": "stdout",
     "output_type": "stream",
     "text": [
      "0 Hello\n",
      "1 Hello\n",
      "0 Python\n",
      "1 Python\n",
      "2 Python\n"
     ]
    }
   ],
   "source": [
    "# 함수 이름 변경\n",
    "my_msg = my_message\n",
    "my_message(2, 'Hello')\n",
    "my_msg(3, 'Python')"
   ]
  },
  {
   "cell_type": "code",
   "execution_count": 5,
   "id": "9113fe70",
   "metadata": {},
   "outputs": [
    {
     "data": {
      "text/plain": [
       "(function, function)"
      ]
     },
     "execution_count": 5,
     "metadata": {},
     "output_type": "execute_result"
    }
   ],
   "source": [
    "type(my_msg), type(my_message)"
   ]
  },
  {
   "cell_type": "code",
   "execution_count": null,
   "id": "522f95f0",
   "metadata": {},
   "outputs": [],
   "source": [
    "# 파이썬 내장 함수(import 하지 않고 사용할 수 있는 함수)\n",
    "# 내장 함수명은 일종의 키워드로 간주되므로 식별자로 사용하는 것은 피해야 한다.\n",
    "# 심볼 테이블로 함수를 불러오는 명령어가 import이다."
   ]
  },
  {
   "cell_type": "code",
   "execution_count": null,
   "id": "afd24754",
   "metadata": {},
   "outputs": [],
   "source": [
    "print(\"Hello\") "
   ]
  },
  {
   "cell_type": "code",
   "execution_count": 6,
   "id": "5e724ca1",
   "metadata": {},
   "outputs": [
    {
     "name": "stdout",
     "output_type": "stream",
     "text": [
      "0 Hello\n",
      "1 Hello\n"
     ]
    }
   ],
   "source": [
    "my_message(2, 'Hello')"
   ]
  },
  {
   "cell_type": "code",
   "execution_count": 10,
   "id": "02695124",
   "metadata": {},
   "outputs": [
    {
     "name": "stdout",
     "output_type": "stream",
     "text": [
      "0 Hello\n",
      "1 Hello\n"
     ]
    }
   ],
   "source": [
    "my_message = 5\n",
    "my_msg(2, \"Hello\")"
   ]
  },
  {
   "cell_type": "code",
   "execution_count": null,
   "id": "ed4e750f",
   "metadata": {},
   "outputs": [],
   "source": [
    "# my_message(2, 'Hello') 이제 실행하면 에러남"
   ]
  },
  {
   "cell_type": "code",
   "execution_count": 4,
   "id": "994c6a8b",
   "metadata": {},
   "outputs": [
    {
     "ename": "NameError",
     "evalue": "name 'messgage' is not defined",
     "output_type": "error",
     "traceback": [
      "\u001b[1;31m---------------------------------------------------------------------------\u001b[0m",
      "\u001b[1;31mNameError\u001b[0m                                 Traceback (most recent call last)",
      "Cell \u001b[1;32mIn[4], line 1\u001b[0m\n\u001b[1;32m----> 1\u001b[0m \u001b[38;5;28;01mdel\u001b[39;00m messgage \u001b[38;5;66;03m# 변수 및 함수 제거하여도\u001b[39;00m\n\u001b[0;32m      2\u001b[0m my_message(\u001b[38;5;241m2\u001b[39m, \u001b[38;5;124m'\u001b[39m\u001b[38;5;124mHello\u001b[39m\u001b[38;5;124m'\u001b[39m)\n",
      "\u001b[1;31mNameError\u001b[0m: name 'messgage' is not defined"
     ]
    }
   ],
   "source": [
    "del messgage # 변수 및 함수 제거하여도\n",
    "my_message(2, 'Hello') "
   ]
  },
  {
   "cell_type": "code",
   "execution_count": 3,
   "id": "0a61410b",
   "metadata": {},
   "outputs": [
    {
     "ename": "SyntaxError",
     "evalue": "expected ':' (3981259654.py, line 6)",
     "output_type": "error",
     "traceback": [
      "\u001b[1;36m  Cell \u001b[1;32mIn[3], line 6\u001b[1;36m\u001b[0m\n\u001b[1;33m    for i in range(cnt)\u001b[0m\n\u001b[1;37m                       ^\u001b[0m\n\u001b[1;31mSyntaxError\u001b[0m\u001b[1;31m:\u001b[0m expected ':'\n"
     ]
    }
   ],
   "source": [
    "# 함수 중복 정의 불가 (오버로딩 불가)\n",
    "def my_hello():\n",
    "    print('Hello Python')\n",
    "    print('Hello World')\n",
    "def my_hello(cnt):    # cnt번 출력\n",
    "    for i in range(cnt)\n",
    "        print('Hello, Python', end='\\t')\n",
    "        print('Hello, World')"
   ]
  },
  {
   "cell_type": "code",
   "execution_count": 6,
   "id": "36bcb7c5",
   "metadata": {},
   "outputs": [
    {
     "name": "stdout",
     "output_type": "stream",
     "text": [
      "Hello, Python\tHello, World\n",
      "Hello, Python\tHello, World\n"
     ]
    }
   ],
   "source": [
    "my_hello(2) # 함수의 중복 정의가 이루어지지 않음."
   ]
  },
  {
   "cell_type": "code",
   "execution_count": 11,
   "id": "2c677ff8",
   "metadata": {},
   "outputs": [
    {
     "name": "stdout",
     "output_type": "stream",
     "text": [
      "Hello, Python\tHello, World\n",
      "Hello, Python\tHello, World\n",
      "Hello, Python\tHello, World\n"
     ]
    }
   ],
   "source": [
    "my_hello(3)"
   ]
  },
  {
   "cell_type": "code",
   "execution_count": 12,
   "id": "d78415ca",
   "metadata": {},
   "outputs": [],
   "source": [
    "from ch05 import my_hello # ch05 모듈 안의 my_hello만 메모리 로드"
   ]
  },
  {
   "cell_type": "code",
   "execution_count": 13,
   "id": "76dbc518",
   "metadata": {},
   "outputs": [
    {
     "data": {
      "text/plain": [
       "'__main__'"
      ]
     },
     "execution_count": 13,
     "metadata": {},
     "output_type": "execute_result"
    }
   ],
   "source": [
    "__name__"
   ]
  },
  {
   "cell_type": "code",
   "execution_count": 14,
   "id": "11e83e6e",
   "metadata": {},
   "outputs": [],
   "source": [
    "import ch05"
   ]
  },
  {
   "cell_type": "code",
   "execution_count": 15,
   "id": "f1cb6896",
   "metadata": {},
   "outputs": [
    {
     "name": "stdout",
     "output_type": "stream",
     "text": [
      "ch05\n",
      "Hello, Python!\tHello, World\n",
      "Hello, Python!\tHello, World\n",
      "Hello, Python!\tHello, World\n"
     ]
    }
   ],
   "source": [
    "ch05.my_hello(3)"
   ]
  },
  {
   "cell_type": "markdown",
   "id": "c04ab205",
   "metadata": {},
   "source": [
    "## 1.2 docstring"
   ]
  },
  {
   "cell_type": "code",
   "execution_count": 19,
   "id": "bfd273d4",
   "metadata": {},
   "outputs": [],
   "source": [
    "def my_function():\n",
    "    \"\"\"\n",
    "    함수의 첫 라인에 독스트링을 포함할 수 있습니다.\n",
    "    독스트링은 함수의 설명서를 달아주는 역할\n",
    "    주석보다 많은 기능(함수 호출시 shift+tab으로 독스트링을 볼 수 있음)\n",
    "    \"\"\"\n",
    "\n",
    "#어떤 함수  "
   ]
  },
  {
   "cell_type": "code",
   "execution_count": 20,
   "id": "2f874016",
   "metadata": {},
   "outputs": [
    {
     "name": "stdout",
     "output_type": "stream",
     "text": [
      "\n",
      "    함수의 첫 라인에 독스트링을 포함할 수 있습니다.\n",
      "    독스트링은 함수의 설명서를 달아주는 역할\n",
      "    주석보다 많은 기능(함수 호출시 shift+tab으로 독스트링을 볼 수 있음)\n",
      "    \n"
     ]
    }
   ],
   "source": [
    "print(my_function.__doc__)\n",
    "    ```\n",
    "    매겨변수로 들어온 n값 미만의 피보나치 수열을 출력하는 함수\n",
    "    ex. n=10  : 0, 1, 1, 2, 3, 5, 8\n",
    "    n=100 : 0, 1, 1, 2, 3, 5, 8 13 21 34 55 89\n",
    "    ```\n",
    "    a, b = 0, 1 # 함수 내에 선언한 변수 : 지역 변수 (반: 전역변수) fibonacci\n",
    "    while a < n:\n",
    "        print(a, end=' ')\n",
    "        a, b = b, a+b\n",
    "    print()  # 개행"
   ]
  },
  {
   "cell_type": "code",
   "execution_count": 27,
   "id": "a6b8638c",
   "metadata": {},
   "outputs": [],
   "source": [
    "def fibonacci(n):\n",
    "    a, b = 0, 1 \n",
    "    while a < n:\n",
    "        print(a, end=' ')\n",
    "        a, b = b, a+b\n",
    "    print()  # 개행"
   ]
  },
  {
   "cell_type": "code",
   "execution_count": 28,
   "id": "377d6fcd",
   "metadata": {},
   "outputs": [
    {
     "name": "stdout",
     "output_type": "stream",
     "text": [
      "0 1 1 2 3 5 8 13 21 34 55 89 144 233 377 610 987 1597 2584 4181 6765 \n"
     ]
    }
   ],
   "source": [
    "fibonacci(10000)"
   ]
  },
  {
   "cell_type": "markdown",
   "id": "61478fdc",
   "metadata": {},
   "source": [
    "## 1.3 지역변수(local var)와 전역변수(global var)\n",
    "- 지역 심볼 테이블, 전역 심볼 테이블 -\n",
    "- 함수 내에서 변수에 정수를 할당하면 -"
   ]
  },
  {
   "cell_type": "code",
   "execution_count": 31,
   "id": "75dc809d",
   "metadata": {},
   "outputs": [
    {
     "name": "stdout",
     "output_type": "stream",
     "text": [
      "함수안 : 100\n",
      "함수밖: 100\n"
     ]
    }
   ],
   "source": [
    "global_var = 100\n",
    "def func1():\n",
    "    print('함수안 :', global_var)\n",
    "func1()\n",
    "print('함수밖:', global_var)"
   ]
  },
  {
   "cell_type": "code",
   "execution_count": 33,
   "id": "0e0d8873",
   "metadata": {},
   "outputs": [
    {
     "name": "stdout",
     "output_type": "stream",
     "text": [
      "함수안 : 200\n"
     ]
    }
   ],
   "source": [
    "def func2():\n",
    "    local_var = 200  # 지역변수(함수내에서 할당)\n",
    "    print('함수안 :', local_var)\n",
    "func2()"
   ]
  },
  {
   "cell_type": "code",
   "execution_count": null,
   "id": "f8503dd8",
   "metadata": {},
   "outputs": [],
   "source": [
    "# print('함수밖에서 지역변수 :', local_var) # 에러"
   ]
  },
  {
   "cell_type": "code",
   "execution_count": 45,
   "id": "6f924024",
   "metadata": {},
   "outputs": [
    {
     "name": "stdout",
     "output_type": "stream",
     "text": [
      "지역변수 g_var : 200\n",
      "전역변수 g_var : 100\n"
     ]
    }
   ],
   "source": [
    "g_var = 100 # 전역변수\n",
    "def func3():\n",
    "    g_var = 200\n",
    "    print('지역변수 g_var :', g_var)\n",
    "func3()\n",
    "print('전역변수 g_var :', g_var)"
   ]
  },
  {
   "cell_type": "code",
   "execution_count": 46,
   "id": "594dc666",
   "metadata": {},
   "outputs": [
    {
     "ename": "UnboundLocalError",
     "evalue": "local variable 'g_var' referenced before assignment",
     "output_type": "error",
     "traceback": [
      "\u001b[1;31m---------------------------------------------------------------------------\u001b[0m",
      "\u001b[1;31mUnboundLocalError\u001b[0m                         Traceback (most recent call last)",
      "Cell \u001b[1;32mIn[46], line 7\u001b[0m\n\u001b[0;32m      5\u001b[0m     \u001b[38;5;28mprint\u001b[39m(\u001b[38;5;124m'\u001b[39m\u001b[38;5;124m지역변수 g_var :\u001b[39m\u001b[38;5;124m'\u001b[39m, g_var)\n\u001b[0;32m      6\u001b[0m     g_var \u001b[38;5;241m=\u001b[39m \u001b[38;5;241m200\u001b[39m \u001b[38;5;66;03m# 지역변수 (함수 내에서 할당)\u001b[39;00m\n\u001b[1;32m----> 7\u001b[0m \u001b[43mfunc3\u001b[49m\u001b[43m(\u001b[49m\u001b[43m)\u001b[49m\n\u001b[0;32m      8\u001b[0m \u001b[38;5;28mprint\u001b[39m(\u001b[38;5;124m'\u001b[39m\u001b[38;5;124m전역변수 g_var :\u001b[39m\u001b[38;5;124m'\u001b[39m, g_var)\n",
      "Cell \u001b[1;32mIn[46], line 5\u001b[0m, in \u001b[0;36mfunc3\u001b[1;34m()\u001b[0m\n\u001b[0;32m      4\u001b[0m \u001b[38;5;28;01mdef\u001b[39;00m \u001b[38;5;21mfunc3\u001b[39m():\n\u001b[1;32m----> 5\u001b[0m     \u001b[38;5;28mprint\u001b[39m(\u001b[38;5;124m'\u001b[39m\u001b[38;5;124m지역변수 g_var :\u001b[39m\u001b[38;5;124m'\u001b[39m, \u001b[43mg_var\u001b[49m)\n\u001b[0;32m      6\u001b[0m     g_var \u001b[38;5;241m=\u001b[39m \u001b[38;5;241m200\u001b[39m\n",
      "\u001b[1;31mUnboundLocalError\u001b[0m: local variable 'g_var' referenced before assignment"
     ]
    }
   ],
   "source": [
    "# 렉시컬 특성 : 변수가 어디서 선언되었는지에 따라\n",
    "# 변수의 범위가 정해짐(지역 vs. 전역)\n",
    "g_var = 100 # 전역변수\n",
    "def func3():\n",
    "    print('지역변수 g_var :', g_var)\n",
    "    g_var = 200 # 지역변수 (함수 내에서 할당)\n",
    "func3()\n",
    "print('전역변수 g_var :', g_var)"
   ]
  },
  {
   "cell_type": "code",
   "execution_count": 51,
   "id": "fac06e33",
   "metadata": {},
   "outputs": [
    {
     "name": "stdout",
     "output_type": "stream",
     "text": [
      "지역변수 g_var : 100\n",
      "전역변수 g_var : 200\n"
     ]
    }
   ],
   "source": [
    "# 렉시컬 특성\n",
    "g_var = 100 # 전역변수\n",
    "def func3():\n",
    "    global g_var\n",
    "    print('지역변수 g_var :', g_var)\n",
    "    g_var = 200 # 전역변수 g_var에 200할당.\n",
    "func3()\n",
    "print('전역변수 g_var :', g_var)"
   ]
  },
  {
   "cell_type": "markdown",
   "id": "743c8b70",
   "metadata": {},
   "source": [
    "## 1.4 값에 의한 호출\n",
    "- 함수에 인수에 전달되는 변수가 스칼라변수(문자, 숫자, 논리형)일 때"
   ]
  },
  {
   "cell_type": "code",
   "execution_count": 52,
   "id": "6703714f",
   "metadata": {},
   "outputs": [
    {
     "data": {
      "text/plain": [
       "1800892737456"
      ]
     },
     "execution_count": 52,
     "metadata": {},
     "output_type": "execute_result"
    }
   ],
   "source": [
    "foo = 'a' # 전역변수\n",
    "id(foo)"
   ]
  },
  {
   "cell_type": "code",
   "execution_count": 53,
   "id": "36a4d945",
   "metadata": {
    "scrolled": true
   },
   "outputs": [
    {
     "name": "stdout",
     "output_type": "stream",
     "text": [
      "Before : a 의 주소는  1800892737456\n",
      "After : aaa 의 주소는  1801001296560\n"
     ]
    }
   ],
   "source": [
    "def func1(f):    # 매개변수는 지역변수\n",
    "    print('Before :', f, '의 주소는 ', id(f))\n",
    "    f = f*3\n",
    "    print('After :', f, '의 주소는 ', id(f))\n",
    "func1(foo)\n",
    "\n",
    "\n",
    "# 파이썬의 id() 함수는 객체를 인자로 받아, \n",
    "# 해당 객체의 **고유한 식별값(메모리 주소)**을 반환합니다. \n",
    "# 이 값은 객체를 구별하는 데 사용되며, \n",
    "# 동일한 객체를 가리키는지를 판별하는 데 활용될 수 있습니다. \n",
    "# id()는 객체가 생성될 때 부여되는 일련번호와 같으며, \n",
    "# 숫자로서 특별한 의미를 가지는 것은 아닙니다. "
   ]
  },
  {
   "cell_type": "code",
   "execution_count": 54,
   "id": "2f5890ad",
   "metadata": {},
   "outputs": [
    {
     "name": "stdout",
     "output_type": "stream",
     "text": [
      "foo =  a 의 주소는 1800892737456\n"
     ]
    }
   ],
   "source": [
    "print('foo = ', foo, '의 주소는', id(foo))"
   ]
  },
  {
   "cell_type": "markdown",
   "id": "97b4155b",
   "metadata": {},
   "source": [
    "## 1.5 참조에 의한 호출\n",
    "- 함수에 인수로 전달되는 변수가 리스트, 튜플, 셋, 딕셔너리, 기타 객체일 경우"
   ]
  },
  {
   "cell_type": "code",
   "execution_count": 55,
   "id": "3f71518d",
   "metadata": {},
   "outputs": [
    {
     "data": {
      "text/plain": [
       "1800971354880"
      ]
     },
     "execution_count": 55,
     "metadata": {},
     "output_type": "execute_result"
    }
   ],
   "source": [
    "L = [1, 2, 3, 4, 5]\n",
    "id(L)"
   ]
  },
  {
   "cell_type": "code",
   "execution_count": 56,
   "id": "e4533c52",
   "metadata": {},
   "outputs": [
    {
     "name": "stdout",
     "output_type": "stream",
     "text": [
      "Before : [1, 2, 3, 4, 5] 의 주소는 1800971354880\n",
      "After : [1, 2, 3, 4, 5, 6] 의 주소는 1800971354880\n"
     ]
    }
   ],
   "source": [
    "def func2(f): # 매개변수는 지역변수\n",
    "    print('Before :', f, '의 주소는', id(f))\n",
    "    f.append(6)\n",
    "    print('After :', f, '의 주소는', id(f))\n",
    "func2(L)"
   ]
  },
  {
   "cell_type": "code",
   "execution_count": 57,
   "id": "2661590d",
   "metadata": {},
   "outputs": [
    {
     "name": "stdout",
     "output_type": "stream",
     "text": [
      "L= [1, 2, 3, 4, 5, 6] 의 주소는 1800971354880\n"
     ]
    }
   ],
   "source": [
    "print('L=', L, '의 주소는', id(L))"
   ]
  },
  {
   "cell_type": "markdown",
   "id": "102ad41d",
   "metadata": {},
   "source": [
    "# 2절 함수의 실행결과를 반환하는 return"
   ]
  },
  {
   "cell_type": "code",
   "execution_count": 59,
   "id": "9cd78803",
   "metadata": {},
   "outputs": [],
   "source": [
    "def fibonacci_print(n):\n",
    "    a, b = 0, 1 # 함수 내에 선언한 변수 : 지역 변수 (반: 전역변수) fibonacci\n",
    "    while a < n:\n",
    "        print(a, end=' ')\n",
    "        a, b = b, a+b\n",
    "    print()  # 개행\n",
    "def fibonacci(n):\n",
    "    \"n미만의 피보나치 수열을 리스트로 return\"\n",
    "    result = [] # 피보나치 수열은 append할 리스트\n",
    "    a, b = 0, 1 # 함수 내에 선언한 변수 : 지역 변수 (반: 전역변수) fibonacci\n",
    "    while a < n:\n",
    "        result.append(a)    #  리스트에 append\n",
    "        a, b = b, a+b\n",
    "    return result"
   ]
  },
  {
   "cell_type": "code",
   "execution_count": 63,
   "id": "d4347163",
   "metadata": {},
   "outputs": [
    {
     "name": "stdout",
     "output_type": "stream",
     "text": [
      "[0, 1, 1, 2, 3, 5, 8]\n",
      "<class 'list'>\n"
     ]
    }
   ],
   "source": [
    "x = fibonacci(10)\n",
    "print(x)\n",
    "print(type(x))"
   ]
  },
  {
   "cell_type": "code",
   "execution_count": 62,
   "id": "18c52166",
   "metadata": {},
   "outputs": [
    {
     "name": "stdout",
     "output_type": "stream",
     "text": [
      "0 1 1 2 3 5 8 \n",
      "None\n",
      "<class 'NoneType'>\n"
     ]
    }
   ],
   "source": [
    "x = fibonacci_print(10)\n",
    "print(x)\n",
    "print(type(x))"
   ]
  },
  {
   "cell_type": "code",
   "execution_count": 76,
   "id": "c4665eb7",
   "metadata": {},
   "outputs": [
    {
     "name": "stdout",
     "output_type": "stream",
     "text": [
      "숫자를 입력하세요:10\n",
      "[1]\t[1, 2]\t[1, 2, 3]\t[1, 2, 3, 4]\t[1, 2, 3, 4, 5]\t[1, 2, 3, 4, 5, 6]\t[1, 2, 3, 4, 5, 6, 7]\t[1, 2, 3, 4, 5, 6, 7, 8]\t[1, 2, 3, 4, 5, 6, 7, 8, 9]\t[1, 2, 3, 4, 5, 6, 7, 8, 9, 10]\t"
     ]
    }
   ],
   "source": [
    "num = int(input(\"숫자를 입력하세요:\"))\n",
    "numbers=[]\n",
    "for i in range(1, num+1):\n",
    "    numbers.append(i)\n",
    "    print(numbers, end='\\t')"
   ]
  },
  {
   "cell_type": "markdown",
   "id": "ebba01e9",
   "metadata": {},
   "source": [
    "### 여러개 값 return ###"
   ]
  },
  {
   "cell_type": "code",
   "execution_count": 80,
   "id": "d15ba2aa",
   "metadata": {},
   "outputs": [
    {
     "name": "stdout",
     "output_type": "stream",
     "text": [
      "a b\n"
     ]
    }
   ],
   "source": [
    "def swap(a, b):\n",
    "    '매개변수의 순서를 바꿔서 return'\n",
    "    return(b, a)\n",
    "print('a', 'b')"
   ]
  },
  {
   "cell_type": "markdown",
   "id": "eccde319",
   "metadata": {},
   "source": [
    "x = 5; y = 10\n",
    "print('함수 실행 전 x, y =', x, y)\n",
    "x, y = swap(x, y)\n",
    "print('함수 실행 후 x, y =', x, y)"
   ]
  },
  {
   "cell_type": "markdown",
   "id": "c129d4ed",
   "metadata": {},
   "source": [
    "# 3절 함수의 매개변수 ★\n",
    "## 3.1 기본값을 갖는 매개변수"
   ]
  },
  {
   "cell_type": "code",
   "execution_count": 87,
   "id": "4a139aa4",
   "metadata": {},
   "outputs": [],
   "source": [
    "def make_url(ip, port=80):  # 순서인수 > 기본값을 갖는 매개변수\n",
    "    return \"http://{}:{}\".format(ip, port)"
   ]
  },
  {
   "cell_type": "code",
   "execution_count": 96,
   "id": "05660660",
   "metadata": {},
   "outputs": [
    {
     "name": "stdout",
     "output_type": "stream",
     "text": [
      "http://8090:localhost\n",
      "http://localhost:www.naver.com\n",
      "http://localhost:9090\n"
     ]
    }
   ],
   "source": [
    "print(make_url(\"localhost\", 8090))\n",
    "print(make_url(\"www.naver.com\"))\n",
    "print(make_url(port=9090, ip=\"localhost\"))"
   ]
  },
  {
   "cell_type": "code",
   "execution_count": 92,
   "id": "d23c97e0",
   "metadata": {},
   "outputs": [],
   "source": [
    "def make_url(port=80, ip='localhost'):  # 순서인수 > 기본값을 갖는 매개변수\n",
    "    return \"http://{}:{}\".format(ip, port)"
   ]
  },
  {
   "cell_type": "code",
   "execution_count": 93,
   "id": "f09a664c",
   "metadata": {},
   "outputs": [
    {
     "data": {
      "text/plain": [
       "'http://localhost:localhost'"
      ]
     },
     "execution_count": 93,
     "metadata": {},
     "output_type": "execute_result"
    }
   ],
   "source": [
    "make_url(\"localhost\")"
   ]
  },
  {
   "cell_type": "markdown",
   "id": "675ad93f",
   "metadata": {},
   "source": [
    "## 3.2 기본변수를 기본값으로 갖는 매개변수\n",
    "- 기본변수가 스칼라변수(문자, 숫자, 논리형)일 때\n",
    "- 기본변수가 리스트, 셋, 딕셔너리, 기타 객체일 때"
   ]
  },
  {
   "cell_type": "code",
   "execution_count": 100,
   "id": "d5b17627",
   "metadata": {},
   "outputs": [],
   "source": [
    "i = 80\n",
    "# 기본변수가 스칼라변수일 때 : 함수가 정의되는 시점으로 기본갑 셋팅\n",
    "def make_url(ip, port=i):\n",
    "    return \"http://{}:{}\".format(ip, port)"
   ]
  },
  {
   "cell_type": "code",
   "execution_count": 101,
   "id": "7e4fa017",
   "metadata": {},
   "outputs": [
    {
     "data": {
      "text/plain": [
       "'http://loclalhost:80'"
      ]
     },
     "execution_count": 101,
     "metadata": {},
     "output_type": "execute_result"
    }
   ],
   "source": [
    "i =  90\n",
    "make_url(\"loclalhost\")"
   ]
  },
  {
   "cell_type": "code",
   "execution_count": 105,
   "id": "bd716bbe",
   "metadata": {},
   "outputs": [
    {
     "name": "stdout",
     "output_type": "stream",
     "text": [
      "[10]\n"
     ]
    }
   ],
   "source": [
    "list_ = []\n",
    "# 기본변수가 리스트, 셋, 딕셔너리, 객체일 때 : 함수가 실행되는 시점으로 기본값 셋팅\n",
    "def func3(a, L=list_):\n",
    "    L.append(a)\n",
    "    return L\n",
    "print(func3(10))"
   ]
  },
  {
   "cell_type": "code",
   "execution_count": 123,
   "id": "31a1f570",
   "metadata": {},
   "outputs": [
    {
     "name": "stdout",
     "output_type": "stream",
     "text": [
      "[10]\n"
     ]
    }
   ],
   "source": [
    "print(func3(10))"
   ]
  },
  {
   "cell_type": "code",
   "execution_count": 121,
   "id": "29f7b196",
   "metadata": {},
   "outputs": [
    {
     "name": "stdout",
     "output_type": "stream",
     "text": [
      "list_ = [10, 10, 10, 10, 10, 10, 10, 10, 20]\n"
     ]
    }
   ],
   "source": [
    "print(\"list_ =\", list_)"
   ]
  },
  {
   "cell_type": "code",
   "execution_count": 122,
   "id": "940ced65",
   "metadata": {},
   "outputs": [
    {
     "name": "stdout",
     "output_type": "stream",
     "text": [
      "[20]\n"
     ]
    }
   ],
   "source": [
    "print(func3(20))"
   ]
  },
  {
   "cell_type": "code",
   "execution_count": 119,
   "id": "669a8f15",
   "metadata": {},
   "outputs": [
    {
     "name": "stdout",
     "output_type": "stream",
     "text": [
      "[10]\n"
     ]
    }
   ],
   "source": [
    "# 실행할 때마다 L을 공유하는게 싫으면\n",
    "def func3(a, L=None):\n",
    "    if L is None:\n",
    "        L = []\n",
    "    L.append(a)\n",
    "    return L\n",
    "print(func3(10))"
   ]
  },
  {
   "cell_type": "markdown",
   "id": "6a4433c7",
   "metadata": {},
   "source": [
    "## 3.3 순서 인수\n",
    "- 순서인수 : 함수에 정의된 순서대로 전달방식\n",
    "- 키워드인수 : 인수의 이름을 명시하는 방식\n",
    "- 함수 정의시 순서인수와 키워드인수가 같이 올 때는 순서인수가 오고 다음에 키워드인수 순으로 옴"
   ]
  },
  {
   "cell_type": "code",
   "execution_count": 132,
   "id": "b8cf1b74",
   "metadata": {},
   "outputs": [
    {
     "name": "stdout",
     "output_type": "stream",
     "text": [
      "[1, 2, 3, 4, 5, 6]\n"
     ]
    }
   ],
   "source": [
    "def func3(a, L=None):\n",
    "    if L is None:\n",
    "        L = []\n",
    "    L.append(a)\n",
    "    return L\n",
    "print(L)"
   ]
  },
  {
   "cell_type": "code",
   "execution_count": 134,
   "id": "738fe9ee",
   "metadata": {},
   "outputs": [
    {
     "name": "stdout",
     "output_type": "stream",
     "text": [
      "[10]\n",
      "[10, 20]\n"
     ]
    }
   ],
   "source": [
    "lst = []\n",
    "print(func3(10, lst))\n",
    "print(func3(L=lst, a=20)) # 키워드 인수"
   ]
  },
  {
   "cell_type": "markdown",
   "id": "22ceeb59",
   "metadata": {},
   "source": [
    "## 3.4 튜플매개변수를 이용한 가변인수 설정"
   ]
  },
  {
   "cell_type": "code",
   "execution_count": 150,
   "id": "ab9f2979",
   "metadata": {},
   "outputs": [],
   "source": [
    "# 파이썬은 함수의 중복정의(오버로딩)을 지원하지 않음.\n",
    "def add(a, b):\n",
    "    return a+b\n",
    "def add(a, b, c):\n",
    "    return a+b+c"
   ]
  },
  {
   "cell_type": "code",
   "execution_count": 151,
   "id": "0bec7399",
   "metadata": {},
   "outputs": [
    {
     "data": {
      "text/plain": [
       "10"
      ]
     },
     "execution_count": 151,
     "metadata": {},
     "output_type": "execute_result"
    }
   ],
   "source": [
    "add(3, 5, 2)"
   ]
  },
  {
   "cell_type": "code",
   "execution_count": 163,
   "id": "cf1da488",
   "metadata": {},
   "outputs": [],
   "source": [
    "# args 앞에 * : args가 튜플로 전달받는다\n",
    "def add(*args):\n",
    "    # print('args=', args)\n",
    "    # 전달받은 매개변수들의 합을 return.\n",
    "    # 매개변수가 없을 경우 0을 return\n",
    "    sum = 0 \n",
    "    for num in args:\n",
    "        sum += num\n",
    "    return sum"
   ]
  },
  {
   "cell_type": "code",
   "execution_count": 164,
   "id": "73133ee4",
   "metadata": {},
   "outputs": [
    {
     "data": {
      "text/plain": [
       "15"
      ]
     },
     "execution_count": 164,
     "metadata": {},
     "output_type": "execute_result"
    }
   ],
   "source": [
    "add(1,2,3,4,5)"
   ]
  },
  {
   "cell_type": "code",
   "execution_count": 176,
   "id": "01d7c956",
   "metadata": {},
   "outputs": [
    {
     "name": "stdout",
     "output_type": "stream",
     "text": [
      "0\n",
      "1\n",
      "4\n",
      "55\n"
     ]
    }
   ],
   "source": [
    "print(add())\n",
    "print(add(1))\n",
    "print(add(1, 3))\n",
    "print(add(1, 2, 3, 4, 5, 6, 7, 8, 9, 10))"
   ]
  },
  {
   "cell_type": "code",
   "execution_count": 177,
   "id": "1fc9b870",
   "metadata": {},
   "outputs": [
    {
     "data": {
      "text/plain": [
       "'Python-HTML/CSS-JavaScript-Oracle/MySQL'"
      ]
     },
     "execution_count": 177,
     "metadata": {},
     "output_type": "execute_result"
    }
   ],
   "source": [
    "subject = ('Python', 'HTML/CSS', 'JavaScript', 'Oracle/MySQL')\n",
    "'-'.join(subject)"
   ]
  },
  {
   "cell_type": "code",
   "execution_count": 187,
   "id": "a7f44271",
   "metadata": {},
   "outputs": [],
   "source": [
    "# 튜플 매개변수와 일반 매개변수가 같이 있을 때\n",
    "def contcat(*subject, sep):\n",
    "    return(sep. join(subject))"
   ]
  },
  {
   "cell_type": "code",
   "execution_count": 188,
   "id": "ca0512a6",
   "metadata": {},
   "outputs": [],
   "source": [
    "# contact('Python', 'web', 'JavaScript', 'DBMS', '_') "
   ]
  },
  {
   "cell_type": "code",
   "execution_count": 181,
   "id": "79cfaaa8",
   "metadata": {},
   "outputs": [
    {
     "data": {
      "text/plain": [
       "'Python_web_JavaScript_DBMS'"
      ]
     },
     "execution_count": 181,
     "metadata": {},
     "output_type": "execute_result"
    }
   ],
   "source": [
    "# 해결책1\n",
    "contcat('Python', 'web', 'JavaScript', 'DBMS', sep='_') "
   ]
  },
  {
   "cell_type": "code",
   "execution_count": 194,
   "id": "42f771f3",
   "metadata": {},
   "outputs": [
    {
     "name": "stdout",
     "output_type": "stream",
     "text": [
      "Python ~ Web ~ JS ~ DBMS ~ -\n",
      "Python-Web-JS-DBMS\n"
     ]
    }
   ],
   "source": [
    "# 해결책2 \n",
    "def concat(*subject, sep = ' ~ '):\n",
    "    return sep.join(subject)\n",
    "print(concat('Python','Web','JS','DBMS', '-'))\n",
    "print(concat('Python','Web','JS','DBMS', sep='-'))"
   ]
  },
  {
   "cell_type": "code",
   "execution_count": null,
   "id": "a78fe81d",
   "metadata": {},
   "outputs": [],
   "source": [
    "# 해결책3 : 추천, sep을 순서인수로 앞으로\n",
    "def concat(sep, *subject):\n",
    "    return sep.join(subjct)"
   ]
  },
  {
   "cell_type": "code",
   "execution_count": 195,
   "id": "c2ff802b",
   "metadata": {},
   "outputs": [
    {
     "data": {
      "text/plain": [
       "'~ ~ Python ~ Web ~ DB ~ MLDL'"
      ]
     },
     "execution_count": 195,
     "metadata": {},
     "output_type": "execute_result"
    }
   ],
   "source": [
    "concat('~','Python','Web','DB','MLDL')"
   ]
  },
  {
   "cell_type": "markdown",
   "id": "ffd0c6dc",
   "metadata": {},
   "source": [
    "## 3.5 딕셔너리 매개변수\n",
    "- 딕셔너리 인수 : 여러 개의 키워드 인수를 딕셔너리 형태로 받아서 가변인수로 처리\n",
    "- 데이터 시각화에서 2개의 별표시(**), 즉 딕셔너리 매개 변수를 사용할 때 효과적이다. "
   ]
  },
  {
   "cell_type": "code",
   "execution_count": 196,
   "id": "e08dd905",
   "metadata": {},
   "outputs": [
    {
     "data": {
      "text/plain": [
       "'http://localhost:8080'"
      ]
     },
     "execution_count": 196,
     "metadata": {},
     "output_type": "execute_result"
    }
   ],
   "source": [
    "make_url(ip=\"localhost\", port=8080)"
   ]
  },
  {
   "cell_type": "code",
   "execution_count": 210,
   "id": "8ae004e4",
   "metadata": {},
   "outputs": [],
   "source": [
    "def func5(**args): # 별표시(*)가 한 개면 투플 매개변수, 별표시(**)가 한 개면 딕셔너리 매개변수 \n",
    "    print('이름:', args.get('name'))\n",
    "    print('나이:', args.get('age'))\n",
    "    print('전화:', args.get('tel'))\n",
    "    print('주소:', args.get('address'))"
   ]
  },
  {
   "cell_type": "code",
   "execution_count": 230,
   "id": "9a2ecd26",
   "metadata": {},
   "outputs": [],
   "source": [
    "def func5(**args):\n",
    "    print(args)\n",
    "    print(type(args))\n",
    "    if 'address' not in args:\n",
    "        args['address'] = '서울시 관악구'\n",
    "        args.update({'address': '서울시 관악구'})\n",
    "    for key, value in args.items():\n",
    "        print(\"{} : {}\".format(key, value))"
   ]
  },
  {
   "cell_type": "code",
   "execution_count": 231,
   "id": "442d4715",
   "metadata": {},
   "outputs": [
    {
     "name": "stdout",
     "output_type": "stream",
     "text": [
      "{'name': '홍길동', 'age': 30, 'tel': '010-9999-9999', 'address': '서울 관악구'}\n",
      "<class 'dict'>\n",
      "name : 홍길동\n",
      "age : 30\n",
      "tel : 010-9999-9999\n",
      "address : 서울 관악구\n"
     ]
    }
   ],
   "source": [
    "func5(name='홍길동', \n",
    "      age=30,\n",
    "      tel='010-9999-9999',\n",
    "      address='서울 관악구')"
   ]
  },
  {
   "cell_type": "code",
   "execution_count": 225,
   "id": "8135b899",
   "metadata": {},
   "outputs": [
    {
     "name": "stdout",
     "output_type": "stream",
     "text": [
      "{'name': '홍길동'}\n",
      "<class 'dict'>\n",
      "name : 홍길동\n",
      "address : 서울시 관악구\n"
     ]
    }
   ],
   "source": [
    "func5(name='홍길동')"
   ]
  },
  {
   "cell_type": "code",
   "execution_count": 226,
   "id": "b299e5f5",
   "metadata": {},
   "outputs": [],
   "source": [
    "def func5(**args):\n",
    "    print('args')"
   ]
  },
  {
   "cell_type": "code",
   "execution_count": 227,
   "id": "d01100ac",
   "metadata": {},
   "outputs": [
    {
     "name": "stdout",
     "output_type": "stream",
     "text": [
      "args\n"
     ]
    }
   ],
   "source": [
    "func5(name='홍길동', \n",
    "      age=30,\n",
    "      tel='010-9999-9999',\n",
    "      address='서울 관악구',\n",
    "      width=300,\n",
    "      color='red')"
   ]
  },
  {
   "cell_type": "code",
   "execution_count": 228,
   "id": "6e615cdf",
   "metadata": {},
   "outputs": [],
   "source": [
    "def func(a, b, c):\n",
    "    return a+b+c"
   ]
  },
  {
   "cell_type": "code",
   "execution_count": 229,
   "id": "740b8883",
   "metadata": {},
   "outputs": [],
   "source": [
    "def func5(**args): # 별표시(*)가 한 개면 투플 매개변수, 별표시(**)가 한 개면 딕셔너리 매개변수 \n",
    "    print('이름:', args.get('name'))\n",
    "    print('나이:', args.get('age'))\n",
    "    print('전화:', args.get('tel'))\n",
    "    print('주소:', args.get('address'))"
   ]
  },
  {
   "cell_type": "markdown",
   "id": "c41887b1",
   "metadata": {},
   "source": [
    "## 3.6 함수 정의시 매개변수의 순서\n",
    "순서인수 > 튜플인수(*) > 키워드인수(기본값) > 딕셔너리인수(**)"
   ]
  },
  {
   "cell_type": "code",
   "execution_count": 234,
   "id": "9ceeba20",
   "metadata": {},
   "outputs": [],
   "source": [
    "# 순서인수 > 튜플인수 > 딕셔너리인수\n",
    "def func6(a, b, *c, **d):\n",
    "    print('순서인수 a = ', a)\n",
    "    print('순서인수 b = ', b)\n",
    "    print('튜플인수 c = ', c)\n",
    "    print('딕셔너리인수 d = ', d)"
   ]
  },
  {
   "cell_type": "code",
   "execution_count": 235,
   "id": "dbae7a96",
   "metadata": {},
   "outputs": [
    {
     "name": "stdout",
     "output_type": "stream",
     "text": [
      "순서인수 a =  10\n",
      "순서인수 b =  20\n",
      "튜플인수 c =  (1, 2, 3, 4, 5, 6, 7, 8, 9)\n",
      "딕셔너리인수 d =  {'name': '홍', 'age': 30, 'address': '신림'}\n"
     ]
    }
   ],
   "source": [
    "func6(10, 20, 1,2,3,4,5,6,7,8,9, name='홍', age=30, address='신림')"
   ]
  },
  {
   "cell_type": "code",
   "execution_count": 237,
   "id": "f38718ac",
   "metadata": {},
   "outputs": [],
   "source": [
    "# 순서인수 > 튜플인수(*) > 키워드인수(기본값) > 딕셔너리인수(**)\n",
    "def func7(a, b, c,*d, e=10, **f):\n",
    "    print('순서인수 a = ', a)\n",
    "    print('순서인수 b = ', b)\n",
    "    print('순서인수 c = ', c)\n",
    "    print('튜플인수 d = ', d)\n",
    "    print('키워드인수(기본값 10) e = ', a)\n",
    "    print('딕셔너리인수 f = ', f)"
   ]
  },
  {
   "cell_type": "code",
   "execution_count": 239,
   "id": "7e72d5f6",
   "metadata": {},
   "outputs": [
    {
     "name": "stdout",
     "output_type": "stream",
     "text": [
      "순서인수 a =  10\n",
      "순서인수 b =  20\n",
      "순서인수 c =  30\n",
      "튜플인수 d =  ()\n",
      "키워드인수(기본값 10) e =  10\n",
      "딕셔너리인수 f =  {}\n"
     ]
    }
   ],
   "source": [
    "func7(10, 20, 30, e=100)"
   ]
  },
  {
   "cell_type": "code",
   "execution_count": 238,
   "id": "02376e7f",
   "metadata": {},
   "outputs": [
    {
     "name": "stdout",
     "output_type": "stream",
     "text": [
      "순서인수 a =  10\n",
      "순서인수 b =  20\n",
      "순서인수 c =  30\n",
      "튜플인수 d =  (1, 2, 3, 4, 5)\n",
      "키워드인수(기본값 10) e =  10\n",
      "딕셔너리인수 f =  {'shape': 'rect', 'width': 20, 'height': 30}\n"
     ]
    }
   ],
   "source": [
    "func7(10, 20, 30, 1,2,3,4,5, e=100, shape='rect', width=20, height=30)"
   ]
  },
  {
   "cell_type": "code",
   "execution_count": null,
   "id": "aedc5bd9",
   "metadata": {},
   "outputs": [],
   "source": [
    "## 3.7 인수의 언패킹\n",
    "### 튜플인수 언패킹\n",
    "- 언패킹 : 함수 호출시 매개변수 앞에 * 붙임\n",
    "- 패킹 : 함수 정의시 매개변수 앞에 * 붙임(튜플매개변수)"
   ]
  },
  {
   "cell_type": "code",
   "execution_count": 240,
   "id": "eeaf4722",
   "metadata": {},
   "outputs": [],
   "source": [
    "def add(*args):\n",
    "    sum = 0\n",
    "    for num in args:\n",
    "        sum += num\n",
    "    return sum"
   ]
  },
  {
   "cell_type": "code",
   "execution_count": 241,
   "id": "59a8e8d0",
   "metadata": {},
   "outputs": [
    {
     "data": {
      "text/plain": [
       "6"
      ]
     },
     "execution_count": 241,
     "metadata": {},
     "output_type": "execute_result"
    }
   ],
   "source": [
    "add(1, 2, 3)"
   ]
  },
  {
   "cell_type": "code",
   "execution_count": 243,
   "id": "b90b45b9",
   "metadata": {},
   "outputs": [
    {
     "data": {
      "text/plain": [
       "6"
      ]
     },
     "execution_count": 243,
     "metadata": {},
     "output_type": "execute_result"
    }
   ],
   "source": [
    "numbers = (1, 2, 3)\n",
    "add(*numbers)"
   ]
  },
  {
   "cell_type": "code",
   "execution_count": null,
   "id": "6892a59f",
   "metadata": {},
   "outputs": [],
   "source": [
    "numbers = (1, 2, 3)\n",
    "add(*numbers)"
   ]
  },
  {
   "cell_type": "code",
   "execution_count": null,
   "id": "9fb011e7",
   "metadata": {},
   "outputs": [],
   "source": [
    "### 딕셔너리 인수 언패킹"
   ]
  },
  {
   "cell_type": "code",
   "execution_count": 249,
   "id": "60d5b310",
   "metadata": {},
   "outputs": [],
   "source": [
    "def func8(**data):\n",
    "    print(data)\n",
    "    for item in data.items():\n",
    "        print(item)"
   ]
  },
  {
   "cell_type": "code",
   "execution_count": 252,
   "id": "048b4abd",
   "metadata": {},
   "outputs": [
    {
     "name": "stdout",
     "output_type": "stream",
     "text": [
      "{'shape': 'rect', 'width': 40, 'height': 30}\n",
      "('shape', 'rect')\n",
      "('width', 40)\n",
      "('height', 30)\n"
     ]
    }
   ],
   "source": [
    "func8(shape='rect', width=40, height=30)"
   ]
  },
  {
   "cell_type": "code",
   "execution_count": 253,
   "id": "77b6bf95",
   "metadata": {},
   "outputs": [
    {
     "name": "stdout",
     "output_type": "stream",
     "text": [
      "{'shape': 'rect', 'width': 40, 'height': 30}\n",
      "('shape', 'rect')\n",
      "('width', 40)\n",
      "('height', 30)\n"
     ]
    }
   ],
   "source": [
    "info = {'shape':'rect', 'width' : 40, 'height':30}\n",
    "func8(**info)"
   ]
  },
  {
   "cell_type": "markdown",
   "id": "3911b4d3",
   "metadata": {},
   "source": [
    "# 4절 람다식\n",
    "- return 한 줄짜리 작은 익명함수\n",
    "## 4.1 람다식 연습"
   ]
  },
  {
   "cell_type": "code",
   "execution_count": 2,
   "id": "94c719e4",
   "metadata": {},
   "outputs": [
    {
     "name": "stdout",
     "output_type": "stream",
     "text": [
      "8\n",
      "<class 'function'>\n"
     ]
    }
   ],
   "source": [
    "def add(a, b):\n",
    "    return a+b\n",
    "print(add(3, 5))\n",
    "print(type(add))"
   ]
  },
  {
   "cell_type": "code",
   "execution_count": 3,
   "id": "1793a0fa",
   "metadata": {},
   "outputs": [
    {
     "name": "stdout",
     "output_type": "stream",
     "text": [
      "8\n",
      "<class 'function'>\n"
     ]
    }
   ],
   "source": [
    "add2 = lambda a, b : a + b # add를 add2 람다식으로 만듬.\n",
    "print(add2(3, 5))\n",
    "print(type(add2))"
   ]
  },
  {
   "cell_type": "code",
   "execution_count": 4,
   "id": "40f67567",
   "metadata": {},
   "outputs": [
    {
     "data": {
      "text/plain": [
       "('홀수', '짝수')"
      ]
     },
     "execution_count": 4,
     "metadata": {},
     "output_type": "execute_result"
    }
   ],
   "source": [
    "# ex1. 매개변수로 들어온 값이 짝수인지 홀수인지 return하는 함수를 람다식으로 만들어보세요.\n",
    "def even_odd_chk(num):\n",
    "    if num%2:\n",
    "        result = \"홀수\"\n",
    "    else:\n",
    "        result = \"짝수\"\n",
    "    return result\n",
    "even_odd_chk(5), even_odd_chk(-4)"
   ]
  },
  {
   "cell_type": "code",
   "execution_count": 6,
   "id": "6b1ef52a",
   "metadata": {},
   "outputs": [
    {
     "data": {
      "text/plain": [
       "('홀수', '짝수')"
      ]
     },
     "execution_count": 6,
     "metadata": {},
     "output_type": "execute_result"
    }
   ],
   "source": [
    "def even_odd_chk(num):\n",
    "#    if num%2:\n",
    "#        result = \"홀수\"\n",
    "#    else:\n",
    "#        result = \"짝수\"\n",
    "    return \"홀수\" if num%2 else \"짝수\"\n",
    "even_odd_chk = lambda num : \"홀수\" if num%2 else \"짝수\" \n",
    "even_odd_chk(5), even_odd_chk(-4)\n",
    "\n",
    "# 3. 함수와 람다식의 동일성\n",
    "# python# 일반 함수\n",
    "# def even_odd_chk(num):\n",
    "#    return \"홀수\" if num%2 else \"짝수\"\n",
    "\n",
    "# 람다식으로 동일한 기능\n",
    "# even_odd_chk = lambda num : \"홀수\" if num%2 else \"짝수\""
   ]
  },
  {
   "cell_type": "code",
   "execution_count": 8,
   "id": "0f6f9256",
   "metadata": {},
   "outputs": [
    {
     "data": {
      "text/plain": [
       "(4, 4)"
      ]
     },
     "execution_count": 8,
     "metadata": {},
     "output_type": "execute_result"
    }
   ],
   "source": [
    "# ex2. 두 매개변수의 차이를 return하는 함수를 람다식으로 만들어보세요.\n",
    "def diff(a, b):\n",
    "    if a>b:\n",
    "        result = a-b\n",
    "    else:\n",
    "        result = b-a\n",
    "    return result\n",
    "\n",
    "diff = lambda a, b : a-b if a>b else b-a\n",
    "diff(5, 1), diff(1, 5)"
   ]
  },
  {
   "cell_type": "code",
   "execution_count": 12,
   "id": "759f6c40",
   "metadata": {},
   "outputs": [
    {
     "data": {
      "text/plain": [
       "(1000, 'negative')"
      ]
     },
     "execution_count": 12,
     "metadata": {},
     "output_type": "execute_result"
    }
   ],
   "source": [
    "# ex3. 매개변수로 잔액을 받아, 잔액이 양수면 잔액을 return, 음수면 'negative'를 return함\n",
    "ex3 = lambda balance : balance if balance >= 0 else 'negative'\n",
    "ex3(1000), ex3(-100)"
   ]
  },
  {
   "cell_type": "code",
   "execution_count": 21,
   "id": "d0cdb29d",
   "metadata": {},
   "outputs": [
    {
     "data": {
      "text/plain": [
       "('재시험', '유효하지 않음')"
      ]
     },
     "execution_count": 21,
     "metadata": {},
     "output_type": "execute_result"
    }
   ],
   "source": [
    "# ex4. 점수를 입력받아 80점이상은 'A팀', 60점이상은 'B팀', 60점미만은 '재시험',\n",
    "# 100점 초과, 0점미만은 '유효하지 않음'을 return\n",
    "# 방법 1: 일반 함수 (if-elif-else)\n",
    "\n",
    "def levelChk(num):\n",
    "    if num > 100 or num < 0:\n",
    "        return '유효하지 않음'\n",
    "    elif num >= 80:\n",
    "        return 'A팀'\n",
    "    elif num >= 60:\n",
    "        return 'B팀'\n",
    "    else:\n",
    "        return '재시험'\n",
    "\n",
    "ex4 = lambda num :'A팀' if 80<=num<=100 else \\\n",
    "                    'B팀' if 60<=num<=80 else \\\n",
    "                    '재시험' if 0<=num<=60 else \\\n",
    "                    '유효하지 않음'\n",
    "levelChk(8), ex4(160)"
   ]
  },
  {
   "cell_type": "code",
   "execution_count": 25,
   "id": "a2e528ae",
   "metadata": {},
   "outputs": [
    {
     "data": {
      "text/plain": [
       "('D학점', '유효하지 않는 점수')"
      ]
     },
     "execution_count": 25,
     "metadata": {},
     "output_type": "execute_result"
    }
   ],
   "source": [
    "# 점수를 입력받아 학점을 return\n",
    "score_grade = lambda score : 'A학점' if 90<=score<=100 else \\\n",
    "                             'B학점' if 80<=score<90 else \\\n",
    "                             'C학점' if 70<=score<80 else \\\n",
    "                             'D학점' if 60<=score<70 else \\\n",
    "                             'F학점' if  0<=score<60 else \\\n",
    "                             '유효하지 않는 점수'\n",
    "score_grade(60), score_grade(120)"
   ]
  },
  {
   "cell_type": "code",
   "execution_count": 36,
   "id": "8c4970e2",
   "metadata": {},
   "outputs": [
    {
     "data": {
      "text/plain": [
       "(-1, 2)"
      ]
     },
     "execution_count": 36,
     "metadata": {},
     "output_type": "execute_result"
    }
   ],
   "source": [
    "# ex5 safe_index함수를 람다식으로 ** 변수에 함수도 넣음\n",
    "def safe_index(lst, item, start=0):\n",
    "    return lst.index(idem, start) if item in lst [start:] else -1\n",
    "ex5 = lambda lst, item, start=0 : lst.index(item, start) if item in lst [start:] else -1\n",
    "i = 3\n",
    "lst = [i, 2, 3,]\n",
    "safe_index(lst, 4), ex5(lst, 3, 1)"
   ]
  },
  {
   "cell_type": "code",
   "execution_count": 48,
   "id": "9050d618",
   "metadata": {},
   "outputs": [
    {
     "data": {
      "text/plain": [
       "[25, 15, 100, 4.0]"
      ]
     },
     "execution_count": 48,
     "metadata": {},
     "output_type": "execute_result"
    }
   ],
   "source": [
    "# 람다식을 list에 들어가 갈 수 있음\n",
    "add = lambda a, b : a + b\n",
    "sub = lambda a, b : a - b\n",
    "mul = lambda a, b : a * b\n",
    "div = lambda a, b : a / b if b else '두번째 인자가 0이면 못 나눠요'\n",
    "operations = [add, sub, mul, div] # 사칙연산 함수들\n",
    "\n",
    "def act_operations(a, b, operations=operations): # a, b의 연산 결과를 return\n",
    "    result = []\n",
    "    for op in operations:\n",
    "        result.append(op(a, b))\n",
    "    return result\n",
    "act_operations(20, 5)"
   ]
  },
  {
   "cell_type": "code",
   "execution_count": 49,
   "id": "b61d4b1d",
   "metadata": {},
   "outputs": [
    {
     "data": {
      "text/plain": [
       "[64, 20]"
      ]
     },
     "execution_count": 49,
     "metadata": {},
     "output_type": "execute_result"
    }
   ],
   "source": [
    "act_operations(8, 2, [lambda x, y : x**y, lambda x,y : 10*+y])"
   ]
  },
  {
   "cell_type": "code",
   "execution_count": 50,
   "id": "0fb3a9fd",
   "metadata": {},
   "outputs": [
    {
     "data": {
      "text/plain": [
       "5"
      ]
     },
     "execution_count": 50,
     "metadata": {},
     "output_type": "execute_result"
    }
   ],
   "source": [
    "operations.append(lambda x, y : x**y)\n",
    "len(operations)"
   ]
  },
  {
   "cell_type": "code",
   "execution_count": 51,
   "id": "cb82fa46",
   "metadata": {},
   "outputs": [
    {
     "data": {
      "text/plain": [
       "[10, 6, 16, 4.0, 64]"
      ]
     },
     "execution_count": 51,
     "metadata": {},
     "output_type": "execute_result"
    }
   ],
   "source": [
    "act_operations(8, 2) # 기본값을 갖는 변수(기본 변수)가 리스트면 기본값은 호출할 시점"
   ]
  },
  {
   "cell_type": "markdown",
   "id": "fffdec28",
   "metadata": {},
   "source": [
    "## 4.2 함수의 매개변수(인수)에 람다식 사용\n",
    "- 람다식을 사용하는 곳 : 함수의 매개변수 > return 문\n",
    "### (1) map 이 함수가 압도적으로 많이 사용됨"
   ]
  },
  {
   "cell_type": "code",
   "execution_count": null,
   "id": "83db7aad",
   "metadata": {},
   "outputs": [],
   "source": [
    "변수명 = 람다식"
   ]
  },
  {
   "cell_type": "code",
   "execution_count": 53,
   "id": "3ec48a1f",
   "metadata": {},
   "outputs": [],
   "source": [
    "def map_template(func, L=[]):\n",
    "    result = []\n",
    "    for item in L:\n",
    "        result.append(item)\n",
    "    return result"
   ]
  },
  {
   "cell_type": "code",
   "execution_count": 54,
   "id": "72ea4067",
   "metadata": {},
   "outputs": [
    {
     "data": {
      "text/plain": [
       "[1, 2, 3]"
      ]
     },
     "execution_count": 54,
     "metadata": {},
     "output_type": "execute_result"
    }
   ],
   "source": [
    "map_template(lambda a:a, [1,2,3])"
   ]
  },
  {
   "cell_type": "code",
   "execution_count": 58,
   "id": "3b8fa105",
   "metadata": {},
   "outputs": [
    {
     "data": {
      "text/plain": [
       "[1, 2, 3, 4, 5, 6, 7, 8, 9]"
      ]
     },
     "execution_count": 58,
     "metadata": {},
     "output_type": "execute_result"
    }
   ],
   "source": [
    "list_data = [1,2,3,4,5,6,7,8,9]\n",
    "def x_2(x):\n",
    "    return x*2\n",
    "map_template(x_2, list_data)"
   ]
  },
  {
   "cell_type": "code",
   "execution_count": 59,
   "id": "fb547ddd",
   "metadata": {},
   "outputs": [
    {
     "data": {
      "text/plain": [
       "[1, 2, 3, 4, 5, 6, 7, 8, 9]"
      ]
     },
     "execution_count": 59,
     "metadata": {},
     "output_type": "execute_result"
    }
   ],
   "source": [
    "list_data = [1,2,3,4,5,6,7,8,9]\n",
    "# def x_2(x):\n",
    "#    return x*2\n",
    "x_2 = lambda x : x*2\n",
    "map_template(x_2, list_data)"
   ]
  },
  {
   "cell_type": "code",
   "execution_count": 60,
   "id": "1db32fe5",
   "metadata": {},
   "outputs": [
    {
     "data": {
      "text/plain": [
       "[1, 2, 3, 4, 5, 6, 7, 8, 9]"
      ]
     },
     "execution_count": 60,
     "metadata": {},
     "output_type": "execute_result"
    }
   ],
   "source": [
    "map_template(lambda x:x*2, list_data)"
   ]
  },
  {
   "cell_type": "code",
   "execution_count": 61,
   "id": "15ab5d34",
   "metadata": {},
   "outputs": [
    {
     "data": {
      "text/plain": [
       "[2, 4, 6, 8, 10, 12, 14, 16, 18]"
      ]
     },
     "execution_count": 61,
     "metadata": {},
     "output_type": "execute_result"
    }
   ],
   "source": [
    "# 리스트 컴퓨리헨션\n",
    "[ item*2 for item in list_data ]"
   ]
  },
  {
   "cell_type": "code",
   "execution_count": 62,
   "id": "cee0bfd0",
   "metadata": {},
   "outputs": [
    {
     "data": {
      "text/plain": [
       "<map at 0x22755c83a90>"
      ]
     },
     "execution_count": 62,
     "metadata": {},
     "output_type": "execute_result"
    }
   ],
   "source": [
    "map(lambda x:x*2, list_data)"
   ]
  },
  {
   "cell_type": "code",
   "execution_count": 63,
   "id": "64f29159",
   "metadata": {},
   "outputs": [
    {
     "data": {
      "text/plain": [
       "[2, 4, 6, 8, 10, 12, 14, 16, 18]"
      ]
     },
     "execution_count": 63,
     "metadata": {},
     "output_type": "execute_result"
    }
   ],
   "source": [
    "list(map(lambda x:x*2, list_data))"
   ]
  },
  {
   "cell_type": "code",
   "execution_count": 64,
   "id": "e618b628",
   "metadata": {},
   "outputs": [
    {
     "name": "stdout",
     "output_type": "stream",
     "text": [
      "2  4  6  8  10  12  14  16  18  "
     ]
    }
   ],
   "source": [
    "for data in map(lambda x:x*2, list_data):\n",
    "    print(data, end='  ')"
   ]
  },
  {
   "cell_type": "code",
   "execution_count": 66,
   "id": "4a5381fe",
   "metadata": {},
   "outputs": [
    {
     "name": "stdout",
     "output_type": "stream",
     "text": [
      "[5000, 5000, 6000, 1000, 5000, 5000, 6000, 1000]\n"
     ]
    }
   ],
   "source": [
    "# ```\n",
    "# 예제1. prices = ['5,000', '5000', '6,000', '1000','5,000', '5000', '6,000', '1000']를 [5000,5000,6000,1000]식으로 바꾸시오\n",
    "# ```\n",
    "prices = ['5,000', '5000', '6,000', '1000','5,000', '5000', '6,000', '1000']\n",
    "\n",
    "# 쉼표를 제거하고 정수로 변환\n",
    "cleaned_prices = [int(price.replace(',', '')) for price in prices]\n",
    "\n",
    "print(cleaned_prices)\n",
    "# 결과: [5000, 5000, 6000, 1000, 5000, 5000, 6000, 1000]"
   ]
  },
  {
   "cell_type": "code",
   "execution_count": 68,
   "id": "7a27664c",
   "metadata": {},
   "outputs": [
    {
     "name": "stdout",
     "output_type": "stream",
     "text": [
      "[5000, 6000, 1000]\n",
      "[1000, 5000, 6000]\n"
     ]
    }
   ],
   "source": [
    "# 중복 제거 (순서 유지)\n",
    "unique_prices = list(dict.fromkeys(cleaned_prices))\n",
    "print(unique_prices)\n",
    "# 결과: [5000, 6000, 1000]\n",
    "\n",
    "# 또는 set을 사용 (순서 보장 안됨)\n",
    "unique_prices_set = list(set(cleaned_prices))\n",
    "print(sorted(unique_prices_set))\n",
    "# 결과: [1000, 5000, 6000]"
   ]
  },
  {
   "cell_type": "code",
   "execution_count": 73,
   "id": "af5c4278",
   "metadata": {},
   "outputs": [
    {
     "ename": "NameError",
     "evalue": "name 'prices_int' is not defined",
     "output_type": "error",
     "traceback": [
      "\u001b[1;31m---------------------------------------------------------------------------\u001b[0m",
      "\u001b[1;31mNameError\u001b[0m                                 Traceback (most recent call last)",
      "Cell \u001b[1;32mIn[73], line 4\u001b[0m\n\u001b[0;32m      2\u001b[0m \u001b[38;5;28;01mdef\u001b[39;00m \u001b[38;5;21mtoint\u001b[39m(value):\n\u001b[0;32m      3\u001b[0m     \u001b[38;5;28;01mreturn\u001b[39;00m \u001b[38;5;28mint\u001b[39m(value\u001b[38;5;241m.\u001b[39mreplace(\u001b[38;5;124m'\u001b[39m\u001b[38;5;124m,\u001b[39m\u001b[38;5;124m'\u001b[39m,\u001b[38;5;124m'\u001b[39m\u001b[38;5;124m'\u001b[39m))\n\u001b[1;32m----> 4\u001b[0m \u001b[43mprices_int\u001b[49m \u001b[38;5;241m-\u001b[39m \u001b[38;5;28mmap\u001b[39m(\u001b[38;5;28;01mlambda\u001b[39;00m value : \u001b[38;5;28mint\u001b[39m(value\u001b[38;5;241m.\u001b[39mreplace(\u001b[38;5;124m'\u001b[39m\u001b[38;5;124m,\u001b[39m\u001b[38;5;124m'\u001b[39m,\u001b[38;5;124m'\u001b[39m\u001b[38;5;124m'\u001b[39m)), prices)\n\u001b[0;32m      5\u001b[0m \u001b[38;5;28;01mfor\u001b[39;00m price \u001b[38;5;129;01min\u001b[39;00m prices_int:\n\u001b[0;32m      6\u001b[0m     \u001b[38;5;28mprint\u001b[39m(price, end\u001b[38;5;241m=\u001b[39m\u001b[38;5;124m'\u001b[39m\u001b[38;5;124m \u001b[39m\u001b[38;5;124m'\u001b[39m)\n",
      "\u001b[1;31mNameError\u001b[0m: name 'prices_int' is not defined"
     ]
    }
   ],
   "source": [
    "prices = ['5,000', '5000', '6,000', '1000','5,000', '5000', '6,000', '1000']\n",
    "def toint(value):\n",
    "    return int(value.replace(',',''))\n",
    "prices_int - map(lambda value : int(value.replace(',','')), prices)\n",
    "for price in prices_int:\n",
    "    print(price, end=' ')"
   ]
  },
  {
   "cell_type": "markdown",
   "id": "49989204",
   "metadata": {},
   "source": [
    "```\n",
    "예제2. members1 = [{'name':'홍길동', 'birth':'2000-01-01’}, {'name':'신길동', 'birth':'1995-12-18'},]를\n",
    "members2 = [{'name':'홍길동', 'year':2000, 'month':1,'day':1}, {'name':'신길동', 'year':1995, 'month':12, 'day':18},] 변환\n",
    "```"
   ]
  },
  {
   "cell_type": "code",
   "execution_count": 78,
   "id": "c965019c",
   "metadata": {},
   "outputs": [],
   "source": [
    "members1 = [{'name':'홍길동', 'birth':'2000-01-01'}, \n",
    "            {'name':'신길동', 'birth':'1995-12-18'},]"
   ]
  },
  {
   "cell_type": "code",
   "execution_count": 83,
   "id": "f5f1b373",
   "metadata": {},
   "outputs": [
    {
     "data": {
      "text/plain": [
       "({'year': 2025, 'month': 1, 'day': 1}, {'year': 1995, 'month': 12, 'day': 12})"
      ]
     },
     "execution_count": 83,
     "metadata": {},
     "output_type": "execute_result"
    }
   ],
   "source": [
    "# '2000-01-01' => {'year':2000, 'month':1, 'day':1}\n",
    "def split_data(date):\n",
    "    split_date = date.split('-')\n",
    "    return {\n",
    "        'year' : int(split_date[0]),\n",
    "        'month' : int(split_date[1]),\n",
    "        'day' : int(split_date[2]),\n",
    "    }\n",
    "split_data('2025-01-01'), split_data('1995-12-12')"
   ]
  },
  {
   "cell_type": "code",
   "execution_count": 84,
   "id": "28d7537a",
   "metadata": {},
   "outputs": [
    {
     "data": {
      "text/plain": [
       "({'year': 2025, 'month': 1, 'day': 1}, {'year': 1995, 'month': 12, 'day': 12})"
      ]
     },
     "execution_count": 84,
     "metadata": {},
     "output_type": "execute_result"
    }
   ],
   "source": [
    "# '2000-01-01' => {'year':2000, 'month':1, 'day':1}\n",
    "# 딕셔너리 리스트에서 생년월일 문자열을 연도, 월, 일로 분리하는 방법]\n",
    "def split_data(date):\n",
    "    return {\n",
    "        'year' : int(date.split('-')[0]),\n",
    "        'month' : int(date.split('-')[1]),\n",
    "        'day' : int(date.split('-')[2]),\n",
    "    }\n",
    "split_data('2025-01-01'), split_data('1995-12-12')"
   ]
  },
  {
   "cell_type": "code",
   "execution_count": 86,
   "id": "2a95b4d8",
   "metadata": {},
   "outputs": [],
   "source": [
    "# {'name':'홍길동', 'birth':'2000-01-01'}=>{'name':'홍길동', 'year':2000, 'month':1, 'day':1}\n",
    "def split_data(date):\n",
    "    return {\n",
    "        'year' : int(date.split('-')[0]),\n",
    "        'month' : int(date.split('-')[1]),\n",
    "        'day' : int(date.split('-')[2]),\n",
    "    }"
   ]
  },
  {
   "cell_type": "code",
   "execution_count": 87,
   "id": "f59f0516",
   "metadata": {},
   "outputs": [],
   "source": [
    "split_date_lambda = lambda date: {\n",
    "    'year': int(date.split('-')[0]),\n",
    "    'month': int(date.split('-')[1]), \n",
    "    'day': int(date.split('-')[2])\n",
    "}"
   ]
  },
  {
   "cell_type": "code",
   "execution_count": 90,
   "id": "2870b2ef",
   "metadata": {},
   "outputs": [
    {
     "data": {
      "text/plain": [
       "{'name': '홍길동', 'year': 2000, 'month': 1, 'day': 1}"
      ]
     },
     "execution_count": 90,
     "metadata": {},
     "output_type": "execute_result"
    }
   ],
   "source": [
    "# {'name':'홍길동', 'birth':'2000-01-01'}=>{'name':'홍길동', 'year':2000, 'month':1, 'day':1}\n",
    "def member_preprocessing(memeber):\n",
    "    return {\n",
    "        'name' : memeber.get('name', '이름없음'), \n",
    "        'year' : int(memeber.get('birth').split('-')[0]),\n",
    "        'month' : int(memeber.get('birth').split('-')[1]),\n",
    "        'day' : int(memeber.get('birth').split('-')[2]),\n",
    "        }\n",
    "member_preprocessing({'name':'홍길동', 'birth':'2000-01-01'})"
   ]
  },
  {
   "cell_type": "code",
   "execution_count": 96,
   "id": "b03f5d72",
   "metadata": {},
   "outputs": [
    {
     "data": {
      "text/plain": [
       "[{'name': '홍길동', 'year': 2000, 'month': 1, 'day': 1},\n",
       " {'name': '신길동', 'year': 1995, 'month': 12, 'day': 18}]"
      ]
     },
     "execution_count": 96,
     "metadata": {},
     "output_type": "execute_result"
    }
   ],
   "source": [
    "members2 = list(map(lambda memeber : {\n",
    "                                'name' : memeber.get('name', '이름없음'), \n",
    "                                'year' : int(memeber.get('birth').split('-')[0]),\n",
    "                                'month' : int(memeber.get('birth').split('-')[1]),\n",
    "                                'day' : int(memeber.get('birth').split('-')[2]),\n",
    "                                }, members1\n",
    "                   )\n",
    "               )\n",
    "members2"
   ]
  },
  {
   "cell_type": "code",
   "execution_count": null,
   "id": "a8fa20ac",
   "metadata": {},
   "outputs": [],
   "source": [
    "'''\n",
    "예제3. members2를 members1로 전환\n",
    "'''"
   ]
  },
  {
   "cell_type": "code",
   "execution_count": 101,
   "id": "eb6d85bb",
   "metadata": {},
   "outputs": [
    {
     "data": {
      "text/plain": [
       "'2000-09-09'"
      ]
     },
     "execution_count": 101,
     "metadata": {},
     "output_type": "execute_result"
    }
   ],
   "source": [
    "# {'year':2000, 'month':1, 'day':1} => 2025-0101\n",
    "def join_date(data):\n",
    "    return \"{}-{:02}-{:02}\".format(data.get('year'), data.get('month'), data.get('day'))\n",
    "join_date({'year':2000, 'month':9, 'day':9})"
   ]
  },
  {
   "cell_type": "code",
   "execution_count": 102,
   "id": "5219e3d5",
   "metadata": {},
   "outputs": [
    {
     "data": {
      "text/plain": [
       "'2000-09-09'"
      ]
     },
     "execution_count": 102,
     "metadata": {},
     "output_type": "execute_result"
    }
   ],
   "source": [
    "# {'year':2000, 'month':1, 'day':1} => 2025-0101\n",
    "def join_date(data):\n",
    "    return \"{year}-{month:02}-{day:02}\".format(**data)\n",
    "join_date({'year':2000, 'month':9, 'day':9})"
   ]
  },
  {
   "cell_type": "code",
   "execution_count": 103,
   "id": "bcd5504f",
   "metadata": {},
   "outputs": [
    {
     "data": {
      "text/plain": [
       "{'birth': '2000-09-09'}"
      ]
     },
     "execution_count": 103,
     "metadata": {},
     "output_type": "execute_result"
    }
   ],
   "source": [
    "# {'year':2000, 'month':1, 'day':1} => {'birth':2025-01-01'}\n",
    "def join_date(data):\n",
    "    return {\"birth\" : \"{year}-{month:02}-{day:02}\".format(**data)}\n",
    "join_date({'year':2000, 'month':9, 'day':9})"
   ]
  },
  {
   "cell_type": "code",
   "execution_count": 105,
   "id": "e8f471ce",
   "metadata": {},
   "outputs": [
    {
     "data": {
      "text/plain": [
       "{'name': 'hong', 'birht': '2000-01-01'}"
      ]
     },
     "execution_count": 105,
     "metadata": {},
     "output_type": "execute_result"
    }
   ],
   "source": [
    "# members2를 members1로 전환\n",
    "# {'name' : 'hong', 'year':2000, 'month':1, 'day':1} => {'name':'hong',birth':2025-01-01'}\n",
    "def members_preprocessing(member):\n",
    "    return {\n",
    "        'name': member.get('name'),\n",
    "        'birht': \"{year}-{month:02}-{day:02}\".format(**member)\n",
    "    }\n",
    "members_preprocessing({'name':'hong', 'year':2000, 'month':1, 'day':1})"
   ]
  },
  {
   "cell_type": "code",
   "execution_count": 109,
   "id": "e7d79aea",
   "metadata": {},
   "outputs": [
    {
     "data": {
      "text/plain": [
       "[{'name': '홍길동', 'birth': '2000-01-01'},\n",
       " {'name': '신길동', 'birth': '1995-12-18'}]"
      ]
     },
     "execution_count": 109,
     "metadata": {},
     "output_type": "execute_result"
    }
   ],
   "source": [
    "list(map(lambda member : {\n",
    "    'name': member.get('name'),\n",
    "    'birth':\"{year}-{month:02}-{day:02}\".format(**member)\n",
    "    }, members2))"
   ]
  },
  {
   "cell_type": "markdown",
   "id": "ed2287de",
   "metadata": {},
   "source": [
    "## (2) filter"
   ]
  },
  {
   "cell_type": "code",
   "execution_count": 123,
   "id": "9f79588f",
   "metadata": {},
   "outputs": [],
   "source": [
    "def filter_template(func, L=[]): # 특정한 조건인지 아닌지 살펴보고 함수\n",
    "    result = []\n",
    "    for item in L:\n",
    "        if func(item):\n",
    "            result.append(item)\n",
    "    return result"
   ]
  },
  {
   "cell_type": "code",
   "execution_count": 124,
   "id": "fe8261da",
   "metadata": {},
   "outputs": [
    {
     "ename": "TypeError",
     "evalue": "filter_template() missing 1 required positional argument: 'func'",
     "output_type": "error",
     "traceback": [
      "\u001b[1;31m---------------------------------------------------------------------------\u001b[0m",
      "\u001b[1;31mTypeError\u001b[0m                                 Traceback (most recent call last)",
      "Cell \u001b[1;32mIn[124], line 7\u001b[0m\n\u001b[0;32m      5\u001b[0m     \u001b[38;5;28;01melse\u001b[39;00m:\n\u001b[0;32m      6\u001b[0m         \u001b[38;5;28;01mreturn\u001b[39;00m \u001b[38;5;28;01mFalse\u001b[39;00m\n\u001b[1;32m----> 7\u001b[0m \u001b[43mfilter_template\u001b[49m\u001b[43m(\u001b[49m\u001b[43m)\u001b[49m\n",
      "\u001b[1;31mTypeError\u001b[0m: filter_template() missing 1 required positional argument: 'func'"
     ]
    }
   ],
   "source": [
    "list_data = [1,2,3,4,5,6,7,8,9]\n",
    "def odd_chk(value):\n",
    "    if value%2:\n",
    "        return True\n",
    "    else:\n",
    "        return False\n",
    "filter_template()"
   ]
  },
  {
   "cell_type": "code",
   "execution_count": 125,
   "id": "e48aaaa0",
   "metadata": {},
   "outputs": [
    {
     "data": {
      "text/plain": [
       "[1, 3, 5, 7, 9]"
      ]
     },
     "execution_count": 125,
     "metadata": {},
     "output_type": "execute_result"
    }
   ],
   "source": [
    "# 람다식\n",
    "list_data = [1,2,3,4,5,6,7,8,9]\n",
    "def odd_chk(value):\n",
    "    return value%2\n",
    "filter_template(lambda value : value%2!=0, list_data)"
   ]
  },
  {
   "cell_type": "code",
   "execution_count": 126,
   "id": "0cc4cb68",
   "metadata": {},
   "outputs": [
    {
     "data": {
      "text/plain": [
       "[1, 3, 5, 7, 9]"
      ]
     },
     "execution_count": 126,
     "metadata": {},
     "output_type": "execute_result"
    }
   ],
   "source": [
    "# 리스트 컴플리핸션\n",
    "[value for value in list_data if value%2]"
   ]
  },
  {
   "cell_type": "code",
   "execution_count": 131,
   "id": "492600af",
   "metadata": {},
   "outputs": [
    {
     "data": {
      "text/plain": [
       "[1, 3, 5, 7, 9]"
      ]
     },
     "execution_count": 131,
     "metadata": {},
     "output_type": "execute_result"
    }
   ],
   "source": [
    "# 리스트 함수\n",
    "list(filter(lambda value : value%2, list_data))"
   ]
  },
  {
   "cell_type": "code",
   "execution_count": 137,
   "id": "05ee0ea3",
   "metadata": {},
   "outputs": [
    {
     "ename": "TypeError",
     "evalue": "filter expected 2 arguments, got 1",
     "output_type": "error",
     "traceback": [
      "\u001b[1;31m---------------------------------------------------------------------------\u001b[0m",
      "\u001b[1;31mTypeError\u001b[0m                                 Traceback (most recent call last)",
      "Cell \u001b[1;32mIn[137], line 3\u001b[0m\n\u001b[0;32m      1\u001b[0m \u001b[38;5;66;03m# 예제 : 다음 리스트에서 소수점 이하가 0인 수만 추출하시오(filter/리스트 컴프리헨션)\u001b[39;00m\n\u001b[0;32m      2\u001b[0m L \u001b[38;5;241m=\u001b[39m [\u001b[38;5;241m1\u001b[39m, \u001b[38;5;241m1.2\u001b[39m, \u001b[38;5;241m1.5\u001b[39m, \u001b[38;5;241m3.0\u001b[39m, \u001b[38;5;241m10.5\u001b[39m, \u001b[38;5;241m100\u001b[39m, \u001b[38;5;241m-\u001b[39m\u001b[38;5;241m2.0\u001b[39m, \u001b[38;5;241m-\u001b[39m\u001b[38;5;241m12.2\u001b[39m]\n\u001b[1;32m----> 3\u001b[0m \u001b[38;5;28mlist\u001b[39m(\u001b[38;5;28;43mfilter\u001b[39;49m\u001b[43m(\u001b[49m\u001b[38;5;28;43;01mlambda\u001b[39;49;00m\u001b[43m \u001b[49m\u001b[43ma\u001b[49m\u001b[43m \u001b[49m\u001b[43m:\u001b[49m\u001b[43m \u001b[49m\u001b[43ma\u001b[49m\u001b[38;5;241;43m%\u001b[39;49m\u001b[38;5;241;43m1\u001b[39;49m\u001b[38;5;241;43m==\u001b[39;49m\u001b[38;5;241;43m0\u001b[39;49m\u001b[43m)\u001b[49m, L)\n",
      "\u001b[1;31mTypeError\u001b[0m: filter expected 2 arguments, got 1"
     ]
    }
   ],
   "source": [
    "# 예제 : 다음 리스트에서 소수점 이하가 0인 수만 추출하시오(filter/리스트 컴프리헨션)\n",
    "L = [1, 1.2, 1.5, 3.0, 10.5, 100, -2.0, -12.2]\n",
    "list(filter(lambda x : x%1==0), L)"
   ]
  },
  {
   "cell_type": "code",
   "execution_count": 135,
   "id": "865f2ba0",
   "metadata": {},
   "outputs": [
    {
     "data": {
      "text/plain": [
       "[1, 3.0, 100, -2.0]"
      ]
     },
     "execution_count": 135,
     "metadata": {},
     "output_type": "execute_result"
    }
   ],
   "source": [
    "[item for item in L if item%1==0]"
   ]
  },
  {
   "cell_type": "markdown",
   "id": "82f02c98",
   "metadata": {},
   "source": [
    "## (3) sort"
   ]
  },
  {
   "cell_type": "code",
   "execution_count": 143,
   "id": "41418625",
   "metadata": {},
   "outputs": [
    {
     "data": {
      "text/plain": [
       "[10, 6, 3, 1]"
      ]
     },
     "execution_count": 143,
     "metadata": {},
     "output_type": "execute_result"
    }
   ],
   "source": [
    "p = [10, 3, 6, 1]\n",
    "p.sort(reverse = True)\n",
    "p"
   ]
  },
  {
   "cell_type": "code",
   "execution_count": 139,
   "id": "7c2e38f9",
   "metadata": {},
   "outputs": [
    {
     "data": {
      "text/plain": [
       "[(1, 'one'), (2, 'two'), (3, 'three'), (4, 'four')]"
      ]
     },
     "execution_count": 139,
     "metadata": {},
     "output_type": "execute_result"
    }
   ],
   "source": [
    "# 무조건 0번째 item을 기준으로 오름차순 정렬\n",
    "pairs = [(2, 'two'), (1, 'one'), (3, 'three'), (4, 'four')]\n",
    "pairs.sort()\n",
    "pairs"
   ]
  },
  {
   "cell_type": "code",
   "execution_count": 144,
   "id": "77798398",
   "metadata": {},
   "outputs": [
    {
     "data": {
      "text/plain": [
       "[(4, 'four'), (1, 'one'), (3, 'three'), (2, 'two')]"
      ]
     },
     "execution_count": 144,
     "metadata": {},
     "output_type": "execute_result"
    }
   ],
   "source": [
    "# 1번째 item 기준으로 내림차순 정렬\n",
    "pairs.sort(key=lambda data:data[1])\n",
    "pairs"
   ]
  },
  {
   "cell_type": "code",
   "execution_count": 149,
   "id": "e6eda44c",
   "metadata": {},
   "outputs": [
    {
     "name": "stdout",
     "output_type": "stream",
     "text": [
      "[[1, 100], [9, 9], [10, 1]]\n"
     ]
    }
   ],
   "source": [
    "# 합이 큰 순으로 정렬\n",
    "number_2d = [[9,9],[1,100],[10,1]]\n",
    "number_2d.sort()\n",
    "number_2d\n",
    "print(number_2d)\n",
    "# 합이 큰순으로 정렬\n",
    "number_2d.sort()"
   ]
  },
  {
   "cell_type": "code",
   "execution_count": 151,
   "id": "c0c04aa3",
   "metadata": {},
   "outputs": [
    {
     "name": "stdout",
     "output_type": "stream",
     "text": [
      "[[1, 100], [9, 9], [10, 1]]\n",
      "[[1, 100], [9, 9], [10, 1]]\n"
     ]
    }
   ],
   "source": [
    "# 합이 큰 순으로 정렬\n",
    "number_2d = [[9,9],[1,100],[10,1]]\n",
    "number_2d.sort()\n",
    "number_2d\n",
    "print(number_2d)\n",
    "\n",
    "# 합이 큰순으로 정렬\n",
    "number_2d.sort(key=lambda items : sum(items), reverse=True)\n",
    "print(number_2d)"
   ]
  },
  {
   "cell_type": "code",
   "execution_count": 161,
   "id": "7ab97bc7",
   "metadata": {},
   "outputs": [],
   "source": [
    "students=[\n",
    "        {'name':'홍', 'score':99},\n",
    "        {'name':'김', 'score':99},\n",
    "        {'name':'박', 'score':99},\n",
    "        {'score':100},]"
   ]
  },
  {
   "cell_type": "code",
   "execution_count": 162,
   "id": "ee44a190",
   "metadata": {},
   "outputs": [
    {
     "data": {
      "text/plain": [
       "'홍'"
      ]
     },
     "execution_count": 162,
     "metadata": {},
     "output_type": "execute_result"
    }
   ],
   "source": [
    "name_select = lambda data : data.get('name', '')\n",
    "name_select({'name':'홍', 'score':99})"
   ]
  },
  {
   "cell_type": "code",
   "execution_count": 163,
   "id": "f0d6c235",
   "metadata": {},
   "outputs": [
    {
     "data": {
      "text/plain": [
       "[{'name': '김', 'score': 99},\n",
       " {'name': '박', 'score': 99},\n",
       " {'name': '홍', 'score': 99},\n",
       " {'score': 100}]"
      ]
     },
     "execution_count": 163,
     "metadata": {},
     "output_type": "execute_result"
    }
   ],
   "source": [
    "# student를 name 순으로 정렬(ㄱㄴㄷ순)\n",
    "students.sort(key=lambda data : data.get('name', '힣'))\n",
    "students"
   ]
  },
  {
   "cell_type": "code",
   "execution_count": 167,
   "id": "81b1a974",
   "metadata": {},
   "outputs": [],
   "source": [
    "books = \\\n",
    "   [{'no':2, 'title':'더트릭컬', 'writer':'폴빠','price':'19,800'},\n",
    "    {'no':1, 'title':'흔한남매', 'writer':'백난도', 'price':'15,120'},\n",
    "    {'no':3, 'title':'단 한 번의 삶', 'writer':'김영하', 'price':'15,120'},\n",
    "    {'no':4, 'title':'가격잘못', 'writer':'홍길동', 'price':'ㅁ'},\n",
    "    {'no':5, 'title':'가격이숫자', 'writer':'백난도', 'price':30200},\n",
    "    {'no':6, 'title':'가격이없음', 'writer':'이길동'},] "
   ]
  },
  {
   "cell_type": "code",
   "execution_count": 168,
   "id": "a7104663",
   "metadata": {},
   "outputs": [
    {
     "data": {
      "text/plain": [
       "[{'no': 2, 'title': '더트릭컬', 'writer': '폴빠', 'price': '19,800'},\n",
       " {'no': 1, 'title': '흔한남매', 'writer': '백난도', 'price': '15,120'},\n",
       " {'no': 3, 'title': '단 한 번의 삶', 'writer': '김영하', 'price': '15,120'},\n",
       " {'no': 4, 'title': '가격잘못', 'writer': '홍길동', 'price': 'ㅁ'},\n",
       " {'no': 5, 'title': '가격이숫자', 'writer': '백난도', 'price': 30200},\n",
       " {'no': 6, 'title': '가격이없음', 'writer': '이길동'}]"
      ]
     },
     "execution_count": 168,
     "metadata": {},
     "output_type": "execute_result"
    }
   ],
   "source": [
    "books"
   ]
  },
  {
   "cell_type": "code",
   "execution_count": 169,
   "id": "769ac11f",
   "metadata": {},
   "outputs": [
    {
     "data": {
      "text/plain": [
       "[{'no': 1, 'title': '흔한남매', 'writer': '백난도', 'price': '15,120'},\n",
       " {'no': 2, 'title': '더트릭컬', 'writer': '폴빠', 'price': '19,800'},\n",
       " {'no': 3, 'title': '단 한 번의 삶', 'writer': '김영하', 'price': '15,120'},\n",
       " {'no': 4, 'title': '가격잘못', 'writer': '홍길동', 'price': 'ㅁ'},\n",
       " {'no': 5, 'title': '가격이숫자', 'writer': '백난도', 'price': 30200},\n",
       " {'no': 6, 'title': '가격이없음', 'writer': '이길동'}]"
      ]
     },
     "execution_count": 169,
     "metadata": {},
     "output_type": "execute_result"
    }
   ],
   "source": [
    "# no기준으로 sort\n",
    "books.sort(key = lambda book : book['no'])\n",
    "books"
   ]
  },
  {
   "cell_type": "code",
   "execution_count": 170,
   "id": "d6dfff04",
   "metadata": {},
   "outputs": [
    {
     "data": {
      "text/plain": [
       "[{'no': 5, 'title': '가격이숫자', 'writer': '백난도', 'price': 30200},\n",
       " {'no': 6, 'title': '가격이없음', 'writer': '이길동'},\n",
       " {'no': 4, 'title': '가격잘못', 'writer': '홍길동', 'price': 'ㅁ'},\n",
       " {'no': 3, 'title': '단 한 번의 삶', 'writer': '김영하', 'price': '15,120'},\n",
       " {'no': 2, 'title': '더트릭컬', 'writer': '폴빠', 'price': '19,800'},\n",
       " {'no': 1, 'title': '흔한남매', 'writer': '백난도', 'price': '15,120'}]"
      ]
     },
     "execution_count": 170,
     "metadata": {},
     "output_type": "execute_result"
    }
   ],
   "source": [
    "# title기준으로 sort\n",
    "books.sort(key = lambda book : book['title'])\n",
    "books"
   ]
  },
  {
   "cell_type": "code",
   "execution_count": 184,
   "id": "bbb7bea0",
   "metadata": {},
   "outputs": [
    {
     "name": "stdout",
     "output_type": "stream",
     "text": [
      "12000 0 0 0\n"
     ]
    }
   ],
   "source": [
    "# 30200=> 30200, '12,000'=>12000, '5000'=>5000, 'ㅁ'=>0, None=>0\n",
    "def parse_int(price):\n",
    "    if isinstance(price, str) and price.replace(',','').isdigit():\n",
    "        return int(price.replace(',',''))\n",
    "    else:\n",
    "        return 0\n",
    "print(parse_int('12,000'), parse_int(30200), parse_int('ㅁ'), parse_int(None))"
   ]
  },
  {
   "cell_type": "code",
   "execution_count": 187,
   "id": "ec721fe7",
   "metadata": {},
   "outputs": [
    {
     "name": "stdout",
     "output_type": "stream",
     "text": [
      "12000 30200 0 0\n"
     ]
    }
   ],
   "source": [
    "# 30200=> 30200, '12,000'=>12000, '5000'=>5000, 'ㅁ'=>0, None=>0\n",
    "def parse_int(price):\n",
    "    if isinstance(price, str) and price.replace(',','').isdigit():\n",
    "        return int(price.replace(',',''))\n",
    "    elif isinstance(price, int):\n",
    "        return price\n",
    "    else:\n",
    "        return 0\n",
    "    \n",
    "parse_int = lambda price : \\\n",
    "            int(price.replace(',','')) \\\n",
    "                    if isinstance(price, str) and price.replace(',','').isdigit() else \\\n",
    "            price if isinstance(price, int) else \\\n",
    "            0\n",
    "\n",
    "print(parse_int('12,000'), parse_int(30200), parse_int('ㅁ'), parse_int(None))"
   ]
  },
  {
   "cell_type": "code",
   "execution_count": 188,
   "id": "6ca61bc1",
   "metadata": {},
   "outputs": [
    {
     "ename": "NameError",
     "evalue": "name 'book' is not defined",
     "output_type": "error",
     "traceback": [
      "\u001b[1;31m---------------------------------------------------------------------------\u001b[0m",
      "\u001b[1;31mNameError\u001b[0m                                 Traceback (most recent call last)",
      "Cell \u001b[1;32mIn[188], line 8\u001b[0m\n\u001b[0;32m      1\u001b[0m \u001b[38;5;66;03m# {'no': 5, 'title': '가격이숫자', 'writer': '백난도', 'price': '12,000'} => 12000\u001b[39;00m\n\u001b[0;32m      2\u001b[0m parse_int \u001b[38;5;241m=\u001b[39m \u001b[38;5;28;01mlambda\u001b[39;00m price : \\\n\u001b[0;32m      3\u001b[0m             \u001b[38;5;28mint\u001b[39m(book\u001b[38;5;241m.\u001b[39mget(\u001b[38;5;124m'\u001b[39m\u001b[38;5;124mprice\u001b[39m\u001b[38;5;124m'\u001b[39m)\u001b[38;5;241m.\u001b[39mreplace(\u001b[38;5;124m'\u001b[39m\u001b[38;5;124m,\u001b[39m\u001b[38;5;124m'\u001b[39m,\u001b[38;5;124m'\u001b[39m\u001b[38;5;124m'\u001b[39m)) \\\n\u001b[0;32m      4\u001b[0m                     \u001b[38;5;28;01mif\u001b[39;00m \u001b[38;5;28misinstance\u001b[39m(book\u001b[38;5;241m.\u001b[39mget(\u001b[38;5;124m'\u001b[39m\u001b[38;5;124mprice\u001b[39m\u001b[38;5;124m'\u001b[39m), \u001b[38;5;28mstr\u001b[39m) \u001b[38;5;129;01mand\u001b[39;00m \\\n\u001b[0;32m      5\u001b[0m                                 book\u001b[38;5;241m.\u001b[39mget(\u001b[38;5;124m'\u001b[39m\u001b[38;5;124mprice\u001b[39m\u001b[38;5;124m'\u001b[39m)\u001b[38;5;241m.\u001b[39mreplace(\u001b[38;5;124m'\u001b[39m\u001b[38;5;124m,\u001b[39m\u001b[38;5;124m'\u001b[39m,\u001b[38;5;124m'\u001b[39m\u001b[38;5;124m'\u001b[39m)\u001b[38;5;241m.\u001b[39misdigit() \u001b[38;5;28;01melse\u001b[39;00m \\\n\u001b[0;32m      6\u001b[0m             price \u001b[38;5;28;01mif\u001b[39;00m \u001b[38;5;28misinstance\u001b[39m(book\u001b[38;5;241m.\u001b[39mget(\u001b[38;5;124m'\u001b[39m\u001b[38;5;124mprice\u001b[39m\u001b[38;5;124m'\u001b[39m), \u001b[38;5;28mint\u001b[39m) \u001b[38;5;28;01melse\u001b[39;00m \\\n\u001b[0;32m      7\u001b[0m             \u001b[38;5;241m0\u001b[39m\n\u001b[1;32m----> 8\u001b[0m \u001b[38;5;28mprint\u001b[39m(\u001b[43mparse_int\u001b[49m\u001b[43m(\u001b[49m\u001b[38;5;124;43m'\u001b[39;49m\u001b[38;5;124;43m12,000\u001b[39;49m\u001b[38;5;124;43m'\u001b[39;49m\u001b[43m)\u001b[49m, parse_int(\u001b[38;5;241m30200\u001b[39m), parse_int(\u001b[38;5;124m'\u001b[39m\u001b[38;5;124mㅁ\u001b[39m\u001b[38;5;124m'\u001b[39m), parse_int(\u001b[38;5;28;01mNone\u001b[39;00m))\n",
      "Cell \u001b[1;32mIn[188], line 4\u001b[0m, in \u001b[0;36m<lambda>\u001b[1;34m(price)\u001b[0m\n\u001b[0;32m      1\u001b[0m \u001b[38;5;66;03m# {'no': 5, 'title': '가격이숫자', 'writer': '백난도', 'price': '12,000'} => 12000\u001b[39;00m\n\u001b[0;32m      2\u001b[0m parse_int \u001b[38;5;241m=\u001b[39m \u001b[38;5;28;01mlambda\u001b[39;00m price : \\\n\u001b[0;32m      3\u001b[0m             \u001b[38;5;28mint\u001b[39m(book\u001b[38;5;241m.\u001b[39mget(\u001b[38;5;124m'\u001b[39m\u001b[38;5;124mprice\u001b[39m\u001b[38;5;124m'\u001b[39m)\u001b[38;5;241m.\u001b[39mreplace(\u001b[38;5;124m'\u001b[39m\u001b[38;5;124m,\u001b[39m\u001b[38;5;124m'\u001b[39m,\u001b[38;5;124m'\u001b[39m\u001b[38;5;124m'\u001b[39m)) \\\n\u001b[1;32m----> 4\u001b[0m                     \u001b[38;5;28;01mif\u001b[39;00m \u001b[38;5;28misinstance\u001b[39m(\u001b[43mbook\u001b[49m\u001b[38;5;241m.\u001b[39mget(\u001b[38;5;124m'\u001b[39m\u001b[38;5;124mprice\u001b[39m\u001b[38;5;124m'\u001b[39m), \u001b[38;5;28mstr\u001b[39m) \u001b[38;5;129;01mand\u001b[39;00m \\\n\u001b[0;32m      5\u001b[0m                                 book\u001b[38;5;241m.\u001b[39mget(\u001b[38;5;124m'\u001b[39m\u001b[38;5;124mprice\u001b[39m\u001b[38;5;124m'\u001b[39m)\u001b[38;5;241m.\u001b[39mreplace(\u001b[38;5;124m'\u001b[39m\u001b[38;5;124m,\u001b[39m\u001b[38;5;124m'\u001b[39m,\u001b[38;5;124m'\u001b[39m\u001b[38;5;124m'\u001b[39m)\u001b[38;5;241m.\u001b[39misdigit() \u001b[38;5;28;01melse\u001b[39;00m \\\n\u001b[0;32m      6\u001b[0m             price \u001b[38;5;28;01mif\u001b[39;00m \u001b[38;5;28misinstance\u001b[39m(book\u001b[38;5;241m.\u001b[39mget(\u001b[38;5;124m'\u001b[39m\u001b[38;5;124mprice\u001b[39m\u001b[38;5;124m'\u001b[39m), \u001b[38;5;28mint\u001b[39m) \u001b[38;5;28;01melse\u001b[39;00m \\\n\u001b[0;32m      7\u001b[0m             \u001b[38;5;241m0\u001b[39m\n\u001b[0;32m      8\u001b[0m \u001b[38;5;28mprint\u001b[39m(parse_int(\u001b[38;5;124m'\u001b[39m\u001b[38;5;124m12,000\u001b[39m\u001b[38;5;124m'\u001b[39m), parse_int(\u001b[38;5;241m30200\u001b[39m), parse_int(\u001b[38;5;124m'\u001b[39m\u001b[38;5;124mㅁ\u001b[39m\u001b[38;5;124m'\u001b[39m), parse_int(\u001b[38;5;28;01mNone\u001b[39;00m))\n",
      "\u001b[1;31mNameError\u001b[0m: name 'book' is not defined"
     ]
    }
   ],
   "source": [
    "# {'no': 5, 'title': '가격이숫자', 'writer': '백난도', 'price': '12,000'} => 12000\n",
    "parse_int = lambda price : \\\n",
    "            int(book.get('price').replace(',','')) \\\n",
    "                    if isinstance(book.get('price'), str) and \\\n",
    "                                book.get('price').replace(',','').isdigit() else \\\n",
    "            price if isinstance(book.get('price'), int) else \\\n",
    "            0\n",
    "print(parse_int('12,000'), parse_int(30200), parse_int('ㅁ'), parse_int(None))"
   ]
  },
  {
   "cell_type": "code",
   "execution_count": 189,
   "id": "7e85adf2",
   "metadata": {},
   "outputs": [
    {
     "data": {
      "text/plain": [
       "[{'no': 5, 'title': '가격이숫자', 'writer': '백난도', 'price': 30200},\n",
       " {'no': 2, 'title': '더트릭컬', 'writer': '폴빠', 'price': '19,800'},\n",
       " {'no': 3, 'title': '단 한 번의 삶', 'writer': '김영하', 'price': '15,120'},\n",
       " {'no': 1, 'title': '흔한남매', 'writer': '백난도', 'price': '15,120'},\n",
       " {'no': 6, 'title': '가격이없음', 'writer': '이길동'},\n",
       " {'no': 4, 'title': '가격잘못', 'writer': '홍길동', 'price': 'ㅁ'}]"
      ]
     },
     "execution_count": 189,
     "metadata": {},
     "output_type": "execute_result"
    }
   ],
   "source": [
    "copyBooks = books.copy()\n",
    "copyBooks.sort(key=lambda book : \\\n",
    "              int(book.get('price').replace(',',''))\\\n",
    "                   if isinstance(book.get('price'), str) and \\\n",
    "                               book.get('price').replace(',', '').isdigit() else \\\n",
    "               book.get('price') if isinstance(book.get('price'), int) else \\\n",
    "               0,\n",
    "               reverse=True)\n",
    "copyBooks"
   ]
  },
  {
   "cell_type": "code",
   "execution_count": null,
   "id": "9978231e",
   "metadata": {},
   "outputs": [],
   "source": [
    "# 5절 파이썬 내장함수\n",
    "- import 하지ㅏ 않고 바로 사용 가능한 함수\n",
    "- 키워드(if, while, ...)처럼 간주되므로, 식별자(변수명, 함수명, 클래스명)로 사용하는 것을 피한다."
   ]
  },
  {
   "cell_type": "code",
   "execution_count": 1,
   "id": "fa0ac984",
   "metadata": {},
   "outputs": [
    {
     "data": {
      "text/plain": [
       "{'__name__': '__main__',\n",
       " '__doc__': 'Automatically created module for IPython interactive environment',\n",
       " '__package__': None,\n",
       " '__loader__': None,\n",
       " '__spec__': None,\n",
       " '__builtin__': <module 'builtins' (built-in)>,\n",
       " '__builtins__': <module 'builtins' (built-in)>,\n",
       " '_ih': ['', 'a = 10\\nglobals()  #전역변수 리스트'],\n",
       " '_oh': {},\n",
       " '_dh': [WindowsPath('C:/AI_X_Practice_0911/Source/01_python')],\n",
       " 'In': ['', 'a = 10\\nglobals()  #전역변수 리스트'],\n",
       " 'Out': {},\n",
       " 'get_ipython': <bound method InteractiveShell.get_ipython of <ipykernel.zmqshell.ZMQInteractiveShell object at 0x0000015B7CCAFF40>>,\n",
       " 'exit': <IPython.core.autocall.ZMQExitAutocall at 0x15b7ccbf850>,\n",
       " 'quit': <IPython.core.autocall.ZMQExitAutocall at 0x15b7ccbf850>,\n",
       " 'open': <function io.open(file, mode='r', buffering=-1, encoding=None, errors=None, newline=None, closefd=True, opener=None)>,\n",
       " '_': '',\n",
       " '__': '',\n",
       " '___': '',\n",
       " '_i': '',\n",
       " '_ii': '',\n",
       " '_iii': '',\n",
       " '_i1': 'a = 10\\nglobals()  #전역변수 리스트',\n",
       " 'a': 10}"
      ]
     },
     "execution_count": 1,
     "metadata": {},
     "output_type": "execute_result"
    }
   ],
   "source": [
    "a = 10\n",
    "globals()  #전역변수 리스트"
   ]
  },
  {
   "cell_type": "code",
   "execution_count": 2,
   "id": "a1424b32",
   "metadata": {},
   "outputs": [
    {
     "data": {
      "text/plain": [
       "False"
      ]
     },
     "execution_count": 2,
     "metadata": {},
     "output_type": "execute_result"
    }
   ],
   "source": [
    "all([True, True, True, False]) # 모든 요소가 다 True인지 여부"
   ]
  },
  {
   "cell_type": "markdown",
   "id": "baf7ea06",
   "metadata": {},
   "source": [
    "# 6절 연습문제"
   ]
  },
  {
   "cell_type": "code",
   "execution_count": null,
   "id": "389aeaa8",
   "metadata": {},
   "outputs": [],
   "source": [
    "1. 함수의인자로 리스트를 받은 후 리스트 내에 있는 모든 정수값에 대한 최대값과 최소값을 리턴하는 함수를 작성하세요\n",
    "• def get_max_min(data_list):\n",
    "• get_max_min= lambda ~"
   ]
  },
  {
   "cell_type": "code",
   "execution_count": null,
   "id": "0b5fa1a4",
   "metadata": {},
   "outputs": [],
   "source": [
    "def get_max_min(data_list):\n",
    "    if not data_list:  # 리스트가 비어있으면 None 반환\n",
    "        return None\n",
    "    return max(data_list), min(data_list)\n",
    "\n",
    "# 사용 예시\n",
    "numbers = [3, 7, 1, 9, 4]\n",
    "result = get_max_min(numbers)\n",
    "print(result)  # 출력: (9, 1)"
   ]
  },
  {
   "cell_type": "code",
   "execution_count": null,
   "id": "1b79401e",
   "metadata": {},
   "outputs": [],
   "source": [
    "get_max_min = lambda data_list: (max(data_list), min(data_list)) if data_list else None\n",
    "\n",
    "# 사용 예시\n",
    "numbers = [3, 7, 1, 9, 4]\n",
    "result = get_max_min(numbers)\n",
    "print(result)  # 출력: (9, 1)"
   ]
  },
  {
   "cell_type": "code",
   "execution_count": null,
   "id": "c0a5f111",
   "metadata": {},
   "outputs": [],
   "source": [
    "2. 체질량 지수(Body Mass Index, BMI)는 체중과 키를 이용해 비만도를 나타내는 지수로 아래의 수식에 의해 계산됩니다. 함수의 인자로 체중(kg)과 신장(m)를입력받은 후 BMI값에 따라 ‘마른 체형‘, ‘표준‘, ‘비만‘, ‘고도비만‘ 중 하나의 상태를 출력하는 함수를 구현해 보세요.\n",
    "• getBMI(kg, m):\n",
    "• BMI지수 = 체중(kg) / 신장(m)의 제곱\n",
    "• BMI<18.5 : 마른체형\n",
    "• 18.5<=BMI<25 : 표준\n",
    "• 25<=BMI<30 : 비만\n",
    "• BMI >=30 : 고도비만"
   ]
  },
  {
   "cell_type": "code",
   "execution_count": null,
   "id": "fa92d6d3",
   "metadata": {},
   "outputs": [],
   "source": [
    "3. 직각삼각형의 밑변과 높이를 입력받은 후 삼각형의 면적과 둘레를 계산하는 함수를 작성하세요\n",
    "• 리턴값은 면적과 둘레를 return하도록 구현하세요\n",
    "• math.sqrt() : 제곱근을 구하는 함수이용 (ex)math.sqrt(25) : 5.0\n",
    "• def get_triangle(width, height):"
   ]
  },
  {
   "cell_type": "code",
   "execution_count": 3,
   "id": "3467e35b",
   "metadata": {},
   "outputs": [
    {
     "ename": "NameError",
     "evalue": "name 'area' is not defined",
     "output_type": "error",
     "traceback": [
      "\u001b[1;31m---------------------------------------------------------------------------\u001b[0m",
      "\u001b[1;31mNameError\u001b[0m                                 Traceback (most recent call last)",
      "Cell \u001b[1;32mIn[3], line 7\u001b[0m\n\u001b[0;32m      5\u001b[0m     \u001b[38;5;66;03m# return area, perimeter\u001b[39;00m\n\u001b[0;32m      6\u001b[0m     \u001b[38;5;28;01mreturn\u001b[39;00m {\u001b[38;5;124m'\u001b[39m\u001b[38;5;124m넓이\u001b[39m\u001b[38;5;124m'\u001b[39m: area, \u001b[38;5;124m'\u001b[39m\u001b[38;5;124m둘레\u001b[39m\u001b[38;5;124m'\u001b[39m: perimeter}\n\u001b[1;32m----> 7\u001b[0m \u001b[43mget_triangle\u001b[49m\u001b[43m(\u001b[49m\u001b[38;5;241;43m3\u001b[39;49m\u001b[43m,\u001b[49m\u001b[43m \u001b[49m\u001b[38;5;241;43m4\u001b[39;49m\u001b[43m)\u001b[49m\n",
      "Cell \u001b[1;32mIn[3], line 6\u001b[0m, in \u001b[0;36mget_triangle\u001b[1;34m(w, h)\u001b[0m\n\u001b[0;32m      4\u001b[0m are \u001b[38;5;241m=\u001b[39m w \u001b[38;5;241m*\u001b[39m h \u001b[38;5;241m+\u001b[39mmath\u001b[38;5;241m.\u001b[39msqrt(w\u001b[38;5;241m*\u001b[39mw \u001b[38;5;241m+\u001b[39m h\u001b[38;5;241m*\u001b[39mh)\n\u001b[0;32m      5\u001b[0m \u001b[38;5;66;03m# return area, perimeter\u001b[39;00m\n\u001b[1;32m----> 6\u001b[0m \u001b[38;5;28;01mreturn\u001b[39;00m {\u001b[38;5;124m'\u001b[39m\u001b[38;5;124m넓이\u001b[39m\u001b[38;5;124m'\u001b[39m: \u001b[43marea\u001b[49m, \u001b[38;5;124m'\u001b[39m\u001b[38;5;124m둘레\u001b[39m\u001b[38;5;124m'\u001b[39m: perimeter}\n",
      "\u001b[1;31mNameError\u001b[0m: name 'area' is not defined"
     ]
    }
   ],
   "source": [
    "# 실습형 3: 직각삼각형 w, h로 area, perimeter(넓이, 둘레)\n",
    "import math\n",
    "def get_triangle(w, h):\n",
    "    are = w * h * 0.5\n",
    "    # math.sqrt(w*w + h*h)\n",
    "    # return area, perimeter\n",
    "    return {'넓이': area, '둘레': perimeter}\n",
    "get_triangle(3, 4)"
   ]
  },
  {
   "cell_type": "code",
   "execution_count": null,
   "id": "859d6db4",
   "metadata": {},
   "outputs": [],
   "source": [
    "4. 함수의 인자로 시작과 끝 숫자가 주어질 때 시작부터 끝까지의 모든 정수값의 합을 리턴하는 함수를 작성하세요(시작값과 끝값 포함).\n",
    "• def mysum(fRom, end):"
   ]
  },
  {
   "cell_type": "code",
   "execution_count": null,
   "id": "397ea19d",
   "metadata": {},
   "outputs": [],
   "source": [
    "5. 함수의인자로 문자열을 포함하는 리스트가 입력될 때 각 문자열의 첫 세글자로만 구성된 리스트를 리턴하는 함수와 람다식을 작성하세요\n",
    "• 예를 들어 함수의 입력으로 [‘Seoul’, ‘Daegu’, ‘Kwangju’, ‘Jeju’]가 입력될 때 함수의 리턴값은 [‘Seo’, ‘Dae’, ‘Kwa’,’Jej’]\n",
    "• def get_abbrs(lst):"
   ]
  },
  {
   "cell_type": "code",
   "execution_count": null,
   "id": "dc85edf6",
   "metadata": {},
   "outputs": [],
   "source": [
    "6. 다음 코드를 람다 함수 형태로 수정할 때 알맞은 코드를 작성하시오.\n",
    "def f(x, y)\n",
    "    return x ** y"
   ]
  },
  {
   "cell_type": "code",
   "execution_count": null,
   "id": "a4358746",
   "metadata": {},
   "outputs": [],
   "source": [
    "7. ex = [1,2,3,4,5]를 [1,4,9,16,25]의 결과를 얻을 수 있도록 \n",
    "   람다함수와 map()함수를 사용하여 구현과 리스트 컴프리헨션으로 구현하시오\n",
    "    \n",
    "ex = [1,2,3,4,5]\n",
    "______________________________\n",
    "[1, 4, 9, 16, 25]\n",
    "ex = ex = [1,2,3,4,5]\n",
    "______________________________\n",
    "[1, 4, 9, 16, 25]"
   ]
  },
  {
   "cell_type": "code",
   "execution_count": null,
   "id": "1ac3a424",
   "metadata": {},
   "outputs": [],
   "source": [
    "8. 다음코드를 각각 실행하면 서로 다른 결과가 나온다. 이런 결과가 나오는 이유를 서술하시오"
   ]
  },
  {
   "cell_type": "code",
   "execution_count": null,
   "id": "0a5703d3",
   "metadata": {},
   "outputs": [],
   "source": [
    "9. 다음 코드의 실행 결과는?"
   ]
  },
  {
   "cell_type": "code",
   "execution_count": null,
   "id": "cdcb07ed",
   "metadata": {},
   "outputs": [],
   "source": [
    "0. n개의 벡터(리스트나 튜플, 셋등)들의 크기가 같은지 여부를 reutrn하는\n",
    "vector_size_check(*vector _var) 를 한 줄의 코드(리스트 컴프리헨션 이용)로 작성하시오."
   ]
  },
  {
   "cell_type": "code",
   "execution_count": null,
   "id": "ce3774b7",
   "metadata": {},
   "outputs": [],
   "source": [
    "11. 다음과 같은 결과를 얻기 위해 하나의 스칼라값을 리스트나 튜플, 셋등 벡터에 곱하는 코드를 작성하시오.(단 입력되는 벡터의 크기는 일정하지 않음)"
   ]
  },
  {
   "cell_type": "code",
   "execution_count": null,
   "id": "c6e5539c",
   "metadata": {},
   "outputs": [],
   "source": [
    "연습문제 개관식"
   ]
  },
  {
   "cell_type": "code",
   "execution_count": null,
   "id": "175b0e1b",
   "metadata": {},
   "outputs": [],
   "source": []
  },
  {
   "cell_type": "code",
   "execution_count": null,
   "id": "d4cc1be3",
   "metadata": {},
   "outputs": [],
   "source": []
  }
 ],
 "metadata": {
  "kernelspec": {
   "display_name": "Python 3 (ipykernel)",
   "language": "python",
   "name": "python3"
  },
  "language_info": {
   "codemirror_mode": {
    "name": "ipython",
    "version": 3
   },
   "file_extension": ".py",
   "mimetype": "text/x-python",
   "name": "python",
   "nbconvert_exporter": "python",
   "pygments_lexer": "ipython3",
   "version": "3.10.9"
  },
  "toc": {
   "base_numbering": 1,
   "nav_menu": {},
   "number_sections": false,
   "sideBar": true,
   "skip_h1_title": false,
   "title_cell": "Table of Contents",
   "title_sidebar": "Contents",
   "toc_cell": false,
   "toc_position": {
    "height": "calc(100% - 180px)",
    "left": "10px",
    "top": "150px",
    "width": "222.656px"
   },
   "toc_section_display": true,
   "toc_window_display": true
  }
 },
 "nbformat": 4,
 "nbformat_minor": 5
}
