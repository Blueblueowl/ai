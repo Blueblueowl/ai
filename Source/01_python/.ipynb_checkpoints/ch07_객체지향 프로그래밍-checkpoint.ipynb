{
 "cells": [
  {
   "cell_type": "code",
   "execution_count": null,
   "id": "8ec8a455",
   "metadata": {},
   "outputs": [],
   "source": [
    "from IPython.display import display, HTML\n",
    "display(HTML(\"\"\"\n",
    "<style>\n",
    "div.container{width:90% !important;}\n",
    "div.cell.code_cell.rendered{width:100%;}\n",
    "div.input_prompt{padding:0px;}\n",
    "div.CodeMirror {font-family:Consolas; font-size:22pt;}\n",
    "div.text_cell_render.rendered_html{font-size:12pt;}\n",
    "div.output {font-size:12pt; font-weight:bold;}\n",
    "div.input {font-family:Consolas; font-size:12pt;}\n",
    "div.prompt {min-width:140px;}\n",
    "div#toc-wrapper{padding-top:120px;}\n",
    "div.text_cell_render ul li{font-size:12pt;padding:5px;}\n",
    "table.dataframe{font-size:12px;}\n",
    "</style>\n",
    "\"\"\"))"
   ]
  },
  {
   "cell_type": "code",
   "execution_count": null,
   "id": "d900968b",
   "metadata": {},
   "outputs": [],
   "source": [
    "\n",
    "<b><font size=\"7\" color=\"red\">ch07.객체지향 프로그래밍</font></b>\n",
    "\n",
    "** 클래스에서 상속된 속성을 바꾸는 것, 즉 함수의 재정의를 오버라이딩이라고 한다. **\n",
    "** 함수의 재정의를 오버라이딩 그리고 함수의 중복정의를 오버로딩이라고 한다. **"
   ]
  },
  {
   "cell_type": "code",
   "execution_count": 5,
   "id": "1aaf54b6",
   "metadata": {},
   "outputs": [
    {
     "name": "stdout",
     "output_type": "stream",
     "text": [
      "홍길동 남자\n",
      "김길숙 여자\n"
     ]
    }
   ],
   "source": [
    "person1 = {'name':'홍길동', 'gender':'남자', 'academy':'MBC'}\n",
    "person2 = {'name':'김길숙', 'gender':'여자', 'academy':'MBC'}\n",
    "print(person1['name'], person1.get('gender'))\n",
    "print(person2['name'], person2.get('gender'))"
   ]
  },
  {
   "cell_type": "code",
   "execution_count": 7,
   "id": "f303f835",
   "metadata": {},
   "outputs": [
    {
     "name": "stdout",
     "output_type": "stream",
     "text": [
      "홍길동 남자\n",
      "{'name': '홍길뚱', 'gender': '남자', 'academy': 'MBC'}\n",
      "{'name': '김길숙', 'gender': '여자', 'academy': 'MBC'}\n"
     ]
    }
   ],
   "source": [
    "person1 = {'name':'홍길동', 'gender':'남자', 'academy':'MBC'}\n",
    "person2 = {'name':'김길숙', 'gender':'여자', 'academy':'MBC'}\n",
    "print(person1['name'], person1.get('gender'))\n",
    "person1['name'] = \"홍길뚱\"\n",
    "print(person1)\n",
    "print(person2)\n",
    "# person1.my_function()"
   ]
  },
  {
   "cell_type": "code",
   "execution_count": 15,
   "id": "fa4a4d70",
   "metadata": {},
   "outputs": [
    {
     "name": "stdout",
     "output_type": "stream",
     "text": [
      "MBC의 김길숙님은 여자입니다\n",
      "MBC의 홍길동님은 남자입니다\n",
      "MBC의 홍홍홍님은 여자입니다\n",
      "MBC의 홍길동님은 남자입니다\n"
     ]
    }
   ],
   "source": [
    "class Person:\n",
    "    academy = 'MBC'    # 클래스 변수\n",
    "    def __init__(self, name, gender):\n",
    "        self.name = name\n",
    "        self.gender = gender\n",
    "    def print_info(self):\n",
    "        print(\"{}의 {}님은 {}입니다\".format(self.academy, self.name, self.gender))\n",
    "p1 = Person(\"김길숙\", \"여자\") # 객체변수(인스턴스)\n",
    "p1.print_info()\n",
    "p2 = Person(\"홍길동\", \"남자\")\n",
    "p2.print_info()\n",
    "p1.name = \"홍홍홍\"\n",
    "p1.print_info()\n",
    "p2.print_info()"
   ]
  },
  {
   "cell_type": "markdown",
   "id": "5998d9b0",
   "metadata": {},
   "source": [
    "# 1절. 객체와 클라스\n",
    "'''\n",
    "- class 클래스명(상속받을 클래스명):\n",
    "- 비유 [클래스 = 아파트 도면(설계도)], [객체(인스턴스) = 그 도면으로 지어진 실제 아파트 한 채 한 채]\n",
    "- 따라서, 클래스와 객체는 같은 것이 아니라, [객체는 클래스의 인스턴스]라고 이해하시면 됩니다.\n",
    "'''"
   ]
  },
  {
   "cell_type": "code",
   "execution_count": 16,
   "id": "1ada614d",
   "metadata": {},
   "outputs": [
    {
     "data": {
      "text/plain": [
       "__main__.Person"
      ]
     },
     "execution_count": 16,
     "metadata": {},
     "output_type": "execute_result"
    }
   ],
   "source": [
    "class Person:\n",
    "    \"Person 클래스는 여러 가지 설명을 하는 독스트링\"\n",
    "    pass\n",
    "#    def __init__(self):\n",
    "#       pass\n",
    "p1 = Person()\n",
    "type(p1)\n",
    "\n",
    "\n",
    "# 객체(Object) : 객체는 클래스의 인스턴스입니다. 클래스에 정의된 속성(변수)과 동작(메소드)을 가지고 있습니다. 예를 들어, Person 클래스로부터 생성된 person1 은 Person 클래스의 객체입니다.\n",
    "# Person person1 = new Person();\n",
    "# 인스턴스(Instance) : 인스턴스는 클래스의 객체가 메모리에 할당되어 실제로 존재하는 상태를 의미합니다. 예를 들어, person1 이라는 객체가 메모리에 할당되어 생성된 상태를 person1 은 Person 클래스의 인스턴스이다 라고 말할 수 있습니다.\n",
    "# 정리하자면, 클래스는 객체를 만들기 위한 템플릿(설계도)이며, 객체는 클래스의 인스턴스입니다. 객체가 메모리에 할당되어 실제로 존재하는 상태를 나타낼 때 인스턴스라는 용어를 사용할 수 있습니다.\n",
    "# 하지만 보통은 객체와 인스턴스라는 용어를 혼용해도 크게 문제되지 않는다는 의견입니다 😊\n",
    "# 감사합니다.\n",
    "\n",
    "# 인스턴스는 객체를 부르는 다른 이름입니다.\n",
    "# 인스턴스는 영어로 \"사례\", \"…을 예로 들다\" 라는 의미 잖아요. 클래스로 만든 객체의 사례(실제 예)라는 의미를 강조할 때 인스턴스라고 부릅니다.\n",
    "# 또는, 객체가 메모리에 올라가면 이를 강조해서 인스턴스라고 부릅니다. 참고로, new 연산자를 사용하면 객체가 메모리에 올라갑니다.\n",
    "# 클래스 : 객체 = 사람 : 김연아 라고 하면,\n",
    "# 김연아는 객체이기도 하지만 대한민국에 김연아라는 이름을 가진 사람이 많겠죠? 그중에서 \"피겨여왕 김연아\"라고 구체적으로 말하면, 객체의 실제 예를 가리키니까 이 때는 인스턴스라고 부를 수 있겠죠.\n"
   ]
  },
  {
   "cell_type": "code",
   "execution_count": 17,
   "id": "c25c49b5",
   "metadata": {},
   "outputs": [
    {
     "name": "stdout",
     "output_type": "stream",
     "text": [
      "<__main__.Person object at 0x000002AE020CF940>\n"
     ]
    }
   ],
   "source": [
    "print(p1)"
   ]
  },
  {
   "cell_type": "code",
   "execution_count": 18,
   "id": "9401a22d",
   "metadata": {},
   "outputs": [
    {
     "name": "stdout",
     "output_type": "stream",
     "text": [
      "<__main__.Person object at 0x000002AE020CF940>\n"
     ]
    }
   ],
   "source": [
    "print(p1.__str__())"
   ]
  },
  {
   "cell_type": "code",
   "execution_count": 19,
   "id": "c47f97f7",
   "metadata": {},
   "outputs": [
    {
     "data": {
      "text/plain": [
       "True"
      ]
     },
     "execution_count": 19,
     "metadata": {},
     "output_type": "execute_result"
    }
   ],
   "source": [
    "isinstance(p1, Person)"
   ]
  },
  {
   "cell_type": "code",
   "execution_count": 20,
   "id": "7da2b4d3",
   "metadata": {},
   "outputs": [
    {
     "data": {
      "text/plain": [
       "'Person 클래스는 여러 가지 설명을 하는 독스트링'"
      ]
     },
     "execution_count": 20,
     "metadata": {},
     "output_type": "execute_result"
    }
   ],
   "source": [
    "p1.__doc__"
   ]
  },
  {
   "cell_type": "markdown",
   "id": "81a1f989",
   "metadata": {},
   "source": [
    "# 2절 생성자('__init__()'와 소멸자('__del__()'))\n",
    "- 생성자 : __int__(self, [매개변수1, 매개변수2..]) \n",
    "    객체가 생성될 때 자동 실행 생성시 필요한 코드(인스턴스 변수 생성과 초기화)를 포함한다.\n",
    "- 소멸자 : __del__(self)     "
   ]
  },
  {
   "cell_type": "code",
   "execution_count": 1,
   "id": "e4f2ff9f",
   "metadata": {},
   "outputs": [],
   "source": [
    "class Person:\n",
    "    def __init__(self, name):\n",
    "        self.name = name    # 인스턴스 변수를 초기화"
   ]
  },
  {
   "cell_type": "code",
   "execution_count": 2,
   "id": "7cf89f3b",
   "metadata": {},
   "outputs": [],
   "source": [
    "class Person:\n",
    "    def __init__(self, name, gender):\n",
    "        self.name = name\n",
    "        self.gender = gender\n",
    "        print(\"Person형 객체를 생성\")\n",
    "    def __del__(self):\n",
    "        print(\"Person형 객체 소멸\")\n",
    "    def print_info(self):\n",
    "        print(\"{}님은 {}입니다\".format(self.name, self.gender))"
   ]
  },
  {
   "cell_type": "code",
   "execution_count": 3,
   "id": "1d2f4fc8",
   "metadata": {},
   "outputs": [
    {
     "name": "stdout",
     "output_type": "stream",
     "text": [
      "Person형 객체를 생성\n"
     ]
    }
   ],
   "source": [
    "p1 = Person(\"신사임당\",\n",
    "            \"여자\")"
   ]
  },
  {
   "cell_type": "code",
   "execution_count": 4,
   "id": "525b7870",
   "metadata": {},
   "outputs": [
    {
     "data": {
      "text/plain": [
       "'신사임당'"
      ]
     },
     "execution_count": 4,
     "metadata": {},
     "output_type": "execute_result"
    }
   ],
   "source": [
    "p1.name"
   ]
  },
  {
   "cell_type": "code",
   "execution_count": 5,
   "id": "5d7e2c46",
   "metadata": {},
   "outputs": [
    {
     "name": "stdout",
     "output_type": "stream",
     "text": [
      "신사임당님은 여자입니다\n"
     ]
    }
   ],
   "source": [
    "p1.print_info()"
   ]
  },
  {
   "cell_type": "code",
   "execution_count": 6,
   "id": "a1c4efa2",
   "metadata": {},
   "outputs": [
    {
     "name": "stdout",
     "output_type": "stream",
     "text": [
      "<__main__.Person object at 0x0000029F68532650>\n",
      "<__main__.Person object at 0x0000029F68532650>\n"
     ]
    }
   ],
   "source": [
    "print(p1)\n",
    "print(p1.__str__())"
   ]
  },
  {
   "cell_type": "code",
   "execution_count": 7,
   "id": "aad1f8dd",
   "metadata": {},
   "outputs": [
    {
     "data": {
      "text/plain": [
       "(__main__.Person, True)"
      ]
     },
     "execution_count": 7,
     "metadata": {},
     "output_type": "execute_result"
    }
   ],
   "source": [
    "type(p1), isinstance(p1, Person)"
   ]
  },
  {
   "cell_type": "code",
   "execution_count": 69,
   "id": "360b5317",
   "metadata": {},
   "outputs": [
    {
     "name": "stdout",
     "output_type": "stream",
     "text": [
      "Person형 객체 소멸\n"
     ]
    }
   ],
   "source": [
    "del p1"
   ]
  },
  {
   "cell_type": "code",
   "execution_count": 8,
   "id": "1af9cd63",
   "metadata": {},
   "outputs": [
    {
     "name": "stdout",
     "output_type": "stream",
     "text": [
      "Person형 객체를 생성\n"
     ]
    }
   ],
   "source": [
    "p2 = Person(\"홍길동\", \"남자\")"
   ]
  },
  {
   "cell_type": "code",
   "execution_count": 10,
   "id": "9e9eee36",
   "metadata": {},
   "outputs": [],
   "source": [
    "p3 = p2"
   ]
  },
  {
   "cell_type": "code",
   "execution_count": 29,
   "id": "5aab1a83",
   "metadata": {},
   "outputs": [],
   "source": [
    "class Person:\n",
    "    academy = 'MBC'\n",
    "    # 생성함수는 오버로딩 불가\n",
    "    def __init__(self, name=\"홍길동\", gender=\"남자\"):\n",
    "        self.name = name               # 인스턴스 변수를 초기화\n",
    "        self.gender = gender\n",
    "        print(\"Person형 객체를 생성\")\n",
    "    def print_info(self):\n",
    "        print(\"{}님은 {}입니다\".format(self.name, self.gender))\n",
    "    def __str__(self):                # 오버라이딩(함수의 재정의)\n",
    "        return \"{}님은 {}입니다\".format(self.name, self.gender)"
   ]
  },
  {
   "cell_type": "code",
   "execution_count": 30,
   "id": "dc6983a6",
   "metadata": {},
   "outputs": [
    {
     "name": "stdout",
     "output_type": "stream",
     "text": [
      "Person형 객체를 생성\n",
      "Person형 객체를 생성\n",
      "Person형 객체를 생성\n",
      "Person형 객체를 생성\n",
      "Person형 객체를 생성\n",
      "p1= 김길숙님은 여자입니다\n",
      "p2= 강감찬님은 남자입니다\n",
      "p3= 홍길동님은 남자입니다\n",
      "p4= 홍길동님은 여자입니다\n",
      "p5= 홍이쁨님은 여자입니다\n"
     ]
    }
   ],
   "source": [
    "p1 = Person(name=\"김길숙\", gender=\"여자\")\n",
    "p2 = Person(\"강감찬\")\n",
    "p3 = Person()\n",
    "p4 = Person(gender=\"여자\")\n",
    "p5 = Person(gender=\"여자\", name=\"홍이쁨\")\n",
    "\n",
    "print('p1=', p1)\n",
    "print('p2=', p2)\n",
    "print('p3=', p3)\n",
    "print('p4=', p4)\n",
    "print('p5=', p5)"
   ]
  },
  {
   "cell_type": "markdown",
   "id": "6ee06d48",
   "metadata": {},
   "source": [
    "\n",
    "# 3절 변수와 메소드(함수)\n",
    "\n",
    "- 인스턴스변수 vs 클래스 변수 vs static 변수(정적변수)\n",
    "- 인스턴스메소드(self) Vs 클래스메소드(cls) vs static메소드()"
   ]
  },
  {
   "cell_type": "code",
   "execution_count": 36,
   "id": "b915c46f",
   "metadata": {},
   "outputs": [
    {
     "name": "stdout",
     "output_type": "stream",
     "text": [
      "MBC\n",
      "p1객체변수(인스턴스) = <__main__.Person object at 0x0000029F6B1EBF10>\n",
      "p2객체변수(인스턴스) = <__main__.Person object at 0x0000029F6AA5B280>\n",
      "p1객체변수(인스턴스) = <__main__.Person object at 0x0000029F6B1EBF10>\n",
      "p2객체변수(인스턴스) = <__main__.Person object at 0x0000029F6AA5B280>\n"
     ]
    }
   ],
   "source": [
    "# 클래스 변수는 클래스 내부에서 선언되며, 생성된 모든 인스턴스(객체)에 동일한 값을 가진다.\n",
    "# 인스턴스(객체), 클래스변수로 수정하면 해당 인스턴스(객체)만 반영한다.\n",
    "# 클래스명, 클래스변수로 수정하면 모든 인스턴스(객채)에 반영한다.\n",
    "\n",
    "class Person:\n",
    "    academy = 'MBC'\n",
    "    def __init__(self, name=\"홍길동\", gender=\"남자\"):\n",
    "        self.name = name\n",
    "        self.gender = gender\n",
    "    def print_info(self):\n",
    "        print(\"{}의 {}님은 {}입니다\".format(self.academy, self.name, self.gender))\n",
    "print(Person.academy)\n",
    "p1 = Person()\n",
    "p2 = Person()    \n",
    "print('p1객체변수(인스턴스) =', p1)\n",
    "print('p2객체변수(인스턴스) =', p2)\n",
    "p1.academy\n",
    "print('p1객체변수(인스턴스) =', p1)\n",
    "print('p2객체변수(인스턴스) =', p2)\n"
   ]
  },
  {
   "cell_type": "code",
   "execution_count": 38,
   "id": "84a480d1",
   "metadata": {},
   "outputs": [
    {
     "name": "stdout",
     "output_type": "stream",
     "text": [
      "MBC\n",
      "p1객체변수(인스턴스) = <__main__.Person object at 0x0000029F6A4E23B0>\n",
      "p2객체변수(인스턴스) = <__main__.Person object at 0x0000029F6A26EF80>\n",
      "p1객체변수(인스턴스) = <__main__.Person object at 0x0000029F6A4E23B0>\n",
      "p2객체변수(인스턴스) = <__main__.Person object at 0x0000029F6A26EF80>\n"
     ]
    }
   ],
   "source": [
    "# 객체(Object) : 객체는 클래스의 인스턴스. [Person person1 = new Person();]\n",
    "#     클래스에 정의된 속성(변수)과 동작(메소드)을 가지고 있습니다. \n",
    "#     예를 들어, Person 클래스로부터 생성된 person1 은 Person 클래스의 객체입니다.\n",
    "# 인스턴스(Instance) : 인스턴스는 클래스의 객체가 메모리에 할당되어 실제로 존재하는 상태를 의미합니다. \n",
    "#     예를 들어, person1 이라는 객체가 메모리에 할당되어 생성된 상태를 \n",
    "#     person1 은 Person 클래스의 인스턴스이다 라고 말할 수 있습니다.\n",
    "# 클래스는 객체를 만들기 위한 템플릿(설계도)이며, \n",
    "#    객체는 클래스의 인스턴스입니다. \n",
    "# 객체가 메모리에 할당되어 실제로 존재하는 상태를 나타낼 때 \n",
    "#    인스턴스라는 용어를 사용할 수 있습니다.\n",
    "#    하지만 보통은 객체와 인스턴스라는 용어를 혼용해도 크게 문제되지 않는다는 의견입니다 \n",
    "\n",
    "class Person:\n",
    "    academy = 'MBC'\n",
    "    def __init__(self, name=\"홍길동\", gender=\"남자\"):\n",
    "        self.name = name\n",
    "        self.gender = gender\n",
    "    def print_info(self):\n",
    "        print(\"{}의 {}님은 {}입니다\".format(self.academy, self.name, self.gender))\n",
    "print(Person.academy)\n",
    "p1 = Person()\n",
    "p2 = Person()    \n",
    "print('p1객체변수(인스턴스) =', p1.__str__())\n",
    "print('p2객체변수(인스턴스) =', p2)\n",
    "p1.academy\n",
    "print('p1객체변수(인스턴스) =', p1)\n",
    "print('p2객체변수(인스턴스) =', p2)\n",
    "# print(Person.__str__())\n",
    "\n",
    "# 인스턴스는 객체를 부르는 다른 이름입니다.\n",
    "# 인스턴스는 영어로 \"사례\", \"…을 예로 들다\" 라는 의미이다. \n",
    "# 클래스로 만든 객체의 사례(실제 예)라는 의미를 강조할 때 인스턴스라고 부릅니다.\n",
    "# 또는, 객체가 메모리에 올라가면 이를 강조해서 인스턴스라고 부릅니다. \n",
    "# 참고로, new 연산자를 사용하면 객체가 메모리에 올라갑니다.\n",
    "# 클래스 : 객체 = 사람 : 김연아 라고 하면,\n",
    "# 김연아는 객체이기도 하지만 대한민국에 김연아라는 이름을 가진 사람이 많겠죠? \n",
    "# 그중에서 \"피겨여왕 김연아\"라고 구체적으로 말하면, 객체의 실제 예를 가리키니까 이 때는 인스턴스라고 부를 수 있겠죠.\n"
   ]
  },
  {
   "cell_type": "code",
   "execution_count": null,
   "id": "f7f7f913",
   "metadata": {},
   "outputs": [],
   "source": [
    "※ 인스턴스 메소드 vs 클래스 메소드 vs static 메소드\n",
    "- 인스턴스메소드 : 첫 번째 인자에 self를 꼭 명시, 객체를 통해서만 호출할 수 있는 메소드\n",
    "- 클래스메소드 : 메소드위에 @classmethod를 명시. 첫 번째 인자에 clz(cls)를 명시\n",
    "- static메소드 : 메소드위에 @staticmethod를 명시, 디폴트 인자 없음."
   ]
  },
  {
   "cell_type": "code",
   "execution_count": 48,
   "id": "47321cdf",
   "metadata": {},
   "outputs": [],
   "source": [
    "class Person:\n",
    "    academy = 'MBC'   # 클래스 변수\n",
    "    def __init__(self, name=\"홍길동\", gender=\"남자\"):\n",
    "        self.name = name\n",
    "        self.gender = gender\n",
    "    def print_info(self):\n",
    "        print(\"일반(인스턴스)메소드 - {}의 {}님은 {}입니다\".format(self.academy, self.name, self.gender))\n",
    "    \n",
    "    def change_info(self, name=\"익명\", gender=\"여자\"):\n",
    "        self.name = name\n",
    "        self.gender = gender\n",
    "        print(\"일반(인스턴스)메소드를 통해 {}로 이름변경. {}로 성별 변경\".format(self.name, self.gender))\n",
    "    @classmethod\n",
    "    def do_(clz):# # clz => Person 의미. 클래스 변수를 이용한 로직\n",
    "        clz.academy = 'classAcademy'\n",
    "        print(\"클래스 메소드에서 {}로 클래스 변수 변경\".format(clz.academy))\n",
    "    \n",
    "    @classmethod\n",
    "    def done_(clz, academy):# # clz => Person 의미. 클래스 변수를 이용한 로직\n",
    "        clz.academy = academy\n",
    "        print(\"클래스 메소드에서 {}로 클래스 변수 변경\".format(clz.academy))\n",
    "    @staticmethod\n",
    "    def that_():  # 클래스 변수보다는 로직이 우선일 경우\n",
    "        Person.academy = \"staticAcademy\"\n",
    "        print(\"static 메소드에서 {}로 클래스 변수 변경\".format(Person.academy))"
   ]
  },
  {
   "cell_type": "code",
   "execution_count": 50,
   "id": "75be18c8",
   "metadata": {},
   "outputs": [
    {
     "name": "stdout",
     "output_type": "stream",
     "text": [
      "클래스 메소드에서 classAcademy로 클래스 변수 변경\n",
      "MBC의 홍길동님은 남자입니다\n",
      "MBC의 홍길동님은 남자입니다\n"
     ]
    }
   ],
   "source": [
    "Person.do_()\n",
    "p1.print_info()\n",
    "p1.print_info()"
   ]
  },
  {
   "cell_type": "code",
   "execution_count": 49,
   "id": "05f70acc",
   "metadata": {},
   "outputs": [
    {
     "name": "stdout",
     "output_type": "stream",
     "text": [
      "클래스 메소드에서 SBS로 클래스 변수 변경\n",
      "MBC의 홍길동님은 남자입니다\n",
      "MBC의 홍길동님은 남자입니다\n"
     ]
    }
   ],
   "source": [
    "Person.done_(\"SBS\")\n",
    "p1.print_info()\n",
    "p1.print_info()"
   ]
  },
  {
   "cell_type": "markdown",
   "id": "46a7e871",
   "metadata": {},
   "source": [
    "# 4절 상속과 정의\n",
    "- 클래스 재사용\n",
    "- 상속을 이용하면 부모클래스의 모든 속성을 자식클래스를 물려줄 수 있음\n",
    "\n",
    "'''\n",
    "class 자식클래스명(부모클래스명)\n",
    "        생산자 함수\n",
    "'''"
   ]
  },
  {
   "cell_type": "code",
   "execution_count": 57,
   "id": "9bdc5c21",
   "metadata": {},
   "outputs": [],
   "source": [
    "class Person:\n",
    "    def __init__(self, name, gender):\n",
    "        self.name = name   # 인스턴스 변수를 초기화\n",
    "        self.gender = gender\n",
    "        print(\"Person형 객체를 생성합니다(부모클래스)\")\n",
    "    def print_info(self):\n",
    "        print(self)\n",
    "    def __str__(self): # 오버라이딩(함수의 재정의)\n",
    "        return(\"{}님은 {}입니다\".format(self.name, self.gender))"
   ]
  },
  {
   "cell_type": "code",
   "execution_count": 64,
   "id": "db232db6",
   "metadata": {},
   "outputs": [],
   "source": [
    "class Student(Person):\n",
    "    def __init__(self, name, gender, major):\n",
    "        self.name = name\n",
    "        self.gender = gender\n",
    "        self.major = major\n",
    "    # 재정의(override) : 부모클래스에서 정의한 함수를 자식 클래스에서 다시 정의\n",
    "    def __str__(self):\n",
    "        return \"{}인 {}님의 전공은 {}입니다\".format(self.gender, self.name, self.major)"
   ]
  },
  {
   "cell_type": "code",
   "execution_count": 69,
   "id": "c329db4c",
   "metadata": {},
   "outputs": [
    {
     "name": "stdout",
     "output_type": "stream",
     "text": [
      "Person형 객체를 생성합니다(부모클래스)\n",
      "홍길동님은 남자입니다\n",
      "True\n"
     ]
    }
   ],
   "source": [
    "p1 = Person(\"홍길동\", \"남자\")\n",
    "print(p1)\n",
    "print(isinstance(p1, Person))"
   ]
  },
  {
   "cell_type": "code",
   "execution_count": 70,
   "id": "04aa778f",
   "metadata": {},
   "outputs": [
    {
     "name": "stdout",
     "output_type": "stream",
     "text": [
      "여자인 홍길숙님의 전공은 AI입니다\n"
     ]
    }
   ],
   "source": [
    "s1 = Student(\"홍길숙\",\"여자\",\"AI\")\n",
    "print(s1)"
   ]
  },
  {
   "cell_type": "code",
   "execution_count": 2,
   "id": "5d6d3f16",
   "metadata": {},
   "outputs": [],
   "source": [
    "### super() 이용\n",
    "\n",
    "# ✔️ Python Super 란\n",
    "# Super() 함수는 super class, 상속받은 부모 클래스를 호출하는 함수입니다.\n",
    "# Super 를 설명하기 전 필수 개념인 상속을 잠깐 살펴보고 넘어가보도록 하겠습니다.\n",
    "# 다음과 같이 ParentClass와 ChildClass 두개의 클래스를 만들었을 때, (name, number) argument 가 중복되게 됩니다. "
   ]
  },
  {
   "cell_type": "code",
   "execution_count": 1,
   "id": "a79653fa",
   "metadata": {},
   "outputs": [],
   "source": [
    "class Person:\n",
    "    def __init__(self, name, gender):\n",
    "        self.name = name   # 인스턴스 변수를 초기화\n",
    "        self.gender = gender\n",
    "        print(\"Person형 객체를 생성합니다(부모클래스)\")\n",
    "    def print_info(self):\n",
    "        print(self)\n",
    "    def __str__(self): # 오버라이딩(함수의 재정의)\n",
    "        return(\"{}님은 {}입니다\".format(self.name, self.gender))\n",
    "class Student(Person):\n",
    "    def __init__(self, name, gender, major):\n",
    "        super().__init__(name, gender)\n",
    "        self.major = major\n",
    "        print(\"Person형 객체를 생성합니다(자식클래스)\")\n",
    "    def __str__(self): # 오버라이딩(함수의 재정의)\n",
    "        return (super().__str__() + \"전공은 {}입니다\".format(self.major))"
   ]
  },
  {
   "cell_type": "code",
   "execution_count": 73,
   "id": "f556986c",
   "metadata": {},
   "outputs": [
    {
     "name": "stdout",
     "output_type": "stream",
     "text": [
      "Person형 객체를 생성합니다(부모클래스)\n",
      "Person형 객체를 생성합니다(자식클래스)\n"
     ]
    }
   ],
   "source": [
    "s2 = Student(\"아무개\", \"여자\", \"AI\")"
   ]
  },
  {
   "cell_type": "markdown",
   "id": "7fda55f5",
   "metadata": {},
   "source": [
    "### static 변수(정적변수) : 여러 객체들 사이에 데이터를 공유하고 싶을 때 사용\n",
    "- static 변수 : 앞에 under score2개 (____) 붙임. 클래스명._클래스명__static변수명으로 참조\n",
    "- static변수는 클래스 내부에서만 접근하도록 하려는 용도"
   ]
  },
  {
   "cell_type": "code",
   "execution_count": 4,
   "id": "8aefb8b8",
   "metadata": {},
   "outputs": [],
   "source": [
    "class Student(Person):\n",
    "    'name, gender에 major변수를 갖는 Student 타입.Student객체를 몇번 생성되어 있는지 공유'\n",
    "    __count = 0 # static변수\n",
    "    def __init__(self, name, gender, major):\n",
    "        super().__init__(name, gender)\n",
    "        self.major = major\n",
    "        Student._Student__count += 1\n",
    "    def __del__(self):\n",
    "        Student._Student__count -= 1\n",
    "    def __str__(self):\n",
    "        return super().__str__() + '전공은 {} - 객체 {} 생성'.format(self.major, Student._Student__count)\n",
    "     \n",
    "    @classmethod\n",
    "    def get_count(cls): # 클래스변수나 static변수를 이용하는 로직\n",
    "        return cls.__count\n",
    "        #return Student.__STudent__count"
   ]
  },
  {
   "cell_type": "code",
   "execution_count": 5,
   "id": "f4ea5ef4",
   "metadata": {
    "scrolled": true
   },
   "outputs": [
    {
     "name": "stdout",
     "output_type": "stream",
     "text": [
      "Person형 객체를 생성합니다(부모클래스)\n",
      "홍길동님은 남자입니다전공은 컴공 - 객체 1 생성\n",
      "객체 갯수 : 1\n",
      "객체 갯수 : 1\n"
     ]
    }
   ],
   "source": [
    "s1 = Student(\"홍길동\",\"남자\", \"컴공\")\n",
    "print(s1)\n",
    "print(\"객체 갯수 :\", Student.get_count())\n",
    "print(\"객체 갯수 :\", s1.get_count())"
   ]
  },
  {
   "cell_type": "code",
   "execution_count": 6,
   "id": "df561910",
   "metadata": {},
   "outputs": [
    {
     "name": "stdout",
     "output_type": "stream",
     "text": [
      "Person형 객체를 생성합니다(부모클래스)\n",
      "홍길동님은 남자입니다전공은 컴공 - 객체 2 생성\n",
      "객체 갯수 : 2\n"
     ]
    }
   ],
   "source": [
    "s2 = Student(\"홍길동\",\"남자\", \"컴공\")\n",
    "print(s2)\n",
    "print(\"객체 갯수 :\", Student.get_count())"
   ]
  },
  {
   "cell_type": "code",
   "execution_count": 7,
   "id": "ecaad6cf",
   "metadata": {},
   "outputs": [],
   "source": [
    "del s1"
   ]
  },
  {
   "cell_type": "code",
   "execution_count": 8,
   "id": "db4df715",
   "metadata": {},
   "outputs": [
    {
     "name": "stdout",
     "output_type": "stream",
     "text": [
      "객체 갯수 : 1\n"
     ]
    }
   ],
   "source": [
    "print(\"객체 갯수 :\", Student.get_count())"
   ]
  },
  {
   "cell_type": "code",
   "execution_count": 9,
   "id": "77b2db4b",
   "metadata": {},
   "outputs": [
    {
     "name": "stdout",
     "output_type": "stream",
     "text": [
      "객체 갯수 : 0\n"
     ]
    }
   ],
   "source": [
    "del s2\n",
    "print(\"객체 갯수 :\", Student.get_count())"
   ]
  },
  {
   "cell_type": "markdown",
   "id": "5c7644ef",
   "metadata": {},
   "source": [
    "# 5절 연습문제"
   ]
  },
  {
   "cell_type": "markdown",
   "id": "ed27c2b2",
   "metadata": {},
   "source": [
    "## 실습형"
   ]
  },
  {
   "cell_type": "code",
   "execution_count": null,
   "id": "b1cd0d67",
   "metadata": {},
   "outputs": [],
   "source": [
    "1. 다음 조건을 만족하는 클래스를 작성하세요\n",
    "- 도형 ( 클래스와 삼각형 (Triangle) 클래스를 만들어야 합니다\n",
    "- 도형 ( 클래스\n",
    "• 생성자를 통해 x, y 좌표를 초기화할 수 있습니다 . x, y 좌표의 기본값은 0, 0 입니다\n",
    "• x, y 좌표를 이동시킬 수 있는 move 함수가 있습니다\n",
    "• x, y 좌표값 정보를 문자열로 리턴하는 str __ 함수가 있습니다\n",
    "• 도형의 면적을 구하는 함수 calc_area 가 있습니다 . 다만 도형 클래스의 calc_area 는\n",
    "구현되어 있지 않아 호출하면 오류가 발생합니다 파이썬은 추상메소드가 없음 추상메소\n",
    "드 역할을 구현\n",
    "• 정적메소드 staticmethod 를 하나 이상 구현합니다\n",
    "- 삼각형 ( 클래스는 도형 ( 클래스이다 관계가 성립해야 합니다\n",
    "- 생성자를 통해 , width, height, x, y 좌표를 초기화하고 x, y 좌표의 기본값은 0, 0 입니다\n",
    "- 삼각형의 면적을 구하는 메소드 calc_area 를 재정의합니다\n",
    "- 삼각형의 정보를 문자열로 반환하는 str __() 함수가 있습니다\n",
    "- 삼각형 객체가 몇 개가 만들어져 있는지 정보를 저장하는 클래스 변수를 추가하고 생성자\n",
    "에서 객체를 만들 때마다 증가시키고 소멸자에서 객체를 소멸시킬 때마다 감소합니다"
   ]
  },
  {
   "cell_type": "code",
   "execution_count": 13,
   "id": "01f5a203",
   "metadata": {},
   "outputs": [
    {
     "name": "stdout",
     "output_type": "stream",
     "text": [
      "이 클래스는 도형(Shape)의 기본 클래스로 좌표와 면적 관련 기능을 제공합니다.\n",
      "Shape 객체가 생성되었습니다.\n",
      "Triangle 객체가 생성되었습니다.\n",
      "삼각형: 밑변=10, 높이=5, 좌표=(0, 0)\n",
      "면적: 25.0\n",
      "Shape 객체가 생성되었습니다.\n",
      "Triangle 객체가 생성되었습니다.\n",
      "삼각형: 밑변=6, 높이=8, 좌표=(2, 3)\n",
      "면적: 24.0\n",
      "현재 삼각형 객체 개수: 2\n",
      "Triangle 객체가 소멸되었습니다.\n",
      "현재 삼각형 객체 개수: 1\n"
     ]
    }
   ],
   "source": [
    "# 객체지향 개념(상속, 오버라이딩, 클래스 변수, 정적 메소드)을 연습할 수 있게 되어 있네요.\n",
    "# 조건에 맞는 파이썬 코드를 작성해 드릴게요.\n",
    "\n",
    "class Shape:\n",
    "    def __init__(self, x=0, y=0):\n",
    "        self.x = x\n",
    "        self.y = y\n",
    "        print(\"Shape 객체가 생성되었습니다.\")\n",
    "\n",
    "    def move(self, dx, dy):\n",
    "        \"\"\"좌표 이동\"\"\"\n",
    "        self.x += dx\n",
    "        self.y += dy\n",
    "\n",
    "    def __str__(self):\n",
    "        \"\"\"좌표값 문자열 반환\"\"\"\n",
    "        return f\"좌표: ({self.x}, {self.y})\"\n",
    "\n",
    "    def calc_area(self):\n",
    "        \"\"\"도형의 면적: 자식 클래스에서 반드시 구현해야 함\"\"\"\n",
    "        raise NotImplementedError(\"calc_area()는 하위 클래스에서 구현해야 합니다.\")\n",
    "\n",
    "    @staticmethod\n",
    "    def description():\n",
    "        return \"이 클래스는 도형(Shape)의 기본 클래스로 좌표와 면적 관련 기능을 제공합니다.\"\n",
    "\n",
    "\n",
    "class Triangle(Shape):\n",
    "    # 클래스 변수 (생성된 객체의 개수 저장)\n",
    "    count = 0\n",
    "\n",
    "    def __init__(self, width, height, x=0, y=0):\n",
    "        super().__init__(x, y)  # 부모 클래스 초기화\n",
    "        self.width = width\n",
    "        self.height = height\n",
    "        Triangle.count += 1\n",
    "        print(\"Triangle 객체가 생성되었습니다.\")\n",
    "\n",
    "    def __del__(self):\n",
    "        Triangle.count -= 1\n",
    "        print(\"Triangle 객체가 소멸되었습니다.\")\n",
    "\n",
    "    def calc_area(self):\n",
    "        \"\"\"삼각형 면적 계산\"\"\"\n",
    "        return (self.width * self.height) / 2\n",
    "\n",
    "    def __str__(self):\n",
    "        return f\"삼각형: 밑변={self.width}, 높이={self.height}, 좌표=({self.x}, {self.y})\"\n",
    "\n",
    "\n",
    "# 실행 예시\n",
    "if __name__ == \"__main__\":\n",
    "    print(Shape.description())   # 정적 메소드 호출\n",
    "\n",
    "    t1 = Triangle(10, 5)\n",
    "    print(t1)\n",
    "    print(\"면적:\", t1.calc_area())\n",
    "\n",
    "    t2 = Triangle(6, 8, 2, 3)\n",
    "    print(t2)\n",
    "    print(\"면적:\", t2.calc_area())\n",
    "\n",
    "    print(\"현재 삼각형 객체 개수:\", Triangle.count)\n",
    "\n",
    "    del t1\n",
    "    print(\"현재 삼각형 객체 개수:\", Triangle.count)\n",
    "\n",
    "    \n",
    "# ✅ 코드 설명\n",
    "\n",
    "# Shape 클래스\n",
    "# __init__: x, y 좌표 초기화\n",
    "# move: 좌표 이동\n",
    "# __str__: 좌표값 문자열 반환\n",
    "# calc_area: 추상 메소드처럼 동작 (NotImplementedError 발생)\n",
    "# description: 정적 메소드 예시\n",
    "# Triangle 클래스\n",
    "# Shape를 상속\n",
    "# width, height, x, y 초기화\n",
    "# calc_area: 면적 공식 재정의\n",
    "# __str__: 삼각형 정보 문자열\n",
    "# count: 클래스 변수, 객체 개수를 관리\n",
    "# __del__: 객체 소멸 시 count 감소"
   ]
  },
  {
   "cell_type": "code",
   "execution_count": 17,
   "id": "2c7ae812",
   "metadata": {},
   "outputs": [],
   "source": [
    "class Shape:\n",
    "    def __init__(s):\n",
    "        pass\n",
    "    def move(sel):\n",
    "        pass\n",
    "    def cal_area(self):\n",
    "        raise Exception(\"예외메세지\")\n",
    "    def __str__(self):\n",
    "        pass\n",
    "\n",
    "    @staticmethod\n",
    "    def staticmethod():\n",
    "        print('도형 클래스의 staticmethod 호출')"
   ]
  },
  {
   "cell_type": "markdown",
   "id": "4f6e306e",
   "metadata": {},
   "source": [
    "## 서술형과 객관식"
   ]
  },
  {
   "cell_type": "code",
   "execution_count": null,
   "id": "75f32cf6",
   "metadata": {},
   "outputs": [],
   "source": [
    "1. 다음 중 올바른 클래스 정의는?\n",
    "(1) class Person:\n",
    "(2) class Person:\n",
    "(3) p1 = Person()\n",
    "(4) def Person:"
   ]
  },
  {
   "cell_type": "code",
   "execution_count": null,
   "id": "e60d91a8",
   "metadata": {},
   "outputs": [],
   "source": []
  },
  {
   "cell_type": "code",
   "execution_count": null,
   "id": "03bf0559",
   "metadata": {},
   "outputs": [],
   "source": [
    "2. 다음 중 person클래스의 객체를 생성하는 올바른 방법 정의는?\n",
    "(1) class Person:\n",
    "(2) class Person:\n",
    "(3) p1 = Person()\n",
    "(4) def Person:"
   ]
  },
  {
   "cell_type": "code",
   "execution_count": null,
   "id": "36e7ca4e",
   "metadata": {},
   "outputs": [],
   "source": [
    "\n",
    "# 보기 분석\n",
    "# (1) class Person: ✅ 올바른 클래스 정의 (뒤에 본문이 있어야 완성됨. 예: class Person: pass)\n",
    "# (2) class Person: ❌ 동일하게 보이지만 아마 문제에서 의도한 건 : 다음에 본문이 없으면 문법 오류라는 점일 수 있어요.\n",
    "# 즉, class Person:만 쓰고 아무 내용도 없으면 오류 발생 → pass 같은 문장이 필요\n",
    "# (3) p1 = Person() ❌ 클래스 정의가 아니라 인스턴스 생성 구문\n",
    "# (4) def Person: ❌ def는 함수를 정의할 때 쓰는 키워드, 클래스 정의에는 사용 불가\n",
    "\n",
    "# ✅ 정답\n",
    "# (1) class Person: (단, pass 같은 문장이 뒤에 있어야 정상 실행됨)"
   ]
  },
  {
   "cell_type": "code",
   "execution_count": null,
   "id": "3cfdc4ec",
   "metadata": {},
   "outputs": [],
   "source": [
    "3. 다음 중 인스턴스 메소드를 선언하는 가장 올바른 방법은\n",
    "(1) def print_info():\n",
    "(2) @instanceemthod d\n",
    "    ef print_info()  \n",
    "(3) @method\n",
    "    def print_info():\n",
    "(4) def print_info(self):\n"
   ]
  },
  {
   "cell_type": "code",
   "execution_count": null,
   "id": "c5e68e15",
   "metadata": {},
   "outputs": [],
   "source": [
    "# 정답은 👉 (4) def print_info(self): 입니다.\n",
    "\n",
    "# 🔎 해설\n",
    "\n",
    "# 파이썬에서 인스턴스 메소드(instance method) 는 객체(인스턴스)를 통해 호출되는 메소드이며, 반드시 첫 번째 매개변수로 self 를 받아야 합니다.\n",
    "\n",
    "# self 는 호출한 객체 자신을 참조합니다.\n",
    "\n",
    "# 📌 보기 설명:\n",
    "\n",
    "# def print_info():\n",
    "# → self가 없으므로 인스턴스 메소드로는 잘못됨.\n",
    "\n",
    "# @instanceemthod\n",
    "# → 파이썬에는 @instancemethod 데코레이터가 없음. 오타/잘못된 개념.\n",
    "\n",
    "# @method\n",
    "# → 존재하지 않는 데코레이터. 잘못된 문법.\n",
    "\n",
    "# def print_info(self):\n",
    "# → 올바른 인스턴스 메소드 선언 방법 ✅"
   ]
  },
  {
   "cell_type": "code",
   "execution_count": null,
   "id": "cc21e4f5",
   "metadata": {},
   "outputs": [],
   "source": [
    "4. 다음 중 생성자와 소멸자에 대해 잘못 설명한 것은?\n",
    "(1) 생성자는 중복(Overloading) 정의해서 사용할 수 있다.\n",
    "(2) 소멸자는 객체참조수가 0이 되면 실행된다.\n",
    "(3) 생성자의 원형은 int(self)이다.\n",
    "(4) 생성자는 객체의 변수(또는 속성)를 초기화한느데 사용한다."
   ]
  },
  {
   "cell_type": "code",
   "execution_count": null,
   "id": "cc512fd1",
   "metadata": {},
   "outputs": [],
   "source": [
    "정답은 👉 (3) 생성자의 원형은 int(self)이다. 입니다.\n",
    "\n",
    "🔎 해설\n",
    "\n",
    "생성자는 중복(Overloading) 정의해서 사용할 수 있다.\n",
    "→ 파이썬에서는 자바/C++처럼 메소드 오버로딩을 지원하지 않지만,\n",
    "매개변수에 기본값을 주거나 *args, **kwargs를 사용해서 비슷한 효과를 낼 수 있습니다.\n",
    "따라서 “어느 정도는 가능하다”라고 볼 수 있어 크게 틀린 설명은 아님.\n",
    "\n",
    "소멸자는 객체 참조 수가 0이 되면 실행된다.\n",
    "→ 맞습니다. 파이썬에서는 참조 카운트(reference count)가 0이 되면 가비지 컬렉터가 객체를 회수하면서 __del__()이 호출됩니다.\n",
    "\n",
    "생성자의 원형은 int(self)이다.\n",
    "→ ❌ 잘못된 설명입니다. 생성자의 원형은 __init__(self, ...)이며, int(self)는 전혀 맞지 않습니다.\n",
    "\n",
    "생성자는 객체의 변수(또는 속성)를 초기화하는데 사용한다.\n",
    "→ 맞습니다. __init__은 인스턴스 생성 후 속성 초기화에 사용됩니다.\n",
    "\n",
    "✅ 따라서 잘못된 설명은 (3) 입니다."
   ]
  },
  {
   "cell_type": "code",
   "execution_count": null,
   "id": "fa3dbcb1",
   "metadata": {},
   "outputs": [],
   "source": [
    "5. 다음 중 \"Student is a Person\"을 클래식 상속으로 바르게 표현한 것은?\n",
    "(1) class Person(Student):\n",
    "(2) class Student(Person):\n",
    "(3) class Personis Student:\n",
    "(4) class Student: Person:"
   ]
  },
  {
   "cell_type": "code",
   "execution_count": null,
   "id": "d17e28cd",
   "metadata": {},
   "outputs": [],
   "source": [
    "# 정답 : (1) class Person: (단, pass 같은 문장이 뒤에 있어야 정상 실행됨)\n",
    "\n",
    "# 보기 분석\n",
    "# (1) class Person: ✅ 올바른 클래스 정의 (뒤에 본문이 있어야 완성됨. 예: class Person: pass)\n",
    "# (2) class Person: ❌ 동일하게 보이지만 아마 문제에서 의도한 건 : 다음에 본문이 없으면 문법 오류라는 점일 수 있어요.\n",
    "# 즉, class Person:만 쓰고 아무 내용도 없으면 오류 발생 → pass 같은 문장이 필요\n",
    "# (3) p1 = Person() ❌ 클래스 정의가 아니라 인스턴스 생성 구문\n",
    "# (4) def Person: ❌ def는 함수를 정의할 때 쓰는 키워드, 클래스 정의에는 사용 불가\n"
   ]
  },
  {
   "cell_type": "code",
   "execution_count": null,
   "id": "82e5d263",
   "metadata": {},
   "outputs": [],
   "source": [
    "6. 다음 중 상속과 재정의(Overriding)에 대해 잘못설명한 것은?\n",
    "(1) 부모클래스의 메소드를 자식크래스에서 정의하는 것을 '재정의'라고 한다.\n",
    "(2) 메소드의 재정의는 상속을 전제로 한다.\n",
    "(3) 재정의는 메소드의 이름은 같고, 매개변수의 수는 다르게 정의해야 한다.\n",
    "(4) super()를 이용하면 부모의 멤버를 호출할 수 있다."
   ]
  },
  {
   "cell_type": "code",
   "execution_count": null,
   "id": "e614cb17",
   "metadata": {},
   "outputs": [],
   "source": []
  },
  {
   "cell_type": "code",
   "execution_count": 12,
   "id": "83048c65",
   "metadata": {},
   "outputs": [],
   "source": [
    "# 7. 다음 클래스의 메소를 호출하는 방법 중 잘못된 것은?\n",
    "\n",
    "class SomeClass:\n",
    "    def method_a(self):\n",
    "        print(\"method_a\")\n",
    "    @classmethod\n",
    "    def method_b(cls):\n",
    "        print(\"method_b\")\n",
    "\n",
    "obj = SomeClass()\n",
    "        \n",
    "# (1) obj.method_a()\n",
    "# (2) obj.mehtod_b()\n",
    "# (3) SomeClass.method_a()\n",
    "# (4) SomeClass.method_b()"
   ]
  },
  {
   "cell_type": "code",
   "execution_count": null,
   "id": "5938c3c5",
   "metadata": {},
   "outputs": [],
   "source": [
    "# 정답 (3) 재정의는 메소드의 이름은 같고, 매개변수의 수는 다르게 정의해야 한다.\n",
    "\n",
    "# 보기 분석\n",
    "# (1) 부모클래스의 메소드를 자식클래스에서 정의하는 것을 '재정의'라고 한다. ✅ 맞는 설명 → 이것이 바로 메소드 오버라이딩\n",
    "# (2) 메소드의 재정의는 상속을 전제로 한다.✅ 맞음 → 상속받지 않은 클래스에서는 재정의 자체가 성립하지 않음\n",
    "# (3) 재정의는 메소드의 이름은 같고, 매개변수의 수는 다르게 정의해야 한다.❌ 잘못된 설명 → **오버로딩(overloading)**에 대한 설명임\n",
    "# 오버라이딩은 메소드 이름, 매개변수, 반환형까지 완전히 동일해야 함 (단, 자식 쪽에서 동작을 새로 정의)\n",
    "# (4) super()를 이용하면 부모의 멤버를 호출할 수 있다. ✅ 맞음 → 부모 클래스의 생성자나 메소드 등을 호출할 때 사용"
   ]
  },
  {
   "cell_type": "code",
   "execution_count": null,
   "id": "62d3d825",
   "metadata": {},
   "outputs": [],
   "source": [
    "8. 두 클래스와 코드의 실행결과 다음과 같이 출력되도록 해야 한다면 빈 칸에 넣을 수 없다. \n",
    "\n",
    "class Super:\n",
    "    def do_(self, a): prin\n",
    "        t(\"super.do_\")\n",
    "\n",
    "class Sub(Super):\n",
    "    def do_(self, a):\n",
    "        _____________________\n",
    "        print(\"sub.do\")\n",
    "s1 = Sub()\n",
    "s1.do_( 10)\n",
    "\n",
    "\n",
    "(1) Super.do_(self, a)\n",
    "(2) super().do_(a)\n",
    "(3) super.do_(a)"
   ]
  },
  {
   "cell_type": "code",
   "execution_count": null,
   "id": "78d60fa2",
   "metadata": {},
   "outputs": [],
   "source": [
    "# ✅ 정답 (3) super.do_(a)\n",
    "\n",
    "# 코드 분석\n",
    "\n",
    "class Super:\n",
    "    def do_(self, a):\n",
    "        print(\"super.do_\")\n",
    "\n",
    "class Sub(Super):\n",
    "    def do_(self, a):\n",
    "        _____________________   # 여기서 부모 메소드 호출\n",
    "        print(\"sub.do\")\n",
    "\n",
    "s1 = Sub()\n",
    "s1.do_(10)\n",
    "\n",
    "\n",
    "# 👉 기대 결과:\n",
    "\n",
    "# super.do_\n",
    "# sub.do\n",
    "\n",
    "# 보기별 확인\n",
    "\n",
    "# (1) Super.do_(self, a)\n",
    "# 부모 클래스의 메소드를 직접 호출할 때 self를 명시적으로 넘겨야 함.\n",
    "\n",
    "# 정상 동작 → 출력:\n",
    "# super.do_\n",
    "# sub.do\n",
    "\n",
    "# (2) super().do_(a)\n",
    "# super()를 이용해 부모 클래스의 메소드 호출.\n",
    "# self는 자동으로 전달됨.\n",
    "\n",
    "# 정상 동작 → 출력\n",
    "# super.do_\n",
    "# sub.do\n",
    "\n",
    "# (3) super.do_(a) ❌ 잘못됨 → super는 클래스가 아니라 내장 함수이므로 이렇게 직접 접근 불가.\n",
    "# 실행 시 AttributeError: 'builtin_function_or_method' object has no attribute 'do_' 발생.\n"
   ]
  },
  {
   "cell_type": "code",
   "execution_count": null,
   "id": "4e5bc518",
   "metadata": {},
   "outputs": [],
   "source": [
    "9. 다음 중 파이썬의 특별한 용도로 정의되어 있는 속성과 메소드에 대한 설명 중 잘못된 것은?\n",
    "(1) __dict__   속성을 이용하면 클래스의 멤버를 확인할 수 있다.\n",
    "(2) __str__()  메소드는 print()함수의 인자로 객체를 전달할 때 호출되는 메소드이다. 이 메소드는 매개변수를 가질 수 없다.\n",
    "(3) __doc__    속성은 독스트링을 갖는다.\n",
    "(4) __init__() 메소드는 생성자를 정의할 때 사용한다."
   ]
  },
  {
   "cell_type": "code",
   "execution_count": null,
   "id": "3267c1dd",
   "metadata": {},
   "outputs": [],
   "source": [
    "# 정답은 👉 (2) __str__() 메소드는 매개변수를 가질 수 없다. 가 잘못된 설명입니다.\n",
    "\n",
    "# __dict__ 속성\n",
    "# 객체 또는 클래스의 네임스페이스(멤버 변수, 메소드 등)를 딕셔너리 형태로 보여줍니다.\n",
    "\n",
    "# ✅ 올바른 설명.\n",
    "\n",
    "# __str__() 메소드\n",
    "# print(obj)나 str(obj) 호출 시 자동 실행되는 메소드입니다.\n",
    "\n",
    "# 원형은 def __str__(self): 이며, self 매개변수를 반드시 가집니다.\n",
    "\n",
    "# 설명에 “매개변수를 가질 수 없다”라고 되어 있는데, self를 가져야 하므로 ❌ 잘못된 설명입니다.\n",
    "\n",
    "# __doc__ 속성\n",
    "# 클래스, 함수, 모듈의 docstring을 담고 있습니다.\n",
    "\n",
    "# ✅ 올바른 설명.\n",
    "\n",
    "# __init__() 메소드\n",
    "# 인스턴스 생성 시 자동 호출되는 생성자 역할의 메소드입니다.\n",
    "\n",
    "# ✅ 올바른 설명.\n"
   ]
  }
 ],
 "metadata": {
  "kernelspec": {
   "display_name": "Python 3 (ipykernel)",
   "language": "python",
   "name": "python3"
  },
  "language_info": {
   "codemirror_mode": {
    "name": "ipython",
    "version": 3
   },
   "file_extension": ".py",
   "mimetype": "text/x-python",
   "name": "python",
   "nbconvert_exporter": "python",
   "pygments_lexer": "ipython3",
   "version": "3.10.9"
  },
  "toc": {
   "base_numbering": 1,
   "nav_menu": {},
   "number_sections": false,
   "sideBar": true,
   "skip_h1_title": false,
   "title_cell": "Table of Contents",
   "title_sidebar": "Contents",
   "toc_cell": false,
   "toc_position": {
    "height": "calc(100% - 180px)",
    "left": "10px",
    "top": "150px",
    "width": "203.267px"
   },
   "toc_section_display": true,
   "toc_window_display": true
  }
 },
 "nbformat": 4,
 "nbformat_minor": 5
}
