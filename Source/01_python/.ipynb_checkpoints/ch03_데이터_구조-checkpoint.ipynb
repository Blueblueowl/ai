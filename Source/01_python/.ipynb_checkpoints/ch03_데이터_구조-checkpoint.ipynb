{
 "cells": [
  {
   "cell_type": "code",
   "execution_count": 1,
   "id": "504b587c",
   "metadata": {},
   "outputs": [
    {
     "data": {
      "text/html": [
       "\n",
       "<style>\n",
       "div.container{width:90% !important;}\n",
       "div.cell.code_cell.rendered{width:100%;}\n",
       "div.input_prompt{padding:0px;}\n",
       "div.CodeMirror {font-family:Consolas; font-size:12pt;}\n",
       "div.text_cell_render.rendered_html{font-size:12pt;}\n",
       "div.output {font-size:12pt; font-weight:bold;}\n",
       "div.input {font-family:Consolas; font-size:12pt;}\n",
       "div.prompt {min-width:70px;}\n",
       "div#toc-wrapper{padding-top:120px;}\n",
       "div.text_cell_render ul li{font-size:12pt;padding:5px;}\n",
       "table.dataframe{font-size:12px;}\n",
       "</style>\n"
      ],
      "text/plain": [
       "<IPython.core.display.HTML object>"
      ]
     },
     "metadata": {},
     "output_type": "display_data"
    }
   ],
   "source": [
    "from IPython.display import display, HTML\n",
    "display(HTML(\"\"\"\n",
    "<style>\n",
    "div.container{width:90% !important;}\n",
    "div.cell.code_cell.rendered{width:100%;}\n",
    "div.input_prompt{padding:0px;}\n",
    "div.CodeMirror {font-family:Consolas; font-size:22pt;}\n",
    "div.text_cell_render.rendered_html{font-size:12pt;}\n",
    "div.output {font-size:12pt; font-weight:bold;}\n",
    "div.input {font-family:Consolas; font-size:12pt;}\n",
    "div.prompt {min-width:70px;}\n",
    "div#toc-wrapper{padding-top:120px;}\n",
    "div.text_cell_render ul li{font-size:12pt;padding:5px;}\n",
    "table.dataframe{font-size:12px;}\n",
    "</style>\n",
    "\"\"\"))"
   ]
  },
  {
   "cell_type": "markdown",
   "id": "c3f78d0d",
   "metadata": {},
   "source": [
    "\n",
    "<b><font size=\"7\" color=\"red\">ch03.데이터 구조</font></b>\n",
    "- 리스트[1,2], 튜플(1,2), 딕셔너리{\"name\":\"홍\",\"score\":99}, 셋{10,20}\n",
    "\n",
    "===\n",
    "- 튜플\n",
    "===\n",
    "-- 튜플은 속도가 빨라 수정이 필요 없는 배열 형태의 데이터 타입\n",
    "-- 튜플은 데이터를 수정할 수 없기 때문에 제공하는 함수가 많지 않음\n",
    "-- 그래서 튜플은 append 혹은 sort 등을 당연히 사용할 수 없다. \n",
    "\n",
    "\n"
   ]
  },
  {
   "cell_type": "markdown",
   "id": "251d972a",
   "metadata": {},
   "source": [
    "# 1. 리스트"
   ]
  },
  {
   "cell_type": "markdown",
   "id": "8da5ef6f",
   "metadata": {},
   "source": [
    "## 1.1. 리스트 만들기\n",
    "- 리스트는 []를 이용해서 만든다. 여러개 값(여러 타입)을 하나의 변수에 저장/관리할 수 있음\n",
    "- 그리고 리스트는 list()함수 이용도 가능\n",
    "- 인덱스 : 각 요소의 위치, 인덱스는 0부터 시작, 맨마지막 인덱스는 -1\n",
    "- 슬라이싱([from:to:step]) : 부분 데이터셋 추출\n",
    "- 인덱스와 슬라이싱을 이용해서 쓰기와 읽기 지원"
   ]
  },
  {
   "cell_type": "code",
   "execution_count": 2,
   "id": "1fee821a",
   "metadata": {},
   "outputs": [
    {
     "data": {
      "text/plain": [
       "['apple', 'apple', 'orange', 'grape']"
      ]
     },
     "execution_count": 2,
     "metadata": {},
     "output_type": "execute_result"
    }
   ],
   "source": [
    "fruit = 'banana'\n",
    "fruits = ['banana','apple','orange','grape']\n",
    "fruits[0] = 'apple'\n",
    "fruits"
   ]
  },
  {
   "cell_type": "code",
   "execution_count": 3,
   "id": "ab2b04a3",
   "metadata": {},
   "outputs": [
    {
     "name": "stdout",
     "output_type": "stream",
     "text": [
      "['apple', 'apple', 'orange', 'grape']\n",
      "grape\n"
     ]
    }
   ],
   "source": [
    "print(fruits)\n",
    "print(fruits[3])"
   ]
  },
  {
   "cell_type": "code",
   "execution_count": 4,
   "id": "cb2a7424",
   "metadata": {},
   "outputs": [
    {
     "name": "stdout",
     "output_type": "stream",
     "text": [
      "['mango', 'apple', 'orange', 'grape']\n"
     ]
    }
   ],
   "source": [
    "fruits[0] = 'mango' # 인덱싱을 이용한 쓰기\n",
    "print(fruits)"
   ]
  },
  {
   "cell_type": "code",
   "execution_count": 6,
   "id": "a2985a7c",
   "metadata": {},
   "outputs": [
    {
     "name": "stdout",
     "output_type": "stream",
     "text": [
      "x=mango\n",
      "y=apple\n",
      "y=orange\n"
     ]
    }
   ],
   "source": [
    "fruits = ['mango', 'apple', 'orange']\n",
    "x, y, z = ['mango', 'apple', 'orange']\n",
    "print(\"x={}\".format(x))\n",
    "print(f\"y={y}\")\n",
    "print(f\"y={z}\")"
   ]
  },
  {
   "cell_type": "code",
   "execution_count": null,
   "id": "1fd85bac",
   "metadata": {},
   "outputs": [],
   "source": [
    "# range(from, to, by) : from부터 to 앞까지 by씩 증가하는 나열 가능한 자료\n",
    "# 숫자를 순차적으로 사용할 수 있게\n",
    "# from 생략시 0, by 생략시 1\n",
    "range(10 # [0,1,2,3,4,5,6,7,8,9])"
   ]
  },
  {
   "cell_type": "code",
   "execution_count": 8,
   "id": "b3f0175b",
   "metadata": {},
   "outputs": [
    {
     "data": {
      "text/plain": [
       "[0, 1, 2, 3, 4, 5, 6, 7, 8, 9]"
      ]
     },
     "execution_count": 8,
     "metadata": {},
     "output_type": "execute_result"
    }
   ],
   "source": [
    "list(range(0, 10))"
   ]
  },
  {
   "cell_type": "code",
   "execution_count": 9,
   "id": "6ba90df5",
   "metadata": {},
   "outputs": [
    {
     "data": {
      "text/plain": [
       "[10, 8, 6, 4, 2, 0]"
      ]
     },
     "execution_count": 9,
     "metadata": {},
     "output_type": "execute_result"
    }
   ],
   "source": [
    "list(range(10, -1, -2))"
   ]
  },
  {
   "cell_type": "code",
   "execution_count": 11,
   "id": "5812696c",
   "metadata": {},
   "outputs": [
    {
     "name": "stdout",
     "output_type": "stream",
     "text": [
      "0\n",
      "1\n",
      "2\n",
      "3\n",
      "4\n",
      "5\n",
      "6\n",
      "7\n",
      "8\n",
      "9\n"
     ]
    }
   ],
   "source": [
    "for i in [0,1,2]:\n",
    "    print(i)"
   ]
  },
  {
   "cell_type": "code",
   "execution_count": 16,
   "id": "0d662671",
   "metadata": {
    "scrolled": true
   },
   "outputs": [
    {
     "name": "stdout",
     "output_type": "stream",
     "text": [
      "0\n",
      "1\n",
      "2\n",
      "3\n",
      "4\n",
      "5\n",
      "6\n",
      "7\n",
      "8\n",
      "9\n"
     ]
    }
   ],
   "source": [
    "for i in range(0,10,1):\n",
    "    print(i)"
   ]
  },
  {
   "cell_type": "code",
   "execution_count": 17,
   "id": "24a2f363",
   "metadata": {},
   "outputs": [
    {
     "name": "stdout",
     "output_type": "stream",
     "text": [
      "0번째 과일은 mango\n",
      "1번째 과일은 apple\n",
      "2번째 과일은 orange\n"
     ]
    }
   ],
   "source": [
    "fruits = ['mango', 'apple', 'orange']\n",
    "print(\"0번째 과일은 \" + fruits[0])\n",
    "print(\"1번째 과일은 \" + fruits[1])\n",
    "print(\"2번째 과일은 \" + fruits[2])"
   ]
  },
  {
   "cell_type": "code",
   "execution_count": 18,
   "id": "3ecd837d",
   "metadata": {},
   "outputs": [
    {
     "name": "stdout",
     "output_type": "stream",
     "text": [
      "0번째 과일은 mango\n",
      "1번째 과일은 apple\n",
      "2번째 과일은 orange\n"
     ]
    }
   ],
   "source": [
    "fruits = ['mango', 'apple', 'orange']\n",
    "print(\"{}번째 과일은 {}\".format(0, fruits[0]))\n",
    "print(\"{}번째 과일은 {}\".format(1, fruits[1]))\n",
    "print(\"{}번째 과일은 {}\".format(2, fruits[2]))"
   ]
  },
  {
   "cell_type": "code",
   "execution_count": 19,
   "id": "49990151",
   "metadata": {},
   "outputs": [
    {
     "name": "stdout",
     "output_type": "stream",
     "text": [
      "0번째 과일은 mango\n",
      "1번째 과일은 apple\n",
      "2번째 과일은 orange\n"
     ]
    }
   ],
   "source": [
    "fruits = ['mango', 'apple', 'orange']\n",
    "for idx in range(3):\n",
    "    print(\"{}번째 과일은 {}\".format(idx, fruits[idx]))\n",
    "# print(\"{}번째 과일은 {}\".format(0, fruits[0]))\n",
    "# print(\"{}번째 과일은 {}\".format(1, fruits[1]))\n",
    "# print(\"{}번째 과일은 {}\".format(2, fruits[2]))"
   ]
  },
  {
   "cell_type": "code",
   "execution_count": 21,
   "id": "85d81829",
   "metadata": {},
   "outputs": [
    {
     "name": "stdout",
     "output_type": "stream",
     "text": [
      "0번째 과일은 mango\n",
      "1번째 과일은 apple\n",
      "2번째 과일은 orange\n"
     ]
    }
   ],
   "source": [
    "fruits = ['mango', 'apple', 'orange']\n",
    "for idx in range(len(fruits)):\n",
    "    print(\"{}번째 과일은 {}\".format(idx, fruits[idx]))"
   ]
  },
  {
   "cell_type": "code",
   "execution_count": 22,
   "id": "4e168507",
   "metadata": {},
   "outputs": [
    {
     "data": {
      "text/plain": [
       "[(0, 'mango'), (1, 'apple'), (2, 'orange')]"
      ]
     },
     "execution_count": 22,
     "metadata": {},
     "output_type": "execute_result"
    }
   ],
   "source": [
    "list(enumerate(fruits))"
   ]
  },
  {
   "cell_type": "code",
   "execution_count": 30,
   "id": "04dff43e",
   "metadata": {},
   "outputs": [
    {
     "name": "stdout",
     "output_type": "stream",
     "text": [
      "0번째 과일은 mango\n",
      "1번째 과일은 apple\n",
      "2번째 과일은 orange\n"
     ]
    }
   ],
   "source": [
    "# for 변수이름 in range(len(3))\n",
    "for i, fruit in enumerate(fruits): #[(0, 'mango'), (1, 'apple'), (2, 'orange')]:\n",
    "    print(f\"{i}번째 과일은 {fruit}\")"
   ]
  },
  {
   "cell_type": "code",
   "execution_count": 29,
   "id": "f5dd1fbf",
   "metadata": {},
   "outputs": [
    {
     "name": "stdout",
     "output_type": "stream",
     "text": [
      "mango입니다.\n",
      "apple입니다.\n",
      "orange입니다.\n"
     ]
    }
   ],
   "source": [
    "for fruit in fruits:    #[('mango', 'apple', 'orange']:\n",
    "    print(f\"{fruit}입니다.\")"
   ]
  },
  {
   "cell_type": "code",
   "execution_count": 33,
   "id": "87f67197",
   "metadata": {},
   "outputs": [
    {
     "data": {
      "text/plain": [
       "('2', 5)"
      ]
     },
     "execution_count": 33,
     "metadata": {},
     "output_type": "execute_result"
    }
   ],
   "source": [
    "# 리스트는 여러 타입의 데이터를 담을 수 있음\n",
    "numbers = [0, True, \"2\", [2,3], [4,5,6]]\n",
    "numbers[2], numbers[4][1]"
   ]
  },
  {
   "cell_type": "code",
   "execution_count": 53,
   "id": "b3739624",
   "metadata": {},
   "outputs": [
    {
     "name": "stdout",
     "output_type": "stream",
     "text": [
      "[[1, 2, 3, 4, 5], [10, 20, 30, 40, 50], [1, 3, 5, 7, 9], [2, 4, 6, 8, 10]]\n"
     ]
    }
   ],
   "source": [
    "# 2차원 리스트\n",
    "numbers = [1,2,3,4,5]\n",
    "numbers_2d = [[1,2,3,4,5],      # 0행\n",
    "              [10,20,30,40,50], # 1행\n",
    "              [1,3,5,7,9],      # 2행 \n",
    "              [2,4,6,8,10]]     # 3행\n",
    "print(numbers_2d)"
   ]
  },
  {
   "cell_type": "code",
   "execution_count": 54,
   "id": "ad7fe9f6",
   "metadata": {},
   "outputs": [
    {
     "data": {
      "text/plain": [
       "7"
      ]
     },
     "execution_count": 54,
     "metadata": {},
     "output_type": "execute_result"
    }
   ],
   "source": [
    "numbers_2d[2][3]"
   ]
  },
  {
   "cell_type": "code",
   "execution_count": 41,
   "id": "a30c390d",
   "metadata": {},
   "outputs": [
    {
     "name": "stdout",
     "output_type": "stream",
     "text": [
      "4 5\n"
     ]
    }
   ],
   "source": [
    "print(len(numbers_2d), len(numbers_2d[0]))"
   ]
  },
  {
   "cell_type": "code",
   "execution_count": 55,
   "id": "bc4d0337",
   "metadata": {
    "scrolled": true
   },
   "outputs": [
    {
     "name": "stdout",
     "output_type": "stream",
     "text": [
      "1\t2\t3\t4\t5\t\n",
      "10\t20\t30\t40\t50\t\n",
      "1\t3\t5\t7\t9\t\n",
      "2\t4\t6\t8\t10\t\n"
     ]
    }
   ],
   "source": [
    "for row in numbers_2d:\n",
    "        for item in row:\n",
    "            print(item, end='\\t')\n",
    "        print()"
   ]
  },
  {
   "cell_type": "code",
   "execution_count": 57,
   "id": "bbf79c0a",
   "metadata": {},
   "outputs": [
    {
     "name": "stdout",
     "output_type": "stream",
     "text": [
      "0행0열 : 1\t0행1열 : 2\t0행2열 : 3\t0행3열 : 4\t0행4열 : 5\t\n",
      "1행0열 : 10\t1행1열 : 20\t1행2열 : 30\t1행3열 : 40\t1행4열 : 50\t\n",
      "2행0열 : 1\t2행1열 : 3\t2행2열 : 5\t2행3열 : 7\t2행4열 : 9\t\n",
      "3행0열 : 2\t3행1열 : 4\t3행2열 : 6\t3행3열 : 8\t3행4열 : 10\t\n"
     ]
    }
   ],
   "source": [
    "for i in range(len(numbers_2d)):   #i : 행\n",
    "    for j in range(len(numbers_2d[i])): # j: 열\n",
    "        print(f\"{i}행{j}열 : {numbers_2d[i][j]}\", end=\"\\t\")\n",
    "    print()"
   ]
  },
  {
   "cell_type": "code",
   "execution_count": 58,
   "id": "6adee494",
   "metadata": {},
   "outputs": [
    {
     "data": {
      "text/plain": [
       "(4, 5, 5, 5)"
      ]
     },
     "execution_count": 58,
     "metadata": {},
     "output_type": "execute_result"
    }
   ],
   "source": [
    "len(numbers_2d), len(numbers_2d[0]), len(numbers_2d[1]), len(numbers_2d[2]) "
   ]
  },
  {
   "cell_type": "code",
   "execution_count": 61,
   "id": "9efaaf66",
   "metadata": {},
   "outputs": [
    {
     "data": {
      "text/plain": [
       "([(0, [1, 2, 3, 4, 5]),\n",
       "  (1, [10, 20, 30, 40, 50]),\n",
       "  (2, [1, 3, 5, 7, 9]),\n",
       "  (3, [2, 4, 6, 8, 10])],\n",
       " [(0, 1), (1, 2), (2, 3), (3, 4), (4, 5)])"
      ]
     },
     "execution_count": 61,
     "metadata": {},
     "output_type": "execute_result"
    }
   ],
   "source": [
    "list(enumerate(numbers_2d)), list(enumerate(numbers_2d[0])) \n",
    "# 파이썬 enumerate() 함수는 리스트, 튜플, 문자열 등 순서가 있는 자료형(iterable)을 입력받아 각 요소에 대한 인덱스 값과 해당 요소를 짝지어 반환하는 내장 함수입니다. enumerate()를 사용하면 for 루프에서 각 요소의 순번(인덱스)과 값을 동시에 편리하게 얻을 수 있어, i 같은 인덱스 변수를 따로 관리할 필요 없이 더욱 파이썬스럽고 간결한 코드를 작성할 수 있습니다. "
   ]
  },
  {
   "cell_type": "code",
   "execution_count": 67,
   "id": "ee0a256f",
   "metadata": {
    "scrolled": true
   },
   "outputs": [
    {
     "name": "stdout",
     "output_type": "stream",
     "text": [
      "0행0열 : 1\t0행1열 : 2\t0행2열 : 3\t0행3열 : 4\t0행4열 : 5\t\n",
      "1행0열 : 10\t1행1열 : 20\t1행2열 : 30\t1행3열 : 40\t1행4열 : 50\t\n",
      "2행0열 : 1\t2행1열 : 3\t2행2열 : 5\t2행3열 : 7\t2행4열 : 9\t\n",
      "3행0열 : 2\t3행1열 : 4\t3행2열 : 6\t3행3열 : 8\t3행4열 : 10\t\n"
     ]
    }
   ],
   "source": [
    "for i, row in enumerate(numbers_2d):\n",
    "    for j, item in enumerate(numbers_2d[i]):\n",
    "        print(\"{}행{}열 : {}\".format(i, j, numbers_2d[i][j]), end='\\t')\n",
    "    print()"
   ]
  },
  {
   "cell_type": "markdown",
   "id": "ddecaf16",
   "metadata": {},
   "source": [
    "## 1.2 기본 정보 조회"
   ]
  },
  {
   "cell_type": "code",
   "execution_count": 69,
   "id": "ad116f77",
   "metadata": {},
   "outputs": [],
   "source": [
    "numbers = [1, 12, 3, 4, 5]\n",
    "numbers_2d = [[100, 0, 1],\n",
    "             [9, 100, 100],\n",
    "             [59, 100, 130]]"
   ]
  },
  {
   "cell_type": "code",
   "execution_count": 70,
   "id": "aa5b5ef8",
   "metadata": {},
   "outputs": [
    {
     "data": {
      "text/plain": [
       "(5, 3)"
      ]
     },
     "execution_count": 70,
     "metadata": {},
     "output_type": "execute_result"
    }
   ],
   "source": [
    "# numbers = [1, 12, 3, 4, 5]\n",
    "# numbers_2d = [[100, 0, 1],\n",
    "#             [9, 100, 100],\n",
    "#             [59, 100, 130]]\n",
    "# item 수\n",
    "len(numbers), len(numbers_2d)"
   ]
  },
  {
   "cell_type": "code",
   "execution_count": 73,
   "id": "03f6d35f",
   "metadata": {},
   "outputs": [
    {
     "data": {
      "text/plain": [
       "(1, [9, 100, 100], 12, [100, 0, 1])"
      ]
     },
     "execution_count": 73,
     "metadata": {},
     "output_type": "execute_result"
    }
   ],
   "source": [
    "# 최소값\n",
    "# numbers = [1, 12, 3, 4, 5]\n",
    "# numbers_2d = [[100, 0, 1],\n",
    "#             [9, 100, 100],\n",
    "#             [59, 100, 130]]\n",
    "# 2차원 List의 최소/최대값 : 부분리스트 중 첫요소가 가장 작은 값/큰 값\n",
    "min(numbers), min (numbers_2d), max(numbers), max(numbers_2d)"
   ]
  },
  {
   "cell_type": "code",
   "execution_count": 74,
   "id": "91670bbc",
   "metadata": {},
   "outputs": [
    {
     "data": {
      "text/plain": [
       "('apple', 'orange')"
      ]
     },
     "execution_count": 74,
     "metadata": {},
     "output_type": "execute_result"
    }
   ],
   "source": [
    "# List의 데이터가 문자일 경우 ascii 코드값으로 min과 max로 적용\n",
    "fruits = ['mango', 'apple', 'orange']\n",
    "min(fruits), max(fruits)"
   ]
  },
  {
   "cell_type": "code",
   "execution_count": 78,
   "id": "398d96bc",
   "metadata": {},
   "outputs": [
    {
     "name": "stdout",
     "output_type": "stream",
     "text": [
      "오름차순 정렬 : [1, 3, 4, 5, 12]\n",
      "내림차순 정렬 : [12, 5, 4, 3, 1]\n",
      "합 : 25\n",
      "평균 : 5.0\n",
      "sorted 함수 사용시 리스트의 내용이 바뀌지 않음 : [1, 12, 3, 4, 5]\n"
     ]
    }
   ],
   "source": [
    "# 정렬하기\n",
    "numbers = [1, 12, 3, 4, 5]\n",
    "print(\"오름차순 정렬 :\", sorted(numbers))\n",
    "print(\"내림차순 정렬 :\", sorted(numbers, reverse=True))\n",
    "print(\"합 :\", sum(numbers))\n",
    "print(\"평균 :\", sum(numbers)/len(numbers))\n",
    "print(\"sorted 함수 사용시 리스트의 내용이 바뀌지 않음 :\", numbers)"
   ]
  },
  {
   "cell_type": "markdown",
   "id": "5b4aa756",
   "metadata": {},
   "source": [
    "## 1.3 요소추가\n",
    "\n",
    "'''\n",
    "- + : 두 리스트 연결\n",
    "- * : 리스트를 곱한 수만큼 반복\n",
    "- append() : 요소 맨 뒤에 추가\n",
    "- extend(리스트) : 리스트를 요소별로 맨 뒤에 추가\n",
    "- insert(idx, 값) : idx번째 인덱스 위치에 값 추가\n",
    "'''"
   ]
  },
  {
   "cell_type": "code",
   "execution_count": 81,
   "id": "0b3f1251",
   "metadata": {},
   "outputs": [
    {
     "data": {
      "text/plain": [
       "[1, 2, 3, 1, 2, 3]"
      ]
     },
     "execution_count": 81,
     "metadata": {},
     "output_type": "execute_result"
    }
   ],
   "source": [
    "numbers = [1, 2, 3]\n",
    "numbers = numbers + numbers # 리스트 연결\n",
    "numbers"
   ]
  },
  {
   "cell_type": "code",
   "execution_count": 83,
   "id": "c04c5283",
   "metadata": {},
   "outputs": [
    {
     "name": "stdout",
     "output_type": "stream",
     "text": [
      "[1, 2, 3, 1, 2, 3, 1, 2, 3]\n",
      "[1, 2, 3, 1, 2, 3, 1, 2, 3]\n"
     ]
    }
   ],
   "source": [
    "numbers = [1, 2, 3]\n",
    "print(numbers*3)   # 곱한 수만큼 반복\n",
    "print(3*numbers)"
   ]
  },
  {
   "cell_type": "code",
   "execution_count": 89,
   "id": "ae911ef4",
   "metadata": {},
   "outputs": [
    {
     "data": {
      "text/plain": [
       "[1, 2, 3, 4, 4, 4, 4, 4, 4]"
      ]
     },
     "execution_count": 89,
     "metadata": {},
     "output_type": "execute_result"
    }
   ],
   "source": [
    "numbers.append(4)   # 맨 뒤에 4추가\n",
    "numbers"
   ]
  },
  {
   "cell_type": "code",
   "execution_count": 91,
   "id": "d35286b9",
   "metadata": {},
   "outputs": [
    {
     "data": {
      "text/plain": [
       "[1, 2, 3, 4, 4, 4, 4, 4, 4, [5, 6, 7]]"
      ]
     },
     "execution_count": 91,
     "metadata": {},
     "output_type": "execute_result"
    }
   ],
   "source": [
    "numbers.append([5,6,7])   # 맨 뒤에 [5,6,7]추가\n",
    "numbers"
   ]
  },
  {
   "cell_type": "code",
   "execution_count": 92,
   "id": "51b33cb4",
   "metadata": {},
   "outputs": [
    {
     "data": {
      "text/plain": [
       "[1, 2, 3, 4, 5, 5]"
      ]
     },
     "execution_count": 92,
     "metadata": {},
     "output_type": "execute_result"
    }
   ],
   "source": [
    "numbers = [1, 2, 3]\n",
    "numbers.extend([4,5,5])    # 맨 뒤에 요소별로 4, 5, 6 각각 추가\n",
    "numbers"
   ]
  },
  {
   "cell_type": "code",
   "execution_count": 94,
   "id": "64ba8628",
   "metadata": {},
   "outputs": [
    {
     "data": {
      "text/plain": [
       "['a', 'b', 'c', 'd']"
      ]
     },
     "execution_count": 94,
     "metadata": {},
     "output_type": "execute_result"
    }
   ],
   "source": [
    "lst = ['a', 'b', 'c']\n",
    "lst.append('d')\n",
    "lst"
   ]
  },
  {
   "cell_type": "code",
   "execution_count": 95,
   "id": "627cf5ad",
   "metadata": {},
   "outputs": [
    {
     "data": {
      "text/plain": [
       "['a', 'b', 'c', 'd', 'hello']"
      ]
     },
     "execution_count": 95,
     "metadata": {},
     "output_type": "execute_result"
    }
   ],
   "source": [
    "lst.append('hello')\n",
    "lst"
   ]
  },
  {
   "cell_type": "code",
   "execution_count": 97,
   "id": "913c043c",
   "metadata": {},
   "outputs": [
    {
     "data": {
      "text/plain": [
       "['a', 'b', 'c', 'd', 'hello', 'h', 'e', 'l', 'l', 'o', 'h', 'e', 'l', 'l', 'o']"
      ]
     },
     "execution_count": 97,
     "metadata": {},
     "output_type": "execute_result"
    }
   ],
   "source": [
    "lst.extend('hello')\n",
    "lst"
   ]
  },
  {
   "cell_type": "code",
   "execution_count": 99,
   "id": "d8b89fd9",
   "metadata": {},
   "outputs": [
    {
     "data": {
      "text/plain": [
       "[1, 2, 3, 4, 'xx', 5]"
      ]
     },
     "execution_count": 99,
     "metadata": {},
     "output_type": "execute_result"
    }
   ],
   "source": [
    "numbers=[1,2,3,4,5]\n",
    "numbers.insert(4, 'xx')\n",
    "numbers"
   ]
  },
  {
   "cell_type": "code",
   "execution_count": 100,
   "id": "b1d37944",
   "metadata": {},
   "outputs": [
    {
     "data": {
      "text/plain": [
       "[1, 'xx', 2, 3, 4, 5]"
      ]
     },
     "execution_count": 100,
     "metadata": {},
     "output_type": "execute_result"
    }
   ],
   "source": [
    "numbers = [1,2,3,4,5]\n",
    "numbers.insert(1, 'xx')    # 1번째 인덱스에 'xx' 추가\n",
    "numbers"
   ]
  },
  {
   "cell_type": "markdown",
   "id": "d8b53950",
   "metadata": {},
   "source": [
    "## 1.4. 인덱싱과 요소 갯수\n",
    "- List 변수[index] : 인덱스를 이용한 접근\n",
    "- index(찾을 데이터) : 해당 찾을 데이터가 있는 요소의 index를 반환\n",
    "- 찾을 데이터 in list 변수 : 찾을 데이터가 리스트변수의 요소인지 여부\n",
    "- count(찾을 데이터) : 리스트에서 해당 찾을 데이터의 갯수 반환"
   ]
  },
  {
   "cell_type": "code",
   "execution_count": 103,
   "id": "1d4830a8",
   "metadata": {},
   "outputs": [
    {
     "data": {
      "text/plain": [
       "(2, 1)"
      ]
     },
     "execution_count": 103,
     "metadata": {},
     "output_type": "execute_result"
    }
   ],
   "source": [
    "numbers = [1,2,3, [1,2,3], 1,2,3]\n",
    "numbers.count(2), numbers.count([1,2,3])"
   ]
  },
  {
   "cell_type": "code",
   "execution_count": 104,
   "id": "95983ad2",
   "metadata": {},
   "outputs": [
    {
     "data": {
      "text/plain": [
       "0"
      ]
     },
     "execution_count": 104,
     "metadata": {},
     "output_type": "execute_result"
    }
   ],
   "source": [
    "numbers.count(5)"
   ]
  },
  {
   "cell_type": "code",
   "execution_count": 105,
   "id": "df97923c",
   "metadata": {},
   "outputs": [
    {
     "name": "stdout",
     "output_type": "stream",
     "text": [
      "True\n",
      "False\n"
     ]
    }
   ],
   "source": [
    "print(2 in numbers)\n",
    "print(5 in numbers)"
   ]
  },
  {
   "cell_type": "code",
   "execution_count": 9,
   "id": "2efc0fd3",
   "metadata": {},
   "outputs": [
    {
     "name": "stdout",
     "output_type": "stream",
     "text": [
      "5가 요소에 포함되지 않습니다\n"
     ]
    }
   ],
   "source": [
    "numbers = [1,2,3, [1,2,3], 1,2,3]\n",
    "if 5 in numbers:\n",
    "    print(numbers.index(5))\n",
    "else:\n",
    "    print('5가 요소에 포함되지 않습니다')"
   ]
  },
  {
   "cell_type": "code",
   "execution_count": 114,
   "id": "2d4c456e",
   "metadata": {},
   "outputs": [
    {
     "name": "stdout",
     "output_type": "stream",
     "text": [
      "5가 요소에 포함되지 않습니다\n"
     ]
    }
   ],
   "source": [
    "if numbers.count(5):\n",
    "    print(numbers.index(5))\n",
    "else:\n",
    "    print('5가 요소에 포함되지 않습니다')"
   ]
  },
  {
   "cell_type": "code",
   "execution_count": 83,
   "id": "60fae67e",
   "metadata": {},
   "outputs": [],
   "source": [
    "def safe_index(lst, item):        # 내가 만들고자 하는 함수\n",
    "    \"\"\"첫 번째 매개 변수 lst에서 item요소가 있는 index를 반환.\n",
    "    item 요소가 없으면 -1 반환\"\"\"  # shift tab tab 할 때 나오는 것 작성 중\n",
    "    if item in lst:\n",
    "        return lst.index(item)\n",
    "    return -1"
   ]
  },
  {
   "cell_type": "code",
   "execution_count": 3,
   "id": "0999631e",
   "metadata": {},
   "outputs": [
    {
     "data": {
      "text/plain": [
       "(1, -1)"
      ]
     },
     "execution_count": 3,
     "metadata": {},
     "output_type": "execute_result"
    }
   ],
   "source": [
    "from lst import safe_index # Lst.py(모듈)\n",
    "numbers = [1,2,3]\n",
    "safe_index(numbers, 2), safe_index(numbers, 5)"
   ]
  },
  {
   "cell_type": "code",
   "execution_count": 84,
   "id": "bca3f705",
   "metadata": {},
   "outputs": [],
   "source": [
    "#def safe_index(lst, item):        # 내가 만들고자 하는 함수\n",
    "#    \"\"\"첫 번째 매개 변수 lst에서 item요소가 있는 index를 반환.\n",
    "#    item 요소가 없으면 -1 반환\"\"\"  # shift tab tab 할 때 나오는 것 작성 중\n",
    "#    if item in lst:\n",
    "#    return -1"
   ]
  },
  {
   "cell_type": "code",
   "execution_count": 4,
   "id": "b0d8d450",
   "metadata": {},
   "outputs": [
    {
     "data": {
      "text/plain": [
       "1"
      ]
     },
     "execution_count": 4,
     "metadata": {},
     "output_type": "execute_result"
    }
   ],
   "source": [
    "safe_index(numbers, 2)"
   ]
  },
  {
   "cell_type": "markdown",
   "id": "cff2f754",
   "metadata": {},
   "source": [
    "## 1.5 원하는 요소 추출\n",
    "\n",
    "1. 리스트 슬라이싱\n",
    "- [from:to:step] from번째부터 to앞까지 step씩 증가하는 index값을 추출\n",
    "     * from 생략시 처음, to 생략시 끝, step 생략시 1\n",
    "- 인덱스의 범위를 벗어난 값도 에러나지 않음\n",
    "- 인덱스는 음수 가능\n",
    "\n",
    "2. **리스트 컴프리핸션** : 원하는 조건의 데이터 추출"
   ]
  },
  {
   "cell_type": "code",
   "execution_count": 8,
   "id": "e968dc10",
   "metadata": {},
   "outputs": [
    {
     "name": "stdout",
     "output_type": "stream",
     "text": [
      "[20, 19, 18, 13, 12, 10, 9, 5, 3, 1]\n",
      "[1, 5, 10, 13, 19]\n",
      "[5, 9, 10, 12, 13, 18, 19, 20]\n"
     ]
    }
   ],
   "source": [
    "numbers = [1,3,5,9,10,12,13,18,19,20]\n",
    "print(numbers[::-1])    # 꺼꾸로 출력\n",
    "print(numbers[::2])   # 짝수 index 값 출력\n",
    "print(numbers[2:100])   # 인덱스를 벗어난 슬라이싱 가능"
   ]
  },
  {
   "cell_type": "code",
   "execution_count": 9,
   "id": "fb007b65",
   "metadata": {},
   "outputs": [
    {
     "data": {
      "text/plain": [
       "[1, 3, 5, 9, 10, 12, 13, 18, 19, 20]"
      ]
     },
     "execution_count": 9,
     "metadata": {},
     "output_type": "execute_result"
    }
   ],
   "source": [
    "# 모든 데이터 추출\n",
    "numbers = [1,3,5,9,10,12,13,18,19,20]\n",
    "# for data in numbers:\n",
    "#    print(data, end=\"\\t\")\n",
    "[data for data in numbers]"
   ]
  },
  {
   "cell_type": "code",
   "execution_count": 10,
   "id": "7b9ddf89",
   "metadata": {},
   "outputs": [
    {
     "name": "stdout",
     "output_type": "stream",
     "text": [
      "10 12 18 20 "
     ]
    }
   ],
   "source": [
    "# 짝수 데이터 추출\n",
    "for data in numbers:\n",
    "    if data%2==0:\n",
    "        print(data, end=\" \")"
   ]
  },
  {
   "cell_type": "code",
   "execution_count": null,
   "id": "580c229b",
   "metadata": {},
   "outputs": [],
   "source": [
    "# 파이썬의 리스트 컴프리헨션(List Comprehension)은 반복문과 조건문을 사용하여 \n",
    "# 새로운 리스트를 더 간결하고 효율적으로 만드는 문법입니다. \n",
    "# 여러 줄의 코드를 한 줄로 줄일 수 있어 코드의 가독성을 높이고, \n",
    "# 성능 면에서도 일반적인 for 루프보다 빠르다는 장점이 있습니다"
   ]
  },
  {
   "cell_type": "code",
   "execution_count": null,
   "id": "a95cc1ba",
   "metadata": {},
   "outputs": [],
   "source": [
    "# 짝수 데이터 추출\n",
    "# for data in numbers:\n",
    "#     if data%2==0:\n",
    "#         print(data, end=\" \")\n",
    "[data for data in numbers if data%2==0]"
   ]
  },
  {
   "cell_type": "code",
   "execution_count": 26,
   "id": "b5fd6aaf",
   "metadata": {},
   "outputs": [
    {
     "data": {
      "text/plain": [
       "[10, 12, 13, 18, 19, 20]"
      ]
     },
     "execution_count": 26,
     "metadata": {},
     "output_type": "execute_result"
    }
   ],
   "source": [
    "# ex1. numbers에서 10이상인 요소만 추출\n",
    "numbers = [1,3,5,9,10,12,13,18,19,20]\n",
    "# for item in numbers:\n",
    "#     if item >= 10:\n",
    "# print(item, end=\" \")\n",
    "[item for item in numbers if item>=10]"
   ]
  },
  {
   "cell_type": "code",
   "execution_count": 36,
   "id": "7abdcc99",
   "metadata": {},
   "outputs": [
    {
     "data": {
      "text/plain": [
       "['orange', 'apple', 'mango']"
      ]
     },
     "execution_count": 36,
     "metadata": {},
     "output_type": "execute_result"
    }
   ],
   "source": [
    "# ex2. fruits에서 과일의 글자가 5글자 이상인 과일만 추출\n",
    "fruits = ['orange','apple','mango','Kiwi']\n",
    "# for mtf_characters \n",
    "# if fruits >= 5:\n",
    "#    print(fruits)\n",
    "#else:\n",
    "[fruit for fruit in fruits if len(fruit)>=5]"
   ]
  },
  {
   "cell_type": "code",
   "execution_count": 37,
   "id": "00174fb7",
   "metadata": {},
   "outputs": [
    {
     "data": {
      "text/plain": [
       "[6, 5, 5, 4]"
      ]
     },
     "execution_count": 37,
     "metadata": {},
     "output_type": "execute_result"
    }
   ],
   "source": [
    "# ex2-1 fruits 리스트의 과일 글자수\n",
    "[len(fruit) for fruit in fruits]"
   ]
  },
  {
   "cell_type": "code",
   "execution_count": 39,
   "id": "cf397292",
   "metadata": {},
   "outputs": [
    {
     "data": {
      "text/plain": [
       "[9, 16, 25]"
      ]
     },
     "execution_count": 39,
     "metadata": {},
     "output_type": "execute_result"
    }
   ],
   "source": [
    "# ex3. 3이상인 요소들의 제곱을 추출\n",
    "L = [1,2,3,4,5]\n",
    "[l**2 for l in L if l>=3]"
   ]
  },
  {
   "cell_type": "code",
   "execution_count": 41,
   "id": "4fd2ceba",
   "metadata": {},
   "outputs": [
    {
     "data": {
      "text/plain": [
       "[2, 4, 6, 8, 10]"
      ]
     },
     "execution_count": 41,
     "metadata": {},
     "output_type": "execute_result"
    }
   ],
   "source": [
    "# ex4. 리스트 요소의 값의 2배를 추출\n",
    "L = [1,2,3,4,5]\n",
    "[l*2 for l in L]"
   ]
  },
  {
   "cell_type": "markdown",
   "id": "09493974",
   "metadata": {},
   "source": [
    "## 1.6 요소 수정하기\n",
    "- 인덱스, 슬라이싱을 이용해서 수정"
   ]
  },
  {
   "cell_type": "code",
   "execution_count": 30,
   "id": "3331b822",
   "metadata": {},
   "outputs": [
    {
     "data": {
      "text/plain": [
       "['xx', 'xx', 'xx', 'xx', 'xx', 'xx', 'xx', 5, 9, 10, 12, 13, 18, 19, 20]"
      ]
     },
     "execution_count": 30,
     "metadata": {},
     "output_type": "execute_result"
    }
   ],
   "source": [
    "# 슬라이싱(step부분 미포함)\n",
    "numbers[0:2] = ['xx','xx','xx','xx','xx','xx','xx']\n",
    "numbers"
   ]
  },
  {
   "cell_type": "code",
   "execution_count": 33,
   "id": "448ac894",
   "metadata": {},
   "outputs": [
    {
     "name": "stdout",
     "output_type": "stream",
     "text": [
      "수정전 : [0, 0, 0, 0, 0, 0, 0, 0, 0, 0]\n",
      "수정후 : [9, 0, 9, 0, 9, 0, 9, 0, 9, 0]\n"
     ]
    }
   ],
   "source": [
    "# 슬라이싱(step 부분 포함)\n",
    "numbers = [0]*10\n",
    "print('수정전 :', numbers)\n",
    "numbers[0::2] = [9,9,9,9,9]\n",
    "print('수정후 :', numbers)"
   ]
  },
  {
   "cell_type": "code",
   "execution_count": 34,
   "id": "18fd9223",
   "metadata": {
    "scrolled": true
   },
   "outputs": [
    {
     "ename": "ValueError",
     "evalue": "attempt to assign sequence of size 2 to extended slice of size 5",
     "output_type": "error",
     "traceback": [
      "\u001b[1;31m---------------------------------------------------------------------------\u001b[0m",
      "\u001b[1;31mValueError\u001b[0m                                Traceback (most recent call last)",
      "Cell \u001b[1;32mIn[34], line 1\u001b[0m\n\u001b[1;32m----> 1\u001b[0m numbers[::\u001b[38;5;241m2\u001b[39m] \u001b[38;5;241m=\u001b[39m [\u001b[38;5;241m1\u001b[39m,\u001b[38;5;241m1\u001b[39m]\n",
      "\u001b[1;31mValueError\u001b[0m: attempt to assign sequence of size 2 to extended slice of size 5"
     ]
    }
   ],
   "source": [
    "numbers[::2] = [1,1]"
   ]
  },
  {
   "cell_type": "markdown",
   "id": "830e03b3",
   "metadata": {},
   "source": [
    "## 1.7 요소삭제\n",
    "- pop() : 가장 마지막 인덱스의 요소가 반환되고 삭제\n",
    "- pop(idx) : idx번째 요소가 반환되고 삭제"
   ]
  },
  {
   "cell_type": "code",
   "execution_count": 46,
   "id": "5348da44",
   "metadata": {},
   "outputs": [
    {
     "name": "stdout",
     "output_type": "stream",
     "text": [
      "삭제한 데이터 : 5\n",
      "삭제 후 numbers : [1, 2, 3, 4]\n",
      "1번째 삭제한 데이터 : 2\n",
      "1번째 삭제한 numbers : [1, 3, 4]\n",
      "데이터 1 삭제\n",
      "데이터 1 삭제 gn number : [3, 4]\n",
      "del numbers[1]\n"
     ]
    }
   ],
   "source": [
    "numbers = [1,2,3,4,5]\n",
    "\n",
    "print(\"삭제한 데이터 :\", numbers.pop())\n",
    "print(\"삭제 후 numbers :\", numbers)\n",
    "print(\"1번째 삭제한 데이터 :\", numbers.pop(1))\n",
    "print(\"1번째 삭제한 numbers :\", numbers)\n",
    "print(\"데이터 1 삭제\")\n",
    "numbers.remove(1)\n",
    "print(\"데이터 1 삭제 gn number :\", numbers)\n",
    "print(\"del numbers[1]\")"
   ]
  },
  {
   "cell_type": "code",
   "execution_count": 49,
   "id": "aa4f0328",
   "metadata": {},
   "outputs": [
    {
     "name": "stdout",
     "output_type": "stream",
     "text": [
      "해당 데이터는 없는 item입니다\n"
     ]
    }
   ],
   "source": [
    "#numbers.remove(9)\n",
    "if 9 in numbers:\n",
    "    numbers.remove(9)\n",
    "else:\n",
    "    print(\"해당 데이터는 없는 item입니다\")"
   ]
  },
  {
   "cell_type": "markdown",
   "id": "336e052a",
   "metadata": {},
   "source": [
    "## 1.8 정렬하기"
   ]
  },
  {
   "cell_type": "code",
   "execution_count": 50,
   "id": "93f141bf",
   "metadata": {},
   "outputs": [
    {
     "name": "stdout",
     "output_type": "stream",
     "text": [
      "numbers는 변경하지 않고, 정렬 결과: [0, 5, 6, 8, 9]\n",
      "numbers :  [9, 5, 0, 8, 6]\n"
     ]
    }
   ],
   "source": [
    "numbers = [9,5,0,8,6]\n",
    "print(\"numbers는 변경하지 않고, 정렬 결과:\", sorted(numbers))\n",
    "print(\"numbers : \", numbers)"
   ]
  },
  {
   "cell_type": "code",
   "execution_count": 52,
   "id": "46d8caf8",
   "metadata": {},
   "outputs": [
    {
     "name": "stdout",
     "output_type": "stream",
     "text": [
      "numbers오름차순 :  [0, 5, 6, 8, 9]\n"
     ]
    }
   ],
   "source": [
    "numbers.sort()  # numbers 자체가 오름차순 정렬한 결과로 바꿈\n",
    "print(\"numbers오름차순 : \", numbers)"
   ]
  },
  {
   "cell_type": "code",
   "execution_count": 53,
   "id": "9283d696",
   "metadata": {},
   "outputs": [
    {
     "name": "stdout",
     "output_type": "stream",
     "text": [
      "numbers내림차순:  [9, 8, 6, 5, 0]\n"
     ]
    }
   ],
   "source": [
    "numbers.sort(reverse=True)  # numbers 자체가 내림차순 정렬한 결과로 바꿈\n",
    "print(\"numbers내림차순: \", numbers)"
   ]
  },
  {
   "cell_type": "code",
   "execution_count": 54,
   "id": "34f2dfe0",
   "metadata": {},
   "outputs": [
    {
     "data": {
      "text/plain": [
       "[0, 5, 6, 8, 9]"
      ]
     },
     "execution_count": 54,
     "metadata": {},
     "output_type": "execute_result"
    }
   ],
   "source": [
    "numbers.reverse() # 리스트를 역순으로 변경\n",
    "# numbers = numbers[::-1]\n",
    "numbers"
   ]
  },
  {
   "cell_type": "markdown",
   "id": "f3a5f9db",
   "metadata": {},
   "source": [
    "## 1.9 리스트 복제"
   ]
  },
  {
   "cell_type": "code",
   "execution_count": 62,
   "id": "dde4086f",
   "metadata": {},
   "outputs": [
    {
     "name": "stdout",
     "output_type": "stream",
     "text": [
      "원본i = 10, 복사본cp_i = 10 / 원본주소 = 1558507880976, 복사본주소 = 1558507880976\n",
      "원본i = 10, 복사본cp_i = 10 / 원본주소 = 1558507880976, 복사본주소 = 1558507880976\n"
     ]
    }
   ],
   "source": [
    "# 스칼라 데이터의 복제\n",
    "\n",
    "i = 10\n",
    "cp_i = i\n",
    "print(f\"원본i = {i}, 복사본cp_i = {cp_i} / 원본주소 = {id(i)}, 복사본주소 = {id(cp_i)}\")\n",
    "co_i = 99\n",
    "print(f\"원본i = {i}, 복사본cp_i = {cp_i} / 원본주소 = {id(i)}, 복사본주소 = {id(cp_i)}\")"
   ]
  },
  {
   "cell_type": "code",
   "execution_count": 64,
   "id": "d6eb4e1b",
   "metadata": {},
   "outputs": [
    {
     "name": "stdout",
     "output_type": "stream",
     "text": [
      "원본 주소 : 1558623853952\n",
      "복제본 주소 : 1558623853952\n",
      "원본 내용 : [99, 6, 1, 9]\n",
      "복제본 내용 : [99, 6, 1, 9]\n",
      "원본 내용 : 1558623853952\n",
      "복제본 내용 : 1558623853952\n"
     ]
    }
   ],
   "source": [
    "# 데이터 구조의 복제\n",
    "\n",
    "numbers = [5, 6, 1, 9]\n",
    "new_numbers = numbers # 할당\n",
    "print('원본 주소 :', id(numbers))\n",
    "print('복제본 주소 :', id(new_numbers))\n",
    "new_numbers[0] = 99\n",
    "print(\"원본 내용 :\", numbers)\n",
    "print(\"복제본 내용 :\", new_numbers)\n",
    "print(\"원본 내용 :\", id(numbers))\n",
    "print(\"복제본 내용 :\", id(new_numbers))"
   ]
  },
  {
   "cell_type": "code",
   "execution_count": 66,
   "id": "c62cd00d",
   "metadata": {},
   "outputs": [
    {
     "name": "stdout",
     "output_type": "stream",
     "text": [
      "원본 : [5, 6, 1, 9]\n",
      "복제본 : [9, 6, 5, 1]\n",
      "원본 주소 : 1558623859776\n",
      "복제본 주소: 1558624214016\n"
     ]
    }
   ],
   "source": [
    "# 리스트 복제(깊은 복사)\n",
    "numbers = [5, 6, 1, 9]\n",
    "new_numbers = numbers.copy() # numbers를 복제(깊은 복사)\n",
    "new_numbers.sort(reverse=True) # 내림차순 정렬을 이렇게 하는게 속도가 빠르다\n",
    "print(\"원본 :\", numbers)\n",
    "print(\"복제본 :\", new_numbers)\n",
    "print(\"원본 주소 :\", id(numbers))\n",
    "print(\"복제본 주소:\", id(new_numbers))"
   ]
  },
  {
   "cell_type": "code",
   "execution_count": 65,
   "id": "b12be324",
   "metadata": {},
   "outputs": [
    {
     "name": "stdout",
     "output_type": "stream",
     "text": [
      "원본 : [5, 6, 1, 9]\n",
      "정렬본 : [5, 6, 1, 9]\n"
     ]
    }
   ],
   "source": [
    "# 원본과 정렬본이 다르지 않다.\n",
    "numbers = [5, 6, 1, 9]\n",
    "new_numbers = sorted(numbers)\n",
    "print(\"원본 :\", numbers)\n",
    "print(\"정렬본 :\", numbers)"
   ]
  },
  {
   "cell_type": "code",
   "execution_count": 76,
   "id": "e7c76873",
   "metadata": {},
   "outputs": [
    {
     "name": "stdout",
     "output_type": "stream",
     "text": [
      "정렬전 : ['서울', '대전', '대구', '부산', '하남', '수원', '제주']\n",
      "정렬후 : ['대구', '대전', '부산', '서울', '수원', '제주', '하남']\n"
     ]
    }
   ],
   "source": [
    "city = ['서울','대전','대구','부산','하남','수원','제주']\n",
    "temp = city.copy()\n",
    "temp.sort()\n",
    "print(\"정렬전 :\", city)\n",
    "print(\"정렬후 :\", temp)"
   ]
  },
  {
   "cell_type": "code",
   "execution_count": 77,
   "id": "3c976394",
   "metadata": {},
   "outputs": [
    {
     "name": "stdout",
     "output_type": "stream",
     "text": [
      "정렬 후 : ['대구', '대전', '부산', '서울', '수원', '제주', '하남']\n",
      "원본 교체 : ['서울', '대전', '대구', '부산', '하남', '수원', '제주']\n"
     ]
    }
   ],
   "source": [
    "city = ['서울','대전','대구','부산','하남','수원','제주']\n",
    "temp = city.copy()\n",
    "city.sort()\n",
    "print(\"정렬 후 :\", city)\n",
    "city = temp\n",
    "print(\"원본 교체 :\", city)"
   ]
  },
  {
   "cell_type": "code",
   "execution_count": 68,
   "id": "340bb561",
   "metadata": {},
   "outputs": [
    {
     "name": "stdout",
     "output_type": "stream",
     "text": [
      "정렬전 : ['서울', '대전', '대구', '부산', '하남', '수원', '제주']\n",
      "정렬후 : []\n"
     ]
    }
   ],
   "source": [
    "temp.clear()\n",
    "print(\"정렬전 :\", city)\n",
    "print(\"정렬후 :\", temp)"
   ]
  },
  {
   "cell_type": "markdown",
   "id": "043b719c",
   "metadata": {},
   "source": [
    "# 2절 튜플\n",
    "- 리스트([])와 유사하지만 읽기전용. 수정이 필요없는 데이터에서 사용\n",
    "- 수정이 블가흐므로, 튜플에서 데이터 수정, 추가, 삭제 불가\n",
    "- 제공되는 함수도 많지 않음"
   ]
  },
  {
   "cell_type": "code",
   "execution_count": 78,
   "id": "5700a15b",
   "metadata": {},
   "outputs": [
    {
     "data": {
      "text/plain": [
       "'서울-대전-대구-부산-하남-수원-제주'"
      ]
     },
     "execution_count": 78,
     "metadata": {},
     "output_type": "execute_result"
    }
   ],
   "source": [
    "city = ['서울','대전','대구','부산','하남','수원','제주']\n",
    "\"-\".join(city)"
   ]
  },
  {
   "cell_type": "code",
   "execution_count": 80,
   "id": "9278b9b5",
   "metadata": {},
   "outputs": [
    {
     "data": {
      "text/plain": [
       "'서울-대전-대구-부산-하남-수원-제주'"
      ]
     },
     "execution_count": 80,
     "metadata": {},
     "output_type": "execute_result"
    }
   ],
   "source": [
    "city = ('서울','대전','대구','부산','하남','수원','제주')\n",
    "\"-\".join(city)"
   ]
  },
  {
   "cell_type": "code",
   "execution_count": 86,
   "id": "05aa4e0a",
   "metadata": {},
   "outputs": [
    {
     "data": {
      "text/plain": [
       "1"
      ]
     },
     "execution_count": 86,
     "metadata": {},
     "output_type": "execute_result"
    }
   ],
   "source": [
    "from lst import safe_index\n",
    "safe_index(city, '대전')"
   ]
  },
  {
   "cell_type": "code",
   "execution_count": 2,
   "id": "ace16bf8",
   "metadata": {},
   "outputs": [
    {
     "data": {
      "text/plain": [
       "3"
      ]
     },
     "execution_count": 2,
     "metadata": {},
     "output_type": "execute_result"
    }
   ],
   "source": [
    "numbers = (1,2,3,2)\n",
    "numbers.index(2, 2)   # index(찾을 데이터, 찾기 시작할 index=0)"
   ]
  },
  {
   "cell_type": "code",
   "execution_count": null,
   "id": "c8f0d5bf",
   "metadata": {},
   "outputs": [],
   "source": [
    "numbers.index(4)      # 없을 거 찾으면 에러가 난다."
   ]
  },
  {
   "cell_type": "code",
   "execution_count": null,
   "id": "c3b1b20e",
   "metadata": {},
   "outputs": [],
   "source": [
    "# 리스트, 투퓰, 딕션어리, 셋\n",
    "# 람다식, 리스트 컴플리에이션\n",
    "# score = 99 (스칼라 데이터)\n",
    "# scores = [99.88.77.100.89]\n",
    "# sc = (90,80,70,70)\n",
    "# st = {'name':'홍길동','score':100,'add':'서울','학력':3 }\n",
    "# 람다식, 리스트 컴플리에이션"
   ]
  },
  {
   "cell_type": "code",
   "execution_count": 33,
   "id": "3656924b",
   "metadata": {},
   "outputs": [
    {
     "name": "stdout",
     "output_type": "stream",
     "text": [
      "데이터가 없습니다\n"
     ]
    }
   ],
   "source": [
    "numbers = (1,4,3,2)\n",
    "if 4 in numbers [2:]:\n",
    "    numbers.index(4, 2)   # index(찾을 데이터, 찾기 시작할 index=0)\n",
    "else:\n",
    "    print(\"데이터가 없습니다\")"
   ]
  },
  {
   "cell_type": "code",
   "execution_count": 46,
   "id": "efff7922",
   "metadata": {},
   "outputs": [],
   "source": [
    "def safe_index(lst, item, srart=0):\n",
    "    \"\"\"\n",
    "    첫 번째 매개변수 lst : 리스트, 튜플\n",
    "    두 번째 매개변수 item: 리스트나 튜플에서 찾을 데이터\n",
    "    세 번째 매개변수 start : 몇번째 index부터 찾을지 index 수 (기본값:0)\n",
    "    \n",
    "    \"\"\"\n",
    "    return lst.index(item, srart) if item in lst[srart:] else -1 \n",
    "    \n",
    "#     if item in lst[srart:]:\n",
    "#         return lst.idex(item, start)  # srart번째부터 item이 있는 index를 반환\n",
    "#     else:\n",
    "#         return -1    "
   ]
  },
  {
   "cell_type": "code",
   "execution_count": 47,
   "id": "c3d839eb",
   "metadata": {},
   "outputs": [
    {
     "data": {
      "text/plain": [
       "3"
      ]
     },
     "execution_count": 47,
     "metadata": {},
     "output_type": "execute_result"
    }
   ],
   "source": [
    "safe_index(numbers, 2,1)"
   ]
  },
  {
   "cell_type": "code",
   "execution_count": 16,
   "id": "6626c00a",
   "metadata": {},
   "outputs": [
    {
     "data": {
      "text/plain": [
       "10"
      ]
     },
     "execution_count": 16,
     "metadata": {},
     "output_type": "execute_result"
    }
   ],
   "source": [
    "# 위의 if문을 조건식을 이용하여 한줄 코드\n",
    "x, y = 10, 20\n",
    "def diff(x, y):\n",
    "    if x>y:\n",
    "        return x-y\n",
    "    else:\n",
    "        return y-x\n",
    "diff(10, 20)"
   ]
  },
  {
   "cell_type": "code",
   "execution_count": 21,
   "id": "f0277b62",
   "metadata": {},
   "outputs": [
    {
     "data": {
      "text/plain": [
       "10"
      ]
     },
     "execution_count": 21,
     "metadata": {},
     "output_type": "execute_result"
    }
   ],
   "source": [
    "# 위의 if문을 조건식을 이용하여 한줄 코드\n",
    "def diff(x, y):\n",
    "    return x-y if x>y else y-x # if문이 참일때 취할 값. if 조건 else if 문 거짓일 때 값.\n",
    "    #    if x>y:\n",
    "#        return x-y\n",
    "#    else:\n",
    "#        return y-x\n",
    "diff(10, 20)"
   ]
  },
  {
   "cell_type": "code",
   "execution_count": 48,
   "id": "130d370c",
   "metadata": {},
   "outputs": [
    {
     "data": {
      "text/plain": [
       "(4, 16, 36)"
      ]
     },
     "execution_count": 48,
     "metadata": {},
     "output_type": "execute_result"
    }
   ],
   "source": [
    "# ex. 짝수 요소들을 추출하여 제곱한 데이터를 튜플로 출력하시오\n",
    "numbers = (11, 2, 3, 4, 5, 6)\n",
    "tuple(num**2 for num in numbers if num%2==0)"
   ]
  },
  {
   "cell_type": "markdown",
   "id": "30d1d27f",
   "metadata": {},
   "source": [
    "# 3절 딕셔너리\n",
    "- {}를 이용해서 키(key)-값(value)의 쌍으로 구성된 자료구조.\n",
    "- 키는 유일한 값(중복 허용 안함). 키에 list는 사용 불가. 키에 tuple은 사용 가능.\n",
    "- 값은 중복 가능. 모든 데이터 타입 가능. \n",
    "- 인덱스를 이용한 참조는 지원 안 함."
   ]
  },
  {
   "cell_type": "markdown",
   "id": "8410833e",
   "metadata": {},
   "source": [
    "## 딕셔너리 item수정"
   ]
  },
  {
   "cell_type": "code",
   "execution_count": null,
   "id": "fdeb4620",
   "metadata": {},
   "outputs": [],
   "source": [
    "dic = {'name':'홍길동', 1:22, (1, 2):[1, 2]}\n",
    "print(type(dic))\n",
    "print(dic)"
   ]
  },
  {
   "cell_type": "code",
   "execution_count": 51,
   "id": "a253d464",
   "metadata": {},
   "outputs": [
    {
     "data": {
      "text/plain": [
       "3"
      ]
     },
     "execution_count": 51,
     "metadata": {},
     "output_type": "execute_result"
    }
   ],
   "source": [
    "len(dic) # 데이터 요소의 갯수"
   ]
  },
  {
   "cell_type": "code",
   "execution_count": 53,
   "id": "edb2beea",
   "metadata": {},
   "outputs": [
    {
     "data": {
      "text/plain": [
       "{'fruit': 'apple', 'number': 12, 'sport': 'yoga'}"
      ]
     },
     "execution_count": 53,
     "metadata": {},
     "output_type": "execute_result"
    }
   ],
   "source": [
    "my_favorite = {'fruit':'apple', 'number':12 , \"sport\":'yoga'}\n",
    "my_favorite"
   ]
  },
  {
   "cell_type": "code",
   "execution_count": 59,
   "id": "2ae75bdd",
   "metadata": {},
   "outputs": [
    {
     "name": "stdout",
     "output_type": "stream",
     "text": [
      "12\n",
      "12\n"
     ]
    }
   ],
   "source": [
    "# 변수[키] / 변수.get(키)\n",
    "print(my_favorite['number'])\n",
    "print(my_favorite.get('number'))"
   ]
  },
  {
   "cell_type": "code",
   "execution_count": 56,
   "id": "56f1b44b",
   "metadata": {},
   "outputs": [
    {
     "name": "stdout",
     "output_type": "stream",
     "text": [
      "None\n"
     ]
    }
   ],
   "source": [
    "# print(my_favorite['people'])   # 키목록에 업ㅎㅅ는 데이터를 참조시 에러\n",
    "print(my_favorite.get('people')) # 없는 키를 get함수로 참조시 non\n",
    "print(my_favorite.get('people', '-')) # 없는 키를 get함수로 참조시 '-'\n",
    "\n",
    "\n",
    "# get메서드\n",
    "# get() 메서드는 딕셔너리에서 주어진 키(key)에 해당하는 값을 반환하는 메서드입니다.\n",
    "# get() 메서드는 두 개의 파라미터를 가질 수 있습니다. \n",
    "# 첫 번째 파라미터는 찾고자하는 키(key)이고, 두 번째 파라미터는 기본값(default value)입니다.\n",
    "# get() 메서드는 다음과 같은 동작을 수행합니다:\n",
    "# 만약 주어진 키(key)가 딕셔너리에 존재한다면, 해당 키에 대한 값을 반환합니다.\n",
    "# 만약 주어진 키(key)가 딕셔너리에 존재하지 않는다면, 기본값(default value)을 반환합니다. \n",
    "# 만약 기본값이 지정되지 않았다면, None을 반환합니다.\n",
    "# 예를 들어, my_dict = {'apple': 1, 'banana': 2}라는 딕셔너리가 있다고 가정해봅시다. \n",
    "# 다음은 get() 메서드를 사용하여 딕셔너리의 값을 얻는 예시입니다.\n"
   ]
  },
  {
   "cell_type": "code",
   "execution_count": 68,
   "id": "a652d2db",
   "metadata": {},
   "outputs": [
    {
     "name": "stdout",
     "output_type": "stream",
     "text": [
      "people 추가후 : {'fruit': 'apple', 'number': 12, 'sport': 'yoga', 'people': '홍길동', 'subject': 'AI'}\n",
      "하나씩 수정 후 : {'fruit': 'mango', 'number': -9, 'sport': 'yoga', 'people': '홍길동', 'subject': '수학', 'major': 'AI'}\n",
      "한꺼번에 수정 후 : {'fruit': 'kiwi', 'number': -99, 'sport': 'yoga', 'people': '홍길동', 'subject': '수학', 'major': 'AI'}\n",
      "subject 키가 존재하지 않습니다\n",
      "del 제거 후 : {'fruit': 'kiwi', 'number': -99, 'sport': 'yoga', 'people': '홍길동', 'major': 'AI'}\n",
      "제거한 데이터 : AI\n",
      "major 키가 존재하지 않습니다\n",
      "{'fruit': 'kiwi', 'number': -99, 'sport': 'yoga', 'people': '홍길동'}\n"
     ]
    }
   ],
   "source": [
    "## 딕셔너리 item 수정, 추가, 삭제\n",
    "my_favorite = {'fruit':'apple', 'number':12 , \"sport\":'yoga'}\n",
    "\n",
    "# 한 item씩 추가\n",
    "my_favorite['people'] = '홍길동'\n",
    "my_favorite['subject'] = 'AI'\n",
    "print('people 추가후 :', my_favorite)\n",
    "\n",
    "# 여러 item을 한꺼번에 추가\n",
    "my_favorite.update({'subject':'수학', 'major':\"AI\"})\n",
    "\n",
    "# 한 item씩 수정\n",
    "my_favorite['fruit'] = 'mango'\n",
    "my_favorite['number'] = -9\n",
    "print('하나씩 수정 후 :', my_favorite)\n",
    "\n",
    "# 여러 item을 한번 수정\n",
    "# my_favorite.update({'fruit':'kiwi', 'number':-99})\n",
    "my_favorite.update(fruit='kiwi', number=-99)\n",
    "print(\"한꺼번에 수정 후 :\", my_favorite)\n",
    "\n",
    "# item 제거\n",
    "del my_favorite['subject']    # subject item 제거\n",
    "if 'subject' in my_favorite:\n",
    "    del my_favorite['subject']\n",
    "else:\n",
    "    print('subject 키가 존재하지 않습니다')\n",
    "print(\"del 제거 후 :\", my_favorite)\n",
    "# item 제거(2)\n",
    "print('제거한 데이터 :', my_favorite.pop('major'))   #major키 값을 반환하고 제거\n",
    "if 'major' in my_favorite:\n",
    "    print('제거한 데이터 :', my_favorite.pop('major'))\n",
    "else:\n",
    "    print('major 키가 존재하지 않습니다')\n",
    "print(my_favorite)"
   ]
  },
  {
   "cell_type": "markdown",
   "id": "d9984210",
   "metadata": {},
   "source": [
    "## 출력하기"
   ]
  },
  {
   "cell_type": "code",
   "execution_count": 71,
   "id": "5a64d110",
   "metadata": {},
   "outputs": [],
   "source": [
    "# for문을 이용한 튜플 출력\n",
    "my_tuple = ('홍길동', 30, '010-9999-9999')"
   ]
  },
  {
   "cell_type": "code",
   "execution_count": null,
   "id": "ebe1328f",
   "metadata": {},
   "outputs": [],
   "source": [
    "# my_dic = {'name':'홍길동', 'age':30, 'tel':'010-9999-9999'}"
   ]
  },
  {
   "cell_type": "code",
   "execution_count": 75,
   "id": "dad20ba0",
   "metadata": {},
   "outputs": [
    {
     "name": "stdout",
     "output_type": "stream",
     "text": [
      "홍길동\t30\t010-9999-9999\t\n",
      "0번째 : 홍길동\t1번째 : 30\t2번째 : 010-9999-9999\t\n",
      "0번째 : 홍길동\t1번째 : 30\t2번째 : 010-9999-9999\t"
     ]
    }
   ],
   "source": [
    "for data in my_tuple:\n",
    "    print(data, end='\\t')\n",
    "print() # 개행\n",
    "for idx in range(len(my_tuple)):\n",
    "    print(f\"{idx}번째 : {my_tuple[idx]}\", end=\"\\t\")\n",
    "print()   #개행\n",
    "for idx, data in enumerate(my_tuple):\n",
    "    print(f\"{idx}번째 : {data}\", end=\"\\t\")"
   ]
  },
  {
   "cell_type": "code",
   "execution_count": 77,
   "id": "bae80538",
   "metadata": {},
   "outputs": [],
   "source": [
    "my_dic ={'name':'홍길동', 'age':30, 'tel':'010-999-999'}    "
   ]
  },
  {
   "cell_type": "code",
   "execution_count": 94,
   "id": "013e201c",
   "metadata": {},
   "outputs": [
    {
     "name": "stdout",
     "output_type": "stream",
     "text": [
      "tel : 010-999-999\ttel : 010-999-999\ttel : 010-999-999\t"
     ]
    }
   ],
   "source": [
    "for data in my_dic: # 비추\n",
    "    print(\"{} : {}\".format(key, my_dic[key]), end=\"\\t\")"
   ]
  },
  {
   "cell_type": "code",
   "execution_count": 93,
   "id": "1ff4063b",
   "metadata": {},
   "outputs": [
    {
     "data": {
      "text/plain": [
       "dict_values(['홍길동', 30, '010-999-999'])"
      ]
     },
     "execution_count": 93,
     "metadata": {},
     "output_type": "execute_result"
    }
   ],
   "source": [
    "my_dic.values()    # 값들 목록"
   ]
  },
  {
   "cell_type": "code",
   "execution_count": 96,
   "id": "8e85127d",
   "metadata": {},
   "outputs": [
    {
     "data": {
      "text/plain": [
       "dict_items([('name', '홍길동'), ('age', 30), ('tel', '010-999-999')])"
      ]
     },
     "execution_count": 96,
     "metadata": {},
     "output_type": "execute_result"
    }
   ],
   "source": [
    "my_dic.items()    # 값들 목록"
   ]
  },
  {
   "cell_type": "code",
   "execution_count": 97,
   "id": "e46704be",
   "metadata": {},
   "outputs": [
    {
     "name": "stdout",
     "output_type": "stream",
     "text": [
      "name:홍길동\tage:30\ttel:010-999-999\t"
     ]
    }
   ],
   "source": [
    "for key, value in my_dic.items():\n",
    "    print(\"{}:{}\".format(key, value), end=\"\\t\")"
   ]
  },
  {
   "cell_type": "code",
   "execution_count": 98,
   "id": "b28f5f46",
   "metadata": {},
   "outputs": [
    {
     "data": {
      "text/plain": [
       "<enumerate at 0x29a2b7a0240>"
      ]
     },
     "execution_count": 98,
     "metadata": {},
     "output_type": "execute_result"
    }
   ],
   "source": [
    "enumerate(my_dic.items())"
   ]
  },
  {
   "cell_type": "code",
   "execution_count": 99,
   "id": "7c63b16b",
   "metadata": {},
   "outputs": [
    {
     "data": {
      "text/plain": [
       "[(0, ('name', '홍길동')), (1, ('age', 30)), (2, ('tel', '010-999-999'))]"
      ]
     },
     "execution_count": 99,
     "metadata": {},
     "output_type": "execute_result"
    }
   ],
   "source": [
    "list(enumerate(my_dic.items()))"
   ]
  },
  {
   "cell_type": "code",
   "execution_count": 101,
   "id": "fb90ca1f",
   "metadata": {},
   "outputs": [
    {
     "name": "stdout",
     "output_type": "stream",
     "text": [
      "1.name : 홍길동\n",
      "2.age : 30\n",
      "3.tel : 010-999-999\n"
     ]
    }
   ],
   "source": [
    "for no, (key, value) in enumerate(my_dic.items()):\n",
    "    print(\"{}.{} : {}\".format(no+1, key, value))"
   ]
  },
  {
   "cell_type": "markdown",
   "id": "a49b7b4e",
   "metadata": {},
   "source": [
    "## in연산자"
   ]
  },
  {
   "cell_type": "code",
   "execution_count": 104,
   "id": "a49b5d1f",
   "metadata": {},
   "outputs": [
    {
     "data": {
      "text/plain": [
       "True"
      ]
     },
     "execution_count": 104,
     "metadata": {},
     "output_type": "execute_result"
    }
   ],
   "source": [
    "# tuple, list\n",
    "t = (10, 20, 30)\n",
    "30 in t # list, tuple, set에서의 in연산자 : 요소(데이터, item)가 있는 여부 반환"
   ]
  },
  {
   "cell_type": "code",
   "execution_count": 105,
   "id": "61594871",
   "metadata": {},
   "outputs": [
    {
     "data": {
      "text/plain": [
       "False"
      ]
     },
     "execution_count": 105,
     "metadata": {},
     "output_type": "execute_result"
    }
   ],
   "source": [
    "# dictionary\n",
    "dic = {'name':'홍길동', 'age':30}\n",
    "'홍길동' in dic # dictionary에서의 in연산자 : key가 있는지 여부 반환"
   ]
  },
  {
   "cell_type": "markdown",
   "id": "5d0ed27d",
   "metadata": {},
   "source": [
    "## 복제하기"
   ]
  },
  {
   "cell_type": "code",
   "execution_count": 106,
   "id": "7a377cce",
   "metadata": {},
   "outputs": [
    {
     "name": "stdout",
     "output_type": "stream",
     "text": [
      "my_favorite 주소 : 2861177120128\n",
      "new_favorite 주소 : 2861177120128\n"
     ]
    }
   ],
   "source": [
    "# 할당\n",
    "my_favorite = {'fruit':'apple','number':12}\n",
    "new_favorite = my_favorite\n",
    "print('my_favorite 주소 :', id(my_favorite))\n",
    "print('new_favorite 주소 :', id(new_favorite))"
   ]
  },
  {
   "cell_type": "code",
   "execution_count": 107,
   "id": "d40fe6a8",
   "metadata": {},
   "outputs": [
    {
     "name": "stdout",
     "output_type": "stream",
     "text": [
      "원본 : {'fruit': '과일은 다 좋아', 'number': 12, 'people': '홍길동'}\n",
      "수정본 : {'fruit': '과일은 다 좋아', 'number': 12, 'people': '홍길동'}\n"
     ]
    }
   ],
   "source": [
    "new_favorite['fruit'] = '과일은 다 좋아'\n",
    "new_favorite['people'] = '홍길동'\n",
    "print('원본 :', my_favorite)\n",
    "print('수정본 :', new_favorite)"
   ]
  },
  {
   "cell_type": "code",
   "execution_count": 108,
   "id": "f9cd6d3f",
   "metadata": {},
   "outputs": [
    {
     "name": "stdout",
     "output_type": "stream",
     "text": [
      "my_favorite 주소 : 2861177641024\n",
      "new_favorite 주소 : 2861177637888\n",
      "원본 : {'fruit': 'apple', 'number': 12}\n",
      "수정본 : {'fruit': '과일은 다 좋아', 'number': 12, 'people': '홍길동'}\n"
     ]
    }
   ],
   "source": [
    "# 복제(깊은 복사)\n",
    "my_favorite = {'fruit':'apple','number':12}\n",
    "new_favorite = my_favorite.copy()\n",
    "print('my_favorite 주소 :', id(my_favorite))\n",
    "print('new_favorite 주소 :', id(new_favorite))\n",
    "new_favorite['fruit'] = '과일은 다 좋아'\n",
    "new_favorite['people'] = '홍길동'\n",
    "print('원본 :', my_favorite)\n",
    "print('수정본 :', new_favorite)"
   ]
  },
  {
   "cell_type": "markdown",
   "id": "db0475d8",
   "metadata": {},
   "source": [
    "# 4절 셋\n",
    "- 중복을 허용하지 않는 집합(순서x)\n",
    "- {}나 set()함수를 이용해서 셋 생성\n",
    "- ex. set([1, 2, 1]), set({'name' : '홍길동'})\n",
    "- 추가 : add(), update()\n",
    "- 삭제 : remove\n",
    "- 집합연산자 : &교집합, |합집합, -차집합"
   ]
  },
  {
   "cell_type": "code",
   "execution_count": null,
   "id": "10e12a46",
   "metadata": {},
   "outputs": [],
   "source": [
    "st = {'name':'홍길동','age':30} <= 딕셔너리\n",
    "se = {'홍길동', 30}   <= 셋 "
   ]
  },
  {
   "cell_type": "code",
   "execution_count": 109,
   "id": "eb387e9e",
   "metadata": {},
   "outputs": [
    {
     "data": {
      "text/plain": [
       "{'apple', 'banana', 'orange'}"
      ]
     },
     "execution_count": 109,
     "metadata": {},
     "output_type": "execute_result"
    }
   ],
   "source": [
    "fruits = {'banana', 'orange', 'apple', 'apple'}\n",
    "fruits"
   ]
  },
  {
   "cell_type": "code",
   "execution_count": 110,
   "id": "defcef6c",
   "metadata": {},
   "outputs": [
    {
     "data": {
      "text/plain": [
       "{1, 2, 3}"
      ]
     },
     "execution_count": 110,
     "metadata": {},
     "output_type": "execute_result"
    }
   ],
   "source": [
    "s1 = set([1, 2, 3, 1, 1, 1, 1])\n",
    "s1"
   ]
  },
  {
   "cell_type": "code",
   "execution_count": 111,
   "id": "43e7560c",
   "metadata": {},
   "outputs": [
    {
     "data": {
      "text/plain": [
       "{1, 2, 3, 4, 5, 6, 7, 8, 9}"
      ]
     },
     "execution_count": 111,
     "metadata": {},
     "output_type": "execute_result"
    }
   ],
   "source": [
    "s1 = set((1, 2, 3, 4, 5, 6, 7, 8, 9, 1))\n",
    "s1"
   ]
  },
  {
   "cell_type": "code",
   "execution_count": 112,
   "id": "ea6d48a3",
   "metadata": {},
   "outputs": [
    {
     "data": {
      "text/plain": [
       "{'address', 'age', 'name'}"
      ]
     },
     "execution_count": 112,
     "metadata": {},
     "output_type": "execute_result"
    }
   ],
   "source": [
    "# set함수를 이용해서 딕셔너리를 셋으로 전환할 때는 key만 적용\n",
    "s2 = set({'name':'홍길동', 'age':30, 'address':'서울'})\n",
    "s2"
   ]
  },
  {
   "cell_type": "markdown",
   "id": "23cfddbf",
   "metadata": {},
   "source": [
    "## 추가하기\n",
    "- add() : 오직 스칼라 데이터 혹은 튜플만 넣을 수 있다. 기본자료형, 튜플 데이터 하나 추가. list, dic, set 유형은 add()함수 사용 불가\n",
    "- update() : 리스트, 튜플, 딕셔너리, 셋요소를 하나씩 따로 추가. dict사용시 key만 추가\n",
    "cf list의 extend()"
   ]
  },
  {
   "cell_type": "code",
   "execution_count": 113,
   "id": "ede10d9d",
   "metadata": {},
   "outputs": [
    {
     "name": "stdout",
     "output_type": "stream",
     "text": [
      "add() 후 : {1, 2, 3, 4, '오', (6, 7)}\n"
     ]
    }
   ],
   "source": [
    "s = {1, 2, 3}\n",
    "s.add((6,7))\n",
    "s.add(4)\n",
    "s.add('오')\n",
    "print(\"add() 후 :\", s)"
   ]
  },
  {
   "cell_type": "code",
   "execution_count": 122,
   "id": "080fa507",
   "metadata": {},
   "outputs": [
    {
     "name": "stdout",
     "output_type": "stream",
     "text": [
      "0 add 후 : {False, 2, 3}\n"
     ]
    }
   ],
   "source": [
    "# 0이 set에 있는 상태에서 False 추가\n",
    "s = {False, 2, 3}\n",
    "s.add(0)\n",
    "print(\"0 add 후 :\", s)"
   ]
  },
  {
   "cell_type": "code",
   "execution_count": 126,
   "id": "d089f04c",
   "metadata": {},
   "outputs": [
    {
     "name": "stdout",
     "output_type": "stream",
     "text": [
      "update() 후 : {1, 2, 3, 4, 5, 6, 'age', 'name'}\n"
     ]
    }
   ],
   "source": [
    "s = {1, 2, 3}\n",
    "s.update({4, 5, 6})\n",
    "s.update({'name' : '홍', 'age':20})\n",
    "print('update() 후 :', s)"
   ]
  },
  {
   "cell_type": "markdown",
   "id": "e6b98645",
   "metadata": {},
   "source": [
    "## 삭제하기"
   ]
  },
  {
   "cell_type": "code",
   "execution_count": 121,
   "id": "bc591512",
   "metadata": {},
   "outputs": [
    {
     "data": {
      "text/plain": [
       "{1, 3}"
      ]
     },
     "execution_count": 121,
     "metadata": {},
     "output_type": "execute_result"
    }
   ],
   "source": [
    "s = {1, 2, 3, 1, 1}\n",
    "s.remove(2)\n",
    "s"
   ]
  },
  {
   "cell_type": "code",
   "execution_count": null,
   "id": "a1306457",
   "metadata": {},
   "outputs": [],
   "source": [
    "# 없는 요소를 삭제할 경우 예러\n",
    "if 5 in s:\n",
    "    s.re"
   ]
  },
  {
   "cell_type": "code",
   "execution_count": null,
   "id": "4f6bfb20",
   "metadata": {},
   "outputs": [],
   "source": [
    "## 집합연산자\n",
    "- &(교집합), |(합집합), -(차집합)"
   ]
  },
  {
   "cell_type": "code",
   "execution_count": 131,
   "id": "258689dd",
   "metadata": {},
   "outputs": [
    {
     "name": "stdout",
     "output_type": "stream",
     "text": [
      "s1 = {1, 2, 3, 4, 5}\n",
      "s2 = {3, 4, 5, 6, 7}\n",
      "s1&s2 = {3, 4, 5}\n",
      "s2-s1= {6, 7}\n"
     ]
    }
   ],
   "source": [
    "s1 = {1, 2, 3, 4, 5}\n",
    "s2 = {3, 4, 5, 6, 7}\n",
    "print(\"s1 =\", s1)\n",
    "print(\"s2 =\", s2)\n",
    "print(\"s1&s2 =\", s1&s2)\n",
    "print('s2-s1=', s2-s1)"
   ]
  },
  {
   "cell_type": "code",
   "execution_count": 130,
   "id": "0cb3e820",
   "metadata": {},
   "outputs": [
    {
     "name": "stdout",
     "output_type": "stream",
     "text": [
      "길숙\n",
      "길동\n",
      "길자\n"
     ]
    }
   ],
   "source": [
    "names = {'길동','길숙','길자'}\n",
    "for name in names:\n",
    "    print(name)"
   ]
  },
  {
   "cell_type": "markdown",
   "id": "0457b85f",
   "metadata": {},
   "source": [
    "# 5절 enumerate\n",
    "- 반복자. 반복문을 처리할 때 사용할 순서 객체를 생성하는 함수\n",
    "- 리스트, 튜플, 딕셔너리, 셋을 for문에 사용시"
   ]
  },
  {
   "cell_type": "code",
   "execution_count": 132,
   "id": "f78a2b41",
   "metadata": {},
   "outputs": [
    {
     "data": {
      "text/plain": [
       "[(0, '길숙'), (1, '길동'), (2, '길자')]"
      ]
     },
     "execution_count": 132,
     "metadata": {},
     "output_type": "execute_result"
    }
   ],
   "source": [
    "list(enumerate(names))"
   ]
  },
  {
   "cell_type": "code",
   "execution_count": 133,
   "id": "5a83aebf",
   "metadata": {},
   "outputs": [
    {
     "name": "stdout",
     "output_type": "stream",
     "text": [
      "1.길숙\n",
      "2.길동\n",
      "3.길자\n"
     ]
    }
   ],
   "source": [
    "for no, name in enumerate(names):\n",
    "    print(\"{}.{}\".format(no+1, name))"
   ]
  },
  {
   "cell_type": "code",
   "execution_count": 137,
   "id": "94d2156d",
   "metadata": {},
   "outputs": [],
   "source": [
    "names = ['길동', '길자', '길숙']\n",
    "tels = ['02-999-9999', '02-888-8888', '02-777-877']\n",
    "adds = ['서울', '판교', '하남']"
   ]
  },
  {
   "cell_type": "code",
   "execution_count": 155,
   "id": "a6858ad2",
   "metadata": {},
   "outputs": [
    {
     "name": "stdout",
     "output_type": "stream",
     "text": [
      "1님의 연락처는 길동이고, 02-999-9999 살아요\n",
      "2님의 연락처는 길자이고, 02-888-8888 살아요\n",
      "3님의 연락처는 길숙이고, 02-777-877 살아요\n"
     ]
    }
   ],
   "source": [
    "for idx in range(len(names)):\n",
    "    print(\"{}님의 연락처는 {}이고, {} 살아요\".format(idx+1, names[idx], tels[idx], adds[idx]))"
   ]
  },
  {
   "cell_type": "code",
   "execution_count": 156,
   "id": "1e842670",
   "metadata": {},
   "outputs": [
    {
     "data": {
      "text/plain": [
       "[('길동', '02-999-9999', '서울'),\n",
       " ('길자', '02-888-8888', '판교'),\n",
       " ('길숙', '02-777-877', '하남')]"
      ]
     },
     "execution_count": 156,
     "metadata": {},
     "output_type": "execute_result"
    }
   ],
   "source": [
    "list(zip(names, tels, adds))"
   ]
  },
  {
   "cell_type": "code",
   "execution_count": 158,
   "id": "906ad9c9",
   "metadata": {},
   "outputs": [
    {
     "data": {
      "text/plain": [
       "[(0, ('길동', '02-999-9999', '서울')),\n",
       " (1, ('길자', '02-888-8888', '판교')),\n",
       " (2, ('길숙', '02-777-877', '하남'))]"
      ]
     },
     "execution_count": 158,
     "metadata": {},
     "output_type": "execute_result"
    }
   ],
   "source": [
    "list(enumerate(zip(names, tels, adds)))"
   ]
  },
  {
   "cell_type": "code",
   "execution_count": 160,
   "id": "8f26ee39",
   "metadata": {},
   "outputs": [
    {
     "name": "stdout",
     "output_type": "stream",
     "text": [
      "0. 길동님의 연락처는 02-999-9999이고, 서울 살아요\n",
      "1. 길자님의 연락처는 02-888-8888이고, 판교 살아요\n",
      "2. 길숙님의 연락처는 02-777-877이고, 하남 살아요\n"
     ]
    }
   ],
   "source": [
    "for idx, (name, tel, add) in enumerate(zip(names, tels, adds)):\n",
    "#    print(f\"{idx}. {name}님의 연락처는 {}이고, {} 살아요\")\n",
    "    print(\"{}. {}님의 연락처는 {}이고, {} 살아요\".format(idx, name, tel, add))"
   ]
  },
  {
   "cell_type": "code",
   "execution_count": 168,
   "id": "4a393517",
   "metadata": {},
   "outputs": [
    {
     "data": {
      "text/plain": [
       "[{'name': '길동', 'tel': '02-999-9999', 'add': '서울'},\n",
       " {'name': '길자', 'tel': '02-888-8888', 'add': '판교'},\n",
       " {'name': '길숙', 'tel': '02-777-877', 'add': '하남'}]"
      ]
     },
     "execution_count": 168,
     "metadata": {},
     "output_type": "execute_result"
    }
   ],
   "source": [
    "names = ['길동', '길자', '길숙']\n",
    "tels = ['02-999-9999', '02-888-8888', '02-777-877']\n",
    "adds = ['서울', '판교', '하남']\n",
    "members = [] # 딕셔너리 리스트\n",
    "for name, tel, add in zip(names, tels, adds):\n",
    "    member = {'name': name, 'tel':tel, 'add':add}\n",
    "    members.append(member)\n",
    "members"
   ]
  },
  {
   "cell_type": "code",
   "execution_count": 165,
   "id": "17823959",
   "metadata": {},
   "outputs": [
    {
     "data": {
      "text/plain": [
       "[(0, ('길동', '02-999-9999', '서울')),\n",
       " (1, ('길자', '02-888-8888', '판교')),\n",
       " (2, ('길숙', '02-777-877', '하남'))]"
      ]
     },
     "execution_count": 165,
     "metadata": {},
     "output_type": "execute_result"
    }
   ],
   "source": [
    "list(enumerate(zip(names, tels, adds)))"
   ]
  },
  {
   "cell_type": "code",
   "execution_count": 169,
   "id": "713a9fff",
   "metadata": {},
   "outputs": [
    {
     "data": {
      "text/plain": [
       "[{'rank': 1, 'name': '길동', 'tel': '02-999-9999', 'add': '서울'},\n",
       " {'rank': 2, 'name': '길자', 'tel': '02-888-8888', 'add': '판교'},\n",
       " {'rank': 3, 'name': '길숙', 'tel': '02-777-877', 'add': '하남'}]"
      ]
     },
     "execution_count": 169,
     "metadata": {},
     "output_type": "execute_result"
    }
   ],
   "source": [
    "#names = ['길동', '길자', '길숙']\n",
    "#tels = ['02-999-9999', '02-888-8888', '02-777-877']\n",
    "#adds = ['서울', '판교', '하남']\n",
    "members = [] # 딕셔너리 리스트\n",
    "for idx, (name, tel, add) in enumerate(zip(names, tels, adds)):\n",
    "    member = {'rank':idx+1, 'name': name, 'tel':tel, 'add':add}\n",
    "    members.append(member)\n",
    "members"
   ]
  },
  {
   "cell_type": "code",
   "execution_count": null,
   "id": "9839bc88",
   "metadata": {},
   "outputs": [],
   "source": [
    "names = ['길동', '길자', '길숙']\n",
    "tels = ['02-999-9999', '02-888-8888', '02-777-877']\n",
    "adds = ['서울', '판교', '하남']\n",
    "members = [] # 딕셔너리 리스트\n",
    "for name, tel, add in zip(names, tels, adds):\n",
    "    member = {'name': name, 'tel':tel, 'add':add}\n",
    "    members.append(member)\n",
    "members"
   ]
  },
  {
   "cell_type": "code",
   "execution_count": null,
   "id": "a7422f73",
   "metadata": {},
   "outputs": [],
   "source": [
    "[('rank', 'namne': '길동', 'tel': '02-999-9999', 'add': '서울')),\n",
    " ('rank', 'namne': '길자', 'tel': '02-888-8888', 'add': '판교')),\n",
    " ('rank', 'namne': '길숙', 'tel': '02-777-877', 'add': '하남'))]"
   ]
  },
  {
   "cell_type": "markdown",
   "id": "981482b1",
   "metadata": {},
   "source": [
    "# 6절 연습문제\n",
    "## 실습형 연습문제"
   ]
  },
  {
   "cell_type": "markdown",
   "id": "8c57445d",
   "metadata": {},
   "source": [
    "### 1. 숫자 100을 맨 뒤에 추가\n",
    "- numbers = [1,2,3,4,5,6,7,8,9,10]"
   ]
  },
  {
   "cell_type": "code",
   "execution_count": 1,
   "id": "ff3bf10b",
   "metadata": {},
   "outputs": [
    {
     "name": "stdout",
     "output_type": "stream",
     "text": [
      "[1, 2, 3, 4, 5, 6, 7, 8, 9, 10, 100]\n"
     ]
    }
   ],
   "source": [
    "numbers = [1,2,3,4,5,6,7,8,9,10]\n",
    "numbers.append(100)\n",
    "print(numbers)"
   ]
  },
  {
   "cell_type": "markdown",
   "id": "fbbb4d95",
   "metadata": {},
   "source": [
    "### 2. data 리스트를 numbers 리스트 맨 뒤에 추가\n",
    "- numbers = [1,2,3,4,5,6,7,8,9,10]\n",
    "- data = [200, 300, 400, 500]"
   ]
  },
  {
   "cell_type": "code",
   "execution_count": 3,
   "id": "51af5cd9",
   "metadata": {},
   "outputs": [
    {
     "data": {
      "text/plain": [
       "[1, 2, 3, 4, 5, 6, 7, 8, 9, 10, 100, 200, 300, 400, 500, 200, 300, 400, 500]"
      ]
     },
     "execution_count": 3,
     "metadata": {},
     "output_type": "execute_result"
    }
   ],
   "source": [
    "data = [200, 300, 400, 500]\n",
    "numbers.extend(data)\n",
    "numbers"
   ]
  },
  {
   "cell_type": "markdown",
   "id": "1bf4e223",
   "metadata": {},
   "source": [
    "### 3. 처음 다섯 개 숫자만 출력"
   ]
  },
  {
   "cell_type": "code",
   "execution_count": 5,
   "id": "cc8558d7",
   "metadata": {},
   "outputs": [
    {
     "name": "stdout",
     "output_type": "stream",
     "text": [
      "3. 처음 다섯 개 숫자: [1, 2, 3, 4, 5]\n"
     ]
    }
   ],
   "source": [
    "print(\"3. 처음 다섯 개 숫자:\", numbers[:5])"
   ]
  },
  {
   "cell_type": "markdown",
   "id": "67def2fa",
   "metadata": {},
   "source": [
    "### 4. 리스트에서 짝수 번째 데이터만 출력"
   ]
  },
  {
   "cell_type": "code",
   "execution_count": 6,
   "id": "71cf15f7",
   "metadata": {},
   "outputs": [
    {
     "name": "stdout",
     "output_type": "stream",
     "text": [
      "4. 짝수 번째 데이터: [2, 4, 6, 8, 10, 200, 400, 200, 400]\n"
     ]
    }
   ],
   "source": [
    "print(\"4. 짝수 번째 데이터:\", numbers[1::2])"
   ]
  },
  {
   "cell_type": "markdown",
   "id": "7615c7f4",
   "metadata": {},
   "source": [
    "### 5. 짝수 번째 데이터를 모두 0으로 바꾸기"
   ]
  },
  {
   "cell_type": "code",
   "execution_count": 8,
   "id": "b3081150",
   "metadata": {},
   "outputs": [
    {
     "data": {
      "text/plain": [
       "[1, 0, 3, 0, 5, 0, 7, 0, 9, 0, 100, 0, 300, 0, 500, 0, 300, 0, 500]"
      ]
     },
     "execution_count": 8,
     "metadata": {},
     "output_type": "execute_result"
    }
   ],
   "source": [
    "numbers[1::2] = [0] * len(numbers[1::2])\n",
    "numbers"
   ]
  },
  {
   "cell_type": "code",
   "execution_count": 3,
   "id": "13bb038f",
   "metadata": {},
   "outputs": [
    {
     "data": {
      "text/plain": [
       "[0, 1, 0, 3, 0, 5, 0, 7, 0, 9]"
      ]
     },
     "execution_count": 3,
     "metadata": {},
     "output_type": "execute_result"
    }
   ],
   "source": [
    "numbers = list(range(10))\n",
    "numbers[::2] = [0] * len(numbers[::2])\n",
    "print(numbers)"
   ]
  },
  {
   "cell_type": "markdown",
   "id": "4969a259",
   "metadata": {},
   "source": [
    "### 6. 데이터를 역순으로 나열"
   ]
  },
  {
   "cell_type": "code",
   "execution_count": 9,
   "id": "e83cbbe1",
   "metadata": {},
   "outputs": [
    {
     "name": "stdout",
     "output_type": "stream",
     "text": [
      "6. 역순으로 나열: [500, 0, 300, 0, 500, 0, 300, 0, 100, 0, 9, 0, 7, 0, 5, 0, 3, 0, 1]\n"
     ]
    }
   ],
   "source": [
    "numbers.reverse()\n",
    "print(\"6. 역순으로 나열:\", numbers)"
   ]
  },
  {
   "cell_type": "markdown",
   "id": "6a749212",
   "metadata": {},
   "source": [
    "member_info = {\"name\":\"홍길동\", \"age\":20, \"address\":\"서울시 마포구\", \"score\":90}\n"
   ]
  },
  {
   "cell_type": "markdown",
   "id": "34dc386f",
   "metadata": {},
   "source": [
    "### 7. address 값을 출력하세요\n"
   ]
  },
  {
   "cell_type": "code",
   "execution_count": 13,
   "id": "e816bdd0",
   "metadata": {},
   "outputs": [
    {
     "name": "stdout",
     "output_type": "stream",
     "text": [
      "문제07. address 값: 서울시 마포구\n",
      "초기 딕셔너리: {'name': '홍길동', 'age': 20, 'address': '서울시 마포구', 'score': 90}\n",
      "\n"
     ]
    }
   ],
   "source": [
    "member_info = {\"name\":\"홍길동\", \"age\":20, \"address\":\"서울시 마포구\", \"score\":90}\n",
    "print(\"문제07. address 값:\", member_info[\"address\"])\n",
    "print(\"초기 딕셔너리:\", member_info)\n",
    "print()"
   ]
  },
  {
   "cell_type": "markdown",
   "id": "ddec9578",
   "metadata": {},
   "source": [
    "### 8. score를 출력하고 member_info 딕셔너리에서 삭제하세요\n"
   ]
  },
  {
   "cell_type": "code",
   "execution_count": 16,
   "id": "4aed8304",
   "metadata": {},
   "outputs": [
    {
     "name": "stdout",
     "output_type": "stream",
     "text": [
      "문제08. score 값: 90\n",
      "        score 삭제 후: {'name': '홍길동', 'age': 20, 'address': '서울시 마포구'}\n"
     ]
    }
   ],
   "source": [
    "print(\"문제08. score 값:\", member_info[\"score\"])\n",
    "del member_info[\"score\"]\n",
    "print(\"        score 삭제 후:\", member_info)"
   ]
  },
  {
   "cell_type": "markdown",
   "id": "5c2213b7",
   "metadata": {},
   "source": [
    "### 9. address를 \"서울시 서대문구\"로 변경하세요"
   ]
  },
  {
   "cell_type": "code",
   "execution_count": 19,
   "id": "23650115",
   "metadata": {},
   "outputs": [
    {
     "name": "stdout",
     "output_type": "stream",
     "text": [
      "문제09. address 변경 후: {'name': '홍길동', 'age': 20, 'address': '서울시 서대문구'}\n"
     ]
    }
   ],
   "source": [
    "member_info[\"address\"] = \"서울시 서대문구\"\n",
    "print(\"문제09. address 변경 후:\", member_info)"
   ]
  },
  {
   "cell_type": "markdown",
   "id": "e2566d99",
   "metadata": {},
   "source": [
    "### 10. member_info 딕셔너리 데이터의 값을 리스트로 출력하세요"
   ]
  },
  {
   "cell_type": "code",
   "execution_count": 20,
   "id": "bfa81d51",
   "metadata": {},
   "outputs": [
    {
     "name": "stdout",
     "output_type": "stream",
     "text": [
      "문제10. 딕셔너리 값들을 리스트로: ['홍길동', 20, '서울시 서대문구']\n"
     ]
    }
   ],
   "source": [
    "values_list = list(member_info.values())\n",
    "print(\"문제10. 딕셔너리 값들을 리스트로:\", values_list)"
   ]
  },
  {
   "cell_type": "markdown",
   "id": "a46d6514",
   "metadata": {},
   "source": [
    "## 서술형 연습문제\n",
    "### 1. 다음 코드를 실행했을 때 출력되는 것은 \n",
    "L1 = (“orange”,”apple”,”banana”,”kiwi\") \n",
    "new_list = [(i for i in L1 if len i )>5] \n",
    "print(new_list)"
   ]
  },
  {
   "cell_type": "code",
   "execution_count": 21,
   "id": "5c3982d0",
   "metadata": {},
   "outputs": [
    {
     "name": "stdout",
     "output_type": "stream",
     "text": [
      "['orange', 'banana']\n"
     ]
    }
   ],
   "source": [
    "L1 = (\"orange\",\"apple\",\"banana\",\"kiwi\")\n",
    "new_list = [i for i in L1 if len(i) > 5]\n",
    "print(new_list)"
   ]
  },
  {
   "cell_type": "markdown",
   "id": "407ed101",
   "metadata": {},
   "source": [
    "### 2. 다음 코드와 실행결과가 잘못 짝지어진 것은?"
   ]
  },
  {
   "cell_type": "markdown",
   "id": "6156e1af",
   "metadata": {},
   "source": [
    "① print(list(range(10))) → [0, 1, 2, 3, 4, 5, 6, 7, 8, 9] ✓ (올바름)\n",
    "② print(list(range(5,10))) → [5, 6, 7, 8, 9] ✓ (올바름)\n",
    "③ print(list(range(10,0,1))) → [9, 8, 7, 6, 5, 4, 3, 2, 1, 0] ✗ (잘못됨)\n",
    "④ print(list(range(10,20,2))) → [10, 12, 14, 16, 18] ✓ (올바름)"
   ]
  },
  {
   "cell_type": "code",
   "execution_count": null,
   "id": "6e122ea5",
   "metadata": {},
   "outputs": [],
   "source": []
  },
  {
   "cell_type": "markdown",
   "id": "8b080d9c",
   "metadata": {},
   "source": [
    "### 3. 다음 구문에 의해 출력되는 것은? \n",
    "numbers_2d = [ [1,2,3,4,5], [10,20,30,40],[1,3,5],[2,] ] \n",
    "len (numbers_2d[3]"
   ]
  },
  {
   "cell_type": "markdown",
   "id": "767f657b",
   "metadata": {},
   "source": [
    "답 : 1. \n",
    "-numbers_2d[3]은 [2,] (네 번째 리스트)\n",
    "len([2,])는 1"
   ]
  },
  {
   "cell_type": "markdown",
   "id": "65f2e68e",
   "metadata": {},
   "source": [
    "### 4. 다음 코드의 실행결과가 나올 수 있는 빈칸에 들어갈 함수 이름은? \n",
    "numbers = [1,2,3,4,5] numbers.__([10,20,30,40,50]) numbers 결과 : [1,2,3,4,5,10,20,30,40,50]"
   ]
  },
  {
   "cell_type": "code",
   "execution_count": null,
   "id": "ad6ac0f9",
   "metadata": {},
   "outputs": [],
   "source": [
    "빈칸에 들어갈 함수 이름은 **extend**입니다."
   ]
  },
  {
   "cell_type": "markdown",
   "id": "efebdaea",
   "metadata": {},
   "source": [
    "### 5. 다음 구문을 실행할 때 결과는 ?\n",
    "numbers = list(range(10))\n",
    "numbers[ : : 2]= [0] * len(numbers[ : :2]\n",
    "print(numbers)\" "
   ]
  },
  {
   "cell_type": "markdown",
   "id": "52655095",
   "metadata": {},
   "source": [
    "numbers = list(range(10))\n",
    "numbers[::2] = [0] * len(numbers[::2])\n",
    "print(numbers)\n",
    "이 코드를 실행하면:\n",
    "\n",
    "numbers = list(range(10)) → [0, 1, 2, 3, 4, 5, 6, 7, 8, 9]\n",
    "numbers[::2]는 [0, 2, 4, 6, 8] (짝수 인덱스 요소들)\n",
    "len(numbers[::2])는 5\n",
    "[0] * 5는 [0, 0, 0, 0, 0]\n",
    "numbers[::2] = [0, 0, 0, 0, 0]로 짝수 인덱스 위치의 값들을 모두 0으로 변경\n",
    "결과: [0, 1, 0, 3, 0, 5, 0, 7, 0, 9]"
   ]
  },
  {
   "cell_type": "markdown",
   "id": "d2b26f91",
   "metadata": {},
   "source": [
    "### 6. 다음 구문을 실행할 때 결과는?\n",
    "numbers = [0,1,2,3,4,5,6,7,8,9]\n",
    "numbers[ : : 2]= numbers[5:]\n",
    "print(numbers)"
   ]
  },
  {
   "cell_type": "code",
   "execution_count": null,
   "id": "a78d85be",
   "metadata": {},
   "outputs": [],
   "source": [
    "이 코드를 실행하면 결과는 다음과 같습니다:\n",
    "[5, 1, 6, 3, 7, 5, 8, 7, 9, 9]"
   ]
  },
  {
   "cell_type": "markdown",
   "id": "1b6fd215",
   "metadata": {},
   "source": [
    "### 7. 다음 구문을 실행할 때 결과는?\n",
    "numbers = [0, 1, 2, 3, 4, 5, 6, 7, 8, 9]\n",
    "numbers[ : : 2]= numbers[:5]\n",
    "print(numbers)"
   ]
  },
  {
   "cell_type": "code",
   "execution_count": null,
   "id": "b73243c0",
   "metadata": {},
   "outputs": [],
   "source": [
    "이 코드를 실행하면 다음과 같은 결과가 출력됩니다:\n",
    "\n",
    "[0, 1, 1, 3, 2, 5, 3, 7, 4, 9]\n",
    "\n",
    "단계별 분석:\n",
    "numbers = [0, 1, 2, 3, 4, 5, 6, 7, 8, 9]\n",
    "numbers[::2]는 [0, 2, 4, 6, 8] (인덱스 0, 2, 4, 6, 8의 요소들)\n",
    "numbers[:5]는 [0, 1, 2, 3, 4] (처음 5개 요소)\n",
    "numbers[::2] = numbers[:5]는 짝수 인덱스 위치의 값들을 [0, 1, 2, 3, 4]로 차례대로 교체:\n",
    "인덱스 0: 0 → 0\n",
    "인덱스 2: 2 → 1\n",
    "인덱스 4: 4 → 2\n",
    "인덱스 6: 6 → 3\n",
    "인덱스 8: 8 → 4\n",
    "최종 결과: [0, 1, 1, 3, 2, 5, 3, 7, 4, 9]\n",
    "홀수 인덱스의 값들(1, 3, 5, 7, 9)은 그대로 유지되고, 짝수 인덱스의 값들만 변경됩니다."
   ]
  },
  {
   "cell_type": "markdown",
   "id": "d7c3d3b1",
   "metadata": {},
   "source": [
    "### 8. 다음 데이터에서 10 을 출력할 수 없는 구문은?  "
   ]
  },
  {
   "cell_type": "code",
   "execution_count": null,
   "id": "e10f9b00",
   "metadata": {},
   "outputs": [],
   "source": [
    "① my_dic[0] → KeyError 발생\n",
    "\n",
    "딕셔너리의 키는 \"a\", \"b\", \"c\"이고, 숫자 0은 키로 존재하지 않음\n",
    "② my_dic['a'] → 10 출력 ✓\n",
    "\n",
    "키 'a'의 값인 10을 반환\n",
    "③ list(my_dic.items())[0][1] → 10 출력 ✓\n",
    "\n",
    "my_dic.items()는 dict_items([('a', 10), ('b', 20), ('c', 30)])\n",
    "list(...)로 변환하면 [('a', 10), ('b', 20), ('c', 30)]\n",
    "[0]은 첫 번째 튜플 ('a', 10)\n",
    "[1]은 튜플의 두 번째 요소인 10\n",
    "④ list(my_dic.values())[0] → 10 출력 ✓\n",
    "\n",
    "my_dic.values()는 dict_values([10, 20, 30])\n",
    "list(...)로 변환하면 [10, 20, 30]\n",
    "[0]은 첫 번째 값인 10\n",
    "⑤ my_dic.get('a') → 10 출력 ✓\n",
    "\n",
    "get() 메서드로 키 'a'의 값인 10을 반환\n",
    "따라서 정답은 ①번입니다."
   ]
  },
  {
   "cell_type": "markdown",
   "id": "e0b2f833",
   "metadata": {},
   "source": [
    "### 9. 다음 프로그램의 결과를 출력하시오? \n",
    "fruits = [ ‘apple’, ‘banana’, ‘orange’] \n",
    "x, y, z = fruits \n",
    "print(x) \n",
    "print(y) \n",
    "print(z)"
   ]
  },
  {
   "cell_type": "code",
   "execution_count": null,
   "id": "6011004d",
   "metadata": {},
   "outputs": [],
   "source": [
    "이 프로그램의 결과는 다음과 같습니다:\n",
    "apple\n",
    "banana\n",
    "orange\n",
    "설명:\n",
    "\n",
    "fruits = ['apple', 'banana', 'orange']로 리스트를 생성\n",
    "x, y, z = fruits는 언패킹(unpacking) 또는 **다중 할당(multiple assignment)**으로, 리스트의 각 요소를 변수에 순서대로 할당합니다:\n",
    "x = 'apple' (첫 번째 요소)\n",
    "y = 'banana' (두 번째 요소)\n",
    "z = 'orange' (세 번째 요소)\n",
    "각 변수를 출력하면 할당된 문자열이 출력됩니다\n",
    "이는 Python의 시퀀스 언패킹 기능으로, 리스트나 튜플의 요소들을 여러 변수에 한 번에 할당할 수 있습니다."
   ]
  },
  {
   "cell_type": "markdown",
   "id": "6756da19",
   "metadata": {},
   "source": [
    "### 10. 다음 프로그램의 결과를 출력하시오 \n",
    "fruits = [‘apple’, ‘banana’, ‘orange’] \n",
    "print(len(fruits)"
   ]
  },
  {
   "cell_type": "code",
   "execution_count": null,
   "id": "4f0dc3c1",
   "metadata": {},
   "outputs": [],
   "source": [
    "출력 결과는:\n",
    "3\n",
    "len(fruits)는 리스트 fruits의 요소 개수를 반환하므로, 'apple', 'banana', 'orange' 총 3개의 요소가 있어서 3이 출력됩니다."
   ]
  },
  {
   "cell_type": "markdown",
   "id": "cda8e713",
   "metadata": {},
   "source": [
    "### 11. 파이썬에서 함수를 만들기 위해 선언하는 단어는?"
   ]
  },
  {
   "cell_type": "code",
   "execution_count": null,
   "id": "010b60b8",
   "metadata": {},
   "outputs": [],
   "source": [
    "파이썬에서 함수를 만들기 위해 선언하는 단어는 **def**입니다.\n",
    "\n",
    "사용법:\n",
    "\n",
    "python\n",
    "def 함수명(매개변수):\n",
    "    실행할 코드\n",
    "    return 반환값  # 선택사항"
   ]
  },
  {
   "cell_type": "markdown",
   "id": "8264ecc4",
   "metadata": {},
   "source": [
    "<img src=\"https://pynative.com/wp-content/uploads/2021/02/python-data-types.jpg\" style=\"float:left\" width=\"500\">"
   ]
  }
 ],
 "metadata": {
  "kernelspec": {
   "display_name": "Python 3 (ipykernel)",
   "language": "python",
   "name": "python3"
  },
  "language_info": {
   "codemirror_mode": {
    "name": "ipython",
    "version": 3
   },
   "file_extension": ".py",
   "mimetype": "text/x-python",
   "name": "python",
   "nbconvert_exporter": "python",
   "pygments_lexer": "ipython3",
   "version": "3.10.9"
  },
  "toc": {
   "base_numbering": 1,
   "nav_menu": {},
   "number_sections": false,
   "sideBar": true,
   "skip_h1_title": false,
   "title_cell": "Table of Contents",
   "title_sidebar": "Contents",
   "toc_cell": false,
   "toc_position": {
    "height": "calc(100% - 180px)",
    "left": "10px",
    "top": "150px",
    "width": "393.509px"
   },
   "toc_section_display": true,
   "toc_window_display": true
  }
 },
 "nbformat": 4,
 "nbformat_minor": 5
}
