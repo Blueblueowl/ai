{
 "cells": [
  {
   "cell_type": "markdown",
   "id": "29196cfc",
   "metadata": {},
   "source": [
    "# 4절 포맷팅"
   ]
  },
  {
   "cell_type": "code",
   "execution_count": null,
   "id": "b231f6b1",
   "metadata": {},
   "outputs": [],
   "source": []
  },
  {
   "cell_type": "markdown",
   "id": "0bc08017",
   "metadata": {},
   "source": [
    "## 4.1. 문자열 형식"
   ]
  },
  {
   "cell_type": "code",
   "execution_count": 23,
   "id": "10856bfb",
   "metadata": {},
   "outputs": [
    {
     "data": {
      "text/html": [
       "\n",
       "<style>\n",
       "div.container{width:90% !important;}\n",
       "div.cell.code_cell.rendered{width:100%;}\n",
       "div.input_prompt{padding:0px;}\n",
       "div.CodeMirror {font-family:Consolas; font-size:22pt;}\n",
       "div.text_cell_render.rendered_html{font-size:22pt;}\n",
       "div.output {font-size:22pt; font-weight:bold;}\n",
       "div.input {font-family:Consolas; font-size:22pt;}\n",
       "div.prompt {min-width:100px;}\n",
       "div#toc-wrapper{padding-top:120px;}\n",
       "div.text_cell_render ul li{font-size:22pt;padding:5px;}\n",
       "table.dataframe{font-size:22px;}\n",
       "</style>\n"
      ],
      "text/plain": [
       "<IPython.core.display.HTML object>"
      ]
     },
     "metadata": {},
     "output_type": "display_data"
    }
   ],
   "source": [
    "from IPython.display import display, HTML\n",
    "display(HTML(\"\"\"\n",
    "<style>\n",
    "div.container{width:90% !important;}\n",
    "div.cell.code_cell.rendered{width:100%;}\n",
    "div.input_prompt{padding:0px;}\n",
    "div.CodeMirror {font-family:Consolas; font-size:22pt;}\n",
    "div.text_cell_render.rendered_html{font-size:22pt;}\n",
    "div.output {font-size:22pt; font-weight:bold;}\n",
    "div.input {font-family:Consolas; font-size:22pt;}\n",
    "div.prompt {min-width:100px;}\n",
    "div#toc-wrapper{padding-top:120px;}\n",
    "div.text_cell_render ul li{font-size:22pt;padding:5px;}\n",
    "table.dataframe{font-size:22px;}\n",
    "</style>\n",
    "\"\"\"))"
   ]
  },
  {
   "cell_type": "code",
   "execution_count": null,
   "id": "efc46270",
   "metadata": {},
   "outputs": [],
   "source": [
    "# data에서 전화번호 없애기\n",
    "tel_pattern = r\"0\\d{1,2}[\\-\\.)]?\\d{3,4}[\\-\\.]?\\d{4}\"\n",
    "re.sub(tel_pattern, '')"
   ]
  },
  {
   "cell_type": "code",
   "execution_count": null,
   "id": "4cccec98",
   "metadata": {},
   "outputs": [],
   "source": [
    "# 파일 경로\n",
    "file_path = r\"D:\\ai\\source\\01_python\\data\\ch02.txt\"\n",
    "file_path = \"D:\\ai\\source\\01_python\\data\\ch02.txt\"\n",
    "file_path = \"D:\\ai\\source\\01_python\\data\\ch02.txt\""
   ]
  },
  {
   "cell_type": "markdown",
   "id": "c4ec9a56",
   "metadata": {},
   "source": [
    "## 4.2. format()문법"
   ]
  },
  {
   "cell_type": "markdown",
   "id": "e8c605cc",
   "metadata": {},
   "source": [
    "## 4.2 format() 문법\n",
    "- \"{[인덱스]:[공백대체문자],[정렬방식],[자릿수],[타입]}\".format(변수명)\n",
    "* 인덱스 : format 함수안의 매개변수 순서\n",
    "* 정렬방식 : <(왼쪽 정렬), >(오른쪽 정렬), ^(가운데정렬)\n",
    "* 정수자릿수 : 출력할 자릿수\n",
    "* 문자자릿수 : 전체출력될 자리수, 변수중에 출력할 자리수\n",
    "* 타입 : d(10진수), o(8진수), x(16진수), b(2진수), s(문자)\n",
    "* 공백대체문자는 정렬방식을 명시하여 함."
   ]
  },
  {
   "cell_type": "code",
   "execution_count": 1,
   "id": "1367789d",
   "metadata": {},
   "outputs": [
    {
     "name": "stdout",
     "output_type": "stream",
     "text": [
      "[12345][     12345][12345]\n",
      "[Hello][Hello     ][Hello]\n"
     ]
    }
   ],
   "source": [
    "# 숫자의 경우 오른쪽 정렬(기본)\n",
    "# 문자의 경우 왼쪽 정렬(기본)\n",
    "a = 12345\n",
    "s = 'Hello'\n",
    "print(\"[{0}][{0:10}][{0:3}]\".format(a))\n",
    "print(\"[{0}][{0:10}][{0:3}]\".format(s))"
   ]
  },
  {
   "cell_type": "code",
   "execution_count": 4,
   "id": "01680441",
   "metadata": {},
   "outputs": [
    {
     "name": "stdout",
     "output_type": "stream",
     "text": [
      "[  10][ 20 ][   3]\n"
     ]
    }
   ],
   "source": [
    "# 정렬방식 : <, ^, > \n",
    "a, b, c = 10, 20,3\n",
    "print(\"[{:>4}][{:^4}][{:>4}]\".format(a, b, c))"
   ]
  },
  {
   "cell_type": "code",
   "execution_count": 6,
   "id": "1bdda1cc",
   "metadata": {},
   "outputs": [
    {
     "name": "stdout",
     "output_type": "stream",
     "text": [
      "[$$$$$$$$10][ 12.57[____He]]\n"
     ]
    }
   ],
   "source": [
    "# 실수 자릿수 ex. 10.2f:전체10자리 소수정2자리\n",
    "a = 10\n",
    "f = 12.569\n",
    "s = \"Hello\"\n",
    "print(\"[{:$>10}][{:6.2f}[{:_>6.2}]]\".format(a, f, s))"
   ]
  },
  {
   "cell_type": "code",
   "execution_count": 8,
   "id": "df557246",
   "metadata": {},
   "outputs": [
    {
     "name": "stdout",
     "output_type": "stream",
     "text": [
      "[      +123],[      -123],[         3]\n"
     ]
    }
   ],
   "source": [
    "# 자리수앞에 *를 붙이면 양수의 경우도 부호출력\n",
    "a, b = 123, -123\n",
    "print(\"[{:+10}],[{:+10}],[{:10}]\".format(a, b, c))"
   ]
  },
  {
   "cell_type": "code",
   "execution_count": 11,
   "id": "d0b4d2c9",
   "metadata": {},
   "outputs": [
    {
     "name": "stdout",
     "output_type": "stream",
     "text": [
      "10진수 [  15]\n",
      "8진수 [  17]\n",
      "16진수 [   f]\n",
      "2진수 [1111]\n"
     ]
    }
   ],
   "source": [
    "# 10진수, 8진수, 16진수, 2진수 출력\n",
    "a = 15\n",
    "print(\"10진수 [{:4d}]\".format(a))\n",
    "print(\"8진수 [{:4o}]\".format(a))\n",
    "print(\"16진수 [{:4x}]\".format(a))\n",
    "print(\"2진수 [{:4b}]\".format(a))"
   ]
  },
  {
   "cell_type": "code",
   "execution_count": 13,
   "id": "e9d8bb3e",
   "metadata": {},
   "outputs": [
    {
     "name": "stdout",
     "output_type": "stream",
     "text": [
      "[    +2.785]\n"
     ]
    }
   ],
   "source": [
    "a = 2.785\n",
    "sign = \"+\"\n",
    "print(\"[{:{}10.4}]\".format(a, sign))"
   ]
  },
  {
   "cell_type": "code",
   "execution_count": null,
   "id": "e4a2f1d4",
   "metadata": {},
   "outputs": [],
   "source": [
    "a = 2.785\n",
    "sign1 = \"+\"\n",
    "width1 = 10\n",
    "precision1 = 4\n",
    "print(\"[{:{}10.4}]\".format(a, sign))\n",
    "print(\"[{:{}10.4}]\".format(a, sign))\n",
    "sign=sign1, width=width1, precision=precision1))"
   ]
  },
  {
   "cell_type": "markdown",
   "id": "a0f6f849",
   "metadata": {},
   "source": [
    "## 4.3 날짜출력"
   ]
  },
  {
   "cell_type": "code",
   "execution_count": 17,
   "id": "85cdf711",
   "metadata": {},
   "outputs": [
    {
     "data": {
      "text/plain": [
       "'C:\\\\Users\\\\Admin\\\\anaconda4\\\\lib\\\\datetime.py'"
      ]
     },
     "execution_count": 17,
     "metadata": {},
     "output_type": "execute_result"
    }
   ],
   "source": [
    "import datetime\n",
    "datetime.__file__"
   ]
  },
  {
   "cell_type": "code",
   "execution_count": 19,
   "id": "09886507",
   "metadata": {},
   "outputs": [
    {
     "data": {
      "text/plain": [
       "datetime.datetime(2025, 9, 11, 0, 0)"
      ]
     },
     "execution_count": 19,
     "metadata": {},
     "output_type": "execute_result"
    }
   ],
   "source": [
    "import datetime # datetime 모듈(파이썬 프로그램 파일 datetime.py) 전체를 메로리 Load\n",
    "from datetime import datetime # datetime 모듈 안의 datetime 만 메모리 load \n",
    "thatday1 = datetime(2025, 9, 11) #25년 9월 11일 0시 0분 0초\n",
    "thatday2 = datetime(2025, 9, 11, 14, 30, 0)\n",
    "thatday1"
   ]
  },
  {
   "cell_type": "code",
   "execution_count": 20,
   "id": "7d5181e8",
   "metadata": {},
   "outputs": [
    {
     "name": "stdout",
     "output_type": "stream",
     "text": [
      "25년 09월 11일 00 00분 00초\n",
      "25년 09월 11일 AM 12시 00분 00초\n"
     ]
    }
   ],
   "source": [
    "# Y(년도4자리), y(년도2자리) m(월) d(일) p(am/pm) I(12시간) H(24시간) M(분) S(초)\n",
    "print(\"{:%y년 %m월 %d일 %H시 %M분 %S초}\".format(thatday1))\n",
    "print(\"{:%y년 %m월 %d일 %p %I시 %M분 %S초}\".format(thatday1))"
   ]
  },
  {
   "cell_type": "code",
   "execution_count": 21,
   "id": "eb273a68",
   "metadata": {},
   "outputs": [
    {
     "ename": "SyntaxError",
     "evalue": "invalid syntax (1721578397.py, line 1)",
     "output_type": "error",
     "traceback": [
      "\u001b[1;36m  Cell \u001b[1;32mIn[21], line 1\u001b[1;36m\u001b[0m\n\u001b[1;33m    thatday1.strtime(%y년 %m월 %d일 %H시 %M분 %S초)\u001b[0m\n\u001b[1;37m                     ^\u001b[0m\n\u001b[1;31mSyntaxError\u001b[0m\u001b[1;31m:\u001b[0m invalid syntax\n"
     ]
    }
   ],
   "source": [
    "thatday1.strtime(%y년 %m월 %d일 %H시 %M분 %S초)"
   ]
  },
  {
   "cell_type": "code",
   "execution_count": 24,
   "id": "f5db9376",
   "metadata": {},
   "outputs": [
    {
     "ename": "SyntaxError",
     "evalue": "invalid syntax (22605848.py, line 1)",
     "output_type": "error",
     "traceback": [
      "\u001b[1;36m  Cell \u001b[1;32mIn[24], line 1\u001b[1;36m\u001b[0m\n\u001b[1;33m    thatday2.strtime(%y년 %m월 %d일 %p %I시 %M분 %S초)\u001b[0m\n\u001b[1;37m                     ^\u001b[0m\n\u001b[1;31mSyntaxError\u001b[0m\u001b[1;31m:\u001b[0m invalid syntax\n"
     ]
    }
   ],
   "source": [
    "thatday2.strtime(%y년 %m월 %d일 %p %I시 %M분 %S초)"
   ]
  },
  {
   "cell_type": "code",
   "execution_count": 27,
   "id": "824f3911",
   "metadata": {},
   "outputs": [
    {
     "ename": "SyntaxError",
     "evalue": "invalid syntax. Perhaps you forgot a comma? (1836449074.py, line 1)",
     "output_type": "error",
     "traceback": [
      "\u001b[1;36m  Cell \u001b[1;32mIn[27], line 1\u001b[1;36m\u001b[0m\n\u001b[1;33m    지금(날짜와 시간) 원하는 스타일로 출력\u001b[0m\n\u001b[1;37m       ^\u001b[0m\n\u001b[1;31mSyntaxError\u001b[0m\u001b[1;31m:\u001b[0m invalid syntax. Perhaps you forgot a comma?\n"
     ]
    }
   ],
   "source": [
    "지금(날짜와 시간) 원하는 스타일로 출력\n",
    "print(\"{:%Y-%m-%d-%p-%i-%M}\".format(now))"
   ]
  },
  {
   "cell_type": "code",
   "execution_count": 28,
   "id": "adc697c1",
   "metadata": {},
   "outputs": [
    {
     "ename": "ValueError",
     "evalue": "Invalid format string",
     "output_type": "error",
     "traceback": [
      "\u001b[1;31m---------------------------------------------------------------------------\u001b[0m",
      "\u001b[1;31mValueError\u001b[0m                                Traceback (most recent call last)",
      "Cell \u001b[1;32mIn[28], line 3\u001b[0m\n\u001b[0;32m      1\u001b[0m \u001b[38;5;66;03m# 지금을 문자열로 전화하는 함수\u001b[39;00m\n\u001b[0;32m      2\u001b[0m \u001b[38;5;28;01mfrom\u001b[39;00m \u001b[38;5;21;01mtime\u001b[39;00m \u001b[38;5;28;01mimport\u001b[39;00m strftime\n\u001b[1;32m----> 3\u001b[0m \u001b[43mstrftime\u001b[49m\u001b[43m(\u001b[49m\u001b[38;5;124;43m\"\u001b[39;49m\u001b[38;5;124;43m%\u001b[39;49m\u001b[38;5;124;43mY-\u001b[39;49m\u001b[38;5;124;43m%\u001b[39;49m\u001b[38;5;124;43mm-\u001b[39;49m\u001b[38;5;132;43;01m%d\u001b[39;49;00m\u001b[38;5;124;43m \u001b[39;49m\u001b[38;5;124;43m%\u001b[39;49m\u001b[38;5;124;43mp \u001b[39;49m\u001b[38;5;132;43;01m%E\u001b[39;49;00m\u001b[38;5;124;43m:\u001b[39;49m\u001b[38;5;124;43m%\u001b[39;49m\u001b[38;5;124;43mM \u001b[39;49m\u001b[38;5;124;43m\"\u001b[39;49m\u001b[43m)\u001b[49m\n",
      "\u001b[1;31mValueError\u001b[0m: Invalid format string"
     ]
    }
   ],
   "source": [
    "# 지금을 문자열로 전화하는 함수\n",
    "from time import strftime\n",
    "strftime(\"%Y-%m-%d %p %E:%M \")"
   ]
  },
  {
   "cell_type": "markdown",
   "id": "52cf7866",
   "metadata": {},
   "source": [
    "# 5. 연산자"
   ]
  },
  {
   "cell_type": "markdown",
   "id": "5461f3c7",
   "metadata": {},
   "source": [
    "## 5.1. 비교연산과 비트연산"
   ]
  },
  {
   "cell_type": "markdown",
   "id": "09bd4353",
   "metadata": {},
   "source": [
    "## 5.2. 할당연산자 =, +=, -=, /=, +=, //=, %="
   ]
  },
  {
   "cell_type": "code",
   "execution_count": 29,
   "id": "9a48b243",
   "metadata": {},
   "outputs": [
    {
     "name": "stdout",
     "output_type": "stream",
     "text": [
      "a = 15\n"
     ]
    }
   ],
   "source": [
    "a = 10\n",
    "a += 5                # a = a + 5와 동일\n",
    "print(f\"a = {a}\")"
   ]
  },
  {
   "cell_type": "code",
   "execution_count": 30,
   "id": "359dca62",
   "metadata": {},
   "outputs": [
    {
     "name": "stdout",
     "output_type": "stream",
     "text": [
      "a = 15\n"
     ]
    }
   ],
   "source": [
    "a -= 5                 # a = a-5와 동일\n",
    "a += 5\n",
    "print(f\"a = {a}\")"
   ]
  },
  {
   "cell_type": "code",
   "execution_count": null,
   "id": "5632bbad",
   "metadata": {},
   "outputs": [],
   "source": [
    "a -= 5                  #  a = a-5\n",
    "print(\"5빼기 :\", a)      # 10\n",
    "a *= 10                 # 100\n",
    "\n"
   ]
  },
  {
   "cell_type": "markdown",
   "id": "c0aedc1d",
   "metadata": {},
   "source": [
    "## 5.3 논리연산자 : &, and, |, or, not"
   ]
  },
  {
   "cell_type": "code",
   "execution_count": 31,
   "id": "149449ff",
   "metadata": {},
   "outputs": [
    {
     "ename": "SyntaxError",
     "evalue": "unmatched ')' (505029533.py, line 2)",
     "output_type": "error",
     "traceback": [
      "\u001b[1;36m  Cell \u001b[1;32mIn[31], line 2\u001b[1;36m\u001b[0m\n\u001b[1;33m    print(10>3)&(10>5)) # 논리연산 true & True\u001b[0m\n\u001b[1;37m                      ^\u001b[0m\n\u001b[1;31mSyntaxError\u001b[0m\u001b[1;31m:\u001b[0m unmatched ')'\n"
     ]
    }
   ],
   "source": [
    "#& 논리연산자, 비트연산자\n",
    "print(10>3)&(10>5)) # 논리연산 true & True\n",
    "print( 12&1 ) # 비트 연산  1100(12)\n",
    "                      #   0001\n",
    "                      # &:0000"
   ]
  },
  {
   "cell_type": "code",
   "execution_count": 33,
   "id": "108bfec8",
   "metadata": {},
   "outputs": [
    {
     "name": "stdout",
     "output_type": "stream",
     "text": [
      "[]\n"
     ]
    }
   ],
   "source": [
    "# | : 논리연산\n",
    "# 모든 항이 거짓이면 마지막항의 결과 반환\n",
    "# result = True | False\n",
    "print(False or 0 or '' or None or [])"
   ]
  },
  {
   "cell_type": "code",
   "execution_count": 34,
   "id": "0bf812b9",
   "metadata": {},
   "outputs": [
    {
     "data": {
      "text/plain": [
       "False"
      ]
     },
     "execution_count": 34,
     "metadata": {},
     "output_type": "execute_result"
    }
   ],
   "source": [
    "not 10>5"
   ]
  },
  {
   "cell_type": "markdown",
   "id": "3232a58b",
   "metadata": {},
   "source": [
    "## 5.4 비교연산자 : >, >=, <, <=, ==(같다), != (다르다)"
   ]
  },
  {
   "cell_type": "code",
   "execution_count": 35,
   "id": "036a3eeb",
   "metadata": {},
   "outputs": [
    {
     "name": "stdout",
     "output_type": "stream",
     "text": [
      "True\n"
     ]
    }
   ],
   "source": [
    "## 5.4 비교연산자 : >, >=, <, <=, ==(같다), != (다르다)\n",
    "print( (10>5) & (10>7))"
   ]
  },
  {
   "cell_type": "markdown",
   "id": "48c08e4c",
   "metadata": {},
   "source": [
    "## 5.5 비트연산 : &, |, ^ "
   ]
  },
  {
   "cell_type": "code",
   "execution_count": null,
   "id": "ce132ca6",
   "metadata": {},
   "outputs": [],
   "source": [
    "## 5.5 비트연산 : &, |, ^(XOR), ~(반대)"
   ]
  },
  {
   "cell_type": "code",
   "execution_count": 6,
   "id": "67683505",
   "metadata": {},
   "outputs": [
    {
     "name": "stdout",
     "output_type": "stream",
     "text": [
      "  a = 15 : 1111\n",
      "  b =  2 : 0010\n",
      "a&b =  2 : 0010\n",
      "a|b = 15 : 1111\n",
      "a^b = 13 : 1101\n",
      "~a = -16 : -10000\n"
     ]
    }
   ],
   "source": [
    "a = 15 # 1111(8+4+2+1)\n",
    "b =  2 # 0010\n",
    "print(\"  a = {0:2} : {0:04b}\".format(a))\n",
    "print(\"  b = {0:2} : {0:04b}\".format(b))\n",
    "print(\"a&b = {0:2} : {0:04b}\".format(a&b))\n",
    "print(\"a|b = {0:2} : {0:04b}\".format(a|b))\n",
    "print(\"a^b = {0:2} : {0:04b}\".format(a^b))\n",
    "print(\"~a = {0:2} : {0:04b}\".format(~a))"
   ]
  },
  {
   "cell_type": "markdown",
   "id": "678be0d4",
   "metadata": {},
   "source": [
    "# 6. 문자열 다루기\n",
    "- 문자열변수.[from:to:step] : 일부 문자 추출\n",
    "- len(문자열변수)\n",
    "- upper() : 대문자로 바꿔주기\n",
    "- lower() : 소문자로 바꿔주기\n",
    "- title() : 각 어절의 앞글자만 대문자로\n",
    "- capitalize() : 첫문자만 대문자로\n",
    "- count(\"찾을 문자\") : \"찾을 문자\"가 몇개 들어있는지 갯수 반환\n",
    "- find(\"찾을 문자\") : \"찾을 문자\"가 왼쪽부터 몇번째에 있는지 index를 반환 (없으면 -1)\n",
    "- rfind(\"찾을 문자\") : \"찾을 분자\"가 오른쪽부터 몇번째에 있는지 index를 반환 (없으면 -1)\n",
    "  cf. index(\"찾을 문자\") : 찾을 분자\"가 왼쪽부터 몇번째에 있는지 index를 반환 (없으면 에러)\n",
    "- startswith(\"특정문자\") : \"특정문자\"로 시작하는지 여부 반환\n",
    "- endswith(\"특정문자\") : \"특정문자\"로 끝나는지 여부 반환\n",
    "\n",
    "- strip() : 좌우공백제거(trim)\n",
    "- lstrip() : 좌우 공백 제거\n",
    "- rstrip() : 오른쪽 공백 제거\n",
    "- split() : 문자열을 공백이나 다른 문자 기준으로 나누어 리스트로 반환\n",
    "- isdigit() : 문자열이 숫자문자열인지 여부 반환\n",
    "- islower() : 문자열이 소문자열인지 여부 반환\n",
    "- isupper() : 문자열이 대문자열인지 여부 반환\n",
    "- replace(oldStr, newStr) : oldStr을 newStr로 변경"
   ]
  },
  {
   "cell_type": "code",
   "execution_count": 7,
   "id": "7aa6db00",
   "metadata": {},
   "outputs": [
    {
     "data": {
      "text/plain": [
       "1000"
      ]
     },
     "execution_count": 7,
     "metadata": {},
     "output_type": "execute_result"
    }
   ],
   "source": [
    "int(\"1000\".replace(\",\", \"\"))"
   ]
  },
  {
   "cell_type": "code",
   "execution_count": 12,
   "id": "5b57e496",
   "metadata": {},
   "outputs": [
    {
     "data": {
      "text/plain": [
       "('python is easy. phython is smart. python', 40)"
      ]
     },
     "execution_count": 12,
     "metadata": {},
     "output_type": "execute_result"
    }
   ],
   "source": [
    "temp = \"python is easy. phython is smart. python\"\n",
    "temp, len(temp)"
   ]
  },
  {
   "cell_type": "code",
   "execution_count": 13,
   "id": "bd59f366",
   "metadata": {},
   "outputs": [
    {
     "name": "stdout",
     "output_type": "stream",
     "text": [
      "대문자로 : PYTHON IS EASY. PHYTHON IS SMART. PYTHON\n"
     ]
    }
   ],
   "source": [
    "temp = \"python is easy. phython is smart. python\"\n",
    "print(\"대문자로 :\", temp.upper())"
   ]
  },
  {
   "cell_type": "code",
   "execution_count": 14,
   "id": "161ce34a",
   "metadata": {},
   "outputs": [
    {
     "name": "stdout",
     "output_type": "stream",
     "text": [
      "대문자로 : python is easy. phython is smart. python\n"
     ]
    }
   ],
   "source": [
    "temp = \"python is easy. phython is smart. python\"\n",
    "print(\"대문자로 :\", temp.lower())"
   ]
  },
  {
   "cell_type": "code",
   "execution_count": 15,
   "id": "1637e4c1",
   "metadata": {},
   "outputs": [
    {
     "name": "stdout",
     "output_type": "stream",
     "text": [
      "대문자로 : Python Is Easy. Phython Is Smart. Python\n"
     ]
    }
   ],
   "source": [
    "temp = \"python is easy. phython is smart. python\"\n",
    "print(\"대문자로 :\", temp.title())"
   ]
  },
  {
   "cell_type": "code",
   "execution_count": 44,
   "id": "38a52500",
   "metadata": {},
   "outputs": [
    {
     "name": "stdout",
     "output_type": "stream",
     "text": [
      "대문자로 : PYTHON IS EASY. PYTHON IS SMART. PYTHON\n",
      "소문자로 : python is easy. python is smart. python\n",
      "title : Python Is Easy. Python Is Smart. Python\n",
      "capitalize(): Python is easy. python is smart. python\n",
      "C가 몇번 나오는지 : 0\n",
      "대소문자 구분없이 python이 몇번 : 3\n",
      "대소문자 구분없이 python이 몇번 : 3\n",
      "대소문자 구분없이 python이 몇번 : 3\n",
      "python이 나오는 첫 index 위치 : 0\n",
      "python이 나오는 첫 index 위치 : 33\n",
      "C가 나오는 index 위치 : -1\n",
      "python이 나오는 첫 index 위치 : 0\n",
      "python으로 시작하는 여부 : True\n",
      "대소문자 구분없이 python으로 시작하는 여부 : True\n",
      "python으로 끝나는지 여부 : True\n",
      "n으로 끝나는지 여부 : True\n",
      "python을 R로 변경 : R is easy. R is smart. R\n"
     ]
    }
   ],
   "source": [
    "temp = \"python is easy. python is smart. python\"\n",
    "temp, len(temp)\n",
    "print(\"대문자로 :\", temp.upper())\n",
    "print(\"소문자로 :\", temp.lower())\n",
    "print(\"title :\", temp.title())\n",
    "print(\"capitalize():\", temp.capitalize())\n",
    "print(\"C가 몇번 나오는지 :\", temp.count(\"C\"))\n",
    "print(\"대소문자 구분없이 python이 몇번 :\", temp.lower().count(\"python\"))\n",
    "print(\"대소문자 구분없이 python이 몇번 :\", temp.upper().count(\"PYTHON\"))\n",
    "print(\"대소문자 구분없이 python이 몇번 :\", temp.title().count(\"Python\"))\n",
    "print(\"python이 나오는 첫 index 위치 :\", temp.find(\"python\"))\n",
    "print(\"python이 나오는 첫 index 위치 :\", temp.rfind(\"python\"))\n",
    "print(\"C가 나오는 index 위치 :\", temp.find(\"C\")) # 찾을문자가 없을 경우 -1\n",
    "print(\"python이 나오는 첫 index 위치 :\", temp.index(\"python\"))\n",
    "# print(\"java가 나오는 첫 index 위치 :\", temp.index(\"java\")) # 찾을문자가 없을 경우 -1는 내는 것이 아니라 에러가 남\n",
    "print(\"python으로 시작하는 여부 :\", temp.startswith(\"python\"))\n",
    "print(\"대소문자 구분없이 python으로 시작하는 여부 :\", temp.lower().startswith(\"python\"))\n",
    "print(\"python으로 끝나는지 여부 :\", temp.startswith(\"python\"))\n",
    "print(\"n으로 끝나는지 여부 :\", temp.endswith(\"n\"))\n",
    "print(\"python을 R로 변경 :\", temp.replace(\"python\", \"R\"))"
   ]
  },
  {
   "cell_type": "code",
   "execution_count": 39,
   "id": "473f6b12",
   "metadata": {},
   "outputs": [
    {
     "name": "stdout",
     "output_type": "stream",
     "text": [
      "공백 유지 : [    phone is easy    ]\n",
      "좌우 공백 제거 : [phone is easy]\n",
      "왼쪽 공백 제거 : [phone is easy    ]\n",
      "오른쪽 공백 제거 : [    phone is easy]\n",
      "isdigit(숫자문자)인지 여부 : False\n",
      "replace후 isdigit : True\n",
      "대문자인 여부 : False\n",
      "소문자인 여부 : True\n"
     ]
    }
   ],
   "source": [
    "temp = \"    phone is easy    \"\n",
    "notdigit = \"1,000\"\n",
    "print(\"공백 유지 : [{}]\".format(temp))\n",
    "print(\"좌우 공백 제거 : [{}]\".format(temp.strip()) )\n",
    "print(\"왼쪽 공백 제거 : [{}]\".format(temp.lstrip()) )\n",
    "print(\"오른쪽 공백 제거 : [{}]\".format(temp.rstrip()) )\n",
    "print(\"isdigit(숫자문자)인지 여부 :\", notdigit.isdigit())\n",
    "print(\"replace후 isdigit :\", notdigit.replace(\",\", \"\").isdigit() )\n",
    "print(\"대문자인 여부 :\", temp.isupper() ) \n",
    "print(\"소문자인 여부 :\", temp.islower() )"
   ]
  },
  {
   "cell_type": "code",
   "execution_count": 47,
   "id": "5d2e561b",
   "metadata": {},
   "outputs": [
    {
     "name": "stdout",
     "output_type": "stream",
     "text": [
      "space단위로 names분리(list로 반환) : ['홍길동', '김길동', '박길동', '주길동', '고길동']\n",
      "홍길동 김길동\n"
     ]
    }
   ],
   "source": [
    "names = \"홍길동 김길동    박길동 주길동 고길동\"\n",
    "name_list = names.split()\n",
    "print(\"space단위로 names분리(list로 반환) :\", name_list)\n",
    "print(name_list[0], name_list[1])"
   ]
  },
  {
   "cell_type": "code",
   "execution_count": 53,
   "id": "514cee32",
   "metadata": {},
   "outputs": [
    {
     "name": "stdout",
     "output_type": "stream",
     "text": [
      "['2025', '09', '17']\n",
      "년도 : 2025\n",
      "월 : 09\n",
      "일 : 17\n"
     ]
    }
   ],
   "source": [
    "date_str = \"2025-09-17\"\n",
    "date_list = date_str.split(\"-\")\n",
    "print(date_list)\n",
    "print(\"년도 :\", date_list[0])\n",
    "print(\"월 :\", date_list[1])\n",
    "print(\"일 :\", date_list[2])"
   ]
  },
  {
   "cell_type": "code",
   "execution_count": 54,
   "id": "e5644d25",
   "metadata": {},
   "outputs": [
    {
     "data": {
      "text/plain": [
       "('A', 'B', 'C')"
      ]
     },
     "execution_count": 54,
     "metadata": {},
     "output_type": "execute_result"
    }
   ],
   "source": [
    "str_ = \"ABC\"\n",
    "str_ = [\"A\", \"B\", \"C\"]\n",
    "str_[0], str_[1], str_[2]"
   ]
  },
  {
   "cell_type": "code",
   "execution_count": 67,
   "id": "12c51721",
   "metadata": {
    "collapsed": true
   },
   "outputs": [
    {
     "name": "stdout",
     "output_type": "stream",
     "text": [
      "['Python', '웹(HTML/CSS/JS)', 'Oracle/MySQL(DBMS)', 'DL/ML(M/DNN/CNN/RNN)', 'LLM(RAG)']\n",
      "분리된 temp : ['Python', '웹(HTML/CSS/JS)', 'Oracle/MySQL(DBMS)', 'DL/ML(M/DNN/CNN/RNN)', 'LLM(RAG)']\n",
      "join temp : Python/웹(HTML/CSS/JS)/Oracle/MySQL(DBMS)/DL/ML(M/DNN/CNN/RNN)/LLM(RAG)\n"
     ]
    }
   ],
   "source": [
    "# ' - '을 '/'로 바꾸기\n",
    "temp = \"Python - 웹(HTML/CSS/JS) - Oracle/MySQL(DBMS) - DL/ML(M/DNN/CNN/RNN) - LLM(RAG)\"\n",
    "temp.replace(\"-\", \"/\")\n",
    "#split()와 join 이용하여 replace역할\n",
    "splited_temp = temp.split(\" - \")\n",
    "print(splited_temp)\n",
    "print('분리된 temp :', splited_temp)\n",
    "joined_temp = \"/\".join(splited_temp)\n",
    "print(\"join temp :\", joined_temp)"
   ]
  },
  {
   "cell_type": "code",
   "execution_count": 68,
   "id": "5bf83966",
   "metadata": {},
   "outputs": [],
   "source": [
    "# 문자열을 다룰 수 있는 함수들 목록\n",
    "temp = \"a\""
   ]
  },
  {
   "cell_type": "markdown",
   "id": "fbd40605",
   "metadata": {},
   "source": [
    "# 7. 시간, 날짜 다루기"
   ]
  },
  {
   "cell_type": "code",
   "execution_count": 69,
   "id": "782fede3",
   "metadata": {},
   "outputs": [
    {
     "data": {
      "text/plain": [
       "'C:\\\\Users\\\\Admin\\\\anaconda4\\\\lib\\\\datetime.py'"
      ]
     },
     "execution_count": 69,
     "metadata": {},
     "output_type": "execute_result"
    }
   ],
   "source": [
    "import datetime\n",
    "datetime.__file__"
   ]
  },
  {
   "cell_type": "code",
   "execution_count": 13,
   "id": "2d62b596",
   "metadata": {},
   "outputs": [],
   "source": [
    "# datetime모듈(datetime.py) 안의 datetime, date, time 만 load\n",
    "from datetime import datetime, date, time"
   ]
  },
  {
   "cell_type": "markdown",
   "id": "49379df3",
   "metadata": {},
   "source": [
    "## 7.1. 시간과 날짜"
   ]
  },
  {
   "cell_type": "code",
   "execution_count": 14,
   "id": "fb61b460",
   "metadata": {},
   "outputs": [
    {
     "data": {
      "text/plain": [
       "datetime.datetime(2025, 9, 11, 9, 30)"
      ]
     },
     "execution_count": 14,
     "metadata": {},
     "output_type": "execute_result"
    }
   ],
   "source": [
    "# 특정 시점을 갖는 datetime 객체 생성\n",
    "thatday = datetime(2025, 9, 11, 9, 30)\n",
    "thatday"
   ]
  },
  {
   "cell_type": "code",
   "execution_count": 17,
   "id": "e350d43e",
   "metadata": {},
   "outputs": [
    {
     "name": "stdout",
     "output_type": "stream",
     "text": [
      "25년09월11일(Thursday) 09:30:00\n",
      "25년09월11일(Thursday) 09:30:00\n",
      "Thu Sep 11 09:30:00 2025\n"
     ]
    }
   ],
   "source": [
    "# 날짜를 문자열로 전환\n",
    "print(\"{:%y년%m월%d일(%A) %H:%M:%S}\".format(thatday))\n",
    "print(thatday.strftime(\"%y년%m월%d일(%A) %H:%M:%S\"))\n",
    "print(thatday.ctime())"
   ]
  },
  {
   "cell_type": "code",
   "execution_count": 18,
   "id": "5a88e34d",
   "metadata": {},
   "outputs": [
    {
     "name": "stdout",
     "output_type": "stream",
     "text": [
      "2025-09-17 14:32:12.361688\n",
      "Wed Sep 17 14:32:12 2025\n",
      "25년09월17일(Wednesday) 02:32:12\n"
     ]
    }
   ],
   "source": [
    "# 지금을 저장하는 datetime 객체 생성\n",
    "now = datetime.now()\n",
    "print(now)\n",
    "print(now.ctime())\n",
    "print(now.strftime(\"%y년%m월%d일(%A) %I:%M:%S\"))"
   ]
  },
  {
   "cell_type": "code",
   "execution_count": 19,
   "id": "f3160cce",
   "metadata": {},
   "outputs": [
    {
     "name": "stdout",
     "output_type": "stream",
     "text": [
      "6 days, 5:02:12.361688\n",
      "6\n"
     ]
    }
   ],
   "source": [
    "diff = now-thatday\n",
    "print(diff)\n",
    "print(diff.days)"
   ]
  },
  {
   "cell_type": "markdown",
   "id": "1512e906",
   "metadata": {},
   "source": [
    "## 7.2 날짜"
   ]
  },
  {
   "cell_type": "code",
   "execution_count": 23,
   "id": "af930be1",
   "metadata": {},
   "outputs": [
    {
     "data": {
      "text/plain": [
       "datetime.date(2025, 9, 11)"
      ]
     },
     "execution_count": 23,
     "metadata": {},
     "output_type": "execute_result"
    }
   ],
   "source": [
    "# 특정한 날짜를 갖는 date 객체 생성\n",
    "someday = date(2025,9,11)\n",
    "someday"
   ]
  },
  {
   "cell_type": "code",
   "execution_count": null,
   "id": "358936ae",
   "metadata": {},
   "outputs": [],
   "source": []
  },
  {
   "cell_type": "code",
   "execution_count": 22,
   "id": "be92cdba",
   "metadata": {},
   "outputs": [
    {
     "name": "stdout",
     "output_type": "stream",
     "text": [
      "2025-09-11\n",
      "25년 09월 11일 00:00\n"
     ]
    }
   ],
   "source": [
    "print(someday)\n",
    "print(someday.strftime(\"%y년 %m월 %d일 %H:%M\"))"
   ]
  },
  {
   "cell_type": "code",
   "execution_count": 26,
   "id": "5bc7dd61",
   "metadata": {},
   "outputs": [
    {
     "name": "stdout",
     "output_type": "stream",
     "text": [
      "True\n"
     ]
    }
   ],
   "source": [
    "# 오늘을 갖는 date 객체 생성\n",
    "today1 = date.today()\n",
    "today2 = datetime.now().date()\n",
    "print(today1 == today2)"
   ]
  },
  {
   "cell_type": "code",
   "execution_count": 28,
   "id": "3587bd45",
   "metadata": {},
   "outputs": [
    {
     "name": "stdout",
     "output_type": "stream",
     "text": [
      "2025년09월17일 00:00\n",
      "2025년09월17일 00:00\n"
     ]
    }
   ],
   "source": [
    "print(today1.strftime(\"%Y년%m월%d일 %H:%M\"))\n",
    "print(today2.strftime(\"%Y년%m월%d일 %H:%M\"))"
   ]
  },
  {
   "cell_type": "code",
   "execution_count": 30,
   "id": "0691eeff",
   "metadata": {},
   "outputs": [
    {
     "name": "stdout",
     "output_type": "stream",
     "text": [
      "-6 days, 0:00:00\n",
      "-6\n"
     ]
    }
   ],
   "source": [
    "diff = someday - today1\n",
    "print(diff)\n",
    "print(diff.days)"
   ]
  },
  {
   "cell_type": "markdown",
   "id": "688aaa87",
   "metadata": {},
   "source": [
    "## 7.3 시간"
   ]
  },
  {
   "cell_type": "code",
   "execution_count": 32,
   "id": "d263a9a5",
   "metadata": {},
   "outputs": [
    {
     "data": {
      "text/plain": [
       "datetime.time(14, 39)"
      ]
     },
     "execution_count": 32,
     "metadata": {},
     "output_type": "execute_result"
    }
   ],
   "source": [
    "# 특정한 시간을 저장하는 time 객체 생성\n",
    "t = time(14, 39, 0)\n",
    "t"
   ]
  },
  {
   "cell_type": "code",
   "execution_count": 34,
   "id": "b180f145",
   "metadata": {},
   "outputs": [
    {
     "name": "stdout",
     "output_type": "stream",
     "text": [
      "PM 02:39\n",
      "1900년 01월 01일 PM 02:39\n"
     ]
    }
   ],
   "source": [
    "print(t.strftime(\"%p %I:%M\"))\n",
    "print(t.strftime(\"%Y년 %m월 %d일 %p %I:%M\"))"
   ]
  },
  {
   "cell_type": "code",
   "execution_count": 35,
   "id": "76d3c457",
   "metadata": {},
   "outputs": [
    {
     "name": "stdout",
     "output_type": "stream",
     "text": [
      "14:43:50.175342\n"
     ]
    }
   ],
   "source": [
    "# 현재 시간\n",
    "nowtime = datetime.now().time()\n",
    "print(nowtime)"
   ]
  },
  {
   "cell_type": "code",
   "execution_count": 36,
   "id": "6cf9d37c",
   "metadata": {},
   "outputs": [
    {
     "data": {
      "text/plain": [
       "datetime.datetime(1752, 1, 12, 3, 0)"
      ]
     },
     "execution_count": 36,
     "metadata": {},
     "output_type": "execute_result"
    }
   ],
   "source": [
    "datetime(1752, 1, 12, 3)"
   ]
  },
  {
   "cell_type": "markdown",
   "id": "7799b1b7",
   "metadata": {},
   "source": [
    "# 연습문제"
   ]
  },
  {
   "cell_type": "markdown",
   "id": "c7c883cc",
   "metadata": {},
   "source": [
    "[문제01] 이름과 나이 변수를 다음 형식으로 출력하도록 format() 함수를 이용해 형식화\n",
    "- [출력형식 : 홍길동님의 나이는 23살입니다]"
   ]
  },
  {
   "cell_type": "code",
   "execution_count": 37,
   "id": "da6e0382",
   "metadata": {
    "scrolled": true
   },
   "outputs": [
    {
     "name": "stdout",
     "output_type": "stream",
     "text": [
      "이름을 입력하세요: 홍길동\n",
      "나이를 입력하세요: 23\n",
      "홍길동님의 나이는 23살입니다\n"
     ]
    }
   ],
   "source": [
    "name = input(\"이름을 입력하세요: \")\n",
    "age = int(input(\"나이를 입력하세요: \"))\n",
    "print(\"{}님의 나이는 {}살입니다\".format(name, age))"
   ]
  },
  {
   "cell_type": "markdown",
   "id": "72d35557",
   "metadata": {},
   "source": [
    "[문제02] 두 정수를 입력 받아 두 수의 덧셈, 뺄셈, 곱셈, 나눗셈, 몫, 나머지를 출력하라."
   ]
  },
  {
   "cell_type": "code",
   "execution_count": 1,
   "id": "5b5f2cc0",
   "metadata": {},
   "outputs": [
    {
     "name": "stdout",
     "output_type": "stream",
     "text": [
      "첫 번째 정수를 입력하세요: 12\n",
      "두 번째 정수를 입력하세요: 34\n",
      "덧셈: a + b = 12 + 34 = 46\n",
      "뺄셈: a - b = 12 + 34 = -22\n",
      "곱셈: a * b = 12 * 34 = 408\n",
      "나눗셈: a / b = 12 / 34 = 0.35294117647058826\n",
      "몫: a // b = 12 // 34 = 0\n",
      "나머지: a % b = 12 % 34 = 12\n"
     ]
    }
   ],
   "source": [
    "a = int(input(\"첫 번째 정수를 입력하세요: \"))\n",
    "b = int(input(\"두 번째 정수를 입력하세요: \"))\n",
    "\n",
    "# 연산 수행 및 출력\n",
    "print(f\"덧셈: a + b = {a} + {b} = {a+b}\")\n",
    "print(f\"뺄셈: a - b = {a} + {b} = {a-b}\")\n",
    "print(f\"곱셈: a * b = {a} * {b} = {a*b}\")\n",
    "print(f\"나눗셈: a / b = {a} / {b} = {a / b}\")\n",
    "print(f\"몫: a // b = {a} // {b} = {a // b}\")\n",
    "print(f\"나머지: a % b = {a} % {b} = {a % b}\")"
   ]
  },
  {
   "cell_type": "markdown",
   "id": "c5ab6986",
   "metadata": {},
   "source": [
    "[문제03] 문자열의 분리하기와 합치기 기능을 이용하여 ‘Hello World’가 할당된 변수를 이용하여 ‘World Hello’로 출력하세요"
   ]
  },
  {
   "cell_type": "code",
   "execution_count": 13,
   "id": "01776903",
   "metadata": {},
   "outputs": [
    {
     "name": "stdout",
     "output_type": "stream",
     "text": [
      "World Hello\n"
     ]
    }
   ],
   "source": [
    "text = \"Hello World\"\n",
    "words = text.split()\n",
    "result = words[1]+\" \"+words[0]\n",
    "print(result)  # World Hello"
   ]
  },
  {
   "cell_type": "markdown",
   "id": "cf6408ac",
   "metadata": {},
   "source": [
    "#### "
   ]
  },
  {
   "cell_type": "markdown",
   "id": "40514795",
   "metadata": {},
   "source": [
    "[문제04]. x = 'abcdef＇를 이용하여 ‘bcdefa’로 출력하세요(문자 슬라이싱이용)."
   ]
  },
  {
   "cell_type": "code",
   "execution_count": 14,
   "id": "03bf9f87",
   "metadata": {},
   "outputs": [
    {
     "name": "stdout",
     "output_type": "stream",
     "text": [
      "bcdefa\n"
     ]
    }
   ],
   "source": [
    "x = 'abcdef'\n",
    "result = x[1:] + x[0]\n",
    "print(result)  # bcdefa"
   ]
  },
  {
   "cell_type": "markdown",
   "id": "a6752037",
   "metadata": {},
   "source": [
    "[문제05]. x = ‘abcdef’를 이용하여 ‘fedcba’로 출력하세요"
   ]
  },
  {
   "cell_type": "code",
   "execution_count": 15,
   "id": "0c0ea5fd",
   "metadata": {},
   "outputs": [
    {
     "name": "stdout",
     "output_type": "stream",
     "text": [
      "fedcba\n"
     ]
    }
   ],
   "source": [
    "x = 'abcdef'\n",
    "result = x[-1::-1]\n",
    "print(result)  # bcdefa"
   ]
  },
  {
   "cell_type": "markdown",
   "id": "97528595",
   "metadata": {},
   "source": [
    "[문제06] 오늘의 온도를 섭씨온도로 입력받아 화씨 온도로 변환하는 프로그램을 작성하세요. \n",
    "- 화씨 온도는 소수점이 있을 경우만  두번째 자리까지 출력되고, \n",
    "- 소수점이하 값이 없는 경우 소수점을 출력하지 않도록 합니다.\n",
    "- (다음은 섭씨와 화씨의 변환 공식입니다. C는 섭씨, F는 화씨)\n",
    "- C = (F-32) / 1.8\n",
    "- F = (C*1.8) + 32"
   ]
  },
  {
   "cell_type": "code",
   "execution_count": 17,
   "id": "8979caf1",
   "metadata": {},
   "outputs": [
    {
     "name": "stdout",
     "output_type": "stream",
     "text": [
      "오늘의 온도를 섭씨로 입력하세요: 34\n",
      "화씨 온도: 93.20°F\n"
     ]
    }
   ],
   "source": [
    "celsius = float(input(\"오늘의 온도를 섭씨로 입력하세요: \"))\n",
    "fahrenheit = (celsius * 1.8) + 32\n",
    "\n",
    "if fahrenheit % 1 == 0:\n",
    "    print(\"화씨 온도: {}°F\".format(int(fahrenheit)))\n",
    "else:\n",
    "    print(\"화씨 온도: {:.2f}°F\".format(fahrenheit))\n"
   ]
  },
  {
   "cell_type": "code",
   "execution_count": 20,
   "id": "48f933d0",
   "metadata": {},
   "outputs": [
    {
     "name": "stdout",
     "output_type": "stream",
     "text": [
      "섭씨 온도를 입력하세요23\n",
      "입력하신 섭씨 23도는 화씨온도 73.40도입니다\n"
     ]
    }
   ],
   "source": [
    "# 6.섭씨온도로 입력받아 화씨 온도로 변환\n",
    "c = int(input(\"섭씨 온도를 입력하세요\"))\n",
    "f = (c*1.8)+32\n",
    "# print(\"입력하신 섭씨 {}도는 화씨온도 {:.2f}도입니다\".format(c, f))\n",
    "if f%1==0:\n",
    "    print(\"입력하신 섭씨 {}도는 화씨온도 {:.0f}도입니다\".format(c, f))\n",
    "else:\n",
    "    print(\"입력하신 섭씨 {}도는 화씨온도 {:.2f}도입니다\".format(c, f))\n",
    "# 섭씨 온도를 입력하세요2\n",
    "# 입력하신 섭씨 2도는 화씨온도 35.60도입니다"
   ]
  },
  {
   "cell_type": "markdown",
   "id": "8521e5b1",
   "metadata": {},
   "source": [
    "[문제07] 다음 중 변수 선언으로 잘못된 것을 모두 고르시오?\n",
    "(1) for\n",
    "(2) 10th\n",
    "(3) Student.name\n",
    "(4) _1234"
   ]
  },
  {
   "cell_type": "markdown",
   "id": "dfd5032e",
   "metadata": {},
   "source": [
    "답: (1), (2), (3)\n",
    "파이썬에서 변수 선언으로 잘못된 것은 (1), (2), (3) 입니다.\n",
    "(1) for 잘못됨\n",
    "이유: 파이썬의 예약어(keyword)\n",
    "예약어는 변수명으로 사용 불가\n",
    "python\n",
    "for = 5  # SyntaxError: invalid syntax\n",
    "(2) 10th 잘못됨\n",
    "이유: 숫자로 시작하는 변수명\n",
    "변수명은 반드시 문자나 언더스코어(_)로 시작해야 함\n",
    "10th = \"tenth\"  # SyntaxError: invalid decimal literal\n",
    "(3) Student.name 잘못됨\n",
    "이유: 점(.)은 변수명에 사용 불가\n",
    "점은 속성 접근 연산자로 예약되어 있음\n",
    "Student.name = \"John\"  # 변수 선언이 아닌 속성 접근 시도\n",
    "(4) _1234 올바름\n",
    "언더스코어(_)로 시작하는 변수명은 허용됨\n",
    "_1234 = \"valid\"  # 정상 작동\n",
    "* 파이썬 변수명 규칙:\n",
    "문자(a-z, A-Z) 또는 언더스코어(_)로 시작\n",
    "이후에는 문자, 숫자(0-9), 언더스코어 사용 가능\n",
    "예약어 사용 불가\n",
    "특수문자(!, @, #, $, %, ., 등) 사용 불가\n",
    "공백 사용 불가"
   ]
  },
  {
   "cell_type": "markdown",
   "id": "4f0b5b70",
   "metadata": {},
   "source": [
    "[문제08] 다음의 코드의 실행결과는?\n",
    "- text = \"Seoul A001 - programming with python\"\n",
    "- print(text[:4]+text[-1]+text.split()[0])\n",
    "- print(text[:4], text[-1], text.split()[0])"
   ]
  },
  {
   "cell_type": "markdown",
   "id": "2b9e3ce9",
   "metadata": {},
   "source": [
    "- 실행 결과:\n",
    "- 첫 번째 print문: SeounSeoul\n",
    "- 두 번째 print문: Seou n Seoul\n",
    "\n",
    "- 첫 번째 print문:\n",
    "- print(text[:4]+text[-1]+text.split()[0])\n",
    "- text[:4] → \"Seou\" (처음 4글자)\n",
    "- text[-1] → \"n\" (마지막 글자)\n",
    "- text.split()[0] → \"Seoul\" (공백으로 나눈 첫 번째 단어)\n",
    "- 연결: \"Seou\" + \"n\" + \"Seoul\" = \"SeounSeoul\"\n",
    "\n",
    "- 두 번째 print문:\n",
    "- print(text[:4], text[-1], text.split()[0])\n",
    "- text[:4] → \"Seou\"\n",
    "- text[-1] → \"n\"\n",
    "- text.split()[0] → \"Seoul\"\n",
    "- print()에 콤마로 구분된 여러 인자 → 공백으로 구분되어 출력\n",
    "- 결과: \"Seou n Seoul\""
   ]
  },
  {
   "cell_type": "markdown",
   "id": "53d64d46",
   "metadata": {},
   "source": [
    "[문제09] 다음 중 파이썬 3.x 버전에서 연산식과 그 결과의 출력이 잘못된 것은?\n",
    "- (1) 수식 8//2 결과 4\n",
    "- (2) 수식 8/2  결과 4\n",
    "- (3) 수식 8 **2 결과 64 "
   ]
  },
  {
   "cell_type": "markdown",
   "id": "e267e729",
   "metadata": {},
   "source": [
    "답: (2)\n",
    "파이썬 3.x 버전에서 잘못된 것은 (2)번\n",
    "\n",
    "- Python 3.x에서\n",
    "- print(8//2)  # 4 (정수)\n",
    "- print(8/2)   # 4.0 (실수)\n",
    "- print(8**2)  # 64 (정수)\n",
    "\n",
    "(2) 8/2 → 4 틀림\n",
    "- /는 실수 나눗셈(true division)\n",
    "- Python 3.x에서는 항상 float 타입 반환\n",
    "- 실제 결과: 4.0\n"
   ]
  },
  {
   "cell_type": "markdown",
   "id": "a248b726",
   "metadata": {},
   "source": [
    "[문제10] 아래 프로그램의 결과는?\n",
    "- x = 5\n",
    "- y = \"John\"\n",
    "- print(x + y)"
   ]
  },
  {
   "cell_type": "markdown",
   "id": "daeeae86",
   "metadata": {},
   "source": [
    "에러"
   ]
  },
  {
   "cell_type": "markdown",
   "id": "ca47ca5e",
   "metadata": {},
   "source": [
    "[문제11] split()함수를 이용하여 str_의 값 중 ＂나라＂를 출력하는 프로그램을 완성하시오\n",
    "- str_ = \"우리 나라 대한 민국\""
   ]
  },
  {
   "cell_type": "markdown",
   "id": "5713d14e",
   "metadata": {},
   "source": [
    "- str_.split()은 문자열을 공백 기준으로 나누어 리스트를 만듦\n",
    "- 결과: ['우리', '나라', '대한', '민국']\n",
    "- 인덱스 [1]로 두 번째 요소인 \"나라\"를 선택\n",
    "- Python의 인덱스는 0부터 시작하므로 두 번째 요소는 인덱스 1\n",
    "\n",
    "- str_ = \"우리 나라 대한 민국\"\n",
    "- words = str_.split()\n",
    "- print(words)  # ['우리', '나라', '대한', '민국']\n",
    "- print(words[1])  # 나라"
   ]
  },
  {
   "cell_type": "code",
   "execution_count": null,
   "id": "02289b3c",
   "metadata": {},
   "outputs": [],
   "source": []
  }
 ],
 "metadata": {
  "kernelspec": {
   "display_name": "Python 3 (ipykernel)",
   "language": "python",
   "name": "python3"
  },
  "language_info": {
   "codemirror_mode": {
    "name": "ipython",
    "version": 3
   },
   "file_extension": ".py",
   "mimetype": "text/x-python",
   "name": "python",
   "nbconvert_exporter": "python",
   "pygments_lexer": "ipython3",
   "version": "3.10.9"
  },
  "toc": {
   "base_numbering": 1,
   "nav_menu": {},
   "number_sections": false,
   "sideBar": true,
   "skip_h1_title": false,
   "title_cell": "Table of Contents",
   "title_sidebar": "Contents",
   "toc_cell": false,
   "toc_position": {
    "height": "calc(100% - 180px)",
    "left": "10px",
    "top": "150px",
    "width": "165px"
   },
   "toc_section_display": true,
   "toc_window_display": true
  }
 },
 "nbformat": 4,
 "nbformat_minor": 5
}
