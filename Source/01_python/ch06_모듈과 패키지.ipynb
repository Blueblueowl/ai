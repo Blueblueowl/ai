{
 "cells": [
  {
   "cell_type": "code",
   "execution_count": null,
   "id": "1a110132",
   "metadata": {},
   "outputs": [],
   "source": [
    "from IPython.display import display, HTML\n",
    "display(HTML(\"\"\"\n",
    "<style>\n",
    "div.container{width:90% !important;}\n",
    "div.cell.code_cell.rendered{width:100%;}\n",
    "div.input_prompt{padding:0px;}\n",
    "div.CodeMirror {font-family:Consolas; font-size:22pt;}\n",
    "div.text_cell_render.rendered_html{font-size:12pt;}\n",
    "div.output {font-size:12pt; font-weight:bold;}\n",
    "div.input {font-family:Consolas; font-size:12pt;}\n",
    "div.prompt {min-width:140px;}\n",
    "div#toc-wrapper{padding-top:120px;}\n",
    "div.text_cell_render ul li{font-size:12pt;padding:5px;}\n",
    "table.dataframe{font-size:12px;}\n",
    "</style>\n",
    "\"\"\"))"
   ]
  },
  {
   "cell_type": "markdown",
   "id": "73590472",
   "metadata": {},
   "source": [
    "<b><font size=\"7\" color=\"red\">ch06.모듈과 패키지</font></b>\n",
    "\n",
    "# 1절 파이썬 표준 모듈 사용\n",
    "\n",
    "- 모듈 : 함수, 변수, 클래스 등을 담고 있는 파이썬 코드 파일(*.py)\n",
    "- python.org : 파이썬 표준 모듈 200여개는 파이썬 인터프리터와 함께 install 됨(sys, re, datetime, ....)\n",
    "- miniconda는 python.org버전보다 조금 더 많은 모듈을 install\n",
    "- anaconda는 1500개 이상의 패키지 install(정확한 갯수는 버전마다 상이)"
   ]
  },
  {
   "cell_type": "code",
   "execution_count": 12,
   "id": "fa36241c",
   "metadata": {},
   "outputs": [
    {
     "data": {
      "text/plain": [
       "'Thu Sep 25 15:02:22 2025'"
      ]
     },
     "execution_count": 12,
     "metadata": {},
     "output_type": "execute_result"
    }
   ],
   "source": [
    "# 1. import 모듈명 : 모듈 안의 함수, 클래스, \n",
    "# - 모듈은 함수, 변수 등을 포함하는 단일 .py 파일이고, \n",
    "# - 패키지는 여러 모듈을 담은 폴더(디렉터리)이며, \n",
    "# - 라이브러리는 특정 기능과 관련된 여러 패키지와 모듈들을 모아놓은 거대한 집합입니다. \n",
    "# - 이들은 코드의 재사용성과 구조적인 관리를 용이하게 하며, \n",
    "# - 기능의 규모에 따라 ( [모듈] < [패키지] < [라이브러리] ) 순으로 커집니다. \n",
    "# - 넘파이와 판타스 numpy, Pandas, np, pd\n",
    "\n",
    "# 2. from 모듈(A) import 함수|클래스|변수(B) : A모듈안의 B만 로드\n",
    "#    from 패키지(A) import 모듈(B) : A패키지 안의 B모듈을 로드\n",
    "#    from 패키지(A) import 모듈(B) import 함수명(C) : A(패키지) 안의 .B 모듈 안의 C함수만 로드\n",
    "\n",
    "from time import ctime as ct, time as ti\n",
    "ct()\n",
    "\n",
    "# ch06. 모듈과 패키지\n",
    "\n",
    "# 1절 파이썬 모듈 사용\n",
    "#         (1) import A             - A모듈 가져옴\n",
    "#         (2) from A import B      - A패키지 안의 B모듈 가져옴\n",
    "#             from A.B import C    - A안의 B모듈 안의 C함수 가져옴 \n",
    "#         (3) import A as B        - A모듈을 B이름으로 가져옴  \n",
    "#         (4) from A import B as C        - A패키지 안의 B모듈을 C이름으로 가져옴\n",
    "#             from A,B import C as D        - A패키지 안의 B모듈 안의 C함수를 D이름으로 가져옴\n",
    "\n",
    "from time import ctime, time\n",
    "ctime()"
   ]
  },
  {
   "cell_type": "code",
   "execution_count": 3,
   "id": "64e58ea9",
   "metadata": {},
   "outputs": [
    {
     "data": {
      "text/plain": [
       "'Thu Sep 25 14:27:58 2025'"
      ]
     },
     "execution_count": 3,
     "metadata": {},
     "output_type": "execute_result"
    }
   ],
   "source": [
    "# 1. import 모듈명 : 모듈 안의 함수, 클래스, 변수를 모듈명, 함수명().. 사용\n",
    "import time\n",
    "time.ctime()"
   ]
  },
  {
   "cell_type": "markdown",
   "id": "b060976e",
   "metadata": {},
   "source": [
    "\n",
    "- 로직(Logic)\n",
    "일반적으로 로직(Logic)은 어떤 프로그램을 만들 때의 논리적인 흐름을 이야기합니다.\n",
    "프로그램에는 입력, 처리, 출력 단계로 나눌 수 있으며, 이러한 각각에 단계들의 흐름을 로직(Logic)이라고 합니다.\n",
    "\n",
    "- 모듈(module)\n",
    "모듈이란 함수나 변수 또는 클래스를 모아 놓은 파일을 말한다. 다른 파이썬 파일에 저장되어있는 기능(함수,클래스)를 사용할 수 있개끔 만든 파이썬 파일이라고 할 수 있다. (파이썬에서 모듈은 하나의 .py 파일이다.)\n",
    "하나의 소스 파일에 모든 함수를 작성하지 않고, 기능별로 함수를 나누어 모듈 파일로 구성하면 장점이 있다. \n",
    "\n",
    "- 프로그램의 효율적인 관리 및 성능 향상\n",
    "전체적인 소프트웨어 이해의 용이성 증대 및 복잡성 감소\n",
    "소프트웨어 시험, 통합, 수정 시 용이성 제공\n",
    "기능의 분리가 가능, 인터페이스가 단순\n",
    "오류의 범위를 최소화\n",
    "모듈의 재사용 가능으로 개발과 유지보수가 용이\n",
    "이처럼 프로그램 코드를 기능별로 나눠서 독립된 파일에 저장하여 관리하는 방식을 모듈화 프로그래밍이라고 한다.\n",
    " \n",
    "- 패키지\n",
    "모듈과 클래스를 모아 구조화하고, 모아 놓은 디렉토리(폴더)라고 할 수 있다. \n",
    "모듈이 하나의 파이썬 파일이라면 패키지는 이러한 파일들을 포함하는 디렉터리(폴더)를 의미한다.\n",
    "파이썬은 일반 디렉터리와 구분하기 위해 디렉터리 내부에 _init_.py 파일을 포함한다. \n",
    "_init_.py 파일을 가지고 있지 않다면 일반 디렉터리를 의미\n",
    "큰 규모의 프로젝트를 진행할 때 여러 모듈이 생성될 수 있는데 \n",
    "서로 관련 있는 모듈&클래스를 패키징 함으로써 관리 및 편의성이 증가시킬 수 있다. \n",
    "\n",
    "- 라이브러리\n",
    "'도서관' 이라는 이름에서 부터 알 수 있듯이 수 많은 정보(기술)가 담겨있고, \n",
    "그 중 원하는 책(모듈, 패키지)을 꺼내어 사용할 수 있다. (여러 패키지와 모듈들을 모아둔 장소)\n",
    "모듈이 프로그램을 구성하는 작은 부품의 느낌이라면, \n",
    "라이브러리는 자주 사용 되는 로직을 잘 정리한 집합 이라고 할 수 있다.\n",
    "\n",
    "- Python pip로 설치한 패키지/모듈 (tensorflow, pandas, numpy, beautifulsoup 등)\n",
    "\n",
    "종류\n",
    "표준라이브러리 : 파이썬 설치 시 기본으로 설치&제공되는 라이브러리\n",
    "외부라이브러리 : 개발자기 필요에 의해 만든 라이브러리\n",
    "라이브러리(패키지의 집합) >= 패키지(모듈의 집합) >= 모듈(클래스 & 함수의 집합)\n",
    "\n",
    "- 프레임워크\n",
    "프로그래밍에서 응용 프로그램 표준 구조를 구현하는 클래스와 라이브러리 모임, 쉽고 빠르게 만들 수 있도록 개발자가 원하는 기능을 담은 일정한 형태와 기능을 갖춘 골격, 뼈대를 의미한다.\n",
    "애플리케이션 개발 시 필수적인 코드, 알고리즘, DB연동과 같은 기능들을 위해 정해진 뼈대(구조)를 제공하고, 개발자는 이 구조 위에서 개발한다.\n",
    "얼핏 보면 라이브러리와 비슷하다고 생각할 수 있지만 프래임워크는 정해진 규칙(구조) 안에서 움직일 수 있다는 것이 가장 큰 차이점이다. \n",
    "\n",
    "Spring: Java의 웹 프레임워크\n",
    "Django: Python의 웹 프레임워크\n",
    "Flask: Python의 마이크로 웹 프레임워크\n",
    "Ruby on Rails: Ruby의 웹 프레임워크\n",
    "Apache 시리즈 (Sling, Structs 2, Wicket 등) JWT\n"
   ]
  },
  {
   "cell_type": "code",
   "execution_count": null,
   "id": "c26e5935",
   "metadata": {},
   "outputs": [],
   "source": [
    "del time # time 모듈을 메모리에서 unload"
   ]
  },
  {
   "cell_type": "code",
   "execution_count": 5,
   "id": "ae738f07",
   "metadata": {},
   "outputs": [
    {
     "data": {
      "text/plain": [
       "'Thu Sep 25 14:50:11 2025'"
      ]
     },
     "execution_count": 5,
     "metadata": {},
     "output_type": "execute_result"
    }
   ],
   "source": [
    "# 2. from 모듈(A) import 함수|클래스|변수(B) : A모듈안의 B만 로드\n",
    "#    from 패키지(A) import 모듈(B) : A패키지 안의 B모듈을 로드\n",
    "#    from 패키지(A) import 모듈(B) import 함수명(C) : A(패키지) 안의 .B 모듈 안의 C함수만 로드\n",
    "\n",
    "from time import ctime as ct, time as ti\n",
    "ct()\n",
    "\n",
    "# ch06. 모듈과 패키지\n",
    "\n",
    "# 1절 파이썬 모듈 사용\n",
    "#         (1) import A             - A모듈 가져옴\n",
    "#         (2) from A import B      - A패키지 안의 모듈 가져옴\n",
    "#             from A.B import B    - A안의 B모듈 안의 C함수 가져옴 \n",
    "#         (3) import A as B        - A모듈을 B이름으로 가져옴  \n",
    "#         (4) from A import B as C        - A패키지 안의 B모듈을 C이름으로 가져옴\n",
    "#             from A,B import C as D        - A패키지 안의 B모듈 안의 C함수를 D이름으로 가져옴\n",
    "\n",
    "from time import ctime, time\n",
    "ctime()"
   ]
  },
  {
   "cell_type": "code",
   "execution_count": 7,
   "id": "bec2ab23",
   "metadata": {},
   "outputs": [
    {
     "data": {
      "text/plain": [
       "'Thu Sep 25 14:51:13 2025'"
      ]
     },
     "execution_count": 7,
     "metadata": {},
     "output_type": "execute_result"
    }
   ],
   "source": [
    "ctime()"
   ]
  },
  {
   "cell_type": "code",
   "execution_count": 8,
   "id": "c7da540c",
   "metadata": {},
   "outputs": [
    {
     "data": {
      "text/plain": [
       "1758779478.6744015"
      ]
     },
     "execution_count": 8,
     "metadata": {},
     "output_type": "execute_result"
    }
   ],
   "source": [
    "time()"
   ]
  },
  {
   "cell_type": "code",
   "execution_count": 11,
   "id": "99bb8f37",
   "metadata": {},
   "outputs": [],
   "source": [
    "del ctime\n",
    "del time"
   ]
  },
  {
   "cell_type": "code",
   "execution_count": 13,
   "id": "af46de64",
   "metadata": {},
   "outputs": [],
   "source": [
    "import time"
   ]
  },
  {
   "cell_type": "code",
   "execution_count": 14,
   "id": "80976d00",
   "metadata": {},
   "outputs": [
    {
     "name": "stdout",
     "output_type": "stream",
     "text": [
      "['_STRUCT_TM_ITEMS', '__doc__', '__loader__', '__name__', '__package__', '__spec__', 'altzone', 'asctime', 'ctime', 'daylight', 'get_clock_info', 'gmtime', 'localtime', 'mktime', 'monotonic', 'monotonic_ns', 'perf_counter', 'perf_counter_ns', 'process_time', 'process_time_ns', 'sleep', 'strftime', 'strptime', 'struct_time', 'thread_time', 'thread_time_ns', 'time', 'time_ns', 'timezone', 'tzname']\n"
     ]
    }
   ],
   "source": [
    "print(dir(time)) # time 내이 함수, 변수, 클래스 등이 List로 출력"
   ]
  },
  {
   "cell_type": "markdown",
   "id": "c0a0761a",
   "metadata": {},
   "source": [
    "# 2절 사용자 정의 모듈\n",
    "\n",
    "- 함수나 클래스 등을 파이썬 파일에 저장해서 모듈을 만들고 재사용할 수 있음\n",
    "- 모듈을 가져오는 순서 (1)표준모듈 (2)sys.path변수에 저장된 경로\n"
   ]
  },
  {
   "cell_type": "code",
   "execution_count": 2,
   "id": "0384c4cf",
   "metadata": {},
   "outputs": [
    {
     "name": "stdout",
     "output_type": "stream",
     "text": [
      "['C:\\\\AI_X_Practice_0911\\\\Source\\\\01_python', 'C:\\\\Users\\\\Admin\\\\anaconda4\\\\python310.zip', 'C:\\\\Users\\\\Admin\\\\anaconda4\\\\DLLs', 'C:\\\\Users\\\\Admin\\\\anaconda4\\\\lib', 'C:\\\\Users\\\\Admin\\\\anaconda4', '', 'C:\\\\Users\\\\Admin\\\\anaconda4\\\\lib\\\\site-packages', 'C:\\\\Users\\\\Admin\\\\anaconda4\\\\lib\\\\site-packages\\\\win32', 'C:\\\\Users\\\\Admin\\\\anaconda4\\\\lib\\\\site-packages\\\\win32\\\\lib', 'C:\\\\Users\\\\Admin\\\\anaconda4\\\\lib\\\\site-packages\\\\Pythonwin', 'C:\\\\AI_X_Practice_0911\\\\Source\\\\pylib']\n"
     ]
    }
   ],
   "source": [
    "import sys\n",
    "# sys.path.pop() # 맨 끝 index 데이터 제거\n",
    "sys.path.append(r'C:\\AI_X_Practice_0911\\Source\\pylib')\n",
    "print(sys.path)"
   ]
  },
  {
   "cell_type": "code",
   "execution_count": 16,
   "id": "33df3548",
   "metadata": {},
   "outputs": [
    {
     "ename": "ModuleNotFoundError",
     "evalue": "No module named 'fibonacci'",
     "output_type": "error",
     "traceback": [
      "\u001b[1;31m---------------------------------------------------------------------------\u001b[0m",
      "\u001b[1;31mModuleNotFoundError\u001b[0m                       Traceback (most recent call last)",
      "Cell \u001b[1;32mIn[16], line 1\u001b[0m\n\u001b[1;32m----> 1\u001b[0m \u001b[38;5;28;01mimport\u001b[39;00m \u001b[38;5;21;01mfibonacci\u001b[39;00m\n",
      "\u001b[1;31mModuleNotFoundError\u001b[0m: No module named 'fibonacci'"
     ]
    }
   ],
   "source": [
    "import fibonacci"
   ]
  },
  {
   "cell_type": "code",
   "execution_count": 34,
   "id": "96fbe4b4",
   "metadata": {},
   "outputs": [
    {
     "data": {
      "text/plain": [
       "'Thu Sep 25 16:33:59 2025'"
      ]
     },
     "execution_count": 34,
     "metadata": {},
     "output_type": "execute_result"
    }
   ],
   "source": [
    "# 2. from 모듈(A) import 함수|클래스|변수(B) : A모듈안의 B만 로드\n",
    "#    from 패키지(A) import 모듈(B) : A패키지 안의 B모듈을 로드\n",
    "#    from 패키지(A) import 모듈(B) import 함수명(C) : A(패키지) 안의 .B 모듈 안의 C함수만 로드\n",
    "\n",
    "from time import ctime as ct, time as ti\n",
    "ct()\n",
    "\n",
    "# ch06. 모듈과 패키지\n",
    "\n",
    "# 1절 파이썬 모듈 사용\n",
    "#         (1) import A             - A모듈 가져옴\n",
    "#         (2) from A import B      - A패키지 안의 모듈 가져옴\n",
    "#             from A.B import B    - A안의 B모듈 안의 C함수 가져옴 \n",
    "#         (3) import A as B        - A모듈을 B이름으로 가져옴  \n",
    "#         (4) from A import B as C        - A패키지 안의 B모듈을 C이름으로 가져옴\n",
    "#             from A,B import C as D        - A패키지 안의 B모듈 안의 C함수를 D이름으로 가져옴\n",
    "\n",
    "from time import ctime, time\n",
    "ctime()\n",
    "\n",
    "# def fibonacci_print(n):\n",
    "#    a, b = 0, 1 # 함수 내에 선언한 변수 : 지역 변수 (반: 전역변수) fibonacci\n",
    "#    while a < n:\n",
    "#        print(a, end=' ')\n",
    "#        a, b = b, a+b\n",
    "#    print()  # 개행\n",
    "# def fibonacci(n):\n",
    "#    \"n미만의 피보나치 수열을 리스트로 return\"\n",
    "#    result = [] # 피보나치 수열은 append할 리스트\n",
    "#    a, b = 0, 1 # 함수 내에 선언한 변수 : 지역 변수 (반: 전역변수) fibonacci\n",
    "#    while a < n:\n",
    "#        result.append(a)    #  리스트에 append\n",
    "#        a, b = b, a+b\n",
    "#    return result"
   ]
  },
  {
   "cell_type": "markdown",
   "id": "4377e7bc",
   "metadata": {},
   "source": [
    "### 1. import 모듈명\n",
    "import fibonacci"
   ]
  },
  {
   "cell_type": "code",
   "execution_count": 19,
   "id": "01fce5d3",
   "metadata": {},
   "outputs": [
    {
     "data": {
      "text/plain": [
       "[0, 1, 1, 2, 3, 5, 8, 13, 21, 34, 55, 89]"
      ]
     },
     "execution_count": 19,
     "metadata": {},
     "output_type": "execute_result"
    }
   ],
   "source": [
    "fibonacci.fibonacci(100)"
   ]
  },
  {
   "cell_type": "code",
   "execution_count": 20,
   "id": "0cc25d17",
   "metadata": {},
   "outputs": [],
   "source": [
    "del fibonacci"
   ]
  },
  {
   "cell_type": "code",
   "execution_count": 22,
   "id": "edaa6d68",
   "metadata": {},
   "outputs": [],
   "source": [
    "#2. from 모듈명 import 함수명\n",
    "from fibonacci import fibonacci_print, fibonacci"
   ]
  },
  {
   "cell_type": "code",
   "execution_count": 23,
   "id": "f6e8b6ce",
   "metadata": {},
   "outputs": [
    {
     "name": "stdout",
     "output_type": "stream",
     "text": [
      "0 1 1 2 3 5 8 \n"
     ]
    }
   ],
   "source": [
    "fibonacci_print(10)"
   ]
  },
  {
   "cell_type": "code",
   "execution_count": 24,
   "id": "c1f5d797",
   "metadata": {},
   "outputs": [
    {
     "data": {
      "text/plain": [
       "[0, 1, 1, 2, 3, 5, 8, 13, 21, 34]"
      ]
     },
     "execution_count": 24,
     "metadata": {},
     "output_type": "execute_result"
    }
   ],
   "source": [
    "fibonacci(50)"
   ]
  },
  {
   "cell_type": "code",
   "execution_count": 25,
   "id": "6f330f8c",
   "metadata": {},
   "outputs": [],
   "source": [
    "del fibonacci_print, fibonacci"
   ]
  },
  {
   "cell_type": "code",
   "execution_count": 26,
   "id": "57f75014",
   "metadata": {},
   "outputs": [
    {
     "data": {
      "text/plain": [
       "[0, 1, 1, 2, 3, 5, 8]"
      ]
     },
     "execution_count": 26,
     "metadata": {},
     "output_type": "execute_result"
    }
   ],
   "source": [
    "# 3. import 모듈명 as 별칭\n",
    "import fibonacci as fi\n",
    "fi.fibonacci(10)"
   ]
  },
  {
   "cell_type": "code",
   "execution_count": 28,
   "id": "787e6061",
   "metadata": {},
   "outputs": [],
   "source": [
    "# 4. from 모듈명 import 함수명 as 별칭\n",
    "# from fibonacci import fibonacci as fibo\n",
    "# from fibonacci import fibonacci_print as fibo_p\n",
    "# from fibonacci import fibonacci as fibo, fibonacci_print as fibo_p"
   ]
  },
  {
   "cell_type": "markdown",
   "id": "92c3acc9",
   "metadata": {},
   "source": [
    "# 3절 패키지\n",
    "- 모듈이 들어있는 폴더(`__init__.py`)"
   ]
  },
  {
   "cell_type": "code",
   "execution_count": 39,
   "id": "d5e0a537",
   "metadata": {},
   "outputs": [
    {
     "name": "stdout",
     "output_type": "stream",
     "text": [
      "sample_pac 패키지를 로드했어요\n"
     ]
    }
   ],
   "source": [
    "#\n",
    "import sample_pac"
   ]
  },
  {
   "cell_type": "code",
   "execution_count": 40,
   "id": "de847893",
   "metadata": {},
   "outputs": [
    {
     "name": "stdout",
     "output_type": "stream",
     "text": [
      "sample_pac안의 test()입니다\n"
     ]
    }
   ],
   "source": [
    "sample_pac.test()"
   ]
  },
  {
   "cell_type": "code",
   "execution_count": null,
   "id": "5bb7c3b4",
   "metadata": {},
   "outputs": [],
   "source": [
    "import sys\n",
    "sys.path.append(r'D:\\ai\\source\\pylib')\n",
    "from sample_pac.ab import a\n",
    "\n",
    "def nice()\n",
    "    print('sample_pac/cd패키지안의 c모듈안의 nice')\n",
    "    a.hello()\n",
    "    \n",
    "if __name__== '__main__'\n",
    "    nice()"
   ]
  },
  {
   "cell_type": "code",
   "execution_count": 41,
   "id": "270c2465",
   "metadata": {},
   "outputs": [
    {
     "name": "stdout",
     "output_type": "stream",
     "text": [
      "sample_pac안의 test()입니다\n"
     ]
    }
   ],
   "source": [
    "sample_pac.test()"
   ]
  },
  {
   "cell_type": "code",
   "execution_count": 42,
   "id": "9c173476",
   "metadata": {},
   "outputs": [
    {
     "name": "stdout",
     "output_type": "stream",
     "text": [
      "sample_pac.ab패키지\n"
     ]
    }
   ],
   "source": [
    "import sample_pac.ab # ab/__init__.py"
   ]
  },
  {
   "cell_type": "code",
   "execution_count": 47,
   "id": "475ba24d",
   "metadata": {},
   "outputs": [
    {
     "name": "stdout",
     "output_type": "stream",
     "text": [
      "sample_pac.ab.a모듈의 hello\n"
     ]
    }
   ],
   "source": [
    "from sample_pac.ab import * # __init__.py의 __all__를 셋팅\n",
    "a.hello()"
   ]
  },
  {
   "cell_type": "code",
   "execution_count": 3,
   "id": "6ba68309",
   "metadata": {},
   "outputs": [
    {
     "name": "stdout",
     "output_type": "stream",
     "text": [
      "sample_pac 패키지를 로드했어요\n",
      "sample_pac.ab패키지\n",
      "sample_pac.ac.b모듈의 world\n"
     ]
    }
   ],
   "source": [
    "from sample_pac.ab.b import world\n",
    "world()"
   ]
  },
  {
   "cell_type": "code",
   "execution_count": 4,
   "id": "846635b4",
   "metadata": {},
   "outputs": [],
   "source": [
    "from sample_pac.cd import c"
   ]
  },
  {
   "cell_type": "code",
   "execution_count": 5,
   "id": "9b124ec7",
   "metadata": {},
   "outputs": [
    {
     "name": "stdout",
     "output_type": "stream",
     "text": [
      "sample_pac/cd패키지안의 c모듈안의 nice\n",
      "sample_pac.ab.a모듈의 hello\n"
     ]
    }
   ],
   "source": [
    "c.nice()"
   ]
  },
  {
   "cell_type": "code",
   "execution_count": 6,
   "id": "6f458278",
   "metadata": {},
   "outputs": [
    {
     "name": "stdout",
     "output_type": "stream",
     "text": [
      "sample_pac.ab.a모듈의 hello\n"
     ]
    }
   ],
   "source": [
    "c.a.hello()"
   ]
  },
  {
   "cell_type": "code",
   "execution_count": null,
   "id": "d9f2245b",
   "metadata": {},
   "outputs": [],
   "source": []
  },
  {
   "cell_type": "code",
   "execution_count": null,
   "id": "c39fb0d3",
   "metadata": {},
   "outputs": [],
   "source": []
  },
  {
   "cell_type": "code",
   "execution_count": null,
   "id": "0381df54",
   "metadata": {},
   "outputs": [],
   "source": []
  }
 ],
 "metadata": {
  "kernelspec": {
   "display_name": "Python 3 (ipykernel)",
   "language": "python",
   "name": "python3"
  },
  "language_info": {
   "codemirror_mode": {
    "name": "ipython",
    "version": 3
   },
   "file_extension": ".py",
   "mimetype": "text/x-python",
   "name": "python",
   "nbconvert_exporter": "python",
   "pygments_lexer": "ipython3",
   "version": "3.10.9"
  },
  "toc": {
   "base_numbering": 1,
   "nav_menu": {},
   "number_sections": false,
   "sideBar": true,
   "skip_h1_title": false,
   "title_cell": "Table of Contents",
   "title_sidebar": "Contents",
   "toc_cell": false,
   "toc_position": {
    "height": "calc(100% - 180px)",
    "left": "10px",
    "top": "150px",
    "width": "208.95px"
   },
   "toc_section_display": true,
   "toc_window_display": true
  }
 },
 "nbformat": 4,
 "nbformat_minor": 5
}
